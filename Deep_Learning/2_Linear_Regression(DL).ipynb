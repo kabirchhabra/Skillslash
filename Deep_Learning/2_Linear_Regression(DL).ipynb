{
  "nbformat": 4,
  "nbformat_minor": 0,
  "metadata": {
    "colab": {
      "name": "2. Linear_Regression(DL).ipynb",
      "provenance": [],
      "collapsed_sections": [],
      "authorship_tag": "ABX9TyOxWz3lk01kxPV00Q+5ISgK",
      "include_colab_link": true
    },
    "kernelspec": {
      "name": "python3",
      "display_name": "Python 3"
    },
    "language_info": {
      "name": "python"
    }
  },
  "cells": [
    {
      "cell_type": "markdown",
      "metadata": {
        "id": "view-in-github",
        "colab_type": "text"
      },
      "source": [
        "<a href=\"https://colab.research.google.com/github/kabirchhabra/Skillslash/blob/main/Deep_Learning/2_Linear_Regression(DL).ipynb\" target=\"_parent\"><img src=\"https://colab.research.google.com/assets/colab-badge.svg\" alt=\"Open In Colab\"/></a>"
      ]
    },
    {
      "cell_type": "markdown",
      "source": [
        "# What is Moore's law?\n",
        "\n",
        "+ **It says that the numbers or transistors per square inch on integrated circuits doubles approx every 2 years.**\n",
        "\n",
        "+ **Now we might think its not linear, and yes, thats correct as well.**"
      ],
      "metadata": {
        "id": "DO1Rr1q2Q9k-"
      }
    },
    {
      "cell_type": "code",
      "execution_count": 24,
      "metadata": {
        "id": "mtBfRKgpQxwM"
      },
      "outputs": [],
      "source": [
        "import pandas as pd\n",
        "import numpy as np\n",
        "import matplotlib.pyplot as plt\n",
        "import seaborn as sns\n",
        "import tensorflow as tf\n",
        "sns.set_style('darkgrid')"
      ]
    },
    {
      "cell_type": "code",
      "source": [
        "url = 'https://raw.githubusercontent.com/ingledarshan/Skillslash_dl/main/moore.csv'\n",
        "data = pd.read_csv(url, header=None).values"
      ],
      "metadata": {
        "id": "19iTkaqxS64F"
      },
      "execution_count": 9,
      "outputs": []
    },
    {
      "cell_type": "code",
      "source": [
        "data[:5]"
      ],
      "metadata": {
        "colab": {
          "base_uri": "https://localhost:8080/"
        },
        "id": "10VaXmeOS9so",
        "outputId": "ecd8615d-8d89-444d-e3d7-4f8ec3daa698"
      },
      "execution_count": 10,
      "outputs": [
        {
          "output_type": "execute_result",
          "data": {
            "text/plain": [
              "array([[1971, 2300],\n",
              "       [1972, 3500],\n",
              "       [1973, 2500],\n",
              "       [1973, 2500],\n",
              "       [1974, 4100]])"
            ]
          },
          "metadata": {},
          "execution_count": 10
        }
      ]
    },
    {
      "cell_type": "code",
      "source": [
        "X = data[:,0]\n",
        "X.shape"
      ],
      "metadata": {
        "id": "QkK9MnSxS_eD",
        "colab": {
          "base_uri": "https://localhost:8080/"
        },
        "outputId": "e380cfe2-b573-46c6-ddeb-ff637cb30260"
      },
      "execution_count": 11,
      "outputs": [
        {
          "output_type": "execute_result",
          "data": {
            "text/plain": [
              "(162,)"
            ]
          },
          "metadata": {},
          "execution_count": 11
        }
      ]
    },
    {
      "cell_type": "code",
      "source": [
        "X = X.reshape(-1,1) #make it a 2D array of size nxD where D=1\n",
        "X.shape\n",
        "#Converted it to 2D because tensorflow accepts 2D data"
      ],
      "metadata": {
        "colab": {
          "base_uri": "https://localhost:8080/"
        },
        "id": "MSuzDQKNQ8oy",
        "outputId": "b83278af-5c52-489e-d581-74d6d9f43116"
      },
      "execution_count": 13,
      "outputs": [
        {
          "output_type": "execute_result",
          "data": {
            "text/plain": [
              "(162, 1)"
            ]
          },
          "metadata": {},
          "execution_count": 13
        }
      ]
    },
    {
      "cell_type": "code",
      "source": [
        "Y = data[:,1]\n",
        "Y.shape"
      ],
      "metadata": {
        "colab": {
          "base_uri": "https://localhost:8080/"
        },
        "id": "qjDu_6UDRFA2",
        "outputId": "e3c8da80-317f-44b1-9a28-5ae1ad0f088a"
      },
      "execution_count": 14,
      "outputs": [
        {
          "output_type": "execute_result",
          "data": {
            "text/plain": [
              "(162,)"
            ]
          },
          "metadata": {},
          "execution_count": 14
        }
      ]
    },
    {
      "cell_type": "code",
      "source": [
        "print(type(data))"
      ],
      "metadata": {
        "colab": {
          "base_uri": "https://localhost:8080/"
        },
        "id": "igNf4p7WRONG",
        "outputId": "a40c861b-0b92-4d2b-e8d6-c7cc6bf176c7"
      },
      "execution_count": 15,
      "outputs": [
        {
          "output_type": "stream",
          "name": "stdout",
          "text": [
            "<class 'numpy.ndarray'>\n"
          ]
        }
      ]
    },
    {
      "cell_type": "code",
      "source": [
        "#Plot the data\n",
        "plt.scatter(X,Y)\n",
        "plt.show()"
      ],
      "metadata": {
        "colab": {
          "base_uri": "https://localhost:8080/",
          "height": 276
        },
        "id": "XjPzw3f2RQ0u",
        "outputId": "1ae9dfb8-9046-4397-9d5d-75264723f1a2"
      },
      "execution_count": 18,
      "outputs": [
        {
          "output_type": "display_data",
          "data": {
            "text/plain": [
              "<Figure size 432x288 with 1 Axes>"
            ],
            "image/png": "[encoded data removed]"
          },
          "metadata": {}
        }
      ]
    },
    {
      "cell_type": "markdown",
      "source": [
        "+ It is exponential\n",
        "\n",
        "We have to apply polynomial regression instead of linear regression, for linear regression we should apply log transformation."
      ],
      "metadata": {
        "id": "F_1d0_DVRh6j"
      }
    },
    {
      "cell_type": "code",
      "source": [
        "Y = np.log(Y)\n",
        "plt.scatter(X, Y)\n",
        "plt.show()"
      ],
      "metadata": {
        "colab": {
          "base_uri": "https://localhost:8080/",
          "height": 265
        },
        "id": "01DMb6iYRVzJ",
        "outputId": "5d760410-03f6-43de-9c64-78572125fcdd"
      },
      "execution_count": 20,
      "outputs": [
        {
          "output_type": "display_data",
          "data": {
            "text/plain": [
              "<Figure size 432x288 with 1 Axes>"
            ],
            "image/png": "[encoded data removed]"
          },
          "metadata": {}
        }
      ]
    },
    {
      "cell_type": "markdown",
      "source": [
        "+ This is now a good candidate for linear regression after applying log on Y."
      ],
      "metadata": {
        "id": "L5qAfNWDR66J"
      }
    },
    {
      "cell_type": "code",
      "source": [
        ""
      ],
      "metadata": {
        "id": "ibE601CHR5QW"
      },
      "execution_count": null,
      "outputs": []
    },
    {
      "cell_type": "markdown",
      "source": [
        "+ Since X-Axis is having large axes and also it is not centered across 0.\n",
        "+ So, we need to scale it for better predictions.\n"
      ],
      "metadata": {
        "id": "Af40IhhDSQ28"
      }
    },
    {
      "cell_type": "code",
      "source": [
        "#Manually scaling\n",
        "X = X-X.mean()"
      ],
      "metadata": {
        "id": "W6SQ_nTXSex1"
      },
      "execution_count": 22,
      "outputs": []
    },
    {
      "cell_type": "code",
      "source": [
        "plt.scatter(X,Y)\n",
        "plt.show()"
      ],
      "metadata": {
        "colab": {
          "base_uri": "https://localhost:8080/",
          "height": 265
        },
        "id": "3bHi2991Ss4G",
        "outputId": "f32e8941-aaab-402f-ebf8-1f232996a85b"
      },
      "execution_count": 23,
      "outputs": [
        {
          "output_type": "display_data",
          "data": {
            "text/plain": [
              "<Figure size 432x288 with 1 Axes>"
            ],
            "image/png": "[encoded data removed]"
          },
          "metadata": {}
        }
      ]
    },
    {
      "cell_type": "markdown",
      "source": [
        "+ Now X-axis is scaled and also centered along 0.\n",
        "+ Now on neural network we could apply linear activation fucntion or we can also say there is no need to apply any activation function."
      ],
      "metadata": {
        "id": "RV2LWyVJSwKz"
      }
    },
    {
      "cell_type": "markdown",
      "source": [
        "---"
      ],
      "metadata": {
        "id": "Zu8zDPlfTK8I"
      }
    },
    {
      "cell_type": "markdown",
      "source": [
        "+ Since we are doing a regression problem, we do not use any Activation function.\n",
        "+ Therefore, in Keras, we do use a Denser layer but we pass Activation=None or we can simply omit the argument.\n",
        "\n",
        "> **Note:** Activation=None is the default value."
      ],
      "metadata": {
        "id": "maQuB6hzTFQi"
      }
    },
    {
      "cell_type": "code",
      "source": [
        "#Lets create a tenssorflow model\n",
        "model = tf.keras.models.Sequential([\n",
        "                                    tf.keras.layers.Input(shape=(1,)),\n",
        "                                    tf.keras.layers.Dense(1)    \n",
        "])"
      ],
      "metadata": {
        "id": "lPmv8H2ESuvs"
      },
      "execution_count": 25,
      "outputs": []
    },
    {
      "cell_type": "markdown",
      "source": [
        "> ![Capture.PNG](data:image/png;base64,iVBORw0KGgoAAAANSUhEUgAAAM8AAABRCAYAAAB17fJsAAAAAXNSR0IArs4c6QAAAARnQU1BAACxjwv8YQUAAAAJcEhZcwAADsMAAA7DAcdvqGQAAEIYSURBVHhe7b1nkBxHsibYWmtdWld1VQt0QysSggAhqAFqAQqQQznUIEhQk6BWACVAEgAJLQgtGmg0BEEB6pE7b/fsrbjdN7Nre2fvbH/dmd2Zffd5RkVnVlV2oxqC5LzBj6+zKivC08PDv3CPyMjsnDFjxuLEGEOMzhJS9sT1xyYxbrQJfS697EBIrz8ueS6zrJ1OA+slcqxylUy7+pkYS5kZeg0AKWsnY2h62cFObqZMQYauxrlTrZ9ZTiFdprJXSv0BIDIHtpcd7PXNxEAyM+sbbRUkdTpLnrSyhkyBRa6SaVc/E2fJM5he6TL/YciTLbKrr4xhKmIgec5slBWpDREMXt8KqZ+tXuxMwehUjLWtnwmpn6HXABjYGeR8ahsMmWl6qWtZ9R+svXZlku3tl2nqZd/e9PoD94F9P2TKTL3+QDD1spNhD9W+7JBdfdUHZlt/JvIIUsupDjIV0VCG17+nIr0zdCelY8yYUWm/S33pqFSk66T1suvAsaMz6xvnRo9L+01kWK89OOx0UEhv6wB68Xw67O0vsC+fIdOAtU0KmTpK/YH60A6ZMgXp1x8Itn0wIFTbskP29a3tzJI8px9KmVSjK2hjiVFNiOFUh6U6VSaEOKMM2aZ8e3lipEy9UssNjnEYT8hRnzMcL0WfU4dhq5TrDoyB2jX0tqVC2d9OZqpDDQ572X8/+LsgT6biQyHP2CR5BpN5OsgjxLEjj71eJ49siSM4He2yw1nyCM6Sx8BZ8gwNZ8kj+AcgjybQYHINJzNkpuuVet3BcJY8IvcseX52SGemGl4+a4ii2imVY6rOE8c8sXP2Rx4DlNcPyrVg6E5m1UkRJ5U8ortcX+tghT5vBxlIrFDn+9vTb5PscKbIYy9XdMsW9rL/fqDbofw1ZzT//BIYIxhFRxlF5+iHfGeHjBqXhHxW36X8aCqtMCqJkZbPCmOIseLALJ8JyjJgnhMdRichn5VOdtC6mBjX/1l+F/3l2iMNjMmA0i3znGqTHE3oskmI3H77nBi6Hdm1K3sMLFf334mQKfPvC6ntyWlv78AvgQ5BWwc6U9BJDCO6kkf1vaOt20B7excxjGgn2igjQcgxibY2dPK3YR2dGNZ+ArBMJ49yXdFDI1UfK7RuCsOoo8DUlWWoQyd1kmMH9ejo4PcUqHMGWEbaoNpiIqU9SXRKu9ra1TWygLU9J25X9jhTcv9ekeP3B/BLIJBEsB9BBZ8gTISS3yMI+Frh9ybgI/z+OAKBCI9+nvf2I+jzKfC81AudCAF9PV47K0hZ6pREiDqGvBF+jiHoJainyAsHAwgF/QTbF6Q+VgTkSP2CvH6QMkKUEWK9YJhtChpt8vvZHoHRLpZPIuCT9lLmWfxqkOP1+PBLwpcCbxL6ux8+dwhedwweVyu/t8Hva4PHE4bb7YPH7eZ5pwGvy8VybgM+t1XGIGA5b9agvgb8vBbruujozhCPJLa7DQFvnO1xweWsgddbSaJUUdcKkl7Bl4TfW0XD18PvqYfHWcfydazXzN9cPO/l7wLRj21wewhpj2qXl9/tdTuLXwI5HjrRmYZJFl60nyAKfgPiyEmk/C7kCROtVJbRhqNvMOjlaO2lXBKHzuRxueEmcTxuBXEwVVdknQD9hhCnPBFYjqTxuiibR78riACJE3QzGrrCPN+E1lg5zp2Yj7kXlWDeldW44Qri8qok5HM15l1RRzTiigurMXNyPiZNyMWEMUUY3lGGKAkX9NQi4G6mTdzG6Ob3BpL6Wu2i4Pd4DPvZ/TYw0mzwq4CdngPBrv4vg5+VPKrx0uEEHVJ1vofOQkLw9zARZBk5J+UMJRl5fO4oP7vQGq3AlXODuO+eyZgwlmkOR2sP67opy03iCMTRszOyIrKX1zkhRCav4ydx/C4Pgow6YZI6RAIFXY0YN7wKcy8sw4N3lWPFO43Yvc6HA5vC6N0UwYGNBI+9G6NEjOfiRCv2rA1g2yoH1i+vx/uv1uClxxy475YWXHNRJaaMLUc72xrwMiq5WnikfSR1o94y0PhFF+oUYDQKiB0F1FPZTCGzHb8+51NQemXqm4lfm/5nmDxiFE0cRhF+95MEATq5nx1vdDoRImKMHhFHM53SaZQRshiO4Obo64nA66zGhJF5+HDpMPTumotbro8hEmwmeXwkjRcuyhPySDTKzshmhxlRbACoTksSnBEn5PSg1RNA1NmERKACF55fjJeebsBnq9w4siOI4z0RHONx/zonetY6sG91C/atkaMzCZdxvm9TC77e48E3+1w4vs+Nb3vi+HJnB3au8mL5a14suKsZV1zcgFFdZYj4KxFwNiBC0kY8nC+xzUG2V8MgkKEnUzxDZwVrG36Nzqf0GUo//EOSR4jDOQK/B2iIIDs7SCcIEEEvPzPvHxltwCWT4xjdTkc15gAO1iGB6LRBL6NPcymmj83B9k8iOH5wIu69w41YpB5uynXxGi7K1eRRo6x9g02oTrPrqFSoTgvSYaNOH0nuIcnrMCJegLturcaKZY04diBC4sSw9r0QXnjUiTuuq8R1FxfhmgsLcM0F+bjaQEE/rr04HzfNLWC5UkabUjz/SAU+eKUWmz9uxqHtAXy9P44ju+P4bG0YLz3bgPnX1eOc7nK0uasRaW6mDgFEqE+YbQ31k0cRR5PH2gbtnL8258uWOIJfo/5nPG2zRh5JOQIepzGKelvqmAK1IOJjtHEW47ar3Niw/CI8cPsoJGINTMlaWF7IQ7J5/Qg0l2AWybPrU47WfV24+7ZaRKO1cHNO4DIIdKbIIw4pUceLOMvHXIyAw/Pw2IPl2LXNhUM9QWxcEcQjdzRi9qQqjOqsQ2uoDmFfHULeWqKO+tdaUMMUrIbtVmgNVmFERzHOGZ2LC6bn4Tc3VuLZx2vw6Ud16N3bhKO9XuzZ3Iq3F3tw97W1mNpVgnbqEHPUUx8notRPBqNU8ki7VNtUFDpLnjOBn5E8ARKHBOLo2dZaiNkzGjFzig9tdJ5h4Ty88WwLvjs6Dh+9PxLjx9aQPPUEjUXyhHkMNxdj1hiSZ7UPx/tG4KbrObkO1iSJc7ojj+l8AikfpOyIpxrdbSTOwkLs3d2AwwcjeOslF66cVY1RrfWMBM1GehfwcT5G+LwEo6u03TxSN0Zb48iU1OeWRRHO1STa+hoRCtWgu6sAM6bn4M5bC/HBm3Xo2cpodDCGni1+LH2+Cb+5sgYT2grR6ixD2NXAKM4UWJyLtsqc75wlz5lCluSR1a2hwKyryePlxF/ulXhcJZh2Xg7ef6cdS1+dhIndNRjTloMPXivFV4fqsXl9GDNnlNPBKgk1T4rQ2aIkz2WTcrBnvRcHd43GlZfW0kEbONchcVLmPGJo6ZRMpBpfPmvn0tCk0e1Q5/10+qCnHrFQPm67rQBbtlZi/34vXlnsxsxzy5HwVqGVukZJlpBESRkkjFUyTQ5eTx8pz8eIoY7yneelLG3j9dM+Purlb0TAW42OUAlmjC/EnTeUYZlBIhc+3x/EzvV+vPqUE1fPrkI7ywRcjca9IGOJm7ZQbVPts0YjBXvb2MGUI3qmw77OQLCXJb9lTx6t/0CylLxTgynb/ncrsiCPdqQTN9B0PGtdOfrp1CEE6BxukmfOJZy7bIoyHTmP85w6TO7OwafvFOHrQ0VMVSK46kq5R1JKBWkUOmOE6Vu7twgLb8/H5z1+bFkzGjMnNzEFImFYRq22meRJjxwCMbwyitXYpnPpEdvUmUfKF/JIJPFylJ82NRcrVpbi0BEP3l4SwtQJZWiT1ItkiLCOkT65ZDFEXUsZWeTqzpejRBln8qjOWwnrNcjDeaCPczpGsoSrFt3BEpw/lnOseWX4+O0m9O1yMxJFsGllEA//1o3J55Bs1ENkGvNIifIkkaRyfoOo+loKVrsMhkybmbbTbbOrZwd7Wdo+2csRnE5Z6dCys5GTJXmyVUjKaedLRxCBQMCIPJeTPDs3uHFwyyhcPa0a153PiLKmAN/05uLzA62Yd51ElVISgRP1gB9B5vjTx+Zh7fuVOH4kgleei2NEW72x6CAEU8RJksdWLzuDy2c5p8kjZaQs28BI5yY8Xjodj35vEyLhAixclIOe3lps3BjE3Itk9YvRiESJGMvXdFzCJ6AMsyOtttPf089nQtKwMHWM0QatLidTtEZ0BSswe2IJHritDKs/qMXRHh8HmxjeWRrGdVc1oi1SwTTOxSgY4tGHEO0RcDsoSy2+DIU4gkybaScdGnEEA8s6S54kpNzA5BEieEmeKy7Owb5NbhzeHMdtF5bhpfsYdXYW4NsDufjyQDtuvKaeIyhTN9YL+OvQEcvHI3fl4MjuZuzbFse1c+sR9VUbI6x0pJBGw14vO4MPQB5GGyGNOnLUlqOrFLNm52LtxjL0HvJjwUN05GiNsfoWdXI+5uSkPYU8SVknCakrMmQVLUBihpnyxRi9W12MRs4GzhGLcNH0fDz3eBl2fdaAY4e82L6hFQ/c6sL4thoknM1oo21kZTDscpBETso6S55soGVnI+dnIY+a86g9ZV5nCa69jCP4Bgc+39yMpY8UYs+KSvx4oADfHcw3VtIeuDOMeLARYT8dkynLjdfkYMuqIhw/4MOrz3oxuqsMIU8DCUZjJSPO6SCPdnrtvHIT1u9pRJRR5/HHS3DwkBOrV0cxfUoZWv1OROnUEScd1Ok6IXm03PTzdtDXVzdBFYnkXphEuDAjkcxxwoFajB6Rj/k3FOKTD4o56HjRs7kVryyKYWpXJTpcJBDnWDHqFzH0UzLtrjcQMm2mnfQseQRDIE+2SCWPMW+RCTTnPBFfBH5HKS6amoOtK7z4dm8TDm1ixNlXgq/25ePQrjzm8t14buFwjIxzxPRUYQZH2BXLinG8twHbVgRx+cwqxPw1/M1JmWyEECYFmY0UaMMqo2vId5M4GsbWGKY5Udlr5ijHlAm5+HRlM/p643j0ETcSrcUcCGRXBMGoE6JzCnFkvmOmbdJ2RlpO4o1rM/07GfIYN5OTn/uvIZ99onsN4iT2Befl4LXnSnGQkfnYgRjeeDaI80fXop0ka3MGEXNwECLxJBWUlDT9WnZQv9k7qUDbU2CVNxAGkjUUGRqmrFRoWXZt0fWygZKV2kYrtLwhLBgMBWZ9cSI/R+igK8hRM4yIu4lpRwHum1+Nni1BHO9rwLdHmvDxu0VYtSwHX/R2443nhmFMohpTOM95ZXEZjvY2Ye96D+6+uh7DI7WIMpUKshFqwyTTkSSyIU8m5DdJacTpFeT+kixNJ+hokeYiTtTz0bMjhM3rR+DSSxrhC1bCE+C1JK3rd2jl1AJxUllmVwsDJDnl+IzvqZ05EHQ5RWalo7phLJN/tdggv4lsn6eJOlRhzPA8PL6gCPt3VOFITwBLXozgvNEVaON8qY1RP2osIAh5Mq9jXktBvqvf7RxeOb3VYbW8wWAvy3RQuzoDQels7UMT1nbotljLW3UfKrQMrUcW5Dk1KPLISpSfqYffmASHSaCu1kLcemMt3l3qxLL33Lj6imIseiQPh/d3YuPKOO66oRSvP1eF3l0eHNwZw0O3NmBMtBIJKh82dh3TIHTYdHiEUMnGDQwxQNIIxvyGDilEMJxR4GJUkflFHca35uO9l6pxuKcDr700HCNG1MMVaEBLoAUOXwvcLC+kNXY9s444qHEj2F2F9ngJ2mIVCHpJOMMWQ3MSBV2H16Bcc6WOehtHtQTucdA+nflYeHc+9m6twKEDfrz+QgRTR7ZwDiQrd7IvjrJsyGPncOr3gcij8cuQx4TYQH22a4eGaqdcRxPBqkO2EF1T2zsgecJhLx58sB7795fh669LMjBzpsO2nh1U6iZKqzvhstFRtuTHIkU4Z2IZJp9bhmgkDzNn5GLzhgj69nqwbX0F+nY7cWx/NxY/6sP4RBFH0QZjdcuY/A4AT9bk4TFJnEzyCEGdCLcUY97Fudi32YO927ow71ovIuEGOP0OtPgVeVwsr+dact0AiR1wV2N4Rx4euNeJ++6KYkSHLKsHGH3EHum6nAi6s+QaWle2NUkgwyHcch8qgFZ3I8ZG8/HEA4yUe6txqDeB5x/rxMhYLWKsG7AQRzCQw2n72Tu8Fb8EeaQs60hbpP/ELoY9rG1QGYSCao++jkrVRY90WPWywxDIc+RIKYCcAXHllc229ezBVI6E0cu/Hh8bKDm7r4m/yfMsDTRGHSLRAixcWIW9u1vw5TEnjvS2460X4jh/fA0Srkq0chIcdrUwTaKDS6pEKNLQOCSV8bwNryeNNJ3ODsnfBiCP3OAM0BHjvgI8vzAXX/V6sfqjDowfVYOA3wUn9RfiOL0kD6/fTx62Tx7s87mKMXt6DtO8GDatORezz2PUlccL/DIHGkwvO+jyqbqq1E2lmGpRwcuo7Ed7SwUmd+di8TOFONTnxL5dXbj12iZEPOUkj6P/+sqhxNHEmayOp86rMnYOb8XPRB6D9KqccuCkT6XU0+RIbYtKe826Sgc7WPWywyDkGT7c3R9Vfvyx2JYwVmRPHiGNBSSNm86n7qTT0fxBIoRAIASvrxqjx+Rh0eO1WLM2gZdeSGD6pHrE/fWcKzUjROIEk+Tpn5zLKhKd1+dmCuVkSiX75oQIvI5pNCtMx1Eg+ZIOKcTxehwkCHVxVGDiiFyseq8Yxw8FsfiJCNqidQYBXNTdyfIuws36bsoRYyryyIpiES69MAe7t7uwe+soXHoB51B+pnR+EttwXnudTEewwuwsM9ooCHkkRQwaS9FuRF1edLo4p/SUYdLoXKbEpTh8yI1PPg5i2rlFjH4VxjNRahFDOYMiTya0boM7lnYmuzZlIlOW1SGzkMPBUe3UoN/I7g2B7KwgJKobMjmIqIcI5Wi9hlx7sLacCKq+VZ9+8owb57IlyeeflxjHm2+WKJFOjGygFhHcAnEcOrVEHmPVRzrRK51JcGSWndRebxVGjCzGzFkNGDe2HuGA3PNxcN4kIHF4lLRNr0QZO4rpMAFvGYZ3F2LUqAqEghVM3zjP4DWU4UxnSSWOdkghjSaPODp1bSrCdXNy0LPVgcO7OnDTVS5EmK75qaebneXiaKhJo51ciCG7KDzOYlxyQQ72bPNgz9Z2kqcaAV9DkjyqA8RB1U4E0VHpYsqyQhwqXV8Sh9eXpfRgkjyywBHlQNLmcKBLltcd+ZgzOwfr19ThcF8ULz7PAbKTBBIdfFHqEea1xQHFKZQeVigdrQ6nnccKVU7paJ4361ll6nOpDqnraOIYdjSgoobxHBXLyhYpvyeYhPgK60vm4G7ggFkPL9se8IZoU9lDKeWlnqmDuo712icDra/ScVDyrFlT2X9+aGmaFYo8hmHEmQ3SWB3DajQajKmQz1vLzzVUVnZXm+mUkVIZjiI7id3GdvworxF0VGNEZx6eWOTGm2+24pab3BjWLvvjmjgyyd4xvSlTDCDGNEO6mRsnyUP9/L5mRJiyPfVwDr7ubcX6ZSMxdWwLUy92BuUJ6fvbZMB0dj+jlttZimmTcjlv8+Noz0jcdG0jgoGafvJIJ8gDbWoLjdJHk8MqS0P/ZthHYBCHROVRltQDhk2cjM4utDqdaOcA0+aqQZs3D/fdUYwD+0LYs7sTt93sQizEwSfQSQK1U1aEeiinSEXSWYyRXkAb8ruZEiuYn8UG8l3KSWQw22dCHDop1wIl0+on2jmlrSJH5pAhti/GgSJqyAhI1GcaHwyVoqu7CKNHVSIWrIHb0czf5FEXP6OslNP2FVjbp89Zz2fqNjBUnQHnPBqnhzyZTmYH5SDM4zmiBHxy1E6uoO93CGkEEY42cV4j0lKNcSTP+28F8PnBDmzfmMDjj/gxeUoz/MF6o6EBjrTGiGU03Gq8dPIEOJpR3sg8rHq/CN/0deL5h9vRHZUUSYjIKMlr6hEokzyy+bUSo4flYt2HHvx47Fzc+xsPQv6qJHlUB6inQYdGnn47CMHpGAEhkEEetYtAHiSMMJWNEx0ShZw1mNCVhyWvV6HvYBCfrhiBmVP9iAYTCAe76YytrKueszJg6CS6CeTeHEf7flgJlA4ZFGlXYzOs1DMJY8Xg5LGCNmXfi42lz0Ikjq85Am8z2+6upC1LEY/n4ub5Ljz7fAzPPBXCQ79NoLujFE5HFVyOWoNIXuPeFnWX58Ek1aMO6kljZXMF+TxU8ij8CsljOkk6MshDGHu/nA50+Epw5exyLHu9AUf3hHBgVxxL32rFVVc2oiNOx5UdCXR8vzEySuM1iazkEcIysjhLcPVlOdi3tRZ9O7sw7zI3WuWGKevqzpb6OnybbaA8eRyBkXN4Ig8rljThpyMT8eT9EXSE5PkdRknWlQfrzBFZdaRuu9UeGul2sSOPSt2ctAvTSzpN3OlDG/WJuQtwCdO3z7Y04FhfO15+ohPdsUbE/BFEPOGkLrKCqVJghUzHl3NGGsTfdTokR3nDj4bYTgaYgJy3kXHiyJPqM/LeCHk0P8p2xb01mHmOBzdf7cH8G4qwaGEh9u8bjX/+j3fj2OFZ7O9z8frLMUyfUYhp51fhnHF1xl6/oLseIeoU9UZoGxUV1aMbGqdAHhV6tdKZ+LnJYzYqE5o8Om1TqZtsWyGBOB9q85Vi1jmFTLcqsHOTG1/0RrDl0xAevrsJY0YUU0atIo42oiFTrVjJ7uOAzCG84lgFePLhInxx0I81H3dg6vhqhIx0S8ijDW0ljwbPcZQL+JvRGS3Am8+U4YfekXj/+RGYmGiiM8smTzoDITrLA3angzxqPsiUVtpA8gTF6XiNsItO46tBNJSHRx8pwuf7m7B/QxvmnldFe8nytZQRPcwBScNqYw1jrinX6IeDdmzgCN9Au3kIpku0kSCDOALDbqmwI49hY7YhKNuRGEXavcX4zVW1WPHWCOzZcC52rG/E14er8B/+MAL/3/+7HP/pL0/gT9/PxTfHxmDV6hCWfRjEe2+F8dh9LbjxKh/GtLFPmxppezU4GAsK7C9lz1Mgj+p0rbyGdvzByaMbrlIYE6myBFbiyLKuPfonwxnIJJA5UqpRztgq4+bcgmF9+LB83HZDGda8XYFvdzlxeGsAb77oxxWMIG2tTOPkoTVxPurlp0MYjsdjmNEl6CrDOSNz8en7VTh+qBWLn46gq11udFrJo6DII21SxDFswvQwyJQzESjEiwvz8GNvBz55bQSmdjSjm/l4hzuKNiJBtHLOEeE5Sd1SiahtpZBOHlkIEfIYJDLsoxc89EAgUUKcgk7sY9sYlSeOy8XWT0vx434fnrvPgW7OF1o5d4jSqWXrjoYMRoo8EtGSJDE+azDC8VxQ5pPucs43yjFxQh1TwWrWkWev5H128lgESWQQR0UsFa0yYfqMtqH6LpN+WWGNNhfg1itKsG2VH1/sGU7yj8XKJVU4urcM//EPY/D//K8NeOLh2fjTd8/gzz9diS2fJbB7dyu+7GvD0X0JDqIj8dKiOOZMknlgBSMZ7cT26ehp6mIlhqnfYCB52EHsCKW86QQaA5FHE8cUlu4AWpYc5RokiB3Y2enkyYR2ID1iiNOI47NT9KjGzzKiGCtn3np0xIoxZ3Iu3nqkGEc3O3G8J46NK9vx0D0+jB9Zgai/gWmU7HiQTuZozXlCTF6+6CzGdZfm4OC2BhzaFcGNVzdwMiqrZTLfkfaaOqj2ioPrtpJcTA9krhYneV5YmEPyxLDq1TjO66gmeWQ1jGlVYyPCTQ0INZPsTvW4eb/dSAjrLgAN0wYEy8h2H+OJVGNuoO2nyyhia/sHAk2IBvLx4iN5+FNfC9YsCWJ8RzGiHjon5wQSfSLJaKgIZI00QpjUCBSircNMg0cMy8PTT3uxhOnxNVfUojNSi5DDSVKGGdVCLCcpqiayJr9pv1QbCpI2YD+GOT8MOsowY3wuNnzUjCNMxVcs8eOOqxpw0aQ8LLgrDz98fgH+7/9rP4lcj/nzpuOHb17FK6+Mw7zr6/DKUzVY80EDeneFWbcdm5ZPwI1z2EZ5l54x0CR9xvDhdOiBcXDkGB3V31na4NmTR48cWqDIkCVpBbU87aZ8N4mSDlsy2cI0rL6OMr40VCayGqIb9ZeVFqYUcU8lJnXk4f4bSrHtQy+O7w2TFCG8+owDl86oQ1zeI0DnjTPiyDJvnNdqCxTh6YdK8W1vEOs+iGDyaEad5HxJXdOMANpZrXYT8ohDt/oLsZjk+YGp3+o3mjC1sxATEqWYwvRx5oRCXDytBHMuqMeE0XUI+utZT/pB2cqOPFZo8sjRWL3sPy9HrYs+T0cPBhFwFOKOK3Lw54Mt6FmbwLQxlcY2qagvzOgTYEoTZCrHNM8gBlMw1pNoK5CUVR6FjxCyuhl1B5Fg1JrOdqxZGcXnh2PYtDaIpxaEMX1sNRKuarTz2glGICGaIomyVSqJkjbU/Wx8lraRpP4qdCVy8eLTTDd7A9jwSRuuuKAGHYFqogHD43l44anJ+F//53dobKhDWWkRrrxiJtavexNXXjYFXZECXDQ5Dw/eUYq9TOFl4WfTynE4d1w100za3CfL2tp/FGHSyaPtOhBOmjwmpLxJHpM0VvCcjwRKBw2WHaSslquuIdFSkVdSKROikzxdKjfUwiRQhDl5V6gM18yqwLvPVuDI1joc2enAiqV+zL+yCaMi5Ug4GtHBkbfNWYlzu/OYFjTj+4NjmHa1oStaj4DclDWMa+38ZMcTGeTh9xjJ87yQp68Je1aX4qnf5uHFx6rx9ssN+GQ5R/9VTdi4vh3PPTccw7rqWVciJmX090Uq9LWUsynyGPexxBa6jFFXvmvIdyFPGL6mQvxmjpDHhUObujmi13Guw8jjiyDmDiHuEgh5GHlYTzbeauLIZ4k+xmIEj/IcUxuj1PBgIW65ohIfvFWJQ3v9OLQvjmWv065zZR9iOaIORlexm7Qr6SOm/TR5GDFJRJM8TNn8TD29+bjxuhzs21WHA3ujuPeuACJ+eYbLi7ZoKxyNlZg9cxT+9td/j4aGeuTk5KCwoAjXX3stVq9YgQunTUO4pQKjE/l4cH4Z+rbV4psjozDvGjecLWW0SdQSeazE+dnIkywro7I8qkw2e/1heAPp4PkAf0+DR0OWdzWs51MQ4u/hfsh1fH46qj/aD78cfTwa77dW75QOs0zYF2Aa1YBpowuw6PYC7F7twLcHE9i3sR0vPBTG7JENGOWpQ0dLAeZfnoP9mz04sm0Cbr4syKjkYEon6aG147MjzwuP5uC7g5U4fqAYX3Cy/vWRGI5wFD18oA59vRU49kUn3loyEp1ddSQ8UwlGTDPl0n1iXqf/2iSMnvOciDwiLxyMwEvyzL8kB3/q9aBvUyemjy/n4FKG1mATWn31BCOGr5Lt5WAi8JejLViB9lAFo7F8L0NHsAzDOBB1Bcsxkr+N9OdifCwHl07OwYuLynB4bw2+6nVh9/o4Fi+IMDLRdt5GgxBiG+Wkuh2aPKK3GXmM93V7G9DNjOHtN0pw/JgPH7wTwojuMpblIMbfY9EYGhsbMGnyRPzLX/93kqfBII+gtLQUN11/HTavXc2U+yr4G0pw3vAc7Py0GD992YH7747AIy9OkfedcyBQepxW8pgYN86ZJI/sMDDPm3MeUUB2DdcSNSSQPXzsnAHhtcDud6N+KvwCbw3TqdoBUMOOU78HZd+ctwIdvjycy86+a24F1rxVi2O7GvH5jihWvtKGu+bUYjJTgZcZLY4f8DBH7sLUEZwIywR5APIItGMrYwt55H6Sy0jbXhTy9JaTqBXYuq4Wy95vwTNPVeHlxXno2V2EQ72duPmmFgSCtaxLGTISGtcx0xwr9DX1aptAd7IcTUgf8Tz7VZEnCH9zIe7lSP4fPvfiG87/Hr2/BbfMa8H8m7y45UYn5t9YgzvmleDeG4rxINPch28sw8JbKrDotio8fns1nrijGk/fXYNn7qnBs7+txkv31+LlB2rw+kN1ePn+Cny4OBdfbM/D9/uL8ENvPT7fGcEHb47DpHO8cLpkE7GkR+Kkqn1WWNsoj+p7XWWYPikXu7fU4evDrbjvdidC9IMA50HyfodINITGpjpMnjIJf/3b31LII6goL8V1V1+BD999HzPPGYMxrfnYYZCnDQsfTLB/KhDioCqLT2rBJZ08AmVbO5jkSX5QkB9SMW6cw0IedU4J4bzCG2Dor8GIeCGuuqgYd9xUhrvnl+KuW8v7cTdxD/Hb+eW4Lx23DAC7sulgxypUElX9uHd+ZRL8jbg/We4Bfn7sVjrCjdV4Zn4+PnwmB0c35eCn3jL8jmQ5vM6NVS9XY+8adn5fDC8sCKEzoN4JIOSRlT0xtpU4JtSKoDiqT5aqmS4m/AV4ieT5Zn8pju6qxm9vK6Aj5aO7MxfXX5WDnh0V6NszGhfNbCZpnHBzzqVeUp8uOxNW8uhOVg5gfpd+MuZPLB/0c/5HfT59y43/8ccw/ssf2nGwpx3bdw7D1h2d+GxHAtt3BLBvmxNHtzjx1WbODz/z4Zttfny/I4if9kTwu31ETwQ/7gsRAfx+fxB/JP7cG8ZfDgXwh/31+MOBIvz+QA6+35uDb/dX4pujF2LeDcPg4LxS3UA1dUyF6K/aJv9NwucqwLVMMb840ITerXFcNIUDoaz8MTPx+jyIGuSpx+TJk/C3v/01gzyOFtmu5cYLTz+Pvp69eOi2OD5bWYQfv+oyIo+rucjISBR55LqigyKNXoDSBLLiBOTJxLhxLUnyNPaf0+QJS1rE/PHK8/Ox4QMnjuxw0FEacXR3C8HPxDHiy10OfM15xjfEtycBqSc4boOvdzpTIdfa1UI04xviO34XfL/LiR92uvG7nR78flcDfrerAn85UIA/H8jFH3n8b9824n/83ol//0UzjmwZhnkXOjiBZs7uYu7PiJBKHrOzrcvphhOTPLKU20ZnfZFR7FuOxMd2l+ON55px0fmFGN6eg9tvysHBXVXo3TkGF8+gXHaW2yAP5ZA8A5NUwUoeuXdihdHRPG8sPsg+QjpRyN+EtlA+Nn/ow//xT3H8bz9EsXFdEz5a0YgPVzVg+co6fLiyGp98XIUNy+uxeVmjgS3LmrDpg2ZsfF/QgvXE2nea8embjVi+uBofLa4x8P5ztVj5GueT2wo4V+SA1FfGyNOCt19tx9QpEgXFPkIe7ZTpUBFI2hYKylJ7HqMNbXfIi3XvhTG+rYTzrQBT8SCzDi/JEzHSNiHPf//vijxukiuRiCE/Px9PPrEIHy9bhqWvvY7jX+zFtjVzsPXTRnzROxbXXt7C+ZI8CRzideRaYu908sguiXQdhTx6YFI8OCnyqAhEh+JcIuiswGyOqEvoHBs4EV5H46/7sJFoMrCB2LS8yeiIrUlsGyKkzmcZYOcub8Bm6ezldQa2EJ8ZqMU2Ygc/7/qwHrs/bMCuj1qw8yOncdyzvAr7PizBTzvy8cd9nAfsz8F//boc//J9Pf7LjyOwdukonNNei1a2Vd4ZIK+UsiePLA/LRF+RR84HPSFESbhhvkK89hidqbcQX/cUcFBxYe0yJ157rhqrlpXhCOc9e7aNx/TJLSSBvMiEc0chT4p8e6SQh/MkubNvQvqF5wJ0iIAcOUcIO9ERKsCSp0rwz9/Gsf0TB66ek4/zp+Xg/Bk5mDZdQb7PPC8fs6bmYyYx67wCzJhcgOnnFOB8YvrEAkwbV4ipowoxoT0XEzkQjInnYPYkznme4lxyeyHnKA3YubEFC+6swfiRpUzDZJe7DCyZzmjCJE+YczC/Nw/PLsrBj0db8d7iMLqYAssOAWObDdsbjUZJnkZMmzYN//k//yd0dw/DmjWfYMmS11FeXo5nn3mKpDmM2TNn4N67xmDdirE4sG0UPnl/HEZ1lMLvqqMs0eFnI09q2mbMe6TjON+Jh8sxcTTz1MmlmDa5mOAkzfhcapw7f1IpZhAziVknAaknEBkKJUQxO7YI508u5DUKjeMMYuakQnZmAS44txAXEZcIJhXhYupx6XmluOCcEtx0UR6WPsa0bR07qKcEP+wvxB97C/CH3hoc2jEWt98Y4pylERG2UW4aDkQe4/6KlylXkjxSJuoKotMdRLeziHOFEnxzwIcve+pxbK8LXx2I4cuDCRw6EEVPTwJL3x6BEZxXyQKH18uUJGnbUyGP8TAezxv3f8RB+FnuaXUx8rz3XDH+eLgTrz/pR3eizJhHBDl3DMh8wlfFejJHFH0E8vov9WLJgFfSoCYODE20h7we2Y2I04mwQwhWhOefbcaO7R4c7IsaTwVfM6cCnTHZ0dEEN9sij214jHTUdNJU4shvmjyNvCb75zWmgF8Mw1tPtiLBNE5WBf20kZU8U6dMwV//+i9Yvvx9LFv2PlavXoW2tgQS8TYc/3Ivbrh+GJ55uhlbNrRj8yfTcM3FfkTcbKvbwSjP60mUN/r1jJHHOufRAhSMCbJ8ZmfK6CJbxI2nHI2OU5BOFCiGnwIMOXRSQjaO+ui0XnmEwdeSAnmsQXbdygtCIgzlURpKJv1hdx1TsHxMGpODZx6uwp61TfixN8RRuBGvPVmInjV5+CNz9xceD6Crs8JID9Q+tCRxDCNLJwt0h5vkMSa7LCPLuMOYYnQ6KjGLo/RTD7fgsQeqsOCeCjy9sAbPPdGExxa24L6HvZg9x4FgtJ56h2nLYL99h0SelA6WwYwdL5+pi4dOIHfqw+4yI1J8tqwef/58HJ58oBWtQVlUYVmmQkI42V5j7LowzrE+Uz6xgTz/I+lSUHYNyH0bjv4RTytt6kNbuADvvhPDkc87sWdPAi88F+EAVo0YSRek3WWeI7cNjHdLyGqi0S6tqyaPQNql2qzJ88HSCvz+2Ai8viiOuJPkkTRLBgOfm+QJM1WrwxSmbf/6r/+Kd955hylbHA899BAWLXocZWUVWPLWI9i79yZs2hTHru1TcPu8dsR9jYjyOvJvYuS66ia72PBnIY9aYbNCznlkMsj5j49OYAf/aQGNZ4CdTchzNdKx8jCUPCbglac0/Ux/OKmUZXN5tkPe1tPKulF3I4ZFy3ElI86SFwvRt7MZxw92Y9PHozBvbg3OH5+Lje8V458+b8OCu1yIBOVVv5TBtqUTR60KSYSQo+UehZCb54Vsslk15m6iE5Wji/l6Z7wQ7bF8dLXnYVhbPtoSxWhtr4E32gCXX+5jiZPJPSq1SqZXnqzQxBGY5JFOpQ2MHcO0B+cVxg5oIZARdYKcGHO0dRVxXpqDPrlZ2DMCt10nS8i8vnFNeVxDCCdtpFPJQJiiQ9LRDCjHCjCyypt8IoF8LHzMjSXvBHHrbXUYNbwKYa88tChzRPoH7SAvrlTvd5DoTFmGU+obkxrqGoo8EuXysHxpNX53tANLnw6j3ZdPsgcQkhdg+jlARQJwtDRiwoQxeOmlFzBm3ATUNzbjnEkT0XNgl/HvLC+6cAT+8udX8NHy8fjt7Ql0xRww9vsZ+ifbI0fjs6mLaqM6puooMAkkGAJ5BrpJOjDSiZapTLbQI5QYWUcj6QwZ8dWor+7Oe+Ei3HQccaQwf4t6qjF5TD4e+W0FNq2oxvEeJ3o3B/Dqk2HMneVBPFCJMW15WPd2Gf7yeTsevZtpgTx74w2TPDICJZ0qaTBlF31UkUeTRzu5sWdO7knQkXxejqQCprcG3IyOlOml07pJcCcd3CXkoc7q5q+SY+0D7cj25OGAQWeWd4H7PRyskmSQlM1jkEe23hTgwfk5JI4Xe9cnOH/hXISRWFIXw7kN2yrZ6deSduv2qz4QUojzSxuq0DGsECPHlCLaKvdh2F4hBuUaT/jKCE/52nZGX0rdJNnVc0IC3b9Cnhbqloe3Fpfjx8M+bFkZwDWXViMRroKX0dzvrOMARRs6HCSvD4ko28rB0enk7+zLrTtewfoNS7Fzxwr89N0aXHtFAh2ROuN1yLLooBZ/LMQR9PtZtlD6DpE8MlJpZJIlHenkOTnozhXjWztVQTmaOLOfozcdSfJ+jlABTz0SwVJce2kplr5chYM7G/H1Pj+2LmvFvdc2YmJHHRJ+kqylieQpwNq3S/HvNHn8zIvpiIo8Ylylg57z2ZLH+K6gb1waOwGY+qj0R1KiACFy5R8Ut/H3GIkj5BHiCOmT9S2y9HerQ1vTNulM2U1h3EeRDEBs4AnBJf+31RvltRrYzjy89lQOfjrqwYolnIBzPiJ5v+HkbJ/pEGJjOUf5hN50q51NldMOL07rhptzIBed2SA9bW/YJrlqaMrWYL1+4lgJZF47zMgScBdh/lX52P+ZC0d7/Vi90of776jDhVMKMZZ91ekvxjB/JY9l6AwUYHi0GOedk8voV42PPzkff/p3a7Bz+2rMu2Yu+9KJgFPehkSfMCJiKgaOMifGEMhDA7FjFKwEUnOfM4WByZPsaOM35UAqd5eOq8bIrnz85oYCbP6oEV/ua8Hh7S4secqBa6fVY6S/FlEHwz+dy8vwPyqRjzVLS/BPX3Ri4Z2cYBuTZ6aK4oxGmqH0yJY8JlRZ0/mT+orT0MElbbJuORo6eSgvGamM3zkfEF09bpLSk4DP3wqfsxTndOVi3QfF+OFIAE8tkJfSl3A+RzlCHq2TcVSQSCPpqhWZI7Q4PY9iI6bQRqRjPa2zkmUtT6REHYF8T8oxdKBDU06YA9+YjgLcc0sFVn5Yh8O9Phza5ceGDzx444lmPHZ7HRb9xoXHb3fgyTuq8Py95fjojVrs2xXD2rUjseixSZg6aRT7lno4qTfTNfmXmIowkoqbOKPkmTy5pf8VVP/zf+YbRBL88z8XJl8/9fOTR+XnajSUJyGD7IgoR72opwatgVLMPK8Azz1VjR0bGvDNgRh2rYpg4fw6zOguRzdH4lZ5RS7TnDBHfW9LNcmTx8hTgr8ca8cT94Yoo5aOmSQPdRCcHHkUlOOrNFNBtUM7vSHvpMkjaatMxjnCUhd5EE3+h6vHnUAwwDY6C3HTxTk4vLUBh3a24iqmQH6mOLJAYNTvl2vqJymxsZvaApUqS/lUohm6GnorG+j5gCqX5nB25NEkTMqVfg1SlmwZ6o7k44KpBVgs7+Re18SUO4zj+yI4ui2CI1sTPEZxbKsH3+/245t9rdixMY4FD7gwoquEKWMDCSN79Jg9kDyKODIQpBLoFMljdQgPhg934uuvi/Hjj0X9RBkIKpVLJ498P31IJ490ohhBclfZ8h5xyY5geQl6LUbF83HnjWX4+L069O3zoW9PG1Ys7cStc50YGy7DMGcD2o06EsKZ/3KUE/IMj3GC+kI+/ng4jjefHoauuPxjLTV30COi0kM5hoJ2anPedSKYjqqc1ayXtD+deWDymA5r3dumHF49DCfPqhj/alH+U7e8ndXXjA5vPl59KA+/6/Ni/UdtmDCCUVXu1rOuQC2EmMQRqJuH6eSR36Ss6geNVF21XaRMKnkMB9WRRiOFOLqPlU7SFnlgL+Euw7j2XFx3cSGeebgSy19vwMqlDqx6m1jaiNXvNGHl6y1YvKARV13MjKOzCCFmDsack3JU6i0kkcgp0VYPugrym1XPoYDkSXVWvZctG2QuImg5JhlPB7TDSmep3b0SOeSeig9xOkrc0YLuUCEevLMG2ze6cOxgGFvXtWLBPX7MPNeJrpADcacDCU5gY6wjby9Vb1kJcBRuRmeoAC88mIMf98fwydIujBvOiSkdS3L4fodNgek82UI5lR1U21RbrY5ohbaBdTBRzqYcQvbfyY5nF9vnJtS/Jok4yjBzdC62L6/CD32tePbRoLFEbfz/HtZXK2j27THkpsGunLQhta/UOWUnRSDlvArpDihltA0UpL4Q1sFMQnZ5tCDsaESMhOhqy8M5YwswdWIR5ziFPBYYr9SaNKaIA14Rwj5GVbfcl5JIrHVM7zP1vT97Sep4MiB5rM5v7qK24s9/LjLepHP33Q3Gm0TT65iwEifdAU4NqkM0eeQdZfI6XC9HphDnLzWYODwPH7wdwYF93Vj2ThjXzW3AyEQTYuwI+fcccl9CPewl5JGQLUuWMkL72DFFeOi2fHy1O4qejaMwa1I5o1IL51FiXBl1pTNk5LV3tGygnOxkIfbUA5OkkArieDJvEXvIy1BiTjcHCTfa+bld/kuCS7bj5+DLvX7s2zwSl81uhNdB5zLSGJXKKOdRRFTQ363Qv524Xcr55TctazDymMSxypA0WO7jie1l6V/ut4meXrcM1vX8rYGQV4s1GfAKSDT1cCDlGYsXlpRag/K0H6W2N12v7JBBnlODJo/FEKcJutEyAqqnGRnaSYYII0iI+W0imo951zfijttdmHJuFaKBSoZ+OpUxASVpJFqxvKR6Zr7rp1xGH28F5lyYjx1r3fhm/yjce6MbCX+TQTLJv433xhkEsnegbJDuZEODPXnEoSSFDZMsMpi0kjgJzuc6aZu2ljLMGp+LFe8W4avDCby6eDg6W2s5gdbtV/n/4CPvL0UeBd3nRrRlP6p7evJZfVdQy/Je/qYefUj6YD95NP6BySPQDVdphA670hA6trcW0UglIoQ8GuH3tBiTYvWv61WqJzfvNHl0R8pNQhm5Ro8owEdLa/C7I514bVEMHf4aElPuDUjeLOT5tUQeE5K7y8s7oiSNECdO4rQ53Oj0NPNzPh66Owc9PXXYtbsdcy5pYrsZddxRo/36HRAnJs/gbU5vl3xX/XRq5DEWTwSGPCmn/MskiEDXsZ4T/F2T58xAG9qK/km2cSToFDp8i5GMSEXYkUd1CiOPj3OhQBGefaQA3/WG8OmSdkzoqEn+xzchqDb4yUM7VbYwHUMgbbU6mtiZbeBR3jkgpEk4hDgSdeS/IpTigqm5WLWqHIeORfD8C1G0xyvYZkZRVyi5bJtcgqYMO8dQ0OQZGNa+sEL9fpLkSYMqowlk9TX5XUiR7PsUCHnSYMjSfZKqoxXZrr6dAfKcWQKlQI9OxghFA+swbhhaGUccX0Uf2R0t0OSRMspwEeNlE8W4cU4O+j5zEyNw5cx6RJwNLO9POlgqGU4G6QQZDHbOo51VbC3beUR3RR4viePFMFcAieYKjGrNxUvPl+LgIQ8+2z4aF8xycACRO/d65Um13zhShtUhUiHXVNcdDEo/E+q8rquukUkcJV/XsbY3HaZs7V/ax+zLmxDCWGG1sdbV1FOgdc2GQKeZPBrWRp4JJK8h0cZCoJRHkpMQpzUIRGdR6YruSOUUkv5F/H6ESZ7zRuVgw7JqfNeXwEuPhdAVquJ8SVI/KZtJhjOFgchjHNlO2cojW3rEDiFO/hOMJp2uMNpbmtAVYLp2Vyn27GzGwd5OPHx/FB2xRoRZ3li2NdqS6QiDQzvYUGAnJx3ZkceElNOw+33oMAmkdFIDixpkUnXNxBkiz88BIdHARjRHGNNAyjC68WIwRawQv0c9VSRLHkmTjy8POLF9dTtmTazmyN5MwumbpfbOfrphJY/6zHYmBwqZC8h2Hqc3xO/y1s8I0zQ/Yk21GBEpxAN3VmLLhgZ8eaQNS14OYeLwSsSY80dIHGPgMNrxa8FQyXP6cZY8J0C6gRSETJL3S1Ri+uNtRqunAFfMzMHW1TX44kAUzzziRVeiAkFfC4LGiykU4c40UshD0ijQ0fw8BggejX/R4nFyXlaD7mAZLpqci6ceqcD2rQ4c6o3jwyUJXDi5Agl3PeRfj8hKo7RTbzf6deAseX4hnCp5xEhq4iypjLzgT55DGR7JxzMPF+Lz/c3Y+VkQt9xchVishDJk1wGJJps8DXkCe+cfCvRNSrV6mJTbTxh+Tj5X4/Mz6ngccLsb4XZVUJ8ydMaLceGUXDx2TwnWLKtC395GHD3YinffiOGS8+rRzva0ysDA1E7SO7U0nWqDXxb/EOQRRx0IduXtYFd3INjVT4eUE6OnYzADpcIkD8Fj1Cd354twwaQcfMK5z+E+H1av8+DBBU2YNr0SYY7wXlc1y7sgO6TlXyXK+5n1C+T7HdNYuEhH8n6EcY+C15dHpeW+Bc/Js0nyb/bDhPFmUuqm/tud0/iHXW5nBTwueddYCYZ3FWHqubm45foyPLeoBuuWN+PQTg++7gth6wYvFj3UiOkTK9BG4sR5HXkjaMo2fK3joMi01eA4+fq/TvJk144syKMdOt1Jh+rodjLsMFSZVkj9gQyUCYk4VsgL9SJMczqCBbjqkkIsf9+N3fvC2N0TxkcfB3DPndWYNa2QE/BSjuS1CDodCJM0YU+Y86YQSUTnJ+ShPbuHAhVIIiOa0Gl88p/l5L1m8ib/Gjp6JaJeeRVwOToiZRjdWYbJY0tx4fl5mHd1Me67uwyvv1SHVcuasHezH1/0tOLI7jg2fxLDK8/7cNXcKgzvqGAEbTC26sh9KlldVBFNd7p2jIGgymmnPhEyZQ6tvsCuz34uyPUz26Daka5nOrIkj3ZsfVH9XX6zq2OF1bGtMuyQrUw76GtkypU5RHq6pAhkNZoaleXtmGFPCxLhSpw/tQILH63F+o0+HDpA7HFh/ceNTOtqcOOcOkwbW42uaAUiLkYlIuSuMCAvmw+QCKmoMo5+/u5nyhX0lyLBdHDsqCLMnlaK6y+qwG1zinH/vFI8cXclXl/UiPdfcGHNuwFs/cSHvp1hHNkXwpcHQ8Z8bPtqPz56I4iHbm/BRTMaMXxYA6NWC68hL1kXSLRRCyLmgGHnJOnIPhpImUyZUl/JsKvza8PAbTix/kMgj7WifBdk4+jZEkeQrUw7nCp5lNHkaOS8nIx7SYLu4YWYe1kZnl5Qgl2rK/HN/gYc3+fB/g1RfPS6B88+XIvf3lyKmy/PxbzLcjDv0lzccGleEvkGrudngXGOZW69JhcP/KYITz1UjiWL67D23Rbs/dSPIxsD+Hq7F9/v9eCn/T780BPCd/viOLI1it7NMWxYFsLrTzux4M4GXDmrDOeOLEV7tI4pXwAeZ5TpXSv1F8iOcGmfta127bXDWfJoG9iVt+IseVjXCnUXWx5Sk6c75f0C8ig1SdSah8un5+LJewsZDepwcKsbx/Y6cbzXw6MHvVtaSKhmHNjgQO96VwoOCNY50Usc5O9HtzrxDet81xPAd3tD/BzGF7ujOLAljC0ft2DVklosebYcixeU49E7KnHrFRW4alYFZowrw5i2CsR98jJGeS6nTu2o8MRJ+E7Ox9pI+CjbIEvr0j5rW+3bm4mz5NE2sCtvBckjTncipAuS7wK7sgI7pz6xMkOTmw75XddPhTKQHcRoVogcIY4fTm8ATk7k5TFpeQOM392IiK8M3Yk8TD+3ANddXoxHHyzGu6+XY+PKBuze4MHeDW7s47GHE/f969Phwb61buxd48GOFUz/3mnCilca8dqj1Xj0rkrccn0l5lxajhnTinDO+HyM6srBMF6rLVKI1kCZ8Wh4yNOAoPGfwNWNW/UwHPV2R3guQeLEqX+E7dWPUtiRxw6ZjpON8+hy6fL6b+jawE7OLwnRSemdaQO78laQPKaTDY70ynZlBOlObnXqdBnpsMqxIlvy2EM609q5JrRTaUhZkaXehyBwEfJONXnU2FhCluf13TX8XIB4aw5GdOfgvEkFuOSCUsy5UP5tSCnmpuFy48jfZpfgspklmD2lGJNHFWDcsEIMby0kQeTlgFVw++pI1kZeswUutwMuEsXlcvH6HrUyJzoI5F/wG7uIlUMaK33uEHULUXfZeaCdV0VdBdOBrVB2yHQcgX0fmbDKSYdpYxNy3k7OLwlT10wb2JW3guSx/+HkoB093anl/MkaTtdNl5s9hBCpxlEGUoSxjs66k1mH8x6vW95MIy/UkP1y1vc2uOncdHJ3HdyER/5zt/EicqZSfvmv13aQFwvKCwblbZXyX9WcBK9JyHNDbl7PzbmKRsr7IphCCiQCqpeFaCjbKgeQoxossrX1YI6TjfPYQdcdSK5dnV8Sp6LrWfLwGunkMX6nM/c/a2+QR2SltsN4qaO8dMPvMm5i+g0wEviZUmVAzguYAjJyyL+cD8i/SfHJIxFCUEVSpbNpM4kaamuOvChEvVYrkzxWe2WPwRznZB1d1x1Irl2dXxKnoutZ8vAaJ0ce9dlInWQHQD9Y13gZox3kNwV9szSzvalQxFDvpDtLntOPU9H1LHl4jZONPKn6WWGnq5yzg5S3ytMy1eez5DmzOBVdh7BgkC2kQwdyGrvy2UDXH0huOqzlBiOPQIynoc6p1SJVT8135ChyrTqJAV1Mp2xg/GYta4VVR/3ZrpzqIE0eA4xyJoms9VTZwaHLmjAXUjLtomygiDBUaBn2cu3r2Ot85iHXHqquGiSP7sDTgVSnzYRdnWwwkCztCNoY8jmzjj15NKwdbTpNqiz9XaCvI0chi/VRX/24ry4j0DKs0PoLrHLPFOx1GdwuAm2bocJOloa1jOmg9nqfeci1B9ZZ62oPksd0sr8vaMezGsPqIGbZEzuJhpU8Vrnp0L9nSx6r3hpazxNd63TAXpfs7XKm8Gsnz+A4S54UnCXPz4uz5PmFYOd42kFO1knOkufnhUp/TmV+darQOtjrNzj+DZJHO4kJ6ZzsDDRU8hBCFiuEUP1ltC4D6S9Iv5aud7qhr2fq8MuTxwrdRz837HTJDv/GyGPvfOYIY28EE9mSJxvo66c6bKr+dm3Qdc4UTB1+XeQ5GSgC6ChixakSIxv8GyRPJrI35q+JPHZ1Ti/+LZDHrr9+HvL48P8Drll64mQQ2YkAAAAASUVORK5CYII=)"
      ],
      "metadata": {
        "id": "3H1NvVSHUJ3i"
      }
    },
    {
      "cell_type": "code",
      "source": [
        "#Compile the model\n",
        "#Adam sometimes didn't works best\n",
        "model.compile(optimizer = tf.keras.optimizers.SGD(learning_rate=0.001, momentum=0.9), loss='mse')"
      ],
      "metadata": {
        "id": "sK8ZINAuTzt8"
      },
      "execution_count": 26,
      "outputs": []
    },
    {
      "cell_type": "markdown",
      "source": [
        "+ **Another observation:** Initial Learning rate performs well at the beginning, but becomes too large at the end. Because of this, the cost jumped up and down, but never converged.\n",
        "\n",
        "+ So, one thing to do is to mitigate this to decrease the learning rate depending on the epoch number. This is called as ***Learning Rate Scheduling.***"
      ],
      "metadata": {
        "id": "10m-FWrhV0LI"
      }
    },
    {
      "cell_type": "code",
      "source": [
        "def schedule(epoch, lr):\n",
        "  if epoch >= 50:\n",
        "    return 0.0001\n",
        "  return 0.001\n",
        "\n",
        "scheduler = tf.keras.callbacks.LearningRateScheduler(schedule)"
      ],
      "metadata": {
        "id": "0MyBI7zbVbLb"
      },
      "execution_count": 27,
      "outputs": []
    },
    {
      "cell_type": "markdown",
      "source": [
        "> ![Capture.PNG](data:image/png;base64,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)"
      ],
      "metadata": {
        "id": "NWAK-AwVWvwM"
      }
    },
    {
      "cell_type": "code",
      "source": [
        "#Train the model\n",
        "r = model.fit(X,Y, epochs=200, callbacks=[scheduler])"
      ],
      "metadata": {
        "colab": {
          "base_uri": "https://localhost:8080/"
        },
        "id": "pTB_rdX9WxVQ",
        "outputId": "3b049cdf-6e49-4306-e21f-953d0cfde081"
      },
      "execution_count": 28,
      "outputs": [
        {
          "output_type": "stream",
          "name": "stdout",
          "text": [
            "Epoch 1/200\n",
            "6/6 [==============================] - 1s 3ms/step - loss: 384.6767 - lr: 0.0010\n",
            "Epoch 2/200\n",
            "6/6 [==============================] - 0s 4ms/step - loss: 314.3537 - lr: 0.0010\n",
            "Epoch 3/200\n",
            "6/6 [==============================] - 0s 4ms/step - loss: 302.4338 - lr: 0.0010\n",
            "Epoch 4/200\n",
            "6/6 [==============================] - 0s 4ms/step - loss: 262.9595 - lr: 0.0010\n",
            "Epoch 5/200\n",
            "6/6 [==============================] - 0s 3ms/step - loss: 253.7063 - lr: 0.0010\n",
            "Epoch 6/200\n",
            "6/6 [==============================] - 0s 4ms/step - loss: 209.4673 - lr: 0.0010\n",
            "Epoch 7/200\n",
            "6/6 [==============================] - 0s 3ms/step - loss: 188.3602 - lr: 0.0010\n",
            "Epoch 8/200\n",
            "6/6 [==============================] - 0s 4ms/step - loss: 143.6661 - lr: 0.0010\n",
            "Epoch 9/200\n",
            "6/6 [==============================] - 0s 5ms/step - loss: 97.3843 - lr: 0.0010\n",
            "Epoch 10/200\n",
            "6/6 [==============================] - 0s 4ms/step - loss: 39.9091 - lr: 0.0010\n",
            "Epoch 11/200\n",
            "6/6 [==============================] - 0s 4ms/step - loss: 28.4791 - lr: 0.0010\n",
            "Epoch 12/200\n",
            "6/6 [==============================] - 0s 4ms/step - loss: 22.2611 - lr: 0.0010\n",
            "Epoch 13/200\n",
            "6/6 [==============================] - 0s 4ms/step - loss: 19.3120 - lr: 0.0010\n",
            "Epoch 14/200\n",
            "6/6 [==============================] - 0s 4ms/step - loss: 14.0345 - lr: 0.0010\n",
            "Epoch 15/200\n",
            "6/6 [==============================] - 0s 4ms/step - loss: 11.3916 - lr: 0.0010\n",
            "Epoch 16/200\n",
            "6/6 [==============================] - 0s 6ms/step - loss: 13.3842 - lr: 0.0010\n",
            "Epoch 17/200\n",
            "6/6 [==============================] - 0s 8ms/step - loss: 15.6494 - lr: 0.0010\n",
            "Epoch 18/200\n",
            "6/6 [==============================] - 0s 9ms/step - loss: 11.2511 - lr: 0.0010\n",
            "Epoch 19/200\n",
            "6/6 [==============================] - 0s 6ms/step - loss: 8.7895 - lr: 0.0010\n",
            "Epoch 20/200\n",
            "6/6 [==============================] - 0s 5ms/step - loss: 6.3935 - lr: 0.0010\n",
            "Epoch 21/200\n",
            "6/6 [==============================] - 0s 4ms/step - loss: 3.0901 - lr: 0.0010\n",
            "Epoch 22/200\n",
            "6/6 [==============================] - 0s 4ms/step - loss: 2.3161 - lr: 0.0010\n",
            "Epoch 23/200\n",
            "6/6 [==============================] - 0s 6ms/step - loss: 1.6500 - lr: 0.0010\n",
            "Epoch 24/200\n",
            "6/6 [==============================] - 0s 4ms/step - loss: 1.9784 - lr: 0.0010\n",
            "Epoch 25/200\n",
            "6/6 [==============================] - 0s 5ms/step - loss: 1.5175 - lr: 0.0010\n",
            "Epoch 26/200\n",
            "6/6 [==============================] - 0s 4ms/step - loss: 1.3238 - lr: 0.0010\n",
            "Epoch 27/200\n",
            "6/6 [==============================] - 0s 4ms/step - loss: 1.3848 - lr: 0.0010\n",
            "Epoch 28/200\n",
            "6/6 [==============================] - 0s 4ms/step - loss: 1.1319 - lr: 0.0010\n",
            "Epoch 29/200\n",
            "6/6 [==============================] - 0s 3ms/step - loss: 1.1209 - lr: 0.0010\n",
            "Epoch 30/200\n",
            "6/6 [==============================] - 0s 3ms/step - loss: 1.1348 - lr: 0.0010\n",
            "Epoch 31/200\n",
            "6/6 [==============================] - 0s 4ms/step - loss: 0.9877 - lr: 0.0010\n",
            "Epoch 32/200\n",
            "6/6 [==============================] - 0s 5ms/step - loss: 1.0584 - lr: 0.0010\n",
            "Epoch 33/200\n",
            "6/6 [==============================] - 0s 4ms/step - loss: 1.0440 - lr: 0.0010\n",
            "Epoch 34/200\n",
            "6/6 [==============================] - 0s 4ms/step - loss: 1.0391 - lr: 0.0010\n",
            "Epoch 35/200\n",
            "6/6 [==============================] - 0s 4ms/step - loss: 0.9522 - lr: 0.0010\n",
            "Epoch 36/200\n",
            "6/6 [==============================] - 0s 4ms/step - loss: 0.9259 - lr: 0.0010\n",
            "Epoch 37/200\n",
            "6/6 [==============================] - 0s 3ms/step - loss: 0.9543 - lr: 0.0010\n",
            "Epoch 38/200\n",
            "6/6 [==============================] - 0s 4ms/step - loss: 0.9669 - lr: 0.0010\n",
            "Epoch 39/200\n",
            "6/6 [==============================] - 0s 6ms/step - loss: 0.8828 - lr: 0.0010\n",
            "Epoch 40/200\n",
            "6/6 [==============================] - 0s 6ms/step - loss: 0.8970 - lr: 0.0010\n",
            "Epoch 41/200\n",
            "6/6 [==============================] - 0s 4ms/step - loss: 0.9154 - lr: 0.0010\n",
            "Epoch 42/200\n",
            "6/6 [==============================] - 0s 4ms/step - loss: 0.9420 - lr: 0.0010\n",
            "Epoch 43/200\n",
            "6/6 [==============================] - 0s 4ms/step - loss: 0.9079 - lr: 0.0010\n",
            "Epoch 44/200\n",
            "6/6 [==============================] - 0s 4ms/step - loss: 1.0156 - lr: 0.0010\n",
            "Epoch 45/200\n",
            "6/6 [==============================] - 0s 3ms/step - loss: 1.0491 - lr: 0.0010\n",
            "Epoch 46/200\n",
            "6/6 [==============================] - 0s 3ms/step - loss: 0.9113 - lr: 0.0010\n",
            "Epoch 47/200\n",
            "6/6 [==============================] - 0s 3ms/step - loss: 0.9565 - lr: 0.0010\n",
            "Epoch 48/200\n",
            "6/6 [==============================] - 0s 4ms/step - loss: 1.0295 - lr: 0.0010\n",
            "Epoch 49/200\n",
            "6/6 [==============================] - 0s 3ms/step - loss: 0.9103 - lr: 0.0010\n",
            "Epoch 50/200\n",
            "6/6 [==============================] - 0s 4ms/step - loss: 0.8899 - lr: 0.0010\n",
            "Epoch 51/200\n",
            "6/6 [==============================] - 0s 4ms/step - loss: 0.8953 - lr: 1.0000e-04\n",
            "Epoch 52/200\n",
            "6/6 [==============================] - 0s 7ms/step - loss: 0.9394 - lr: 1.0000e-04\n",
            "Epoch 53/200\n",
            "6/6 [==============================] - 0s 7ms/step - loss: 0.8848 - lr: 1.0000e-04\n",
            "Epoch 54/200\n",
            "6/6 [==============================] - 0s 3ms/step - loss: 0.8764 - lr: 1.0000e-04\n",
            "Epoch 55/200\n",
            "6/6 [==============================] - 0s 4ms/step - loss: 0.8750 - lr: 1.0000e-04\n",
            "Epoch 56/200\n",
            "6/6 [==============================] - 0s 4ms/step - loss: 0.8712 - lr: 1.0000e-04\n",
            "Epoch 57/200\n",
            "6/6 [==============================] - 0s 4ms/step - loss: 0.8752 - lr: 1.0000e-04\n",
            "Epoch 58/200\n",
            "6/6 [==============================] - 0s 4ms/step - loss: 0.8867 - lr: 1.0000e-04\n",
            "Epoch 59/200\n",
            "6/6 [==============================] - 0s 4ms/step - loss: 0.8798 - lr: 1.0000e-04\n",
            "Epoch 60/200\n",
            "6/6 [==============================] - 0s 5ms/step - loss: 0.8709 - lr: 1.0000e-04\n",
            "Epoch 61/200\n",
            "6/6 [==============================] - 0s 4ms/step - loss: 0.8713 - lr: 1.0000e-04\n",
            "Epoch 62/200\n",
            "6/6 [==============================] - 0s 5ms/step - loss: 0.8725 - lr: 1.0000e-04\n",
            "Epoch 63/200\n",
            "6/6 [==============================] - 0s 5ms/step - loss: 0.8752 - lr: 1.0000e-04\n",
            "Epoch 64/200\n",
            "6/6 [==============================] - 0s 3ms/step - loss: 0.8741 - lr: 1.0000e-04\n",
            "Epoch 65/200\n",
            "6/6 [==============================] - 0s 3ms/step - loss: 0.8720 - lr: 1.0000e-04\n",
            "Epoch 66/200\n",
            "6/6 [==============================] - 0s 4ms/step - loss: 0.8706 - lr: 1.0000e-04\n",
            "Epoch 67/200\n",
            "6/6 [==============================] - 0s 4ms/step - loss: 0.8716 - lr: 1.0000e-04\n",
            "Epoch 68/200\n",
            "6/6 [==============================] - 0s 8ms/step - loss: 0.8711 - lr: 1.0000e-04\n",
            "Epoch 69/200\n",
            "6/6 [==============================] - 0s 3ms/step - loss: 0.8705 - lr: 1.0000e-04\n",
            "Epoch 70/200\n",
            "6/6 [==============================] - 0s 4ms/step - loss: 0.8712 - lr: 1.0000e-04\n",
            "Epoch 71/200\n",
            "6/6 [==============================] - 0s 4ms/step - loss: 0.8757 - lr: 1.0000e-04\n",
            "Epoch 72/200\n",
            "6/6 [==============================] - 0s 4ms/step - loss: 0.8761 - lr: 1.0000e-04\n",
            "Epoch 73/200\n",
            "6/6 [==============================] - 0s 4ms/step - loss: 0.8743 - lr: 1.0000e-04\n",
            "Epoch 74/200\n",
            "6/6 [==============================] - 0s 4ms/step - loss: 0.8748 - lr: 1.0000e-04\n",
            "Epoch 75/200\n",
            "6/6 [==============================] - 0s 4ms/step - loss: 0.8726 - lr: 1.0000e-04\n",
            "Epoch 76/200\n",
            "6/6 [==============================] - 0s 4ms/step - loss: 0.8726 - lr: 1.0000e-04\n",
            "Epoch 77/200\n",
            "6/6 [==============================] - 0s 6ms/step - loss: 0.8712 - lr: 1.0000e-04\n",
            "Epoch 78/200\n",
            "6/6 [==============================] - 0s 4ms/step - loss: 0.8778 - lr: 1.0000e-04\n",
            "Epoch 79/200\n",
            "6/6 [==============================] - 0s 4ms/step - loss: 0.8973 - lr: 1.0000e-04\n",
            "Epoch 80/200\n",
            "6/6 [==============================] - 0s 4ms/step - loss: 0.8799 - lr: 1.0000e-04\n",
            "Epoch 81/200\n",
            "6/6 [==============================] - 0s 3ms/step - loss: 0.8812 - lr: 1.0000e-04\n",
            "Epoch 82/200\n",
            "6/6 [==============================] - 0s 6ms/step - loss: 0.8837 - lr: 1.0000e-04\n",
            "Epoch 83/200\n",
            "6/6 [==============================] - 0s 4ms/step - loss: 0.8675 - lr: 1.0000e-04\n",
            "Epoch 84/200\n",
            "6/6 [==============================] - 0s 3ms/step - loss: 0.8765 - lr: 1.0000e-04\n",
            "Epoch 85/200\n",
            "6/6 [==============================] - 0s 3ms/step - loss: 0.8795 - lr: 1.0000e-04\n",
            "Epoch 86/200\n",
            "6/6 [==============================] - 0s 4ms/step - loss: 0.8717 - lr: 1.0000e-04\n",
            "Epoch 87/200\n",
            "6/6 [==============================] - 0s 3ms/step - loss: 0.8764 - lr: 1.0000e-04\n",
            "Epoch 88/200\n",
            "6/6 [==============================] - 0s 3ms/step - loss: 0.8846 - lr: 1.0000e-04\n",
            "Epoch 89/200\n",
            "6/6 [==============================] - 0s 3ms/step - loss: 0.8680 - lr: 1.0000e-04\n",
            "Epoch 90/200\n",
            "6/6 [==============================] - 0s 3ms/step - loss: 0.8745 - lr: 1.0000e-04\n",
            "Epoch 91/200\n",
            "6/6 [==============================] - 0s 3ms/step - loss: 0.8864 - lr: 1.0000e-04\n",
            "Epoch 92/200\n",
            "6/6 [==============================] - 0s 5ms/step - loss: 0.8859 - lr: 1.0000e-04\n",
            "Epoch 93/200\n",
            "6/6 [==============================] - 0s 3ms/step - loss: 0.8761 - lr: 1.0000e-04\n",
            "Epoch 94/200\n",
            "6/6 [==============================] - 0s 4ms/step - loss: 0.8685 - lr: 1.0000e-04\n",
            "Epoch 95/200\n",
            "6/6 [==============================] - 0s 3ms/step - loss: 0.8719 - lr: 1.0000e-04\n",
            "Epoch 96/200\n",
            "6/6 [==============================] - 0s 5ms/step - loss: 0.8720 - lr: 1.0000e-04\n",
            "Epoch 97/200\n",
            "6/6 [==============================] - 0s 5ms/step - loss: 0.8722 - lr: 1.0000e-04\n",
            "Epoch 98/200\n",
            "6/6 [==============================] - 0s 4ms/step - loss: 0.8725 - lr: 1.0000e-04\n",
            "Epoch 99/200\n",
            "6/6 [==============================] - 0s 4ms/step - loss: 0.8715 - lr: 1.0000e-04\n",
            "Epoch 100/200\n",
            "6/6 [==============================] - 0s 4ms/step - loss: 0.8705 - lr: 1.0000e-04\n",
            "Epoch 101/200\n",
            "6/6 [==============================] - 0s 3ms/step - loss: 0.8749 - lr: 1.0000e-04\n",
            "Epoch 102/200\n",
            "6/6 [==============================] - 0s 4ms/step - loss: 0.8752 - lr: 1.0000e-04\n",
            "Epoch 103/200\n",
            "6/6 [==============================] - 0s 4ms/step - loss: 0.9000 - lr: 1.0000e-04\n",
            "Epoch 104/200\n",
            "6/6 [==============================] - 0s 4ms/step - loss: 0.9295 - lr: 1.0000e-04\n",
            "Epoch 105/200\n",
            "6/6 [==============================] - 0s 4ms/step - loss: 0.8924 - lr: 1.0000e-04\n",
            "Epoch 106/200\n",
            "6/6 [==============================] - 0s 4ms/step - loss: 0.8704 - lr: 1.0000e-04\n",
            "Epoch 107/200\n",
            "6/6 [==============================] - 0s 4ms/step - loss: 0.8711 - lr: 1.0000e-04\n",
            "Epoch 108/200\n",
            "6/6 [==============================] - 0s 4ms/step - loss: 0.8725 - lr: 1.0000e-04\n",
            "Epoch 109/200\n",
            "6/6 [==============================] - 0s 4ms/step - loss: 0.8710 - lr: 1.0000e-04\n",
            "Epoch 110/200\n",
            "6/6 [==============================] - 0s 4ms/step - loss: 0.8719 - lr: 1.0000e-04\n",
            "Epoch 111/200\n",
            "6/6 [==============================] - 0s 4ms/step - loss: 0.8701 - lr: 1.0000e-04\n",
            "Epoch 112/200\n",
            "6/6 [==============================] - 0s 7ms/step - loss: 0.8721 - lr: 1.0000e-04\n",
            "Epoch 113/200\n",
            "6/6 [==============================] - 0s 5ms/step - loss: 0.8726 - lr: 1.0000e-04\n",
            "Epoch 114/200\n",
            "6/6 [==============================] - 0s 5ms/step - loss: 0.8707 - lr: 1.0000e-04\n",
            "Epoch 115/200\n",
            "6/6 [==============================] - 0s 3ms/step - loss: 0.8716 - lr: 1.0000e-04\n",
            "Epoch 116/200\n",
            "6/6 [==============================] - 0s 3ms/step - loss: 0.8727 - lr: 1.0000e-04\n",
            "Epoch 117/200\n",
            "6/6 [==============================] - 0s 3ms/step - loss: 0.8742 - lr: 1.0000e-04\n",
            "Epoch 118/200\n",
            "6/6 [==============================] - 0s 3ms/step - loss: 0.8725 - lr: 1.0000e-04\n",
            "Epoch 119/200\n",
            "6/6 [==============================] - 0s 4ms/step - loss: 0.8766 - lr: 1.0000e-04\n",
            "Epoch 120/200\n",
            "6/6 [==============================] - 0s 4ms/step - loss: 0.8717 - lr: 1.0000e-04\n",
            "Epoch 121/200\n",
            "6/6 [==============================] - 0s 3ms/step - loss: 0.8704 - lr: 1.0000e-04\n",
            "Epoch 122/200\n",
            "6/6 [==============================] - 0s 5ms/step - loss: 0.8718 - lr: 1.0000e-04\n",
            "Epoch 123/200\n",
            "6/6 [==============================] - 0s 4ms/step - loss: 0.8706 - lr: 1.0000e-04\n",
            "Epoch 124/200\n",
            "6/6 [==============================] - 0s 4ms/step - loss: 0.8839 - lr: 1.0000e-04\n",
            "Epoch 125/200\n",
            "6/6 [==============================] - 0s 4ms/step - loss: 0.8946 - lr: 1.0000e-04\n",
            "Epoch 126/200\n",
            "6/6 [==============================] - 0s 4ms/step - loss: 0.8935 - lr: 1.0000e-04\n",
            "Epoch 127/200\n",
            "6/6 [==============================] - 0s 4ms/step - loss: 0.8755 - lr: 1.0000e-04\n",
            "Epoch 128/200\n",
            "6/6 [==============================] - 0s 4ms/step - loss: 0.8894 - lr: 1.0000e-04\n",
            "Epoch 129/200\n",
            "6/6 [==============================] - 0s 4ms/step - loss: 0.8788 - lr: 1.0000e-04\n",
            "Epoch 130/200\n",
            "6/6 [==============================] - 0s 4ms/step - loss: 0.8706 - lr: 1.0000e-04\n",
            "Epoch 131/200\n",
            "6/6 [==============================] - 0s 4ms/step - loss: 0.8801 - lr: 1.0000e-04\n",
            "Epoch 132/200\n",
            "6/6 [==============================] - 0s 6ms/step - loss: 0.8785 - lr: 1.0000e-04\n",
            "Epoch 133/200\n",
            "6/6 [==============================] - 0s 4ms/step - loss: 0.8768 - lr: 1.0000e-04\n",
            "Epoch 134/200\n",
            "6/6 [==============================] - 0s 3ms/step - loss: 0.8757 - lr: 1.0000e-04\n",
            "Epoch 135/200\n",
            "6/6 [==============================] - 0s 5ms/step - loss: 0.8724 - lr: 1.0000e-04\n",
            "Epoch 136/200\n",
            "6/6 [==============================] - 0s 4ms/step - loss: 0.8715 - lr: 1.0000e-04\n",
            "Epoch 137/200\n",
            "6/6 [==============================] - 0s 4ms/step - loss: 0.8739 - lr: 1.0000e-04\n",
            "Epoch 138/200\n",
            "6/6 [==============================] - 0s 4ms/step - loss: 0.8807 - lr: 1.0000e-04\n",
            "Epoch 139/200\n",
            "6/6 [==============================] - 0s 4ms/step - loss: 0.8786 - lr: 1.0000e-04\n",
            "Epoch 140/200\n",
            "6/6 [==============================] - 0s 4ms/step - loss: 0.8740 - lr: 1.0000e-04\n",
            "Epoch 141/200\n",
            "6/6 [==============================] - 0s 8ms/step - loss: 0.8740 - lr: 1.0000e-04\n",
            "Epoch 142/200\n",
            "6/6 [==============================] - 0s 5ms/step - loss: 0.8747 - lr: 1.0000e-04\n",
            "Epoch 143/200\n",
            "6/6 [==============================] - 0s 3ms/step - loss: 0.8707 - lr: 1.0000e-04\n",
            "Epoch 144/200\n",
            "6/6 [==============================] - 0s 3ms/step - loss: 0.8747 - lr: 1.0000e-04\n",
            "Epoch 145/200\n",
            "6/6 [==============================] - 0s 4ms/step - loss: 0.8817 - lr: 1.0000e-04\n",
            "Epoch 146/200\n",
            "6/6 [==============================] - 0s 5ms/step - loss: 0.8769 - lr: 1.0000e-04\n",
            "Epoch 147/200\n",
            "6/6 [==============================] - 0s 6ms/step - loss: 0.8706 - lr: 1.0000e-04\n",
            "Epoch 148/200\n",
            "6/6 [==============================] - 0s 4ms/step - loss: 0.8716 - lr: 1.0000e-04\n",
            "Epoch 149/200\n",
            "6/6 [==============================] - 0s 8ms/step - loss: 0.8707 - lr: 1.0000e-04\n",
            "Epoch 150/200\n",
            "6/6 [==============================] - 0s 7ms/step - loss: 0.8771 - lr: 1.0000e-04\n",
            "Epoch 151/200\n",
            "6/6 [==============================] - 0s 6ms/step - loss: 0.8759 - lr: 1.0000e-04\n",
            "Epoch 152/200\n",
            "6/6 [==============================] - 0s 5ms/step - loss: 0.8719 - lr: 1.0000e-04\n",
            "Epoch 153/200\n",
            "6/6 [==============================] - 0s 5ms/step - loss: 0.8718 - lr: 1.0000e-04\n",
            "Epoch 154/200\n",
            "6/6 [==============================] - 0s 4ms/step - loss: 0.8719 - lr: 1.0000e-04\n",
            "Epoch 155/200\n",
            "6/6 [==============================] - 0s 4ms/step - loss: 0.8996 - lr: 1.0000e-04\n",
            "Epoch 156/200\n",
            "6/6 [==============================] - 0s 4ms/step - loss: 0.9141 - lr: 1.0000e-04\n",
            "Epoch 157/200\n",
            "6/6 [==============================] - 0s 5ms/step - loss: 0.8796 - lr: 1.0000e-04\n",
            "Epoch 158/200\n",
            "6/6 [==============================] - 0s 4ms/step - loss: 0.8805 - lr: 1.0000e-04\n",
            "Epoch 159/200\n",
            "6/6 [==============================] - 0s 3ms/step - loss: 0.8737 - lr: 1.0000e-04\n",
            "Epoch 160/200\n",
            "6/6 [==============================] - 0s 3ms/step - loss: 0.8728 - lr: 1.0000e-04\n",
            "Epoch 161/200\n",
            "6/6 [==============================] - 0s 5ms/step - loss: 0.8702 - lr: 1.0000e-04\n",
            "Epoch 162/200\n",
            "6/6 [==============================] - 0s 5ms/step - loss: 0.9241 - lr: 1.0000e-04\n",
            "Epoch 163/200\n",
            "6/6 [==============================] - 0s 4ms/step - loss: 1.0154 - lr: 1.0000e-04\n",
            "Epoch 164/200\n",
            "6/6 [==============================] - 0s 3ms/step - loss: 0.9231 - lr: 1.0000e-04\n",
            "Epoch 165/200\n",
            "6/6 [==============================] - 0s 4ms/step - loss: 0.8890 - lr: 1.0000e-04\n",
            "Epoch 166/200\n",
            "6/6 [==============================] - 0s 5ms/step - loss: 0.8908 - lr: 1.0000e-04\n",
            "Epoch 167/200\n",
            "6/6 [==============================] - 0s 4ms/step - loss: 0.8745 - lr: 1.0000e-04\n",
            "Epoch 168/200\n",
            "6/6 [==============================] - 0s 4ms/step - loss: 0.8777 - lr: 1.0000e-04\n",
            "Epoch 169/200\n",
            "6/6 [==============================] - 0s 4ms/step - loss: 0.8756 - lr: 1.0000e-04\n",
            "Epoch 170/200\n",
            "6/6 [==============================] - 0s 4ms/step - loss: 0.8745 - lr: 1.0000e-04\n",
            "Epoch 171/200\n",
            "6/6 [==============================] - 0s 5ms/step - loss: 0.9025 - lr: 1.0000e-04\n",
            "Epoch 172/200\n",
            "6/6 [==============================] - 0s 5ms/step - loss: 0.9248 - lr: 1.0000e-04\n",
            "Epoch 173/200\n",
            "6/6 [==============================] - 0s 4ms/step - loss: 0.8847 - lr: 1.0000e-04\n",
            "Epoch 174/200\n",
            "6/6 [==============================] - 0s 4ms/step - loss: 0.9025 - lr: 1.0000e-04\n",
            "Epoch 175/200\n",
            "6/6 [==============================] - 0s 3ms/step - loss: 0.8972 - lr: 1.0000e-04\n",
            "Epoch 176/200\n",
            "6/6 [==============================] - 0s 4ms/step - loss: 0.8750 - lr: 1.0000e-04\n",
            "Epoch 177/200\n",
            "6/6 [==============================] - 0s 5ms/step - loss: 0.8727 - lr: 1.0000e-04\n",
            "Epoch 178/200\n",
            "6/6 [==============================] - 0s 5ms/step - loss: 0.8739 - lr: 1.0000e-04\n",
            "Epoch 179/200\n",
            "6/6 [==============================] - 0s 4ms/step - loss: 0.8726 - lr: 1.0000e-04\n",
            "Epoch 180/200\n",
            "6/6 [==============================] - 0s 5ms/step - loss: 0.8719 - lr: 1.0000e-04\n",
            "Epoch 181/200\n",
            "6/6 [==============================] - 0s 6ms/step - loss: 0.8696 - lr: 1.0000e-04\n",
            "Epoch 182/200\n",
            "6/6 [==============================] - 0s 4ms/step - loss: 0.8777 - lr: 1.0000e-04\n",
            "Epoch 183/200\n",
            "6/6 [==============================] - 0s 4ms/step - loss: 0.8862 - lr: 1.0000e-04\n",
            "Epoch 184/200\n",
            "6/6 [==============================] - 0s 4ms/step - loss: 0.8830 - lr: 1.0000e-04\n",
            "Epoch 185/200\n",
            "6/6 [==============================] - 0s 3ms/step - loss: 0.8873 - lr: 1.0000e-04\n",
            "Epoch 186/200\n",
            "6/6 [==============================] - 0s 4ms/step - loss: 0.8824 - lr: 1.0000e-04\n",
            "Epoch 187/200\n",
            "6/6 [==============================] - 0s 5ms/step - loss: 0.8828 - lr: 1.0000e-04\n",
            "Epoch 188/200\n",
            "6/6 [==============================] - 0s 5ms/step - loss: 0.8811 - lr: 1.0000e-04\n",
            "Epoch 189/200\n",
            "6/6 [==============================] - 0s 4ms/step - loss: 0.9360 - lr: 1.0000e-04\n",
            "Epoch 190/200\n",
            "6/6 [==============================] - 0s 5ms/step - loss: 0.8781 - lr: 1.0000e-04\n",
            "Epoch 191/200\n",
            "6/6 [==============================] - 0s 4ms/step - loss: 0.8903 - lr: 1.0000e-04\n",
            "Epoch 192/200\n",
            "6/6 [==============================] - 0s 4ms/step - loss: 0.9300 - lr: 1.0000e-04\n",
            "Epoch 193/200\n",
            "6/6 [==============================] - 0s 5ms/step - loss: 0.8804 - lr: 1.0000e-04\n",
            "Epoch 194/200\n",
            "6/6 [==============================] - 0s 5ms/step - loss: 0.8934 - lr: 1.0000e-04\n",
            "Epoch 195/200\n",
            "6/6 [==============================] - 0s 4ms/step - loss: 0.8751 - lr: 1.0000e-04\n",
            "Epoch 196/200\n",
            "6/6 [==============================] - 0s 4ms/step - loss: 0.8848 - lr: 1.0000e-04\n",
            "Epoch 197/200\n",
            "6/6 [==============================] - 0s 3ms/step - loss: 0.8739 - lr: 1.0000e-04\n",
            "Epoch 198/200\n",
            "6/6 [==============================] - 0s 3ms/step - loss: 0.8751 - lr: 1.0000e-04\n",
            "Epoch 199/200\n",
            "6/6 [==============================] - 0s 5ms/step - loss: 0.8727 - lr: 1.0000e-04\n",
            "Epoch 200/200\n",
            "6/6 [==============================] - 0s 3ms/step - loss: 0.8756 - lr: 1.0000e-04\n"
          ]
        }
      ]
    },
    {
      "cell_type": "code",
      "source": [
        "#Plot the loss\n",
        "plt.plot(r.history['loss'], label='Loss')\n",
        "plt.legend()\n",
        "plt.show()"
      ],
      "metadata": {
        "colab": {
          "base_uri": "https://localhost:8080/",
          "height": 267
        },
        "id": "HnXSrS09XL85",
        "outputId": "9cf0fcfd-53e7-4da2-8847-70b47fa50244"
      },
      "execution_count": 29,
      "outputs": [
        {
          "output_type": "display_data",
          "data": {
            "text/plain": [
              "<Figure size 432x288 with 1 Axes>"
            ],
            "image/png": "[encoded data removed]"
          },
          "metadata": {}
        }
      ]
    },
    {
      "cell_type": "markdown",
      "source": [
        "+ It looks from the above graph that it has converged. "
      ],
      "metadata": {
        "id": "ZrkfBZhdXoKV"
      }
    },
    {
      "cell_type": "code",
      "source": [
        "# Get the slope of the line\n",
        "# Remeber, the slope of the line is related to the doubling rate of the transistor count\n",
        "print(model.layers)\n",
        "print(model.layers[0].get_weights())"
      ],
      "metadata": {
        "colab": {
          "base_uri": "https://localhost:8080/"
        },
        "id": "6nLjC-OOXVdg",
        "outputId": "a145a07c-7c4a-4997-ba19-a0307f07f009"
      },
      "execution_count": 32,
      "outputs": [
        {
          "output_type": "stream",
          "name": "stdout",
          "text": [
            "[<keras.layers.core.dense.Dense object at 0x7f2e95a51a50>]\n",
            "[array([[0.33718088]], dtype=float32), array([17.770353], dtype=float32)]\n"
          ]
        }
      ]
    },
    {
      "cell_type": "code",
      "source": [
        "a = model.layers[0].get_weights()[0][0][0]\n",
        "a"
      ],
      "metadata": {
        "colab": {
          "base_uri": "https://localhost:8080/"
        },
        "id": "hEGuts5hX6Ig",
        "outputId": "83a81af0-9983-4318-84b7-98bae7a71691"
      },
      "execution_count": 40,
      "outputs": [
        {
          "output_type": "execute_result",
          "data": {
            "text/plain": [
              "0.33718088"
            ]
          },
          "metadata": {},
          "execution_count": 40
        }
      ]
    },
    {
      "cell_type": "code",
      "source": [
        "print(\"Time to double: \", np.log(2)/a)"
      ],
      "metadata": {
        "colab": {
          "base_uri": "https://localhost:8080/"
        },
        "id": "mZJBYkw5ZGam",
        "outputId": "88acf274-9917-46ca-bb03-e0c0d733bf2e"
      },
      "execution_count": 38,
      "outputs": [
        {
          "output_type": "stream",
          "name": "stdout",
          "text": [
            "Time to double:  2.0557131680339427\n"
          ]
        }
      ]
    },
    {
      "cell_type": "markdown",
      "source": [
        "+ Therefore, we have confirmed that the Moore's Law is true as we see it has doubled."
      ],
      "metadata": {
        "id": "hbOl_XmUc2sh"
      }
    },
    {
      "cell_type": "code",
      "source": [
        ""
      ],
      "metadata": {
        "id": "yRKrQvt2cy_i"
      },
      "execution_count": null,
      "outputs": []
    },
    {
      "cell_type": "markdown",
      "source": [
        "**Making Predictions**"
      ],
      "metadata": {
        "id": "iyynfuG8depP"
      }
    },
    {
      "cell_type": "code",
      "source": [
        "Yhat = model.predict(X)\n",
        "Yhat.shape"
      ],
      "metadata": {
        "colab": {
          "base_uri": "https://localhost:8080/"
        },
        "id": "ks2PHyh6dgxq",
        "outputId": "5b9c3ff8-0135-4874-8de1-9fec2f1422ba"
      },
      "execution_count": 41,
      "outputs": [
        {
          "output_type": "execute_result",
          "data": {
            "text/plain": [
              "(162, 1)"
            ]
          },
          "metadata": {},
          "execution_count": 41
        }
      ]
    },
    {
      "cell_type": "code",
      "source": [
        "Yhat = Yhat.flatten()\n",
        "Yhat.shape"
      ],
      "metadata": {
        "colab": {
          "base_uri": "https://localhost:8080/"
        },
        "id": "NciqYqIudxeZ",
        "outputId": "4e085447-f5ab-4eb9-af51-a711cd4b41d0"
      },
      "execution_count": 42,
      "outputs": [
        {
          "output_type": "execute_result",
          "data": {
            "text/plain": [
              "(162,)"
            ]
          },
          "metadata": {},
          "execution_count": 42
        }
      ]
    },
    {
      "cell_type": "code",
      "source": [
        "Yhat"
      ],
      "metadata": {
        "colab": {
          "base_uri": "https://localhost:8080/"
        },
        "id": "b6tDj-BWd1RB",
        "outputId": "bca3191f-5736-42ef-e349-0055d03c23e1"
      },
      "execution_count": 43,
      "outputs": [
        {
          "output_type": "execute_result",
          "data": {
            "text/plain": [
              "array([ 7.2511425,  7.5883236,  7.9255037,  7.9255037,  8.262685 ,\n",
              "        8.262685 ,  8.262685 ,  8.599866 ,  8.937047 ,  8.937047 ,\n",
              "        8.937047 ,  9.611408 ,  9.611408 ,  9.948589 ,  9.948589 ,\n",
              "        9.948589 , 10.6229515, 10.960133 , 10.960133 , 11.297313 ,\n",
              "       11.634494 , 11.634494 , 11.971675 , 11.971675 , 11.971675 ,\n",
              "       12.308855 , 12.308855 , 12.308855 , 12.646036 , 12.646036 ,\n",
              "       12.646036 , 12.646036 , 12.983217 , 12.983217 , 13.320398 ,\n",
              "       13.320398 , 13.320398 , 13.320398 , 13.657579 , 13.9947605,\n",
              "       13.9947605, 14.331941 , 14.331941 , 14.669122 , 14.669122 ,\n",
              "       15.006303 , 15.006303 , 15.343483 , 16.692207 , 15.343483 ,\n",
              "       15.680664 , 16.017845 , 16.017845 , 16.017845 , 16.355026 ,\n",
              "       16.692207 , 16.692207 , 17.029388 , 17.029388 , 16.692207 ,\n",
              "       16.692207 , 16.692207 , 17.029388 , 17.36657  , 17.36657  ,\n",
              "       17.70375  , 18.37811  , 18.37811  , 18.715292 , 19.052473 ,\n",
              "       18.715292 , 19.052473 , 19.389654 , 19.726835 , 18.04093  ,\n",
              "       18.04093  , 17.70375  , 18.715292 , 18.715292 , 19.052473 ,\n",
              "       19.389654 , 18.04093  , 19.726835 , 20.064016 , 20.738377 ,\n",
              "       21.075558 , 19.389654 , 19.389654 , 19.726835 , 18.37811  ,\n",
              "       19.389654 , 19.726835 , 19.726835 , 19.389654 , 20.064016 ,\n",
              "       20.401197 , 21.075558 , 21.412739 , 20.738377 , 20.401197 ,\n",
              "       20.401197 , 21.075558 , 21.075558 , 20.401197 , 21.075558 ,\n",
              "       21.74992  , 19.052473 , 22.087101 , 21.412739 , 22.087101 ,\n",
              "       19.726835 , 20.401197 , 21.74992  , 22.087101 , 22.087101 ,\n",
              "       21.075558 , 20.738377 , 20.401197 , 21.74992  , 20.738377 ,\n",
              "       21.075558 , 21.74992  , 22.424282 , 22.761463 , 22.761463 ,\n",
              "       23.098644 , 21.075558 , 22.424282 , 22.424282 , 22.087101 ,\n",
              "       21.412739 , 22.761463 , 21.74992  , 22.761463 , 22.761463 ,\n",
              "       22.761463 , 21.075558 , 21.412739 , 21.74992  , 22.761463 ,\n",
              "       23.098644 , 22.424282 , 23.098644 , 22.761463 , 23.098644 ,\n",
              "       22.761463 , 22.087101 , 22.761463 , 22.424282 , 22.761463 ,\n",
              "       22.424282 , 22.761463 , 22.761463 , 22.087101 , 22.761463 ,\n",
              "       23.098644 , 22.761463 , 22.761463 , 22.761463 , 23.098644 ,\n",
              "       23.098644 , 23.098644 ], dtype=float32)"
            ]
          },
          "metadata": {},
          "execution_count": 43
        }
      ]
    },
    {
      "cell_type": "code",
      "source": [
        "plt.scatter(X,Y)\n",
        "plt.plot(X,Yhat, color='yellow') #line of regression\n",
        "plt.show()"
      ],
      "metadata": {
        "colab": {
          "base_uri": "https://localhost:8080/",
          "height": 265
        },
        "id": "R-ck4dlwd4m5",
        "outputId": "62bb58fe-95f1-4069-c1e7-59a055a3ca43"
      },
      "execution_count": 46,
      "outputs": [
        {
          "output_type": "display_data",
          "data": {
            "text/plain": [
              "<Figure size 432x288 with 1 Axes>"
            ],
            "image/png": "[encoded data removed]"
          },
          "metadata": {}
        }
      ]
    },
    {
      "cell_type": "markdown",
      "source": [
        "+ **Observation:** As expected, the line passes through the data points. Therefore, here, we have again confirmed that the Moore's law is True."
      ],
      "metadata": {
        "id": "ZFUeP70zeI7O"
      }
    },
    {
      "cell_type": "code",
      "source": [
        "#Manual Calculation\n",
        "#Get the weights\n",
        "w, b = model.layers[0].get_weights()\n",
        "#m,c\n",
        "# print(w,b)\n",
        "\n",
        "#Reshape X because we flattened it earlier\n",
        "X = X.reshape(-1,1)\n",
        "Yhat2 = (X.dot(w) + b).flatten()"
      ],
      "metadata": {
        "id": "tFPFKQHtd9JK"
      },
      "execution_count": 48,
      "outputs": []
    },
    {
      "cell_type": "code",
      "source": [
        "Yhat2"
      ],
      "metadata": {
        "colab": {
          "base_uri": "https://localhost:8080/"
        },
        "id": "UekwIn2TeiKZ",
        "outputId": "79380ddf-01e4-4c55-873a-3286a468330a"
      },
      "execution_count": 49,
      "outputs": [
        {
          "output_type": "execute_result",
          "data": {
            "text/plain": [
              "array([ 7.25114232,  7.58832321,  7.92550409,  7.92550409,  8.26268497,\n",
              "        8.26268497,  8.26268497,  8.59986585,  8.93704674,  8.93704674,\n",
              "        8.93704674,  9.6114085 ,  9.6114085 ,  9.94858938,  9.94858938,\n",
              "        9.94858938, 10.62295115, 10.96013203, 10.96013203, 11.29731291,\n",
              "       11.6344938 , 11.6344938 , 11.97167468, 11.97167468, 11.97167468,\n",
              "       12.30885556, 12.30885556, 12.30885556, 12.64603645, 12.64603645,\n",
              "       12.64603645, 12.64603645, 12.98321733, 12.98321733, 13.32039821,\n",
              "       13.32039821, 13.32039821, 13.32039821, 13.65757909, 13.99475998,\n",
              "       13.99475998, 14.33194086, 14.33194086, 14.66912174, 14.66912174,\n",
              "       15.00630262, 15.00630262, 15.34348351, 16.69220704, 15.34348351,\n",
              "       15.68066439, 16.01784527, 16.01784527, 16.01784527, 16.35502616,\n",
              "       16.69220704, 16.69220704, 17.02938792, 17.02938792, 16.69220704,\n",
              "       16.69220704, 16.69220704, 17.02938792, 17.3665688 , 17.3665688 ,\n",
              "       17.70374969, 18.37811145, 18.37811145, 18.71529233, 19.05247322,\n",
              "       18.71529233, 19.05247322, 19.3896541 , 19.72683498, 18.04093057,\n",
              "       18.04093057, 17.70374969, 18.71529233, 18.71529233, 19.05247322,\n",
              "       19.3896541 , 18.04093057, 19.72683498, 20.06401586, 20.73837763,\n",
              "       21.07555851, 19.3896541 , 19.3896541 , 19.72683498, 18.37811145,\n",
              "       19.3896541 , 19.72683498, 19.72683498, 19.3896541 , 20.06401586,\n",
              "       20.40119675, 21.07555851, 21.4127394 , 20.73837763, 20.40119675,\n",
              "       20.40119675, 21.07555851, 21.07555851, 20.40119675, 21.07555851,\n",
              "       21.74992028, 19.05247322, 22.08710116, 21.4127394 , 22.08710116,\n",
              "       19.72683498, 20.40119675, 21.74992028, 22.08710116, 22.08710116,\n",
              "       21.07555851, 20.73837763, 20.40119675, 21.74992028, 20.73837763,\n",
              "       21.07555851, 21.74992028, 22.42428204, 22.76146293, 22.76146293,\n",
              "       23.09864381, 21.07555851, 22.42428204, 22.42428204, 22.08710116,\n",
              "       21.4127394 , 22.76146293, 21.74992028, 22.76146293, 22.76146293,\n",
              "       22.76146293, 21.07555851, 21.4127394 , 21.74992028, 22.76146293,\n",
              "       23.09864381, 22.42428204, 23.09864381, 22.76146293, 23.09864381,\n",
              "       22.76146293, 22.08710116, 22.76146293, 22.42428204, 22.76146293,\n",
              "       22.42428204, 22.76146293, 22.76146293, 22.08710116, 22.76146293,\n",
              "       23.09864381, 22.76146293, 22.76146293, 22.76146293, 23.09864381,\n",
              "       23.09864381, 23.09864381])"
            ]
          },
          "metadata": {},
          "execution_count": 49
        }
      ]
    },
    {
      "cell_type": "code",
      "source": [
        "np.allclose(Yhat, Yhat2) #whether Yhat==Yhat2\n",
        "#allclose compare each and every value in Yhat and Yhat2, return True if all equal else false"
      ],
      "metadata": {
        "colab": {
          "base_uri": "https://localhost:8080/"
        },
        "id": "iMcFte_Fe_sJ",
        "outputId": "bcc0c164-ea19-4631-e44d-a1184d6f20ec"
      },
      "execution_count": 52,
      "outputs": [
        {
          "output_type": "execute_result",
          "data": {
            "text/plain": [
              "True"
            ]
          },
          "metadata": {},
          "execution_count": 52
        }
      ]
    },
    {
      "cell_type": "markdown",
      "source": [
        "---\n",
        "**END**\n",
        "---"
      ],
      "metadata": {
        "id": "CWGAacx-fVSF"
      }
    }
  ]
}