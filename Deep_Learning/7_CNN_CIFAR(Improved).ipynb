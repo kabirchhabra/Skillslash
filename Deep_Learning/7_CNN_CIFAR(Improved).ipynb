{
  "nbformat": 4,
  "nbformat_minor": 0,
  "metadata": {
    "colab": {
      "name": "7. CNN_CIFAR(Improved).ipynb",
      "provenance": [],
      "collapsed_sections": [],
      "authorship_tag": "ABX9TyPnzqenzZifdGGpgmg/ONOd",
      "include_colab_link": true
    },
    "kernelspec": {
      "name": "python3",
      "display_name": "Python 3"
    },
    "language_info": {
      "name": "python"
    },
    "accelerator": "GPU"
  },
  "cells": [
    {
      "cell_type": "markdown",
      "metadata": {
        "id": "view-in-github",
        "colab_type": "text"
      },
      "source": [
        "<a href=\"https://colab.research.google.com/github/kabirchhabra/Skillslash/blob/main/Deep_Learning/7_CNN_CIFAR(Improved).ipynb\" target=\"_parent\"><img src=\"https://colab.research.google.com/assets/colab-badge.svg\" alt=\"Open In Colab\"/></a>"
      ]
    },
    {
      "cell_type": "code",
      "execution_count": null,
      "metadata": {
        "id": "cnu-OK7wnCE8"
      },
      "outputs": [],
      "source": [
        "import numpy as np\n",
        "import tensorflow as tf\n",
        "from tensorflow.keras.layers import Input, Conv2D, Dense, Flatten, Dropout, GlobalMaxPooling2D, MaxPooling2D, BatchNormalization\n",
        "from tensorflow.keras.models import Model"
      ]
    },
    {
      "cell_type": "code",
      "source": [
        "cifar10 = tf.keras.datasets.cifar10\n",
        "\n",
        "(x_train, y_train),(x_test, y_test) = cifar10.load_data()\n",
        "x_train, x_test = x_train / 255.0, x_test / 255.0\n",
        "print(\"Before\\nx_train.shape:\", x_train.shape)\n",
        "print(\"y_train.shape\", y_train.shape)\n",
        "y_train, y_test = y_train.flatten(), y_test.flatten()\n",
        "print(\"After\\nx_train.shape:\", x_train.shape)\n",
        "print(\"y_train.shape\", y_train.shape)"
      ],
      "metadata": {
        "colab": {
          "base_uri": "https://localhost:8080/"
        },
        "id": "knk5ZNWvB5UL",
        "outputId": "9dd2efcb-e9c6-4603-b50b-35d63c701333"
      },
      "execution_count": null,
      "outputs": [
        {
          "output_type": "stream",
          "name": "stdout",
          "text": [
            "Downloading data from https://www.cs.toronto.edu/~kriz/cifar-10-python.tar.gz\n",
            "170500096/170498071 [==============================] - 2s 0us/step\n",
            "170508288/170498071 [==============================] - 2s 0us/step\n",
            "Before\n",
            "x_train.shape: (50000, 32, 32, 3)\n",
            "y_train.shape (50000, 1)\n",
            "After\n",
            "x_train.shape: (50000, 32, 32, 3)\n",
            "y_train.shape (50000,)\n"
          ]
        }
      ]
    },
    {
      "cell_type": "code",
      "source": [
        "# number of classes\n",
        "K = len(set(y_train))\n",
        "print(\"number of classes:\", K)"
      ],
      "metadata": {
        "colab": {
          "base_uri": "https://localhost:8080/"
        },
        "id": "LCFOx4zSCDeL",
        "outputId": "4162488a-7b6d-44be-b911-afa27ed43e17"
      },
      "execution_count": null,
      "outputs": [
        {
          "output_type": "stream",
          "name": "stdout",
          "text": [
            "number of classes: 10\n"
          ]
        }
      ]
    },
    {
      "cell_type": "code",
      "source": [
        "x_train[0]"
      ],
      "metadata": {
        "colab": {
          "base_uri": "https://localhost:8080/"
        },
        "id": "GLMM3uyeCGzv",
        "outputId": "875ab069-17df-41e9-c74d-76a32b9ce589"
      },
      "execution_count": null,
      "outputs": [
        {
          "output_type": "execute_result",
          "data": {
            "text/plain": [
              "array([[[0.23137255, 0.24313725, 0.24705882],\n",
              "        [0.16862745, 0.18039216, 0.17647059],\n",
              "        [0.19607843, 0.18823529, 0.16862745],\n",
              "        ...,\n",
              "        [0.61960784, 0.51764706, 0.42352941],\n",
              "        [0.59607843, 0.49019608, 0.4       ],\n",
              "        [0.58039216, 0.48627451, 0.40392157]],\n",
              "\n",
              "       [[0.0627451 , 0.07843137, 0.07843137],\n",
              "        [0.        , 0.        , 0.        ],\n",
              "        [0.07058824, 0.03137255, 0.        ],\n",
              "        ...,\n",
              "        [0.48235294, 0.34509804, 0.21568627],\n",
              "        [0.46666667, 0.3254902 , 0.19607843],\n",
              "        [0.47843137, 0.34117647, 0.22352941]],\n",
              "\n",
              "       [[0.09803922, 0.09411765, 0.08235294],\n",
              "        [0.0627451 , 0.02745098, 0.        ],\n",
              "        [0.19215686, 0.10588235, 0.03137255],\n",
              "        ...,\n",
              "        [0.4627451 , 0.32941176, 0.19607843],\n",
              "        [0.47058824, 0.32941176, 0.19607843],\n",
              "        [0.42745098, 0.28627451, 0.16470588]],\n",
              "\n",
              "       ...,\n",
              "\n",
              "       [[0.81568627, 0.66666667, 0.37647059],\n",
              "        [0.78823529, 0.6       , 0.13333333],\n",
              "        [0.77647059, 0.63137255, 0.10196078],\n",
              "        ...,\n",
              "        [0.62745098, 0.52156863, 0.2745098 ],\n",
              "        [0.21960784, 0.12156863, 0.02745098],\n",
              "        [0.20784314, 0.13333333, 0.07843137]],\n",
              "\n",
              "       [[0.70588235, 0.54509804, 0.37647059],\n",
              "        [0.67843137, 0.48235294, 0.16470588],\n",
              "        [0.72941176, 0.56470588, 0.11764706],\n",
              "        ...,\n",
              "        [0.72156863, 0.58039216, 0.36862745],\n",
              "        [0.38039216, 0.24313725, 0.13333333],\n",
              "        [0.3254902 , 0.20784314, 0.13333333]],\n",
              "\n",
              "       [[0.69411765, 0.56470588, 0.45490196],\n",
              "        [0.65882353, 0.50588235, 0.36862745],\n",
              "        [0.70196078, 0.55686275, 0.34117647],\n",
              "        ...,\n",
              "        [0.84705882, 0.72156863, 0.54901961],\n",
              "        [0.59215686, 0.4627451 , 0.32941176],\n",
              "        [0.48235294, 0.36078431, 0.28235294]]])"
            ]
          },
          "metadata": {},
          "execution_count": 3
        }
      ]
    },
    {
      "cell_type": "code",
      "source": [
        "x_train[0].shape"
      ],
      "metadata": {
        "colab": {
          "base_uri": "https://localhost:8080/"
        },
        "id": "6_J4T5nECLRt",
        "outputId": "2f0c71f8-beff-490e-b3ad-365d38956b90"
      },
      "execution_count": null,
      "outputs": [
        {
          "output_type": "execute_result",
          "data": {
            "text/plain": [
              "(32, 32, 3)"
            ]
          },
          "metadata": {},
          "execution_count": 4
        }
      ]
    },
    {
      "cell_type": "code",
      "source": [
        "# Build the model using the functional API\n",
        "i = Input(shape=x_train[0].shape)\n",
        "# x = Conv2D(32, (3, 3), strides=2, activation='relu')(i)\n",
        "# x = Conv2D(64, (3, 3), strides=2, activation='relu')(x)\n",
        "# x = Conv2D(128, (3, 3), strides=2, activation='relu')(x)\n",
        "\n",
        "x = Conv2D(32, (3, 3), activation='relu', padding='same')(i)\n",
        "x = BatchNormalization()(x)\n",
        "x = Conv2D(32, (3, 3), activation='relu', padding='same')(x)\n",
        "x = BatchNormalization()(x)\n",
        "x = MaxPooling2D((2, 2))(x)\n",
        "# x = Dropout(0.2)(x)\n",
        "x = Conv2D(64, (3, 3), activation='relu', padding='same')(x)\n",
        "x = BatchNormalization()(x)\n",
        "x = Conv2D(64, (3, 3), activation='relu', padding='same')(x)\n",
        "x = BatchNormalization()(x)\n",
        "x = MaxPooling2D((2, 2))(x)\n",
        "# x = Dropout(0.2)(x)\n",
        "x = Conv2D(128, (3, 3), activation='relu', padding='same')(x)\n",
        "x = BatchNormalization()(x)\n",
        "x = Conv2D(128, (3, 3), activation='relu', padding='same')(x)\n",
        "x = BatchNormalization()(x)\n",
        "x = MaxPooling2D((2, 2))(x)\n",
        "# x = Dropout(0.2)(x)\n",
        "\n",
        "# x = GlobalMaxPooling2D()(x)\n",
        "x = Flatten()(x)\n",
        "x = Dropout(0.2)(x)\n",
        "x = Dense(1024, activation='relu')(x)\n",
        "x = Dropout(0.2)(x)\n",
        "x = Dense(K, activation='softmax')(x)\n",
        "\n",
        "model = Model(i, x)"
      ],
      "metadata": {
        "id": "exT9AK-lCLda"
      },
      "execution_count": null,
      "outputs": []
    },
    {
      "cell_type": "code",
      "source": [
        "# Compile\n",
        "model.compile(optimizer='adam',loss='sparse_categorical_crossentropy',metrics=['accuracy'])"
      ],
      "metadata": {
        "id": "XUk25e9wCMy-"
      },
      "execution_count": null,
      "outputs": []
    },
    {
      "cell_type": "code",
      "source": [
        "# Fit\n",
        "r = model.fit(x_train, y_train, validation_data=(x_test, y_test), epochs=50)"
      ],
      "metadata": {
        "colab": {
          "base_uri": "https://localhost:8080/"
        },
        "id": "TEgR5mldCTh6",
        "outputId": "88770642-d6e6-4296-dccf-7cdbb607e0f4"
      },
      "execution_count": null,
      "outputs": [
        {
          "output_type": "stream",
          "name": "stdout",
          "text": [
            "Epoch 1/50\n",
            "1563/1563 [==============================] - 24s 8ms/step - loss: 1.3126 - accuracy: 0.5462 - val_loss: 1.0421 - val_accuracy: 0.6310\n",
            "Epoch 2/50\n",
            "1563/1563 [==============================] - 11s 7ms/step - loss: 0.8525 - accuracy: 0.7024 - val_loss: 0.9523 - val_accuracy: 0.6826\n",
            "Epoch 3/50\n",
            "1563/1563 [==============================] - 11s 7ms/step - loss: 0.6993 - accuracy: 0.7596 - val_loss: 0.6955 - val_accuracy: 0.7642\n",
            "Epoch 4/50\n",
            "1563/1563 [==============================] - 11s 7ms/step - loss: 0.5904 - accuracy: 0.7969 - val_loss: 0.6681 - val_accuracy: 0.7789\n",
            "Epoch 5/50\n",
            "1563/1563 [==============================] - 11s 7ms/step - loss: 0.5099 - accuracy: 0.8237 - val_loss: 0.6555 - val_accuracy: 0.7848\n",
            "Epoch 6/50\n",
            "1563/1563 [==============================] - 14s 9ms/step - loss: 0.4318 - accuracy: 0.8519 - val_loss: 0.6194 - val_accuracy: 0.7987\n",
            "Epoch 7/50\n",
            "1563/1563 [==============================] - 14s 9ms/step - loss: 0.3704 - accuracy: 0.8718 - val_loss: 0.6337 - val_accuracy: 0.7990\n",
            "Epoch 8/50\n",
            "1563/1563 [==============================] - 13s 8ms/step - loss: 0.3088 - accuracy: 0.8931 - val_loss: 0.6143 - val_accuracy: 0.8140\n",
            "Epoch 9/50\n",
            "1563/1563 [==============================] - 12s 8ms/step - loss: 0.2692 - accuracy: 0.9081 - val_loss: 0.6939 - val_accuracy: 0.8062\n",
            "Epoch 10/50\n",
            "1563/1563 [==============================] - 13s 8ms/step - loss: 0.2331 - accuracy: 0.9187 - val_loss: 0.6133 - val_accuracy: 0.8234\n",
            "Epoch 11/50\n",
            "1563/1563 [==============================] - 12s 8ms/step - loss: 0.1989 - accuracy: 0.9310 - val_loss: 0.6567 - val_accuracy: 0.8126\n",
            "Epoch 12/50\n",
            "1563/1563 [==============================] - 11s 7ms/step - loss: 0.1835 - accuracy: 0.9373 - val_loss: 0.7375 - val_accuracy: 0.8066\n",
            "Epoch 13/50\n",
            "1563/1563 [==============================] - 11s 7ms/step - loss: 0.1571 - accuracy: 0.9479 - val_loss: 0.6608 - val_accuracy: 0.8223\n",
            "Epoch 14/50\n",
            "1563/1563 [==============================] - 11s 7ms/step - loss: 0.1541 - accuracy: 0.9476 - val_loss: 0.7407 - val_accuracy: 0.8237\n",
            "Epoch 15/50\n",
            "1563/1563 [==============================] - 11s 7ms/step - loss: 0.1383 - accuracy: 0.9535 - val_loss: 0.6616 - val_accuracy: 0.8263\n",
            "Epoch 16/50\n",
            "1563/1563 [==============================] - 11s 7ms/step - loss: 0.1293 - accuracy: 0.9574 - val_loss: 0.7256 - val_accuracy: 0.8208\n",
            "Epoch 17/50\n",
            "1563/1563 [==============================] - 11s 7ms/step - loss: 0.1192 - accuracy: 0.9603 - val_loss: 0.7889 - val_accuracy: 0.8268\n",
            "Epoch 18/50\n",
            "1563/1563 [==============================] - 11s 7ms/step - loss: 0.1131 - accuracy: 0.9616 - val_loss: 0.7335 - val_accuracy: 0.8255\n",
            "Epoch 19/50\n",
            "1563/1563 [==============================] - 11s 7ms/step - loss: 0.1048 - accuracy: 0.9650 - val_loss: 0.7368 - val_accuracy: 0.8260\n",
            "Epoch 20/50\n",
            "1563/1563 [==============================] - 12s 8ms/step - loss: 0.1001 - accuracy: 0.9669 - val_loss: 0.7730 - val_accuracy: 0.8272\n",
            "Epoch 21/50\n",
            "1563/1563 [==============================] - 11s 7ms/step - loss: 0.0894 - accuracy: 0.9706 - val_loss: 0.8290 - val_accuracy: 0.8286\n",
            "Epoch 22/50\n",
            "1563/1563 [==============================] - 11s 7ms/step - loss: 0.0912 - accuracy: 0.9702 - val_loss: 0.7322 - val_accuracy: 0.8336\n",
            "Epoch 23/50\n",
            "1563/1563 [==============================] - 11s 7ms/step - loss: 0.0839 - accuracy: 0.9715 - val_loss: 0.8523 - val_accuracy: 0.8291\n",
            "Epoch 24/50\n",
            "1563/1563 [==============================] - 11s 7ms/step - loss: 0.0825 - accuracy: 0.9731 - val_loss: 0.8182 - val_accuracy: 0.8265\n",
            "Epoch 25/50\n",
            "1563/1563 [==============================] - 11s 7ms/step - loss: 0.0762 - accuracy: 0.9747 - val_loss: 0.8249 - val_accuracy: 0.8288\n",
            "Epoch 26/50\n",
            "1563/1563 [==============================] - 11s 7ms/step - loss: 0.0770 - accuracy: 0.9755 - val_loss: 0.8500 - val_accuracy: 0.8286\n",
            "Epoch 27/50\n",
            "1563/1563 [==============================] - 11s 7ms/step - loss: 0.0741 - accuracy: 0.9755 - val_loss: 0.7949 - val_accuracy: 0.8279\n",
            "Epoch 28/50\n",
            "1563/1563 [==============================] - 11s 7ms/step - loss: 0.0667 - accuracy: 0.9775 - val_loss: 0.8321 - val_accuracy: 0.8374\n",
            "Epoch 29/50\n",
            "1563/1563 [==============================] - 11s 7ms/step - loss: 0.0683 - accuracy: 0.9779 - val_loss: 0.8142 - val_accuracy: 0.8240\n",
            "Epoch 30/50\n",
            "1563/1563 [==============================] - 11s 7ms/step - loss: 0.0623 - accuracy: 0.9792 - val_loss: 0.8494 - val_accuracy: 0.8222\n",
            "Epoch 31/50\n",
            "1563/1563 [==============================] - 11s 7ms/step - loss: 0.0668 - accuracy: 0.9781 - val_loss: 0.9245 - val_accuracy: 0.8149\n",
            "Epoch 32/50\n",
            "1563/1563 [==============================] - 11s 7ms/step - loss: 0.0632 - accuracy: 0.9795 - val_loss: 0.8500 - val_accuracy: 0.8307\n",
            "Epoch 33/50\n",
            "1563/1563 [==============================] - 11s 7ms/step - loss: 0.0594 - accuracy: 0.9807 - val_loss: 0.8417 - val_accuracy: 0.8355\n",
            "Epoch 34/50\n",
            "1563/1563 [==============================] - 11s 7ms/step - loss: 0.0561 - accuracy: 0.9811 - val_loss: 0.8281 - val_accuracy: 0.8345\n",
            "Epoch 35/50\n",
            "1563/1563 [==============================] - 11s 7ms/step - loss: 0.0573 - accuracy: 0.9819 - val_loss: 0.7960 - val_accuracy: 0.8322\n",
            "Epoch 36/50\n",
            "1563/1563 [==============================] - 11s 7ms/step - loss: 0.0555 - accuracy: 0.9818 - val_loss: 0.8204 - val_accuracy: 0.8346\n",
            "Epoch 37/50\n",
            "1563/1563 [==============================] - 11s 7ms/step - loss: 0.0501 - accuracy: 0.9832 - val_loss: 0.8245 - val_accuracy: 0.8356\n",
            "Epoch 38/50\n",
            "1563/1563 [==============================] - 11s 7ms/step - loss: 0.0526 - accuracy: 0.9830 - val_loss: 0.9287 - val_accuracy: 0.8289\n",
            "Epoch 39/50\n",
            "1563/1563 [==============================] - 11s 7ms/step - loss: 0.0498 - accuracy: 0.9840 - val_loss: 0.8568 - val_accuracy: 0.8348\n",
            "Epoch 40/50\n",
            "1563/1563 [==============================] - 11s 7ms/step - loss: 0.0499 - accuracy: 0.9838 - val_loss: 0.9189 - val_accuracy: 0.8269\n",
            "Epoch 41/50\n",
            "1563/1563 [==============================] - 11s 7ms/step - loss: 0.0497 - accuracy: 0.9843 - val_loss: 0.8938 - val_accuracy: 0.8348\n",
            "Epoch 42/50\n",
            "1563/1563 [==============================] - 11s 7ms/step - loss: 0.0456 - accuracy: 0.9848 - val_loss: 0.9475 - val_accuracy: 0.8299\n",
            "Epoch 43/50\n",
            "1563/1563 [==============================] - 11s 7ms/step - loss: 0.0439 - accuracy: 0.9855 - val_loss: 1.0002 - val_accuracy: 0.8210\n",
            "Epoch 44/50\n",
            "1563/1563 [==============================] - 11s 7ms/step - loss: 0.0497 - accuracy: 0.9851 - val_loss: 0.8540 - val_accuracy: 0.8328\n",
            "Epoch 45/50\n",
            "1563/1563 [==============================] - 11s 7ms/step - loss: 0.0473 - accuracy: 0.9853 - val_loss: 0.8666 - val_accuracy: 0.8394\n",
            "Epoch 46/50\n",
            "1563/1563 [==============================] - 11s 7ms/step - loss: 0.0439 - accuracy: 0.9862 - val_loss: 1.0770 - val_accuracy: 0.8184\n",
            "Epoch 47/50\n",
            "1563/1563 [==============================] - 11s 7ms/step - loss: 0.0435 - accuracy: 0.9861 - val_loss: 0.9827 - val_accuracy: 0.8282\n",
            "Epoch 48/50\n",
            "1563/1563 [==============================] - 11s 7ms/step - loss: 0.0380 - accuracy: 0.9875 - val_loss: 0.8893 - val_accuracy: 0.8388\n",
            "Epoch 49/50\n",
            "1563/1563 [==============================] - 11s 7ms/step - loss: 0.0384 - accuracy: 0.9877 - val_loss: 0.9612 - val_accuracy: 0.8374\n",
            "Epoch 50/50\n",
            "1563/1563 [==============================] - 11s 7ms/step - loss: 0.0453 - accuracy: 0.9858 - val_loss: 0.8597 - val_accuracy: 0.8348\n"
          ]
        }
      ]
    },
    {
      "cell_type": "markdown",
      "source": [
        "**Observation:** Since the accuracy is around 98% and the validation accuracy is 83%, we can say the model is overfitted."
      ],
      "metadata": {
        "id": "uhBvjIQjE3G7"
      }
    },
    {
      "cell_type": "code",
      "source": [
        "x_train.shape[0]"
      ],
      "metadata": {
        "colab": {
          "base_uri": "https://localhost:8080/"
        },
        "id": "ZsVmnem9CVAW",
        "outputId": "9e5c5146-d84e-40d0-f37e-1bbf9da33c13"
      },
      "execution_count": null,
      "outputs": [
        {
          "output_type": "execute_result",
          "data": {
            "text/plain": [
              "50000"
            ]
          },
          "metadata": {},
          "execution_count": 10
        }
      ]
    },
    {
      "cell_type": "code",
      "source": [
        "x_train.shape[0] // 32"
      ],
      "metadata": {
        "colab": {
          "base_uri": "https://localhost:8080/"
        },
        "id": "W3Amu_8_CWos",
        "outputId": "4da50b20-8f44-435d-ca65-16f794f51821"
      },
      "execution_count": null,
      "outputs": [
        {
          "output_type": "execute_result",
          "data": {
            "text/plain": [
              "1562"
            ]
          },
          "metadata": {},
          "execution_count": 11
        }
      ]
    },
    {
      "cell_type": "code",
      "source": [
        "# Fit with data augmentation\n",
        "# Note: if you run this AFTER calling the previous model.fit(), it will CONTINUE training where it left off\n",
        "batch_size = 32\n",
        "data_generator = tf.keras.preprocessing.image.ImageDataGenerator(width_shift_range=0.1, height_shift_range=0.1, horizontal_flip=True)\n",
        "# https://www.tensorflow.org/api_docs/python/tf/keras/preprocessing/image/ImageDataGenerator\n",
        "train_generator = data_generator.flow(x_train, y_train, batch_size)\n",
        "steps_per_epoch = x_train.shape[0] // batch_size\n",
        "r = model.fit_generator(train_generator, validation_data=(x_test, y_test), steps_per_epoch=steps_per_epoch, epochs=50)"
      ],
      "metadata": {
        "colab": {
          "base_uri": "https://localhost:8080/"
        },
        "id": "QJEXnzHuCXj7",
        "outputId": "adced21d-f02d-4fb9-90ba-746149d6dc26"
      },
      "execution_count": 12,
      "outputs": [
        {
          "metadata": {
            "tags": null
          },
          "name": "stdout",
          "output_type": "stream",
          "text": [
            "Epoch 1/50\n"
          ]
        },
        {
          "metadata": {
            "tags": null
          },
          "name": "stderr",
          "output_type": "stream",
          "text": [
            "/usr/local/lib/python3.7/dist-packages/ipykernel_launcher.py:8: UserWarning: `Model.fit_generator` is deprecated and will be removed in a future version. Please use `Model.fit`, which supports generators.\n",
            "  \n"
          ]
        },
        {
          "output_type": "stream",
          "name": "stdout",
          "text": [
            "1562/1562 [==============================] - 32s 20ms/step - loss: 0.5548 - accuracy: 0.8224 - val_loss: 0.5518 - val_accuracy: 0.8266\n",
            "Epoch 2/50\n",
            "1562/1562 [==============================] - 30s 19ms/step - loss: 0.4539 - accuracy: 0.8497 - val_loss: 0.4724 - val_accuracy: 0.8450\n",
            "Epoch 3/50\n",
            "1562/1562 [==============================] - 30s 19ms/step - loss: 0.4141 - accuracy: 0.8618 - val_loss: 0.5210 - val_accuracy: 0.8387\n",
            "Epoch 4/50\n",
            "1562/1562 [==============================] - 31s 20ms/step - loss: 0.3932 - accuracy: 0.8685 - val_loss: 0.5075 - val_accuracy: 0.8368\n",
            "Epoch 5/50\n",
            "1562/1562 [==============================] - 31s 20ms/step - loss: 0.3788 - accuracy: 0.8719 - val_loss: 0.4520 - val_accuracy: 0.8568\n",
            "Epoch 6/50\n",
            "1562/1562 [==============================] - 30s 19ms/step - loss: 0.3618 - accuracy: 0.8789 - val_loss: 0.4482 - val_accuracy: 0.8589\n",
            "Epoch 7/50\n",
            "1562/1562 [==============================] - 30s 19ms/step - loss: 0.3480 - accuracy: 0.8836 - val_loss: 0.4421 - val_accuracy: 0.8558\n",
            "Epoch 8/50\n",
            "1562/1562 [==============================] - 30s 19ms/step - loss: 0.3351 - accuracy: 0.8871 - val_loss: 0.4669 - val_accuracy: 0.8580\n",
            "Epoch 9/50\n",
            "1562/1562 [==============================] - 30s 19ms/step - loss: 0.3240 - accuracy: 0.8918 - val_loss: 0.4449 - val_accuracy: 0.8553\n",
            "Epoch 10/50\n",
            "1562/1562 [==============================] - 30s 19ms/step - loss: 0.3158 - accuracy: 0.8935 - val_loss: 0.4103 - val_accuracy: 0.8663\n",
            "Epoch 11/50\n",
            "1562/1562 [==============================] - 30s 19ms/step - loss: 0.3104 - accuracy: 0.8948 - val_loss: 0.4530 - val_accuracy: 0.8578\n",
            "Epoch 12/50\n",
            "1562/1562 [==============================] - 30s 19ms/step - loss: 0.2971 - accuracy: 0.8993 - val_loss: 0.4732 - val_accuracy: 0.8540\n",
            "Epoch 13/50\n",
            "1562/1562 [==============================] - 30s 19ms/step - loss: 0.2921 - accuracy: 0.9023 - val_loss: 0.4116 - val_accuracy: 0.8683\n",
            "Epoch 14/50\n",
            "1562/1562 [==============================] - 30s 19ms/step - loss: 0.2841 - accuracy: 0.9033 - val_loss: 0.4383 - val_accuracy: 0.8639\n",
            "Epoch 15/50\n",
            "1562/1562 [==============================] - 29s 19ms/step - loss: 0.2804 - accuracy: 0.9049 - val_loss: 0.4368 - val_accuracy: 0.8623\n",
            "Epoch 16/50\n",
            "1562/1562 [==============================] - 30s 19ms/step - loss: 0.2705 - accuracy: 0.9080 - val_loss: 0.4296 - val_accuracy: 0.8654\n",
            "Epoch 17/50\n",
            "1562/1562 [==============================] - 31s 20ms/step - loss: 0.2642 - accuracy: 0.9105 - val_loss: 0.4586 - val_accuracy: 0.8553\n",
            "Epoch 18/50\n",
            "1562/1562 [==============================] - 30s 19ms/step - loss: 0.2545 - accuracy: 0.9126 - val_loss: 0.4402 - val_accuracy: 0.8679\n",
            "Epoch 19/50\n",
            "1562/1562 [==============================] - 30s 19ms/step - loss: 0.2573 - accuracy: 0.9122 - val_loss: 0.4486 - val_accuracy: 0.8657\n",
            "Epoch 20/50\n",
            "1562/1562 [==============================] - 29s 19ms/step - loss: 0.2486 - accuracy: 0.9158 - val_loss: 0.4551 - val_accuracy: 0.8740\n",
            "Epoch 21/50\n",
            "1562/1562 [==============================] - 29s 19ms/step - loss: 0.2424 - accuracy: 0.9177 - val_loss: 0.4284 - val_accuracy: 0.8668\n",
            "Epoch 22/50\n",
            "1562/1562 [==============================] - 30s 19ms/step - loss: 0.2398 - accuracy: 0.9172 - val_loss: 0.4437 - val_accuracy: 0.8668\n",
            "Epoch 23/50\n",
            "1562/1562 [==============================] - 30s 19ms/step - loss: 0.2321 - accuracy: 0.9214 - val_loss: 0.4565 - val_accuracy: 0.8691\n",
            "Epoch 24/50\n",
            "1562/1562 [==============================] - 29s 19ms/step - loss: 0.2300 - accuracy: 0.9214 - val_loss: 0.4179 - val_accuracy: 0.8760\n",
            "Epoch 25/50\n",
            "1562/1562 [==============================] - 30s 19ms/step - loss: 0.2285 - accuracy: 0.9210 - val_loss: 0.4353 - val_accuracy: 0.8740\n",
            "Epoch 26/50\n",
            "1562/1562 [==============================] - 30s 19ms/step - loss: 0.2256 - accuracy: 0.9229 - val_loss: 0.4866 - val_accuracy: 0.8644\n",
            "Epoch 27/50\n",
            "1562/1562 [==============================] - 30s 19ms/step - loss: 0.2200 - accuracy: 0.9253 - val_loss: 0.4181 - val_accuracy: 0.8822\n",
            "Epoch 28/50\n",
            "1562/1562 [==============================] - 30s 19ms/step - loss: 0.2136 - accuracy: 0.9262 - val_loss: 0.4209 - val_accuracy: 0.8736\n",
            "Epoch 29/50\n",
            "1562/1562 [==============================] - 30s 19ms/step - loss: 0.2141 - accuracy: 0.9290 - val_loss: 0.3927 - val_accuracy: 0.8770\n",
            "Epoch 30/50\n",
            "1562/1562 [==============================] - 31s 20ms/step - loss: 0.2116 - accuracy: 0.9283 - val_loss: 0.4332 - val_accuracy: 0.8742\n",
            "Epoch 31/50\n",
            "1562/1562 [==============================] - 30s 19ms/step - loss: 0.2102 - accuracy: 0.9277 - val_loss: 0.4398 - val_accuracy: 0.8726\n",
            "Epoch 32/50\n",
            "1562/1562 [==============================] - 31s 20ms/step - loss: 0.2098 - accuracy: 0.9276 - val_loss: 0.4290 - val_accuracy: 0.8803\n",
            "Epoch 33/50\n",
            "1562/1562 [==============================] - 31s 20ms/step - loss: 0.2061 - accuracy: 0.9305 - val_loss: 0.4747 - val_accuracy: 0.8673\n",
            "Epoch 34/50\n",
            "1562/1562 [==============================] - 31s 20ms/step - loss: 0.1985 - accuracy: 0.9330 - val_loss: 0.4885 - val_accuracy: 0.8662\n",
            "Epoch 35/50\n",
            "1562/1562 [==============================] - 31s 20ms/step - loss: 0.2009 - accuracy: 0.9326 - val_loss: 0.4476 - val_accuracy: 0.8695\n",
            "Epoch 36/50\n",
            "1562/1562 [==============================] - 29s 19ms/step - loss: 0.1974 - accuracy: 0.9321 - val_loss: 0.3941 - val_accuracy: 0.8818\n",
            "Epoch 37/50\n",
            "1562/1562 [==============================] - 30s 19ms/step - loss: 0.1918 - accuracy: 0.9345 - val_loss: 0.4126 - val_accuracy: 0.8755\n",
            "Epoch 38/50\n",
            "1562/1562 [==============================] - 30s 19ms/step - loss: 0.1894 - accuracy: 0.9354 - val_loss: 0.4529 - val_accuracy: 0.8832\n",
            "Epoch 39/50\n",
            "1562/1562 [==============================] - 30s 19ms/step - loss: 0.1880 - accuracy: 0.9362 - val_loss: 0.4405 - val_accuracy: 0.8748\n",
            "Epoch 40/50\n",
            "1562/1562 [==============================] - 30s 19ms/step - loss: 0.1846 - accuracy: 0.9367 - val_loss: 0.4316 - val_accuracy: 0.8825\n",
            "Epoch 41/50\n",
            "1562/1562 [==============================] - 30s 19ms/step - loss: 0.1879 - accuracy: 0.9364 - val_loss: 0.4371 - val_accuracy: 0.8800\n",
            "Epoch 42/50\n",
            "1562/1562 [==============================] - 30s 19ms/step - loss: 0.1824 - accuracy: 0.9375 - val_loss: 0.4266 - val_accuracy: 0.8706\n",
            "Epoch 43/50\n",
            "1562/1562 [==============================] - 30s 19ms/step - loss: 0.1803 - accuracy: 0.9388 - val_loss: 0.4416 - val_accuracy: 0.8822\n",
            "Epoch 44/50\n",
            "1562/1562 [==============================] - 31s 20ms/step - loss: 0.1743 - accuracy: 0.9417 - val_loss: 0.4370 - val_accuracy: 0.8798\n",
            "Epoch 45/50\n",
            "1562/1562 [==============================] - 30s 19ms/step - loss: 0.1789 - accuracy: 0.9387 - val_loss: 0.4380 - val_accuracy: 0.8775\n",
            "Epoch 46/50\n",
            "1562/1562 [==============================] - 31s 20ms/step - loss: 0.1746 - accuracy: 0.9411 - val_loss: 0.4218 - val_accuracy: 0.8798\n",
            "Epoch 47/50\n",
            "1562/1562 [==============================] - 31s 20ms/step - loss: 0.1725 - accuracy: 0.9408 - val_loss: 0.4417 - val_accuracy: 0.8764\n",
            "Epoch 48/50\n",
            "1562/1562 [==============================] - 30s 19ms/step - loss: 0.1673 - accuracy: 0.9436 - val_loss: 0.4251 - val_accuracy: 0.8762\n",
            "Epoch 49/50\n",
            "1562/1562 [==============================] - 31s 20ms/step - loss: 0.1763 - accuracy: 0.9411 - val_loss: 0.4992 - val_accuracy: 0.8817\n",
            "Epoch 50/50\n",
            "1562/1562 [==============================] - 31s 20ms/step - loss: 0.1713 - accuracy: 0.9420 - val_loss: 0.4175 - val_accuracy: 0.8846\n"
          ]
        }
      ]
    },
    {
      "cell_type": "markdown",
      "source": [
        "**Observation:** We are getting a lower accuracy but a higher Validation accuracy. Hence, there is lesser Overfitting. Therefore, the model has improved."
      ],
      "metadata": {
        "id": "G3rc9cO4CfRV"
      }
    },
    {
      "cell_type": "code",
      "source": [
        "# Plot loss per iteration\n",
        "import matplotlib.pyplot as plt\n",
        "plt.plot(r.history['loss'], label='loss')\n",
        "plt.plot(r.history['val_loss'], label='val_loss')\n",
        "plt.legend()"
      ],
      "metadata": {
        "id": "KzFXnJIYCcXn",
        "colab": {
          "base_uri": "https://localhost:8080/",
          "height": 282
        },
        "outputId": "f0f90f53-6fe9-443b-e17c-5bc3b59d1147"
      },
      "execution_count": 13,
      "outputs": [
        {
          "output_type": "execute_result",
          "data": {
            "text/plain": [
              "<matplotlib.legend.Legend at 0x7f76440d17d0>"
            ]
          },
          "metadata": {},
          "execution_count": 13
        },
        {
          "output_type": "display_data",
          "data": {
            "text/plain": [
              "<Figure size 432x288 with 1 Axes>"
            ],
            "image/png": "[encoded data removed]"
          },
          "metadata": {
            "needs_background": "light"
          }
        }
      ]
    },
    {
      "cell_type": "code",
      "source": [
        "# Plot accuracy per iteration\n",
        "plt.plot(r.history['accuracy'], label='acc')\n",
        "plt.plot(r.history['val_accuracy'], label='val_acc')\n",
        "plt.legend()"
      ],
      "metadata": {
        "id": "M5uSHK3fCoF6",
        "colab": {
          "base_uri": "https://localhost:8080/",
          "height": 282
        },
        "outputId": "37f47190-d7c2-4876-8268-fb3c5b9b8ded"
      },
      "execution_count": 14,
      "outputs": [
        {
          "output_type": "execute_result",
          "data": {
            "text/plain": [
              "<matplotlib.legend.Legend at 0x7f7644042f10>"
            ]
          },
          "metadata": {},
          "execution_count": 14
        },
        {
          "output_type": "display_data",
          "data": {
            "text/plain": [
              "<Figure size 432x288 with 1 Axes>"
            ],
            "image/png": "[encoded data removed]"
          },
          "metadata": {
            "needs_background": "light"
          }
        }
      ]
    },
    {
      "cell_type": "code",
      "source": [
        "# Plot confusion matrix\n",
        "from sklearn.metrics import confusion_matrix\n",
        "import itertools\n",
        "\n",
        "def plot_confusion_matrix(cm, classes,\n",
        "                          normalize=False,\n",
        "                          title='Confusion matrix',\n",
        "                          cmap=plt.cm.Blues):\n",
        "  \"\"\"\n",
        "  This function prints and plots the confusion matrix.\n",
        "  Normalization can be applied by setting `normalize=True`.\n",
        "  \"\"\"\n",
        "  if normalize:\n",
        "      cm = cm.astype('float') / cm.sum(axis=1)[:, np.newaxis]\n",
        "      print(\"Normalized confusion matrix\")\n",
        "  else:\n",
        "      print('Confusion matrix, without normalization')\n",
        "\n",
        "  print(cm)\n",
        "\n",
        "  plt.imshow(cm, interpolation='nearest', cmap=cmap)\n",
        "  plt.title(title)\n",
        "  plt.colorbar()\n",
        "  tick_marks = np.arange(len(classes))\n",
        "  plt.xticks(tick_marks, classes, rotation=45)\n",
        "  plt.yticks(tick_marks, classes)\n",
        "\n",
        "  fmt = '.2f' if normalize else 'd'\n",
        "  thresh = cm.max() / 2.\n",
        "  for i, j in itertools.product(range(cm.shape[0]), range(cm.shape[1])):\n",
        "      plt.text(j, i, format(cm[i, j], fmt),\n",
        "               horizontalalignment=\"center\",\n",
        "               color=\"white\" if cm[i, j] > thresh else \"black\")\n",
        "\n",
        "  plt.tight_layout()\n",
        "  plt.ylabel('True label')\n",
        "  plt.xlabel('Predicted label')\n",
        "  plt.show()\n",
        "\n",
        "\n",
        "p_test = model.predict(x_test).argmax(axis=1)\n",
        "cm = confusion_matrix(y_test, p_test)\n",
        "plot_confusion_matrix(cm, list(range(10)))\n",
        "\n"
      ],
      "metadata": {
        "id": "JQKRzg_qCpwC",
        "colab": {
          "base_uri": "https://localhost:8080/",
          "height": 502
        },
        "outputId": "6d0d734c-665e-4afa-9ea1-68746b201ab1"
      },
      "execution_count": 15,
      "outputs": [
        {
          "output_type": "stream",
          "name": "stdout",
          "text": [
            "Confusion matrix, without normalization\n",
            "[[912  12  19  10   7   0   4   3  20  13]\n",
            " [  3 961   0   3   1   0   0   0   9  23]\n",
            " [ 32   3 821  32  46  25  23   7   3   8]\n",
            " [ 10   1  21 779  46  86  30  11   5  11]\n",
            " [  2   2  19  21 908  16  16  14   1   1]\n",
            " [  5   2  24 115  25 800   7  16   3   3]\n",
            " [  6   4  26  43  13   6 898   0   1   3]\n",
            " [ 10   2  10  15  24  17   4 914   1   3]\n",
            " [ 35  16   3   0   1   1   0   5 929  10]\n",
            " [  7  45   2   6   0   1   1   3  11 924]]\n"
          ]
        },
        {
          "output_type": "display_data",
          "data": {
            "text/plain": [
              "<Figure size 432x288 with 2 Axes>"
            ],
            "image/png": "[encoded data removed]"
          },
          "metadata": {
            "needs_background": "light"
          }
        }
      ]
    },
    {
      "cell_type": "markdown",
      "source": [
        "**Observation:** \n",
        "Much lesser misclassifications as promised before.\n",
        "\n",
        "\n",
        "Lets check the two most wrong predictions.\n",
        "\n",
        "a. True Label = 5, Predicted Label = 3, Value = 119\n",
        "\n",
        "b. True Label = 3, Predicted Label = 5, Value = 71\n",
        "\n",
        "c True Label = 3, Predicted Label = 6, Value = 52\n",
        "\n",
        "d. b. True Label = 7, Predicted Label = 4, Value = 20\n",
        "\n",
        "So, in 'a' and 'b', 3 and 5 are getting confused very often, i.e. the Cats and Dogs are getting confused very often. And that does make sense to me because the images are so small that its easy to confuse a cat with a dog.\n",
        "\n",
        "In 'c', 3 'cat' and 6 'frog' are getting confused too. That too makes sense to me because if we look at frog in this dataset, they just appear as little brown blobs.\n",
        "\n",
        "In 'd', 7 'horse' and 4 'deer' are getting confused too. That too makes sense to me because they are both 4 legged animal that kind of look the same. "
      ],
      "metadata": {
        "id": "STOnYCU0CtAL"
      }
    },
    {
      "cell_type": "code",
      "source": [
        "# label mapping\n",
        "labels = '''airplane\n",
        "automobile\n",
        "bird\n",
        "cat\n",
        "deer\n",
        "dog\n",
        "frog\n",
        "horse\n",
        "ship\n",
        "truck'''.split()"
      ],
      "metadata": {
        "id": "PpWl7d0GCqzu"
      },
      "execution_count": 16,
      "outputs": []
    },
    {
      "cell_type": "code",
      "source": [
        "# Show some misclassified examples\n",
        "misclassified_idx = np.where(p_test != y_test)[0]\n",
        "i = np.random.choice(misclassified_idx)\n",
        "plt.imshow(x_test[i], cmap='gray')\n",
        "plt.title(\"True label: %s Predicted: %s\" % (labels[y_test[i]], labels[p_test[i]]));"
      ],
      "metadata": {
        "id": "tGD75no6CuJK",
        "colab": {
          "base_uri": "https://localhost:8080/",
          "height": 281
        },
        "outputId": "5e4731ac-9b7b-45e2-d02e-8553e648f9a4"
      },
      "execution_count": 17,
      "outputs": [
        {
          "output_type": "display_data",
          "data": {
            "text/plain": [
              "<Figure size 432x288 with 1 Axes>"
            ],
            "image/png": "[encoded data removed]"
          },
          "metadata": {
            "needs_background": "light"
          }
        }
      ]
    },
    {
      "cell_type": "code",
      "source": [
        "# Show some misclassified examples\n",
        "misclassified_idx = np.where(p_test != y_test)[0]\n",
        "i = np.random.choice(misclassified_idx)\n",
        "plt.imshow(x_test[i], cmap='gray')\n",
        "plt.title(\"True label: %s Predicted: %s\" % (labels[y_test[i]], labels[p_test[i]]));"
      ],
      "metadata": {
        "id": "47XdQWdeCvxq",
        "colab": {
          "base_uri": "https://localhost:8080/",
          "height": 281
        },
        "outputId": "026583cf-49ff-4dbc-8044-f3251815b07b"
      },
      "execution_count": 18,
      "outputs": [
        {
          "output_type": "display_data",
          "data": {
            "text/plain": [
              "<Figure size 432x288 with 1 Axes>"
            ],
            "image/png": "[encoded data removed]"
          },
          "metadata": {
            "needs_background": "light"
          }
        }
      ]
    },
    {
      "cell_type": "code",
      "source": [
        "# Show some misclassified examples\n",
        "misclassified_idx = np.where(p_test != y_test)[0]\n",
        "i = np.random.choice(misclassified_idx)\n",
        "plt.imshow(x_test[i], cmap='gray')\n",
        "plt.title(\"True label: %s Predicted: %s\" % (labels[y_test[i]], labels[p_test[i]]));"
      ],
      "metadata": {
        "id": "6Co56O15Cw-O",
        "colab": {
          "base_uri": "https://localhost:8080/",
          "height": 281
        },
        "outputId": "5985af1d-5488-47c6-c977-959e34de5555"
      },
      "execution_count": 19,
      "outputs": [
        {
          "output_type": "display_data",
          "data": {
            "text/plain": [
              "<Figure size 432x288 with 1 Axes>"
            ],
            "image/png": "[encoded data removed]"
          },
          "metadata": {
            "needs_background": "light"
          }
        }
      ]
    },
    {
      "cell_type": "code",
      "source": [
        "# Show some misclassified examples\n",
        "misclassified_idx = np.where(p_test != y_test)[0]\n",
        "i = np.random.choice(misclassified_idx)\n",
        "plt.imshow(x_test[i], cmap='gray')\n",
        "plt.title(\"True label: %s Predicted: %s\" % (labels[y_test[i]], labels[p_test[i]]));"
      ],
      "metadata": {
        "id": "6-gER0qECy2_",
        "colab": {
          "base_uri": "https://localhost:8080/",
          "height": 281
        },
        "outputId": "ad9065d9-a117-45c7-cde2-59d85cf99a3c"
      },
      "execution_count": 20,
      "outputs": [
        {
          "output_type": "display_data",
          "data": {
            "text/plain": [
              "<Figure size 432x288 with 1 Axes>"
            ],
            "image/png": "[encoded data removed]"
          },
          "metadata": {
            "needs_background": "light"
          }
        }
      ]
    },
    {
      "cell_type": "code",
      "source": [
        "# Now that the model is so large, it's useful to summarize it\n",
        "model.summary()"
      ],
      "metadata": {
        "id": "pKvlNhhACz9L",
        "colab": {
          "base_uri": "https://localhost:8080/"
        },
        "outputId": "6e38026b-db94-42ff-fbd7-dd9ce23805f0"
      },
      "execution_count": 21,
      "outputs": [
        {
          "output_type": "stream",
          "name": "stdout",
          "text": [
            "Model: \"model\"\n",
            "_________________________________________________________________\n",
            " Layer (type)                Output Shape              Param #   \n",
            "=================================================================\n",
            " input_2 (InputLayer)        [(None, 32, 32, 3)]       0         \n",
            "                                                                 \n",
            " conv2d_6 (Conv2D)           (None, 32, 32, 32)        896       \n",
            "                                                                 \n",
            " batch_normalization_6 (Batc  (None, 32, 32, 32)       128       \n",
            " hNormalization)                                                 \n",
            "                                                                 \n",
            " conv2d_7 (Conv2D)           (None, 32, 32, 32)        9248      \n",
            "                                                                 \n",
            " batch_normalization_7 (Batc  (None, 32, 32, 32)       128       \n",
            " hNormalization)                                                 \n",
            "                                                                 \n",
            " max_pooling2d_3 (MaxPooling  (None, 16, 16, 32)       0         \n",
            " 2D)                                                             \n",
            "                                                                 \n",
            " conv2d_8 (Conv2D)           (None, 16, 16, 64)        18496     \n",
            "                                                                 \n",
            " batch_normalization_8 (Batc  (None, 16, 16, 64)       256       \n",
            " hNormalization)                                                 \n",
            "                                                                 \n",
            " conv2d_9 (Conv2D)           (None, 16, 16, 64)        36928     \n",
            "                                                                 \n",
            " batch_normalization_9 (Batc  (None, 16, 16, 64)       256       \n",
            " hNormalization)                                                 \n",
            "                                                                 \n",
            " max_pooling2d_4 (MaxPooling  (None, 8, 8, 64)         0         \n",
            " 2D)                                                             \n",
            "                                                                 \n",
            " conv2d_10 (Conv2D)          (None, 8, 8, 128)         73856     \n",
            "                                                                 \n",
            " batch_normalization_10 (Bat  (None, 8, 8, 128)        512       \n",
            " chNormalization)                                                \n",
            "                                                                 \n",
            " conv2d_11 (Conv2D)          (None, 8, 8, 128)         147584    \n",
            "                                                                 \n",
            " batch_normalization_11 (Bat  (None, 8, 8, 128)        512       \n",
            " chNormalization)                                                \n",
            "                                                                 \n",
            " max_pooling2d_5 (MaxPooling  (None, 4, 4, 128)        0         \n",
            " 2D)                                                             \n",
            "                                                                 \n",
            " flatten_1 (Flatten)         (None, 2048)              0         \n",
            "                                                                 \n",
            " dropout_2 (Dropout)         (None, 2048)              0         \n",
            "                                                                 \n",
            " dense_1 (Dense)             (None, 1024)              2098176   \n",
            "                                                                 \n",
            " dropout_3 (Dropout)         (None, 1024)              0         \n",
            "                                                                 \n",
            " dense_2 (Dense)             (None, 10)                10250     \n",
            "                                                                 \n",
            "=================================================================\n",
            "Total params: 2,397,226\n",
            "Trainable params: 2,396,330\n",
            "Non-trainable params: 896\n",
            "_________________________________________________________________\n"
          ]
        }
      ]
    },
    {
      "cell_type": "markdown",
      "source": [
        "**END**"
      ],
      "metadata": {
        "id": "YSIarbu8C2wV"
      }
    }
  ]
}