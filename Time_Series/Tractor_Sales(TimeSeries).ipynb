{
  "nbformat": 4,
  "nbformat_minor": 0,
  "metadata": {
    "colab": {
      "name": "Tractor_Sales(TimeSeries).ipynb",
      "provenance": [],
      "collapsed_sections": [],
      "authorship_tag": "ABX9TyNZuUE4FFjvJpAK+XXE7UUV",
      "include_colab_link": true
    },
    "kernelspec": {
      "name": "python3",
      "display_name": "Python 3"
    },
    "language_info": {
      "name": "python"
    },
    "accelerator": "GPU",
    "gpuClass": "standard"
  },
  "cells": [
    {
      "cell_type": "markdown",
      "metadata": {
        "id": "view-in-github",
        "colab_type": "text"
      },
      "source": [
        "<a href=\"https://colab.research.google.com/github/kabirchhabra/Skillslash/blob/main/Time_Series/Tractor_Sales(TimeSeries).ipynb\" target=\"_parent\"><img src=\"https://colab.research.google.com/assets/colab-badge.svg\" alt=\"Open In Colab\"/></a>"
      ]
    },
    {
      "cell_type": "markdown",
      "source": [
        "#Arima Time Series Analysis"
      ],
      "metadata": {
        "id": "Wso4BfNT-WBr"
      }
    },
    {
      "cell_type": "markdown",
      "source": [
        "In this case study example, we will learn about time series analysis for a manufacturing operation. Time series analysis and modelling have many business and social applications. It is extensively used to foreacst compnay sales, product demand, stock market trends, agricultural production etc.\n",
        "\n",
        "The fundamental idea for time series analysis is to decompose the original time series (sales, stock market trends, etc) into severak independent components. Typically, business time series are divided into following four components:\n",
        "\n",
        "Trend: Overall direction of the series i.e. upwards, downwards etc.\n",
        "\n",
        "Seasonality: monthly or quaterly patterns.\n",
        "\n",
        "Cycle: long-term business cycles, they usually come after 5 or 7 years.\n",
        "\n",
        "Irregular remainder- random noise left after extraction of all the components.\n",
        "\n",
        "Interference of these components produce the final series. Why bother decomposing the original/actual time series into components? It is much easier to forecast the individual regular patterns produced through decomposition of time series than the actual series.\n",
        "\n"
      ],
      "metadata": {
        "id": "LryOpfTC-YIB"
      }
    },
    {
      "cell_type": "markdown",
      "source": [
        "**Step 0: Problem Definition**"
      ],
      "metadata": {
        "id": "tUvFWtRh_WgT"
      }
    },
    {
      "cell_type": "markdown",
      "source": [
        "PowerHorse, a tractor and farm equipment manufacturing company, was established a few years after World War II. The company has shown a consistent growth in its revenue from tractor sales since its inception. However, over the years the company has struggled to keep it's inventory and production cost down because of variablitiy in sales and tractor demand. The management is under enomous pressure from the shareholders and board to reduce the production cost. Additionally, thery are also interested in understanding the impact of their marketing and farmer connect efforts towards overall sales. In the same effort, they have fired us a data science and predicitive analytics consultant.\n",
        "\n",
        "\n",
        "We will develop an ARIMA model to forecast sale/demand of tractor for next 3 years. Additionally, we will also investigate the impact of marketing prograzm on sales by using an exogenous variable ARIMA model. As a part of this project, one of the production units we are analyzing is based in South East Asia. This unit is completely independent and caters to neighbouring geographies. This unit is just a decade and a half old. In 2014, they captured 11% of the market-share, a 14% increase from the previous year. Howeverm being a new unit they have very little bargaining power with their suppliers to implement Just-In_time (JIT) manufactring principles that have worked really well in PowerHorse's base location. Hence, they want to be on top of their production planning to mantain healthy business margins. Monthly, sales forecast is the first step we have suggested to this unit towards effective inventory management."
      ],
      "metadata": {
        "id": "oHuCoVnV_Zuq"
      }
    },
    {
      "cell_type": "code",
      "source": [
        "import warnings\n",
        "import itertools\n",
        "import pandas as pd\n",
        "import numpy as np\n",
        "import statsmodels.api as sm\n",
        "import statsmodels.tsa.api as smt\n",
        "import statsmodels.formula.api as smf\n",
        "from io import StringIO\n",
        "import requests\n",
        "import matplotlib.pyplot as plt"
      ],
      "metadata": {
        "colab": {
          "base_uri": "https://localhost:8080/"
        },
        "id": "l02Mhsp7BIiM",
        "outputId": "bd4ac5dd-8b32-47e8-f94f-ba8af0bf6a6a"
      },
      "execution_count": 1,
      "outputs": [
        {
          "output_type": "stream",
          "name": "stderr",
          "text": [
            "/usr/local/lib/python3.7/dist-packages/statsmodels/tools/_testing.py:19: FutureWarning: pandas.util.testing is deprecated. Use the functions in the public API at pandas.testing instead.\n",
            "  import pandas.util.testing as tm\n"
          ]
        }
      ]
    },
    {
      "cell_type": "code",
      "source": [
        "df = pd.read_csv('https://raw.githubusercontent.com/himankjn/Sales_Forecast/master/Python/Tractor-Sales.csv')\n",
        "df.head()"
      ],
      "metadata": {
        "colab": {
          "base_uri": "https://localhost:8080/",
          "height": 206
        },
        "id": "jZSxi7ziBQ76",
        "outputId": "e81e2f00-1a9c-498c-d9f2-251fd8101e67"
      },
      "execution_count": 2,
      "outputs": [
        {
          "output_type": "execute_result",
          "data": {
            "text/plain": [
              "  Month-Year  Number of Tractor Sold\n",
              "0     Jan-03                     141\n",
              "1     Feb-03                     157\n",
              "2     Mar-03                     185\n",
              "3     Apr-03                     199\n",
              "4     May-03                     203"
            ],
            "text/html": [
              "\n",
              "  <div id=\"df-2e97f808-93c0-4539-b1da-d18a31e83a74\">\n",
              "    <div class=\"colab-df-container\">\n",
              "      <div>\n",
              "<style scoped>\n",
              "    .dataframe tbody tr th:only-of-type {\n",
              "        vertical-align: middle;\n",
              "    }\n",
              "\n",
              "    .dataframe tbody tr th {\n",
              "        vertical-align: top;\n",
              "    }\n",
              "\n",
              "    .dataframe thead th {\n",
              "        text-align: right;\n",
              "    }\n",
              "</style>\n",
              "<table border=\"1\" class=\"dataframe\">\n",
              "  <thead>\n",
              "    <tr style=\"text-align: right;\">\n",
              "      <th></th>\n",
              "      <th>Month-Year</th>\n",
              "      <th>Number of Tractor Sold</th>\n",
              "    </tr>\n",
              "  </thead>\n",
              "  <tbody>\n",
              "    <tr>\n",
              "      <th>0</th>\n",
              "      <td>Jan-03</td>\n",
              "      <td>141</td>\n",
              "    </tr>\n",
              "    <tr>\n",
              "      <th>1</th>\n",
              "      <td>Feb-03</td>\n",
              "      <td>157</td>\n",
              "    </tr>\n",
              "    <tr>\n",
              "      <th>2</th>\n",
              "      <td>Mar-03</td>\n",
              "      <td>185</td>\n",
              "    </tr>\n",
              "    <tr>\n",
              "      <th>3</th>\n",
              "      <td>Apr-03</td>\n",
              "      <td>199</td>\n",
              "    </tr>\n",
              "    <tr>\n",
              "      <th>4</th>\n",
              "      <td>May-03</td>\n",
              "      <td>203</td>\n",
              "    </tr>\n",
              "  </tbody>\n",
              "</table>\n",
              "</div>\n",
              "      <button class=\"colab-df-convert\" onclick=\"convertToInteractive('df-2e97f808-93c0-4539-b1da-d18a31e83a74')\"\n",
              "              title=\"Convert this dataframe to an interactive table.\"\n",
              "              style=\"display:none;\">\n",
              "        \n",
              "  <svg xmlns=\"http://www.w3.org/2000/svg\" height=\"24px\"viewBox=\"0 0 24 24\"\n",
              "       width=\"24px\">\n",
              "    <path d=\"M0 0h24v24H0V0z\" fill=\"none\"/>\n",
              "    <path d=\"M18.56 5.44l.94 2.06.94-2.06 2.06-.94-2.06-.94-.94-2.06-.94 2.06-2.06.94zm-11 1L8.5 8.5l.94-2.06 2.06-.94-2.06-.94L8.5 2.5l-.94 2.06-2.06.94zm10 10l.94 2.06.94-2.06 2.06-.94-2.06-.94-.94-2.06-.94 2.06-2.06.94z\"/><path d=\"M17.41 7.96l-1.37-1.37c-.4-.4-.92-.59-1.43-.59-.52 0-1.04.2-1.43.59L10.3 9.45l-7.72 7.72c-.78.78-.78 2.05 0 2.83L4 21.41c.39.39.9.59 1.41.59.51 0 1.02-.2 1.41-.59l7.78-7.78 2.81-2.81c.8-.78.8-2.07 0-2.86zM5.41 20L4 18.59l7.72-7.72 1.47 1.35L5.41 20z\"/>\n",
              "  </svg>\n",
              "      </button>\n",
              "      \n",
              "  <style>\n",
              "    .colab-df-container {\n",
              "      display:flex;\n",
              "      flex-wrap:wrap;\n",
              "      gap: 12px;\n",
              "    }\n",
              "\n",
              "    .colab-df-convert {\n",
              "      background-color: #E8F0FE;\n",
              "      border: none;\n",
              "      border-radius: 50%;\n",
              "      cursor: pointer;\n",
              "      display: none;\n",
              "      fill: #1967D2;\n",
              "      height: 32px;\n",
              "      padding: 0 0 0 0;\n",
              "      width: 32px;\n",
              "    }\n",
              "\n",
              "    .colab-df-convert:hover {\n",
              "      background-color: #E2EBFA;\n",
              "      box-shadow: 0px 1px 2px rgba(60, 64, 67, 0.3), 0px 1px 3px 1px rgba(60, 64, 67, 0.15);\n",
              "      fill: #174EA6;\n",
              "    }\n",
              "\n",
              "    [theme=dark] .colab-df-convert {\n",
              "      background-color: #3B4455;\n",
              "      fill: #D2E3FC;\n",
              "    }\n",
              "\n",
              "    [theme=dark] .colab-df-convert:hover {\n",
              "      background-color: #434B5C;\n",
              "      box-shadow: 0px 1px 3px 1px rgba(0, 0, 0, 0.15);\n",
              "      filter: drop-shadow(0px 1px 2px rgba(0, 0, 0, 0.3));\n",
              "      fill: #FFFFFF;\n",
              "    }\n",
              "  </style>\n",
              "\n",
              "      <script>\n",
              "        const buttonEl =\n",
              "          document.querySelector('#df-2e97f808-93c0-4539-b1da-d18a31e83a74 button.colab-df-convert');\n",
              "        buttonEl.style.display =\n",
              "          google.colab.kernel.accessAllowed ? 'block' : 'none';\n",
              "\n",
              "        async function convertToInteractive(key) {\n",
              "          const element = document.querySelector('#df-2e97f808-93c0-4539-b1da-d18a31e83a74');\n",
              "          const dataTable =\n",
              "            await google.colab.kernel.invokeFunction('convertToInteractive',\n",
              "                                                     [key], {});\n",
              "          if (!dataTable) return;\n",
              "\n",
              "          const docLinkHtml = 'Like what you see? Visit the ' +\n",
              "            '<a target=\"_blank\" href=https://colab.research.google.com/notebooks/data_table.ipynb>data table notebook</a>'\n",
              "            + ' to learn more about interactive tables.';\n",
              "          element.innerHTML = '';\n",
              "          dataTable['output_type'] = 'display_data';\n",
              "          await google.colab.output.renderOutput(dataTable, element);\n",
              "          const docLink = document.createElement('div');\n",
              "          docLink.innerHTML = docLinkHtml;\n",
              "          element.appendChild(docLink);\n",
              "        }\n",
              "      </script>\n",
              "    </div>\n",
              "  </div>\n",
              "  "
            ]
          },
          "metadata": {},
          "execution_count": 2
        }
      ]
    },
    {
      "cell_type": "code",
      "source": [
        "df.tail()"
      ],
      "metadata": {
        "colab": {
          "base_uri": "https://localhost:8080/",
          "height": 206
        },
        "id": "wbjCEq9aCTwF",
        "outputId": "6e4d1300-f20b-4665-c187-6f7bd8bc95f5"
      },
      "execution_count": 3,
      "outputs": [
        {
          "output_type": "execute_result",
          "data": {
            "text/plain": [
              "    Month-Year  Number of Tractor Sold\n",
              "139     Aug-14                     848\n",
              "140     Sep-14                     640\n",
              "141     Oct-14                     581\n",
              "142     Nov-14                     519\n",
              "143     Dec-14                     605"
            ],
            "text/html": [
              "\n",
              "  <div id=\"df-4aa0b30a-c85b-45f0-bb3c-50e03a43b8e2\">\n",
              "    <div class=\"colab-df-container\">\n",
              "      <div>\n",
              "<style scoped>\n",
              "    .dataframe tbody tr th:only-of-type {\n",
              "        vertical-align: middle;\n",
              "    }\n",
              "\n",
              "    .dataframe tbody tr th {\n",
              "        vertical-align: top;\n",
              "    }\n",
              "\n",
              "    .dataframe thead th {\n",
              "        text-align: right;\n",
              "    }\n",
              "</style>\n",
              "<table border=\"1\" class=\"dataframe\">\n",
              "  <thead>\n",
              "    <tr style=\"text-align: right;\">\n",
              "      <th></th>\n",
              "      <th>Month-Year</th>\n",
              "      <th>Number of Tractor Sold</th>\n",
              "    </tr>\n",
              "  </thead>\n",
              "  <tbody>\n",
              "    <tr>\n",
              "      <th>139</th>\n",
              "      <td>Aug-14</td>\n",
              "      <td>848</td>\n",
              "    </tr>\n",
              "    <tr>\n",
              "      <th>140</th>\n",
              "      <td>Sep-14</td>\n",
              "      <td>640</td>\n",
              "    </tr>\n",
              "    <tr>\n",
              "      <th>141</th>\n",
              "      <td>Oct-14</td>\n",
              "      <td>581</td>\n",
              "    </tr>\n",
              "    <tr>\n",
              "      <th>142</th>\n",
              "      <td>Nov-14</td>\n",
              "      <td>519</td>\n",
              "    </tr>\n",
              "    <tr>\n",
              "      <th>143</th>\n",
              "      <td>Dec-14</td>\n",
              "      <td>605</td>\n",
              "    </tr>\n",
              "  </tbody>\n",
              "</table>\n",
              "</div>\n",
              "      <button class=\"colab-df-convert\" onclick=\"convertToInteractive('df-4aa0b30a-c85b-45f0-bb3c-50e03a43b8e2')\"\n",
              "              title=\"Convert this dataframe to an interactive table.\"\n",
              "              style=\"display:none;\">\n",
              "        \n",
              "  <svg xmlns=\"http://www.w3.org/2000/svg\" height=\"24px\"viewBox=\"0 0 24 24\"\n",
              "       width=\"24px\">\n",
              "    <path d=\"M0 0h24v24H0V0z\" fill=\"none\"/>\n",
              "    <path d=\"M18.56 5.44l.94 2.06.94-2.06 2.06-.94-2.06-.94-.94-2.06-.94 2.06-2.06.94zm-11 1L8.5 8.5l.94-2.06 2.06-.94-2.06-.94L8.5 2.5l-.94 2.06-2.06.94zm10 10l.94 2.06.94-2.06 2.06-.94-2.06-.94-.94-2.06-.94 2.06-2.06.94z\"/><path d=\"M17.41 7.96l-1.37-1.37c-.4-.4-.92-.59-1.43-.59-.52 0-1.04.2-1.43.59L10.3 9.45l-7.72 7.72c-.78.78-.78 2.05 0 2.83L4 21.41c.39.39.9.59 1.41.59.51 0 1.02-.2 1.41-.59l7.78-7.78 2.81-2.81c.8-.78.8-2.07 0-2.86zM5.41 20L4 18.59l7.72-7.72 1.47 1.35L5.41 20z\"/>\n",
              "  </svg>\n",
              "      </button>\n",
              "      \n",
              "  <style>\n",
              "    .colab-df-container {\n",
              "      display:flex;\n",
              "      flex-wrap:wrap;\n",
              "      gap: 12px;\n",
              "    }\n",
              "\n",
              "    .colab-df-convert {\n",
              "      background-color: #E8F0FE;\n",
              "      border: none;\n",
              "      border-radius: 50%;\n",
              "      cursor: pointer;\n",
              "      display: none;\n",
              "      fill: #1967D2;\n",
              "      height: 32px;\n",
              "      padding: 0 0 0 0;\n",
              "      width: 32px;\n",
              "    }\n",
              "\n",
              "    .colab-df-convert:hover {\n",
              "      background-color: #E2EBFA;\n",
              "      box-shadow: 0px 1px 2px rgba(60, 64, 67, 0.3), 0px 1px 3px 1px rgba(60, 64, 67, 0.15);\n",
              "      fill: #174EA6;\n",
              "    }\n",
              "\n",
              "    [theme=dark] .colab-df-convert {\n",
              "      background-color: #3B4455;\n",
              "      fill: #D2E3FC;\n",
              "    }\n",
              "\n",
              "    [theme=dark] .colab-df-convert:hover {\n",
              "      background-color: #434B5C;\n",
              "      box-shadow: 0px 1px 3px 1px rgba(0, 0, 0, 0.15);\n",
              "      filter: drop-shadow(0px 1px 2px rgba(0, 0, 0, 0.3));\n",
              "      fill: #FFFFFF;\n",
              "    }\n",
              "  </style>\n",
              "\n",
              "      <script>\n",
              "        const buttonEl =\n",
              "          document.querySelector('#df-4aa0b30a-c85b-45f0-bb3c-50e03a43b8e2 button.colab-df-convert');\n",
              "        buttonEl.style.display =\n",
              "          google.colab.kernel.accessAllowed ? 'block' : 'none';\n",
              "\n",
              "        async function convertToInteractive(key) {\n",
              "          const element = document.querySelector('#df-4aa0b30a-c85b-45f0-bb3c-50e03a43b8e2');\n",
              "          const dataTable =\n",
              "            await google.colab.kernel.invokeFunction('convertToInteractive',\n",
              "                                                     [key], {});\n",
              "          if (!dataTable) return;\n",
              "\n",
              "          const docLinkHtml = 'Like what you see? Visit the ' +\n",
              "            '<a target=\"_blank\" href=https://colab.research.google.com/notebooks/data_table.ipynb>data table notebook</a>'\n",
              "            + ' to learn more about interactive tables.';\n",
              "          element.innerHTML = '';\n",
              "          dataTable['output_type'] = 'display_data';\n",
              "          await google.colab.output.renderOutput(dataTable, element);\n",
              "          const docLink = document.createElement('div');\n",
              "          docLink.innerHTML = docLinkHtml;\n",
              "          element.appendChild(docLink);\n",
              "        }\n",
              "      </script>\n",
              "    </div>\n",
              "  </div>\n",
              "  "
            ]
          },
          "metadata": {},
          "execution_count": 3
        }
      ]
    },
    {
      "cell_type": "markdown",
      "source": [
        "We have the data from Jan,2003 to Dec,2014"
      ],
      "metadata": {
        "id": "vFGygfNpCUm7"
      }
    },
    {
      "cell_type": "code",
      "source": [
        "df.info()"
      ],
      "metadata": {
        "colab": {
          "base_uri": "https://localhost:8080/"
        },
        "id": "K8uvaPVQCLeb",
        "outputId": "dd402fbd-1d43-4380-8886-2681ab2fb184"
      },
      "execution_count": 4,
      "outputs": [
        {
          "output_type": "stream",
          "name": "stdout",
          "text": [
            "<class 'pandas.core.frame.DataFrame'>\n",
            "RangeIndex: 144 entries, 0 to 143\n",
            "Data columns (total 2 columns):\n",
            " #   Column                  Non-Null Count  Dtype \n",
            "---  ------                  --------------  ----- \n",
            " 0   Month-Year              144 non-null    object\n",
            " 1   Number of Tractor Sold  144 non-null    int64 \n",
            "dtypes: int64(1), object(1)\n",
            "memory usage: 2.4+ KB\n"
          ]
        }
      ]
    },
    {
      "cell_type": "code",
      "source": [
        "dates = pd.date_range(start='2003-01-01', freq='MS', periods=len(df))\n",
        "dates"
      ],
      "metadata": {
        "colab": {
          "base_uri": "https://localhost:8080/"
        },
        "id": "wpancef4COd6",
        "outputId": "fe0b5246-423f-4499-f9d5-da2c2c102b5b"
      },
      "execution_count": 5,
      "outputs": [
        {
          "output_type": "execute_result",
          "data": {
            "text/plain": [
              "DatetimeIndex(['2003-01-01', '2003-02-01', '2003-03-01', '2003-04-01',\n",
              "               '2003-05-01', '2003-06-01', '2003-07-01', '2003-08-01',\n",
              "               '2003-09-01', '2003-10-01',\n",
              "               ...\n",
              "               '2014-03-01', '2014-04-01', '2014-05-01', '2014-06-01',\n",
              "               '2014-07-01', '2014-08-01', '2014-09-01', '2014-10-01',\n",
              "               '2014-11-01', '2014-12-01'],\n",
              "              dtype='datetime64[ns]', length=144, freq='MS')"
            ]
          },
          "metadata": {},
          "execution_count": 5
        }
      ]
    },
    {
      "cell_type": "code",
      "source": [
        "import calendar\n",
        "df['Months'] = dates.month\n",
        "df['Months'] = df['Months'].apply(lambda x:calendar.month_abbr[x]) #we will get(Jan,Feb) separate months\n",
        "df['Year'] = dates.year"
      ],
      "metadata": {
        "id": "o_0YecWUCftZ"
      },
      "execution_count": 6,
      "outputs": []
    },
    {
      "cell_type": "code",
      "source": [
        "df.head()"
      ],
      "metadata": {
        "colab": {
          "base_uri": "https://localhost:8080/",
          "height": 206
        },
        "id": "pOFTWJ6uCuS5",
        "outputId": "213bef21-31ec-4d11-d781-1dc0000bfeb1"
      },
      "execution_count": 7,
      "outputs": [
        {
          "output_type": "execute_result",
          "data": {
            "text/plain": [
              "  Month-Year  Number of Tractor Sold Months  Year\n",
              "0     Jan-03                     141    Jan  2003\n",
              "1     Feb-03                     157    Feb  2003\n",
              "2     Mar-03                     185    Mar  2003\n",
              "3     Apr-03                     199    Apr  2003\n",
              "4     May-03                     203    May  2003"
            ],
            "text/html": [
              "\n",
              "  <div id=\"df-4d847eed-cc37-4ff4-9b89-04e0f9547bfd\">\n",
              "    <div class=\"colab-df-container\">\n",
              "      <div>\n",
              "<style scoped>\n",
              "    .dataframe tbody tr th:only-of-type {\n",
              "        vertical-align: middle;\n",
              "    }\n",
              "\n",
              "    .dataframe tbody tr th {\n",
              "        vertical-align: top;\n",
              "    }\n",
              "\n",
              "    .dataframe thead th {\n",
              "        text-align: right;\n",
              "    }\n",
              "</style>\n",
              "<table border=\"1\" class=\"dataframe\">\n",
              "  <thead>\n",
              "    <tr style=\"text-align: right;\">\n",
              "      <th></th>\n",
              "      <th>Month-Year</th>\n",
              "      <th>Number of Tractor Sold</th>\n",
              "      <th>Months</th>\n",
              "      <th>Year</th>\n",
              "    </tr>\n",
              "  </thead>\n",
              "  <tbody>\n",
              "    <tr>\n",
              "      <th>0</th>\n",
              "      <td>Jan-03</td>\n",
              "      <td>141</td>\n",
              "      <td>Jan</td>\n",
              "      <td>2003</td>\n",
              "    </tr>\n",
              "    <tr>\n",
              "      <th>1</th>\n",
              "      <td>Feb-03</td>\n",
              "      <td>157</td>\n",
              "      <td>Feb</td>\n",
              "      <td>2003</td>\n",
              "    </tr>\n",
              "    <tr>\n",
              "      <th>2</th>\n",
              "      <td>Mar-03</td>\n",
              "      <td>185</td>\n",
              "      <td>Mar</td>\n",
              "      <td>2003</td>\n",
              "    </tr>\n",
              "    <tr>\n",
              "      <th>3</th>\n",
              "      <td>Apr-03</td>\n",
              "      <td>199</td>\n",
              "      <td>Apr</td>\n",
              "      <td>2003</td>\n",
              "    </tr>\n",
              "    <tr>\n",
              "      <th>4</th>\n",
              "      <td>May-03</td>\n",
              "      <td>203</td>\n",
              "      <td>May</td>\n",
              "      <td>2003</td>\n",
              "    </tr>\n",
              "  </tbody>\n",
              "</table>\n",
              "</div>\n",
              "      <button class=\"colab-df-convert\" onclick=\"convertToInteractive('df-4d847eed-cc37-4ff4-9b89-04e0f9547bfd')\"\n",
              "              title=\"Convert this dataframe to an interactive table.\"\n",
              "              style=\"display:none;\">\n",
              "        \n",
              "  <svg xmlns=\"http://www.w3.org/2000/svg\" height=\"24px\"viewBox=\"0 0 24 24\"\n",
              "       width=\"24px\">\n",
              "    <path d=\"M0 0h24v24H0V0z\" fill=\"none\"/>\n",
              "    <path d=\"M18.56 5.44l.94 2.06.94-2.06 2.06-.94-2.06-.94-.94-2.06-.94 2.06-2.06.94zm-11 1L8.5 8.5l.94-2.06 2.06-.94-2.06-.94L8.5 2.5l-.94 2.06-2.06.94zm10 10l.94 2.06.94-2.06 2.06-.94-2.06-.94-.94-2.06-.94 2.06-2.06.94z\"/><path d=\"M17.41 7.96l-1.37-1.37c-.4-.4-.92-.59-1.43-.59-.52 0-1.04.2-1.43.59L10.3 9.45l-7.72 7.72c-.78.78-.78 2.05 0 2.83L4 21.41c.39.39.9.59 1.41.59.51 0 1.02-.2 1.41-.59l7.78-7.78 2.81-2.81c.8-.78.8-2.07 0-2.86zM5.41 20L4 18.59l7.72-7.72 1.47 1.35L5.41 20z\"/>\n",
              "  </svg>\n",
              "      </button>\n",
              "      \n",
              "  <style>\n",
              "    .colab-df-container {\n",
              "      display:flex;\n",
              "      flex-wrap:wrap;\n",
              "      gap: 12px;\n",
              "    }\n",
              "\n",
              "    .colab-df-convert {\n",
              "      background-color: #E8F0FE;\n",
              "      border: none;\n",
              "      border-radius: 50%;\n",
              "      cursor: pointer;\n",
              "      display: none;\n",
              "      fill: #1967D2;\n",
              "      height: 32px;\n",
              "      padding: 0 0 0 0;\n",
              "      width: 32px;\n",
              "    }\n",
              "\n",
              "    .colab-df-convert:hover {\n",
              "      background-color: #E2EBFA;\n",
              "      box-shadow: 0px 1px 2px rgba(60, 64, 67, 0.3), 0px 1px 3px 1px rgba(60, 64, 67, 0.15);\n",
              "      fill: #174EA6;\n",
              "    }\n",
              "\n",
              "    [theme=dark] .colab-df-convert {\n",
              "      background-color: #3B4455;\n",
              "      fill: #D2E3FC;\n",
              "    }\n",
              "\n",
              "    [theme=dark] .colab-df-convert:hover {\n",
              "      background-color: #434B5C;\n",
              "      box-shadow: 0px 1px 3px 1px rgba(0, 0, 0, 0.15);\n",
              "      filter: drop-shadow(0px 1px 2px rgba(0, 0, 0, 0.3));\n",
              "      fill: #FFFFFF;\n",
              "    }\n",
              "  </style>\n",
              "\n",
              "      <script>\n",
              "        const buttonEl =\n",
              "          document.querySelector('#df-4d847eed-cc37-4ff4-9b89-04e0f9547bfd button.colab-df-convert');\n",
              "        buttonEl.style.display =\n",
              "          google.colab.kernel.accessAllowed ? 'block' : 'none';\n",
              "\n",
              "        async function convertToInteractive(key) {\n",
              "          const element = document.querySelector('#df-4d847eed-cc37-4ff4-9b89-04e0f9547bfd');\n",
              "          const dataTable =\n",
              "            await google.colab.kernel.invokeFunction('convertToInteractive',\n",
              "                                                     [key], {});\n",
              "          if (!dataTable) return;\n",
              "\n",
              "          const docLinkHtml = 'Like what you see? Visit the ' +\n",
              "            '<a target=\"_blank\" href=https://colab.research.google.com/notebooks/data_table.ipynb>data table notebook</a>'\n",
              "            + ' to learn more about interactive tables.';\n",
              "          element.innerHTML = '';\n",
              "          dataTable['output_type'] = 'display_data';\n",
              "          await google.colab.output.renderOutput(dataTable, element);\n",
              "          const docLink = document.createElement('div');\n",
              "          docLink.innerHTML = docLinkHtml;\n",
              "          element.appendChild(docLink);\n",
              "        }\n",
              "      </script>\n",
              "    </div>\n",
              "  </div>\n",
              "  "
            ]
          },
          "metadata": {},
          "execution_count": 7
        }
      ]
    },
    {
      "cell_type": "code",
      "source": [
        "df.drop(['Month-Year'], axis=1, inplace=True)"
      ],
      "metadata": {
        "id": "LyfmqreoCuwn"
      },
      "execution_count": 8,
      "outputs": []
    },
    {
      "cell_type": "code",
      "source": [
        "df.head()"
      ],
      "metadata": {
        "colab": {
          "base_uri": "https://localhost:8080/",
          "height": 206
        },
        "id": "VRzUw9FSC4GF",
        "outputId": "0559d0c3-325a-4cb9-dd6e-58c0bdf7c33d"
      },
      "execution_count": 9,
      "outputs": [
        {
          "output_type": "execute_result",
          "data": {
            "text/plain": [
              "   Number of Tractor Sold Months  Year\n",
              "0                     141    Jan  2003\n",
              "1                     157    Feb  2003\n",
              "2                     185    Mar  2003\n",
              "3                     199    Apr  2003\n",
              "4                     203    May  2003"
            ],
            "text/html": [
              "\n",
              "  <div id=\"df-a0db0b74-5814-4267-a1b0-8907c35ea19d\">\n",
              "    <div class=\"colab-df-container\">\n",
              "      <div>\n",
              "<style scoped>\n",
              "    .dataframe tbody tr th:only-of-type {\n",
              "        vertical-align: middle;\n",
              "    }\n",
              "\n",
              "    .dataframe tbody tr th {\n",
              "        vertical-align: top;\n",
              "    }\n",
              "\n",
              "    .dataframe thead th {\n",
              "        text-align: right;\n",
              "    }\n",
              "</style>\n",
              "<table border=\"1\" class=\"dataframe\">\n",
              "  <thead>\n",
              "    <tr style=\"text-align: right;\">\n",
              "      <th></th>\n",
              "      <th>Number of Tractor Sold</th>\n",
              "      <th>Months</th>\n",
              "      <th>Year</th>\n",
              "    </tr>\n",
              "  </thead>\n",
              "  <tbody>\n",
              "    <tr>\n",
              "      <th>0</th>\n",
              "      <td>141</td>\n",
              "      <td>Jan</td>\n",
              "      <td>2003</td>\n",
              "    </tr>\n",
              "    <tr>\n",
              "      <th>1</th>\n",
              "      <td>157</td>\n",
              "      <td>Feb</td>\n",
              "      <td>2003</td>\n",
              "    </tr>\n",
              "    <tr>\n",
              "      <th>2</th>\n",
              "      <td>185</td>\n",
              "      <td>Mar</td>\n",
              "      <td>2003</td>\n",
              "    </tr>\n",
              "    <tr>\n",
              "      <th>3</th>\n",
              "      <td>199</td>\n",
              "      <td>Apr</td>\n",
              "      <td>2003</td>\n",
              "    </tr>\n",
              "    <tr>\n",
              "      <th>4</th>\n",
              "      <td>203</td>\n",
              "      <td>May</td>\n",
              "      <td>2003</td>\n",
              "    </tr>\n",
              "  </tbody>\n",
              "</table>\n",
              "</div>\n",
              "      <button class=\"colab-df-convert\" onclick=\"convertToInteractive('df-a0db0b74-5814-4267-a1b0-8907c35ea19d')\"\n",
              "              title=\"Convert this dataframe to an interactive table.\"\n",
              "              style=\"display:none;\">\n",
              "        \n",
              "  <svg xmlns=\"http://www.w3.org/2000/svg\" height=\"24px\"viewBox=\"0 0 24 24\"\n",
              "       width=\"24px\">\n",
              "    <path d=\"M0 0h24v24H0V0z\" fill=\"none\"/>\n",
              "    <path d=\"M18.56 5.44l.94 2.06.94-2.06 2.06-.94-2.06-.94-.94-2.06-.94 2.06-2.06.94zm-11 1L8.5 8.5l.94-2.06 2.06-.94-2.06-.94L8.5 2.5l-.94 2.06-2.06.94zm10 10l.94 2.06.94-2.06 2.06-.94-2.06-.94-.94-2.06-.94 2.06-2.06.94z\"/><path d=\"M17.41 7.96l-1.37-1.37c-.4-.4-.92-.59-1.43-.59-.52 0-1.04.2-1.43.59L10.3 9.45l-7.72 7.72c-.78.78-.78 2.05 0 2.83L4 21.41c.39.39.9.59 1.41.59.51 0 1.02-.2 1.41-.59l7.78-7.78 2.81-2.81c.8-.78.8-2.07 0-2.86zM5.41 20L4 18.59l7.72-7.72 1.47 1.35L5.41 20z\"/>\n",
              "  </svg>\n",
              "      </button>\n",
              "      \n",
              "  <style>\n",
              "    .colab-df-container {\n",
              "      display:flex;\n",
              "      flex-wrap:wrap;\n",
              "      gap: 12px;\n",
              "    }\n",
              "\n",
              "    .colab-df-convert {\n",
              "      background-color: #E8F0FE;\n",
              "      border: none;\n",
              "      border-radius: 50%;\n",
              "      cursor: pointer;\n",
              "      display: none;\n",
              "      fill: #1967D2;\n",
              "      height: 32px;\n",
              "      padding: 0 0 0 0;\n",
              "      width: 32px;\n",
              "    }\n",
              "\n",
              "    .colab-df-convert:hover {\n",
              "      background-color: #E2EBFA;\n",
              "      box-shadow: 0px 1px 2px rgba(60, 64, 67, 0.3), 0px 1px 3px 1px rgba(60, 64, 67, 0.15);\n",
              "      fill: #174EA6;\n",
              "    }\n",
              "\n",
              "    [theme=dark] .colab-df-convert {\n",
              "      background-color: #3B4455;\n",
              "      fill: #D2E3FC;\n",
              "    }\n",
              "\n",
              "    [theme=dark] .colab-df-convert:hover {\n",
              "      background-color: #434B5C;\n",
              "      box-shadow: 0px 1px 3px 1px rgba(0, 0, 0, 0.15);\n",
              "      filter: drop-shadow(0px 1px 2px rgba(0, 0, 0, 0.3));\n",
              "      fill: #FFFFFF;\n",
              "    }\n",
              "  </style>\n",
              "\n",
              "      <script>\n",
              "        const buttonEl =\n",
              "          document.querySelector('#df-a0db0b74-5814-4267-a1b0-8907c35ea19d button.colab-df-convert');\n",
              "        buttonEl.style.display =\n",
              "          google.colab.kernel.accessAllowed ? 'block' : 'none';\n",
              "\n",
              "        async function convertToInteractive(key) {\n",
              "          const element = document.querySelector('#df-a0db0b74-5814-4267-a1b0-8907c35ea19d');\n",
              "          const dataTable =\n",
              "            await google.colab.kernel.invokeFunction('convertToInteractive',\n",
              "                                                     [key], {});\n",
              "          if (!dataTable) return;\n",
              "\n",
              "          const docLinkHtml = 'Like what you see? Visit the ' +\n",
              "            '<a target=\"_blank\" href=https://colab.research.google.com/notebooks/data_table.ipynb>data table notebook</a>'\n",
              "            + ' to learn more about interactive tables.';\n",
              "          element.innerHTML = '';\n",
              "          dataTable['output_type'] = 'display_data';\n",
              "          await google.colab.output.renderOutput(dataTable, element);\n",
              "          const docLink = document.createElement('div');\n",
              "          docLink.innerHTML = docLinkHtml;\n",
              "          element.appendChild(docLink);\n",
              "        }\n",
              "      </script>\n",
              "    </div>\n",
              "  </div>\n",
              "  "
            ]
          },
          "metadata": {},
          "execution_count": 9
        }
      ]
    },
    {
      "cell_type": "code",
      "source": [
        "#Renaming\n",
        "df.rename(columns={'Number of Tractor Sold':'Tractor-Sales'},inplace=True)"
      ],
      "metadata": {
        "id": "g1ZcMGowC4gN"
      },
      "execution_count": 10,
      "outputs": []
    },
    {
      "cell_type": "code",
      "source": [
        "df.head()"
      ],
      "metadata": {
        "colab": {
          "base_uri": "https://localhost:8080/",
          "height": 206
        },
        "id": "Sgxt1JM5DC9z",
        "outputId": "c3b258e4-d158-41ed-fece-bacc22501530"
      },
      "execution_count": 11,
      "outputs": [
        {
          "output_type": "execute_result",
          "data": {
            "text/plain": [
              "   Tractor-Sales Months  Year\n",
              "0            141    Jan  2003\n",
              "1            157    Feb  2003\n",
              "2            185    Mar  2003\n",
              "3            199    Apr  2003\n",
              "4            203    May  2003"
            ],
            "text/html": [
              "\n",
              "  <div id=\"df-c1e8e628-4114-4af3-bee2-9b8c06a64623\">\n",
              "    <div class=\"colab-df-container\">\n",
              "      <div>\n",
              "<style scoped>\n",
              "    .dataframe tbody tr th:only-of-type {\n",
              "        vertical-align: middle;\n",
              "    }\n",
              "\n",
              "    .dataframe tbody tr th {\n",
              "        vertical-align: top;\n",
              "    }\n",
              "\n",
              "    .dataframe thead th {\n",
              "        text-align: right;\n",
              "    }\n",
              "</style>\n",
              "<table border=\"1\" class=\"dataframe\">\n",
              "  <thead>\n",
              "    <tr style=\"text-align: right;\">\n",
              "      <th></th>\n",
              "      <th>Tractor-Sales</th>\n",
              "      <th>Months</th>\n",
              "      <th>Year</th>\n",
              "    </tr>\n",
              "  </thead>\n",
              "  <tbody>\n",
              "    <tr>\n",
              "      <th>0</th>\n",
              "      <td>141</td>\n",
              "      <td>Jan</td>\n",
              "      <td>2003</td>\n",
              "    </tr>\n",
              "    <tr>\n",
              "      <th>1</th>\n",
              "      <td>157</td>\n",
              "      <td>Feb</td>\n",
              "      <td>2003</td>\n",
              "    </tr>\n",
              "    <tr>\n",
              "      <th>2</th>\n",
              "      <td>185</td>\n",
              "      <td>Mar</td>\n",
              "      <td>2003</td>\n",
              "    </tr>\n",
              "    <tr>\n",
              "      <th>3</th>\n",
              "      <td>199</td>\n",
              "      <td>Apr</td>\n",
              "      <td>2003</td>\n",
              "    </tr>\n",
              "    <tr>\n",
              "      <th>4</th>\n",
              "      <td>203</td>\n",
              "      <td>May</td>\n",
              "      <td>2003</td>\n",
              "    </tr>\n",
              "  </tbody>\n",
              "</table>\n",
              "</div>\n",
              "      <button class=\"colab-df-convert\" onclick=\"convertToInteractive('df-c1e8e628-4114-4af3-bee2-9b8c06a64623')\"\n",
              "              title=\"Convert this dataframe to an interactive table.\"\n",
              "              style=\"display:none;\">\n",
              "        \n",
              "  <svg xmlns=\"http://www.w3.org/2000/svg\" height=\"24px\"viewBox=\"0 0 24 24\"\n",
              "       width=\"24px\">\n",
              "    <path d=\"M0 0h24v24H0V0z\" fill=\"none\"/>\n",
              "    <path d=\"M18.56 5.44l.94 2.06.94-2.06 2.06-.94-2.06-.94-.94-2.06-.94 2.06-2.06.94zm-11 1L8.5 8.5l.94-2.06 2.06-.94-2.06-.94L8.5 2.5l-.94 2.06-2.06.94zm10 10l.94 2.06.94-2.06 2.06-.94-2.06-.94-.94-2.06-.94 2.06-2.06.94z\"/><path d=\"M17.41 7.96l-1.37-1.37c-.4-.4-.92-.59-1.43-.59-.52 0-1.04.2-1.43.59L10.3 9.45l-7.72 7.72c-.78.78-.78 2.05 0 2.83L4 21.41c.39.39.9.59 1.41.59.51 0 1.02-.2 1.41-.59l7.78-7.78 2.81-2.81c.8-.78.8-2.07 0-2.86zM5.41 20L4 18.59l7.72-7.72 1.47 1.35L5.41 20z\"/>\n",
              "  </svg>\n",
              "      </button>\n",
              "      \n",
              "  <style>\n",
              "    .colab-df-container {\n",
              "      display:flex;\n",
              "      flex-wrap:wrap;\n",
              "      gap: 12px;\n",
              "    }\n",
              "\n",
              "    .colab-df-convert {\n",
              "      background-color: #E8F0FE;\n",
              "      border: none;\n",
              "      border-radius: 50%;\n",
              "      cursor: pointer;\n",
              "      display: none;\n",
              "      fill: #1967D2;\n",
              "      height: 32px;\n",
              "      padding: 0 0 0 0;\n",
              "      width: 32px;\n",
              "    }\n",
              "\n",
              "    .colab-df-convert:hover {\n",
              "      background-color: #E2EBFA;\n",
              "      box-shadow: 0px 1px 2px rgba(60, 64, 67, 0.3), 0px 1px 3px 1px rgba(60, 64, 67, 0.15);\n",
              "      fill: #174EA6;\n",
              "    }\n",
              "\n",
              "    [theme=dark] .colab-df-convert {\n",
              "      background-color: #3B4455;\n",
              "      fill: #D2E3FC;\n",
              "    }\n",
              "\n",
              "    [theme=dark] .colab-df-convert:hover {\n",
              "      background-color: #434B5C;\n",
              "      box-shadow: 0px 1px 3px 1px rgba(0, 0, 0, 0.15);\n",
              "      filter: drop-shadow(0px 1px 2px rgba(0, 0, 0, 0.3));\n",
              "      fill: #FFFFFF;\n",
              "    }\n",
              "  </style>\n",
              "\n",
              "      <script>\n",
              "        const buttonEl =\n",
              "          document.querySelector('#df-c1e8e628-4114-4af3-bee2-9b8c06a64623 button.colab-df-convert');\n",
              "        buttonEl.style.display =\n",
              "          google.colab.kernel.accessAllowed ? 'block' : 'none';\n",
              "\n",
              "        async function convertToInteractive(key) {\n",
              "          const element = document.querySelector('#df-c1e8e628-4114-4af3-bee2-9b8c06a64623');\n",
              "          const dataTable =\n",
              "            await google.colab.kernel.invokeFunction('convertToInteractive',\n",
              "                                                     [key], {});\n",
              "          if (!dataTable) return;\n",
              "\n",
              "          const docLinkHtml = 'Like what you see? Visit the ' +\n",
              "            '<a target=\"_blank\" href=https://colab.research.google.com/notebooks/data_table.ipynb>data table notebook</a>'\n",
              "            + ' to learn more about interactive tables.';\n",
              "          element.innerHTML = '';\n",
              "          dataTable['output_type'] = 'display_data';\n",
              "          await google.colab.output.renderOutput(dataTable, element);\n",
              "          const docLink = document.createElement('div');\n",
              "          docLink.innerHTML = docLinkHtml;\n",
              "          element.appendChild(docLink);\n",
              "        }\n",
              "      </script>\n",
              "    </div>\n",
              "  </div>\n",
              "  "
            ]
          },
          "metadata": {},
          "execution_count": 11
        }
      ]
    },
    {
      "cell_type": "code",
      "source": [
        "df.set_index(dates, inplace=True)\n",
        "df.head()"
      ],
      "metadata": {
        "colab": {
          "base_uri": "https://localhost:8080/",
          "height": 206
        },
        "id": "3F_69NkYDDZT",
        "outputId": "938f5b3e-a327-42f4-886b-1f41b81e896c"
      },
      "execution_count": 12,
      "outputs": [
        {
          "output_type": "execute_result",
          "data": {
            "text/plain": [
              "            Tractor-Sales Months  Year\n",
              "2003-01-01            141    Jan  2003\n",
              "2003-02-01            157    Feb  2003\n",
              "2003-03-01            185    Mar  2003\n",
              "2003-04-01            199    Apr  2003\n",
              "2003-05-01            203    May  2003"
            ],
            "text/html": [
              "\n",
              "  <div id=\"df-ff777ccd-b39c-4574-a9ed-595b8162e067\">\n",
              "    <div class=\"colab-df-container\">\n",
              "      <div>\n",
              "<style scoped>\n",
              "    .dataframe tbody tr th:only-of-type {\n",
              "        vertical-align: middle;\n",
              "    }\n",
              "\n",
              "    .dataframe tbody tr th {\n",
              "        vertical-align: top;\n",
              "    }\n",
              "\n",
              "    .dataframe thead th {\n",
              "        text-align: right;\n",
              "    }\n",
              "</style>\n",
              "<table border=\"1\" class=\"dataframe\">\n",
              "  <thead>\n",
              "    <tr style=\"text-align: right;\">\n",
              "      <th></th>\n",
              "      <th>Tractor-Sales</th>\n",
              "      <th>Months</th>\n",
              "      <th>Year</th>\n",
              "    </tr>\n",
              "  </thead>\n",
              "  <tbody>\n",
              "    <tr>\n",
              "      <th>2003-01-01</th>\n",
              "      <td>141</td>\n",
              "      <td>Jan</td>\n",
              "      <td>2003</td>\n",
              "    </tr>\n",
              "    <tr>\n",
              "      <th>2003-02-01</th>\n",
              "      <td>157</td>\n",
              "      <td>Feb</td>\n",
              "      <td>2003</td>\n",
              "    </tr>\n",
              "    <tr>\n",
              "      <th>2003-03-01</th>\n",
              "      <td>185</td>\n",
              "      <td>Mar</td>\n",
              "      <td>2003</td>\n",
              "    </tr>\n",
              "    <tr>\n",
              "      <th>2003-04-01</th>\n",
              "      <td>199</td>\n",
              "      <td>Apr</td>\n",
              "      <td>2003</td>\n",
              "    </tr>\n",
              "    <tr>\n",
              "      <th>2003-05-01</th>\n",
              "      <td>203</td>\n",
              "      <td>May</td>\n",
              "      <td>2003</td>\n",
              "    </tr>\n",
              "  </tbody>\n",
              "</table>\n",
              "</div>\n",
              "      <button class=\"colab-df-convert\" onclick=\"convertToInteractive('df-ff777ccd-b39c-4574-a9ed-595b8162e067')\"\n",
              "              title=\"Convert this dataframe to an interactive table.\"\n",
              "              style=\"display:none;\">\n",
              "        \n",
              "  <svg xmlns=\"http://www.w3.org/2000/svg\" height=\"24px\"viewBox=\"0 0 24 24\"\n",
              "       width=\"24px\">\n",
              "    <path d=\"M0 0h24v24H0V0z\" fill=\"none\"/>\n",
              "    <path d=\"M18.56 5.44l.94 2.06.94-2.06 2.06-.94-2.06-.94-.94-2.06-.94 2.06-2.06.94zm-11 1L8.5 8.5l.94-2.06 2.06-.94-2.06-.94L8.5 2.5l-.94 2.06-2.06.94zm10 10l.94 2.06.94-2.06 2.06-.94-2.06-.94-.94-2.06-.94 2.06-2.06.94z\"/><path d=\"M17.41 7.96l-1.37-1.37c-.4-.4-.92-.59-1.43-.59-.52 0-1.04.2-1.43.59L10.3 9.45l-7.72 7.72c-.78.78-.78 2.05 0 2.83L4 21.41c.39.39.9.59 1.41.59.51 0 1.02-.2 1.41-.59l7.78-7.78 2.81-2.81c.8-.78.8-2.07 0-2.86zM5.41 20L4 18.59l7.72-7.72 1.47 1.35L5.41 20z\"/>\n",
              "  </svg>\n",
              "      </button>\n",
              "      \n",
              "  <style>\n",
              "    .colab-df-container {\n",
              "      display:flex;\n",
              "      flex-wrap:wrap;\n",
              "      gap: 12px;\n",
              "    }\n",
              "\n",
              "    .colab-df-convert {\n",
              "      background-color: #E8F0FE;\n",
              "      border: none;\n",
              "      border-radius: 50%;\n",
              "      cursor: pointer;\n",
              "      display: none;\n",
              "      fill: #1967D2;\n",
              "      height: 32px;\n",
              "      padding: 0 0 0 0;\n",
              "      width: 32px;\n",
              "    }\n",
              "\n",
              "    .colab-df-convert:hover {\n",
              "      background-color: #E2EBFA;\n",
              "      box-shadow: 0px 1px 2px rgba(60, 64, 67, 0.3), 0px 1px 3px 1px rgba(60, 64, 67, 0.15);\n",
              "      fill: #174EA6;\n",
              "    }\n",
              "\n",
              "    [theme=dark] .colab-df-convert {\n",
              "      background-color: #3B4455;\n",
              "      fill: #D2E3FC;\n",
              "    }\n",
              "\n",
              "    [theme=dark] .colab-df-convert:hover {\n",
              "      background-color: #434B5C;\n",
              "      box-shadow: 0px 1px 3px 1px rgba(0, 0, 0, 0.15);\n",
              "      filter: drop-shadow(0px 1px 2px rgba(0, 0, 0, 0.3));\n",
              "      fill: #FFFFFF;\n",
              "    }\n",
              "  </style>\n",
              "\n",
              "      <script>\n",
              "        const buttonEl =\n",
              "          document.querySelector('#df-ff777ccd-b39c-4574-a9ed-595b8162e067 button.colab-df-convert');\n",
              "        buttonEl.style.display =\n",
              "          google.colab.kernel.accessAllowed ? 'block' : 'none';\n",
              "\n",
              "        async function convertToInteractive(key) {\n",
              "          const element = document.querySelector('#df-ff777ccd-b39c-4574-a9ed-595b8162e067');\n",
              "          const dataTable =\n",
              "            await google.colab.kernel.invokeFunction('convertToInteractive',\n",
              "                                                     [key], {});\n",
              "          if (!dataTable) return;\n",
              "\n",
              "          const docLinkHtml = 'Like what you see? Visit the ' +\n",
              "            '<a target=\"_blank\" href=https://colab.research.google.com/notebooks/data_table.ipynb>data table notebook</a>'\n",
              "            + ' to learn more about interactive tables.';\n",
              "          element.innerHTML = '';\n",
              "          dataTable['output_type'] = 'display_data';\n",
              "          await google.colab.output.renderOutput(dataTable, element);\n",
              "          const docLink = document.createElement('div');\n",
              "          docLink.innerHTML = docLinkHtml;\n",
              "          element.appendChild(docLink);\n",
              "        }\n",
              "      </script>\n",
              "    </div>\n",
              "  </div>\n",
              "  "
            ]
          },
          "metadata": {},
          "execution_count": 12
        }
      ]
    },
    {
      "cell_type": "code",
      "source": [
        "#plot the sales\n",
        "df_ts = df['Tractor-Sales']\n",
        "plt.figure(figsize=(10,5))\n",
        "plt.plot(df_ts)\n",
        "plt.xlabel('Years')\n",
        "plt.ylabel('Tractor-Sales')\n",
        "plt.show()"
      ],
      "metadata": {
        "colab": {
          "base_uri": "https://localhost:8080/",
          "height": 335
        },
        "id": "aAPoWX2sDF4z",
        "outputId": "c6dee18d-fb4b-4029-9eeb-3d2919bfb46a"
      },
      "execution_count": 13,
      "outputs": [
        {
          "output_type": "display_data",
          "data": {
            "text/plain": [
              "<Figure size 720x360 with 1 Axes>"
            ],
            "image/png": "[encoded data removed]"
          },
          "metadata": {
            "needs_background": "light"
          }
        }
      ]
    },
    {
      "cell_type": "markdown",
      "source": [
        "Now we start with time series decompositon of this data to understand underlying patterns such as trend, seasonality, cycle and irregular remainder for tractor sales. In the above data, a cyclic pattern seems to be non-existent since the unit we are analysing is relatively new unit to notice business cycles. Also in theory, business cyclecs in traditional businesses are observed over a period of 7 or more years. Hence, we won't include business cycles in this time series decompositon exercise. Also, we observe a overall increasing trend across years. We will build our model absed on the following functions:"
      ],
      "metadata": {
        "id": "YJWSf9YADWjn"
      }
    },
    {
      "cell_type": "markdown",
      "source": [
        "**Step 1.1: Trend- Time Series Decompositon**"
      ],
      "metadata": {
        "id": "UFNvLIsSEEJi"
      }
    },
    {
      "cell_type": "markdown",
      "source": [
        "# Determining and Plotting Rolling Statistics"
      ],
      "metadata": {
        "id": "6l39bo5GEJz1"
      }
    },
    {
      "cell_type": "code",
      "source": [
        "roll_mean = df_ts.rolling(window=12).mean()\n",
        "roll_std = df_ts.rolling(window=12).std()"
      ],
      "metadata": {
        "id": "2kcskTfBDSzD"
      },
      "execution_count": 14,
      "outputs": []
    },
    {
      "cell_type": "code",
      "source": [
        "#plotting rolling statistics\n",
        "orig = plt.plot(df_ts, label='original')\n",
        "mean = plt.plot(roll_mean, label='Rolling Mean')\n",
        "std = plt.plot(roll_std, label='Rolling Std')\n",
        "\n",
        "plt.legend(loc='best')\n",
        "plt.title('Rolling mean & std')\n",
        "plt.show()"
      ],
      "metadata": {
        "colab": {
          "base_uri": "https://localhost:8080/",
          "height": 281
        },
        "id": "1-F8gG0iEUIb",
        "outputId": "9d6bd818-47a0-4b9c-f7bf-0f7c69ff1004"
      },
      "execution_count": 15,
      "outputs": [
        {
          "output_type": "display_data",
          "data": {
            "text/plain": [
              "<Figure size 432x288 with 1 Axes>"
            ],
            "image/png": "[encoded data removed]"
          },
          "metadata": {
            "needs_background": "light"
          }
        }
      ]
    },
    {
      "cell_type": "markdown",
      "source": [
        "We can also perform Augmented-dickey-fuller test to check whether the series is stationary or not.\n",
        "\n",
        "In this case, series is not stationary, as mean and std are not constant."
      ],
      "metadata": {
        "id": "xyiV41APEs3y"
      }
    },
    {
      "cell_type": "markdown",
      "source": [
        "**Augmented-dickey-fuller-test**"
      ],
      "metadata": {
        "id": "Pf4NkXjIE_h_"
      }
    },
    {
      "cell_type": "code",
      "source": [
        "from statsmodels.tsa.stattools import adfuller"
      ],
      "metadata": {
        "id": "h7mHMAX6FC0D"
      },
      "execution_count": 16,
      "outputs": []
    },
    {
      "cell_type": "code",
      "source": [
        "X = df['Tractor-Sales'].values\n",
        "result = adfuller(X)\n",
        "print('ADF statistic: %f' %result[0])\n",
        "print(f'p-value: {result[1]}')\n",
        "print('Critical Values: ')\n",
        "for key,value in result[4].items():\n",
        "  print('\\t%s: %.3f'%(key,value))\n",
        "\n",
        "if result[0] < result[4]['5%']:\n",
        "  print('Reject Ho - Time series is stationary')\n",
        "else:\n",
        "  print('Failed to reject Ho - Time series not non-stationary')"
      ],
      "metadata": {
        "colab": {
          "base_uri": "https://localhost:8080/"
        },
        "id": "LFJ7D_QHEkhr",
        "outputId": "7ff90f67-16e3-4160-da33-a1d382e09de6"
      },
      "execution_count": 17,
      "outputs": [
        {
          "output_type": "stream",
          "name": "stdout",
          "text": [
            "ADF statistic: 1.108825\n",
            "p-value: 0.9952912415248419\n",
            "Critical Values: \n",
            "\t1%: -3.482\n",
            "\t5%: -2.884\n",
            "\t10%: -2.579\n",
            "Failed to reject Ho - Time series not non-stationary\n"
          ]
        }
      ]
    },
    {
      "cell_type": "markdown",
      "source": [
        "**Creating PIVOT table for monthly bases**"
      ],
      "metadata": {
        "id": "HaSBpfI6GHoY"
      }
    },
    {
      "cell_type": "code",
      "source": [
        "monthly_sales = pd.pivot_table(df, values='Tractor-Sales', columns='Year', index='Months')\n",
        "monthly_sales"
      ],
      "metadata": {
        "colab": {
          "base_uri": "https://localhost:8080/",
          "height": 457
        },
        "id": "gpzxD2MvGLEz",
        "outputId": "1d04189f-8993-45d2-9870-4b88702fdc17"
      },
      "execution_count": 18,
      "outputs": [
        {
          "output_type": "execute_result",
          "data": {
            "text/plain": [
              "Year    2003  2004  2005  2006  2007  2008  2009  2010  2011  2012  2013  2014\n",
              "Months                                                                        \n",
              "Apr      199   208   251   279   362   350   414   482   536   536   610   710\n",
              "Aug      207   238   279   339   381   410   486   567   654   707   783   848\n",
              "Dec      165   196   232   272   281   321   389   428   470   472   567   605\n",
              "Feb      157   168   200   239   261   250   310   368   400   423   455   520\n",
              "Jan      141   145   183   215   247   257   305   358   397   428   454   525\n",
              "Jul      207   238   279   322   370   423   510   578   651   687   767   871\n",
              "Jun      189   209   249   305   340   370   441   524   591   609   661   749\n",
              "Mar      185   197   249   270   330   329   374   444   498   507   568   587\n",
              "May      203   210   289   307   385   393   454   534   596   610   706   793\n",
              "Nov      138   152   194   229   239   270   315   360   406   412   481   519\n",
              "Oct      150   168   204   241   266   289   345   386   437   452   513   581\n",
              "Sep      171   199   232   263   299   326   393   447   509   509   583   640"
            ],
            "text/html": [
              "\n",
              "  <div id=\"df-788c8f6b-8210-4bad-9f85-4d0abd1b710b\">\n",
              "    <div class=\"colab-df-container\">\n",
              "      <div>\n",
              "<style scoped>\n",
              "    .dataframe tbody tr th:only-of-type {\n",
              "        vertical-align: middle;\n",
              "    }\n",
              "\n",
              "    .dataframe tbody tr th {\n",
              "        vertical-align: top;\n",
              "    }\n",
              "\n",
              "    .dataframe thead th {\n",
              "        text-align: right;\n",
              "    }\n",
              "</style>\n",
              "<table border=\"1\" class=\"dataframe\">\n",
              "  <thead>\n",
              "    <tr style=\"text-align: right;\">\n",
              "      <th>Year</th>\n",
              "      <th>2003</th>\n",
              "      <th>2004</th>\n",
              "      <th>2005</th>\n",
              "      <th>2006</th>\n",
              "      <th>2007</th>\n",
              "      <th>2008</th>\n",
              "      <th>2009</th>\n",
              "      <th>2010</th>\n",
              "      <th>2011</th>\n",
              "      <th>2012</th>\n",
              "      <th>2013</th>\n",
              "      <th>2014</th>\n",
              "    </tr>\n",
              "    <tr>\n",
              "      <th>Months</th>\n",
              "      <th></th>\n",
              "      <th></th>\n",
              "      <th></th>\n",
              "      <th></th>\n",
              "      <th></th>\n",
              "      <th></th>\n",
              "      <th></th>\n",
              "      <th></th>\n",
              "      <th></th>\n",
              "      <th></th>\n",
              "      <th></th>\n",
              "      <th></th>\n",
              "    </tr>\n",
              "  </thead>\n",
              "  <tbody>\n",
              "    <tr>\n",
              "      <th>Apr</th>\n",
              "      <td>199</td>\n",
              "      <td>208</td>\n",
              "      <td>251</td>\n",
              "      <td>279</td>\n",
              "      <td>362</td>\n",
              "      <td>350</td>\n",
              "      <td>414</td>\n",
              "      <td>482</td>\n",
              "      <td>536</td>\n",
              "      <td>536</td>\n",
              "      <td>610</td>\n",
              "      <td>710</td>\n",
              "    </tr>\n",
              "    <tr>\n",
              "      <th>Aug</th>\n",
              "      <td>207</td>\n",
              "      <td>238</td>\n",
              "      <td>279</td>\n",
              "      <td>339</td>\n",
              "      <td>381</td>\n",
              "      <td>410</td>\n",
              "      <td>486</td>\n",
              "      <td>567</td>\n",
              "      <td>654</td>\n",
              "      <td>707</td>\n",
              "      <td>783</td>\n",
              "      <td>848</td>\n",
              "    </tr>\n",
              "    <tr>\n",
              "      <th>Dec</th>\n",
              "      <td>165</td>\n",
              "      <td>196</td>\n",
              "      <td>232</td>\n",
              "      <td>272</td>\n",
              "      <td>281</td>\n",
              "      <td>321</td>\n",
              "      <td>389</td>\n",
              "      <td>428</td>\n",
              "      <td>470</td>\n",
              "      <td>472</td>\n",
              "      <td>567</td>\n",
              "      <td>605</td>\n",
              "    </tr>\n",
              "    <tr>\n",
              "      <th>Feb</th>\n",
              "      <td>157</td>\n",
              "      <td>168</td>\n",
              "      <td>200</td>\n",
              "      <td>239</td>\n",
              "      <td>261</td>\n",
              "      <td>250</td>\n",
              "      <td>310</td>\n",
              "      <td>368</td>\n",
              "      <td>400</td>\n",
              "      <td>423</td>\n",
              "      <td>455</td>\n",
              "      <td>520</td>\n",
              "    </tr>\n",
              "    <tr>\n",
              "      <th>Jan</th>\n",
              "      <td>141</td>\n",
              "      <td>145</td>\n",
              "      <td>183</td>\n",
              "      <td>215</td>\n",
              "      <td>247</td>\n",
              "      <td>257</td>\n",
              "      <td>305</td>\n",
              "      <td>358</td>\n",
              "      <td>397</td>\n",
              "      <td>428</td>\n",
              "      <td>454</td>\n",
              "      <td>525</td>\n",
              "    </tr>\n",
              "    <tr>\n",
              "      <th>Jul</th>\n",
              "      <td>207</td>\n",
              "      <td>238</td>\n",
              "      <td>279</td>\n",
              "      <td>322</td>\n",
              "      <td>370</td>\n",
              "      <td>423</td>\n",
              "      <td>510</td>\n",
              "      <td>578</td>\n",
              "      <td>651</td>\n",
              "      <td>687</td>\n",
              "      <td>767</td>\n",
              "      <td>871</td>\n",
              "    </tr>\n",
              "    <tr>\n",
              "      <th>Jun</th>\n",
              "      <td>189</td>\n",
              "      <td>209</td>\n",
              "      <td>249</td>\n",
              "      <td>305</td>\n",
              "      <td>340</td>\n",
              "      <td>370</td>\n",
              "      <td>441</td>\n",
              "      <td>524</td>\n",
              "      <td>591</td>\n",
              "      <td>609</td>\n",
              "      <td>661</td>\n",
              "      <td>749</td>\n",
              "    </tr>\n",
              "    <tr>\n",
              "      <th>Mar</th>\n",
              "      <td>185</td>\n",
              "      <td>197</td>\n",
              "      <td>249</td>\n",
              "      <td>270</td>\n",
              "      <td>330</td>\n",
              "      <td>329</td>\n",
              "      <td>374</td>\n",
              "      <td>444</td>\n",
              "      <td>498</td>\n",
              "      <td>507</td>\n",
              "      <td>568</td>\n",
              "      <td>587</td>\n",
              "    </tr>\n",
              "    <tr>\n",
              "      <th>May</th>\n",
              "      <td>203</td>\n",
              "      <td>210</td>\n",
              "      <td>289</td>\n",
              "      <td>307</td>\n",
              "      <td>385</td>\n",
              "      <td>393</td>\n",
              "      <td>454</td>\n",
              "      <td>534</td>\n",
              "      <td>596</td>\n",
              "      <td>610</td>\n",
              "      <td>706</td>\n",
              "      <td>793</td>\n",
              "    </tr>\n",
              "    <tr>\n",
              "      <th>Nov</th>\n",
              "      <td>138</td>\n",
              "      <td>152</td>\n",
              "      <td>194</td>\n",
              "      <td>229</td>\n",
              "      <td>239</td>\n",
              "      <td>270</td>\n",
              "      <td>315</td>\n",
              "      <td>360</td>\n",
              "      <td>406</td>\n",
              "      <td>412</td>\n",
              "      <td>481</td>\n",
              "      <td>519</td>\n",
              "    </tr>\n",
              "    <tr>\n",
              "      <th>Oct</th>\n",
              "      <td>150</td>\n",
              "      <td>168</td>\n",
              "      <td>204</td>\n",
              "      <td>241</td>\n",
              "      <td>266</td>\n",
              "      <td>289</td>\n",
              "      <td>345</td>\n",
              "      <td>386</td>\n",
              "      <td>437</td>\n",
              "      <td>452</td>\n",
              "      <td>513</td>\n",
              "      <td>581</td>\n",
              "    </tr>\n",
              "    <tr>\n",
              "      <th>Sep</th>\n",
              "      <td>171</td>\n",
              "      <td>199</td>\n",
              "      <td>232</td>\n",
              "      <td>263</td>\n",
              "      <td>299</td>\n",
              "      <td>326</td>\n",
              "      <td>393</td>\n",
              "      <td>447</td>\n",
              "      <td>509</td>\n",
              "      <td>509</td>\n",
              "      <td>583</td>\n",
              "      <td>640</td>\n",
              "    </tr>\n",
              "  </tbody>\n",
              "</table>\n",
              "</div>\n",
              "      <button class=\"colab-df-convert\" onclick=\"convertToInteractive('df-788c8f6b-8210-4bad-9f85-4d0abd1b710b')\"\n",
              "              title=\"Convert this dataframe to an interactive table.\"\n",
              "              style=\"display:none;\">\n",
              "        \n",
              "  <svg xmlns=\"http://www.w3.org/2000/svg\" height=\"24px\"viewBox=\"0 0 24 24\"\n",
              "       width=\"24px\">\n",
              "    <path d=\"M0 0h24v24H0V0z\" fill=\"none\"/>\n",
              "    <path d=\"M18.56 5.44l.94 2.06.94-2.06 2.06-.94-2.06-.94-.94-2.06-.94 2.06-2.06.94zm-11 1L8.5 8.5l.94-2.06 2.06-.94-2.06-.94L8.5 2.5l-.94 2.06-2.06.94zm10 10l.94 2.06.94-2.06 2.06-.94-2.06-.94-.94-2.06-.94 2.06-2.06.94z\"/><path d=\"M17.41 7.96l-1.37-1.37c-.4-.4-.92-.59-1.43-.59-.52 0-1.04.2-1.43.59L10.3 9.45l-7.72 7.72c-.78.78-.78 2.05 0 2.83L4 21.41c.39.39.9.59 1.41.59.51 0 1.02-.2 1.41-.59l7.78-7.78 2.81-2.81c.8-.78.8-2.07 0-2.86zM5.41 20L4 18.59l7.72-7.72 1.47 1.35L5.41 20z\"/>\n",
              "  </svg>\n",
              "      </button>\n",
              "      \n",
              "  <style>\n",
              "    .colab-df-container {\n",
              "      display:flex;\n",
              "      flex-wrap:wrap;\n",
              "      gap: 12px;\n",
              "    }\n",
              "\n",
              "    .colab-df-convert {\n",
              "      background-color: #E8F0FE;\n",
              "      border: none;\n",
              "      border-radius: 50%;\n",
              "      cursor: pointer;\n",
              "      display: none;\n",
              "      fill: #1967D2;\n",
              "      height: 32px;\n",
              "      padding: 0 0 0 0;\n",
              "      width: 32px;\n",
              "    }\n",
              "\n",
              "    .colab-df-convert:hover {\n",
              "      background-color: #E2EBFA;\n",
              "      box-shadow: 0px 1px 2px rgba(60, 64, 67, 0.3), 0px 1px 3px 1px rgba(60, 64, 67, 0.15);\n",
              "      fill: #174EA6;\n",
              "    }\n",
              "\n",
              "    [theme=dark] .colab-df-convert {\n",
              "      background-color: #3B4455;\n",
              "      fill: #D2E3FC;\n",
              "    }\n",
              "\n",
              "    [theme=dark] .colab-df-convert:hover {\n",
              "      background-color: #434B5C;\n",
              "      box-shadow: 0px 1px 3px 1px rgba(0, 0, 0, 0.15);\n",
              "      filter: drop-shadow(0px 1px 2px rgba(0, 0, 0, 0.3));\n",
              "      fill: #FFFFFF;\n",
              "    }\n",
              "  </style>\n",
              "\n",
              "      <script>\n",
              "        const buttonEl =\n",
              "          document.querySelector('#df-788c8f6b-8210-4bad-9f85-4d0abd1b710b button.colab-df-convert');\n",
              "        buttonEl.style.display =\n",
              "          google.colab.kernel.accessAllowed ? 'block' : 'none';\n",
              "\n",
              "        async function convertToInteractive(key) {\n",
              "          const element = document.querySelector('#df-788c8f6b-8210-4bad-9f85-4d0abd1b710b');\n",
              "          const dataTable =\n",
              "            await google.colab.kernel.invokeFunction('convertToInteractive',\n",
              "                                                     [key], {});\n",
              "          if (!dataTable) return;\n",
              "\n",
              "          const docLinkHtml = 'Like what you see? Visit the ' +\n",
              "            '<a target=\"_blank\" href=https://colab.research.google.com/notebooks/data_table.ipynb>data table notebook</a>'\n",
              "            + ' to learn more about interactive tables.';\n",
              "          element.innerHTML = '';\n",
              "          dataTable['output_type'] = 'display_data';\n",
              "          await google.colab.output.renderOutput(dataTable, element);\n",
              "          const docLink = document.createElement('div');\n",
              "          docLink.innerHTML = docLinkHtml;\n",
              "          element.appendChild(docLink);\n",
              "        }\n",
              "      </script>\n",
              "    </div>\n",
              "  </div>\n",
              "  "
            ]
          },
          "metadata": {},
          "execution_count": 18
        }
      ]
    },
    {
      "cell_type": "code",
      "source": [
        "monthly_sales = monthly_sales.reindex(index = ['Jan', 'Feb', 'Mar', 'Apr', 'May', 'Jun', 'Jul', 'Aug', 'Sep', 'Oct', 'Nov', 'Dec'])\n",
        "monthly_sales"
      ],
      "metadata": {
        "colab": {
          "base_uri": "https://localhost:8080/",
          "height": 457
        },
        "id": "HvqH80A6GUFL",
        "outputId": "2f57c9ea-7183-44be-8a1f-809ba7c53aa8"
      },
      "execution_count": 19,
      "outputs": [
        {
          "output_type": "execute_result",
          "data": {
            "text/plain": [
              "Year    2003  2004  2005  2006  2007  2008  2009  2010  2011  2012  2013  2014\n",
              "Months                                                                        \n",
              "Jan      141   145   183   215   247   257   305   358   397   428   454   525\n",
              "Feb      157   168   200   239   261   250   310   368   400   423   455   520\n",
              "Mar      185   197   249   270   330   329   374   444   498   507   568   587\n",
              "Apr      199   208   251   279   362   350   414   482   536   536   610   710\n",
              "May      203   210   289   307   385   393   454   534   596   610   706   793\n",
              "Jun      189   209   249   305   340   370   441   524   591   609   661   749\n",
              "Jul      207   238   279   322   370   423   510   578   651   687   767   871\n",
              "Aug      207   238   279   339   381   410   486   567   654   707   783   848\n",
              "Sep      171   199   232   263   299   326   393   447   509   509   583   640\n",
              "Oct      150   168   204   241   266   289   345   386   437   452   513   581\n",
              "Nov      138   152   194   229   239   270   315   360   406   412   481   519\n",
              "Dec      165   196   232   272   281   321   389   428   470   472   567   605"
            ],
            "text/html": [
              "\n",
              "  <div id=\"df-2516a18a-0636-4b54-a85a-382349d24d28\">\n",
              "    <div class=\"colab-df-container\">\n",
              "      <div>\n",
              "<style scoped>\n",
              "    .dataframe tbody tr th:only-of-type {\n",
              "        vertical-align: middle;\n",
              "    }\n",
              "\n",
              "    .dataframe tbody tr th {\n",
              "        vertical-align: top;\n",
              "    }\n",
              "\n",
              "    .dataframe thead th {\n",
              "        text-align: right;\n",
              "    }\n",
              "</style>\n",
              "<table border=\"1\" class=\"dataframe\">\n",
              "  <thead>\n",
              "    <tr style=\"text-align: right;\">\n",
              "      <th>Year</th>\n",
              "      <th>2003</th>\n",
              "      <th>2004</th>\n",
              "      <th>2005</th>\n",
              "      <th>2006</th>\n",
              "      <th>2007</th>\n",
              "      <th>2008</th>\n",
              "      <th>2009</th>\n",
              "      <th>2010</th>\n",
              "      <th>2011</th>\n",
              "      <th>2012</th>\n",
              "      <th>2013</th>\n",
              "      <th>2014</th>\n",
              "    </tr>\n",
              "    <tr>\n",
              "      <th>Months</th>\n",
              "      <th></th>\n",
              "      <th></th>\n",
              "      <th></th>\n",
              "      <th></th>\n",
              "      <th></th>\n",
              "      <th></th>\n",
              "      <th></th>\n",
              "      <th></th>\n",
              "      <th></th>\n",
              "      <th></th>\n",
              "      <th></th>\n",
              "      <th></th>\n",
              "    </tr>\n",
              "  </thead>\n",
              "  <tbody>\n",
              "    <tr>\n",
              "      <th>Jan</th>\n",
              "      <td>141</td>\n",
              "      <td>145</td>\n",
              "      <td>183</td>\n",
              "      <td>215</td>\n",
              "      <td>247</td>\n",
              "      <td>257</td>\n",
              "      <td>305</td>\n",
              "      <td>358</td>\n",
              "      <td>397</td>\n",
              "      <td>428</td>\n",
              "      <td>454</td>\n",
              "      <td>525</td>\n",
              "    </tr>\n",
              "    <tr>\n",
              "      <th>Feb</th>\n",
              "      <td>157</td>\n",
              "      <td>168</td>\n",
              "      <td>200</td>\n",
              "      <td>239</td>\n",
              "      <td>261</td>\n",
              "      <td>250</td>\n",
              "      <td>310</td>\n",
              "      <td>368</td>\n",
              "      <td>400</td>\n",
              "      <td>423</td>\n",
              "      <td>455</td>\n",
              "      <td>520</td>\n",
              "    </tr>\n",
              "    <tr>\n",
              "      <th>Mar</th>\n",
              "      <td>185</td>\n",
              "      <td>197</td>\n",
              "      <td>249</td>\n",
              "      <td>270</td>\n",
              "      <td>330</td>\n",
              "      <td>329</td>\n",
              "      <td>374</td>\n",
              "      <td>444</td>\n",
              "      <td>498</td>\n",
              "      <td>507</td>\n",
              "      <td>568</td>\n",
              "      <td>587</td>\n",
              "    </tr>\n",
              "    <tr>\n",
              "      <th>Apr</th>\n",
              "      <td>199</td>\n",
              "      <td>208</td>\n",
              "      <td>251</td>\n",
              "      <td>279</td>\n",
              "      <td>362</td>\n",
              "      <td>350</td>\n",
              "      <td>414</td>\n",
              "      <td>482</td>\n",
              "      <td>536</td>\n",
              "      <td>536</td>\n",
              "      <td>610</td>\n",
              "      <td>710</td>\n",
              "    </tr>\n",
              "    <tr>\n",
              "      <th>May</th>\n",
              "      <td>203</td>\n",
              "      <td>210</td>\n",
              "      <td>289</td>\n",
              "      <td>307</td>\n",
              "      <td>385</td>\n",
              "      <td>393</td>\n",
              "      <td>454</td>\n",
              "      <td>534</td>\n",
              "      <td>596</td>\n",
              "      <td>610</td>\n",
              "      <td>706</td>\n",
              "      <td>793</td>\n",
              "    </tr>\n",
              "    <tr>\n",
              "      <th>Jun</th>\n",
              "      <td>189</td>\n",
              "      <td>209</td>\n",
              "      <td>249</td>\n",
              "      <td>305</td>\n",
              "      <td>340</td>\n",
              "      <td>370</td>\n",
              "      <td>441</td>\n",
              "      <td>524</td>\n",
              "      <td>591</td>\n",
              "      <td>609</td>\n",
              "      <td>661</td>\n",
              "      <td>749</td>\n",
              "    </tr>\n",
              "    <tr>\n",
              "      <th>Jul</th>\n",
              "      <td>207</td>\n",
              "      <td>238</td>\n",
              "      <td>279</td>\n",
              "      <td>322</td>\n",
              "      <td>370</td>\n",
              "      <td>423</td>\n",
              "      <td>510</td>\n",
              "      <td>578</td>\n",
              "      <td>651</td>\n",
              "      <td>687</td>\n",
              "      <td>767</td>\n",
              "      <td>871</td>\n",
              "    </tr>\n",
              "    <tr>\n",
              "      <th>Aug</th>\n",
              "      <td>207</td>\n",
              "      <td>238</td>\n",
              "      <td>279</td>\n",
              "      <td>339</td>\n",
              "      <td>381</td>\n",
              "      <td>410</td>\n",
              "      <td>486</td>\n",
              "      <td>567</td>\n",
              "      <td>654</td>\n",
              "      <td>707</td>\n",
              "      <td>783</td>\n",
              "      <td>848</td>\n",
              "    </tr>\n",
              "    <tr>\n",
              "      <th>Sep</th>\n",
              "      <td>171</td>\n",
              "      <td>199</td>\n",
              "      <td>232</td>\n",
              "      <td>263</td>\n",
              "      <td>299</td>\n",
              "      <td>326</td>\n",
              "      <td>393</td>\n",
              "      <td>447</td>\n",
              "      <td>509</td>\n",
              "      <td>509</td>\n",
              "      <td>583</td>\n",
              "      <td>640</td>\n",
              "    </tr>\n",
              "    <tr>\n",
              "      <th>Oct</th>\n",
              "      <td>150</td>\n",
              "      <td>168</td>\n",
              "      <td>204</td>\n",
              "      <td>241</td>\n",
              "      <td>266</td>\n",
              "      <td>289</td>\n",
              "      <td>345</td>\n",
              "      <td>386</td>\n",
              "      <td>437</td>\n",
              "      <td>452</td>\n",
              "      <td>513</td>\n",
              "      <td>581</td>\n",
              "    </tr>\n",
              "    <tr>\n",
              "      <th>Nov</th>\n",
              "      <td>138</td>\n",
              "      <td>152</td>\n",
              "      <td>194</td>\n",
              "      <td>229</td>\n",
              "      <td>239</td>\n",
              "      <td>270</td>\n",
              "      <td>315</td>\n",
              "      <td>360</td>\n",
              "      <td>406</td>\n",
              "      <td>412</td>\n",
              "      <td>481</td>\n",
              "      <td>519</td>\n",
              "    </tr>\n",
              "    <tr>\n",
              "      <th>Dec</th>\n",
              "      <td>165</td>\n",
              "      <td>196</td>\n",
              "      <td>232</td>\n",
              "      <td>272</td>\n",
              "      <td>281</td>\n",
              "      <td>321</td>\n",
              "      <td>389</td>\n",
              "      <td>428</td>\n",
              "      <td>470</td>\n",
              "      <td>472</td>\n",
              "      <td>567</td>\n",
              "      <td>605</td>\n",
              "    </tr>\n",
              "  </tbody>\n",
              "</table>\n",
              "</div>\n",
              "      <button class=\"colab-df-convert\" onclick=\"convertToInteractive('df-2516a18a-0636-4b54-a85a-382349d24d28')\"\n",
              "              title=\"Convert this dataframe to an interactive table.\"\n",
              "              style=\"display:none;\">\n",
              "        \n",
              "  <svg xmlns=\"http://www.w3.org/2000/svg\" height=\"24px\"viewBox=\"0 0 24 24\"\n",
              "       width=\"24px\">\n",
              "    <path d=\"M0 0h24v24H0V0z\" fill=\"none\"/>\n",
              "    <path d=\"M18.56 5.44l.94 2.06.94-2.06 2.06-.94-2.06-.94-.94-2.06-.94 2.06-2.06.94zm-11 1L8.5 8.5l.94-2.06 2.06-.94-2.06-.94L8.5 2.5l-.94 2.06-2.06.94zm10 10l.94 2.06.94-2.06 2.06-.94-2.06-.94-.94-2.06-.94 2.06-2.06.94z\"/><path d=\"M17.41 7.96l-1.37-1.37c-.4-.4-.92-.59-1.43-.59-.52 0-1.04.2-1.43.59L10.3 9.45l-7.72 7.72c-.78.78-.78 2.05 0 2.83L4 21.41c.39.39.9.59 1.41.59.51 0 1.02-.2 1.41-.59l7.78-7.78 2.81-2.81c.8-.78.8-2.07 0-2.86zM5.41 20L4 18.59l7.72-7.72 1.47 1.35L5.41 20z\"/>\n",
              "  </svg>\n",
              "      </button>\n",
              "      \n",
              "  <style>\n",
              "    .colab-df-container {\n",
              "      display:flex;\n",
              "      flex-wrap:wrap;\n",
              "      gap: 12px;\n",
              "    }\n",
              "\n",
              "    .colab-df-convert {\n",
              "      background-color: #E8F0FE;\n",
              "      border: none;\n",
              "      border-radius: 50%;\n",
              "      cursor: pointer;\n",
              "      display: none;\n",
              "      fill: #1967D2;\n",
              "      height: 32px;\n",
              "      padding: 0 0 0 0;\n",
              "      width: 32px;\n",
              "    }\n",
              "\n",
              "    .colab-df-convert:hover {\n",
              "      background-color: #E2EBFA;\n",
              "      box-shadow: 0px 1px 2px rgba(60, 64, 67, 0.3), 0px 1px 3px 1px rgba(60, 64, 67, 0.15);\n",
              "      fill: #174EA6;\n",
              "    }\n",
              "\n",
              "    [theme=dark] .colab-df-convert {\n",
              "      background-color: #3B4455;\n",
              "      fill: #D2E3FC;\n",
              "    }\n",
              "\n",
              "    [theme=dark] .colab-df-convert:hover {\n",
              "      background-color: #434B5C;\n",
              "      box-shadow: 0px 1px 3px 1px rgba(0, 0, 0, 0.15);\n",
              "      filter: drop-shadow(0px 1px 2px rgba(0, 0, 0, 0.3));\n",
              "      fill: #FFFFFF;\n",
              "    }\n",
              "  </style>\n",
              "\n",
              "      <script>\n",
              "        const buttonEl =\n",
              "          document.querySelector('#df-2516a18a-0636-4b54-a85a-382349d24d28 button.colab-df-convert');\n",
              "        buttonEl.style.display =\n",
              "          google.colab.kernel.accessAllowed ? 'block' : 'none';\n",
              "\n",
              "        async function convertToInteractive(key) {\n",
              "          const element = document.querySelector('#df-2516a18a-0636-4b54-a85a-382349d24d28');\n",
              "          const dataTable =\n",
              "            await google.colab.kernel.invokeFunction('convertToInteractive',\n",
              "                                                     [key], {});\n",
              "          if (!dataTable) return;\n",
              "\n",
              "          const docLinkHtml = 'Like what you see? Visit the ' +\n",
              "            '<a target=\"_blank\" href=https://colab.research.google.com/notebooks/data_table.ipynb>data table notebook</a>'\n",
              "            + ' to learn more about interactive tables.';\n",
              "          element.innerHTML = '';\n",
              "          dataTable['output_type'] = 'display_data';\n",
              "          await google.colab.output.renderOutput(dataTable, element);\n",
              "          const docLink = document.createElement('div');\n",
              "          docLink.innerHTML = docLinkHtml;\n",
              "          element.appendChild(docLink);\n",
              "        }\n",
              "      </script>\n",
              "    </div>\n",
              "  </div>\n",
              "  "
            ]
          },
          "metadata": {},
          "execution_count": 19
        }
      ]
    },
    {
      "cell_type": "code",
      "source": [
        "monthly_sales.plot()"
      ],
      "metadata": {
        "colab": {
          "base_uri": "https://localhost:8080/",
          "height": 298
        },
        "id": "WYVqONkMGk_S",
        "outputId": "39fedf57-0b0d-4ac8-b295-0393a20897cb"
      },
      "execution_count": 20,
      "outputs": [
        {
          "output_type": "execute_result",
          "data": {
            "text/plain": [
              "<matplotlib.axes._subplots.AxesSubplot at 0x7fdab4b89950>"
            ]
          },
          "metadata": {},
          "execution_count": 20
        },
        {
          "output_type": "display_data",
          "data": {
            "text/plain": [
              "<Figure size 432x288 with 1 Axes>"
            ],
            "image/png": "[encoded data removed]"
          },
          "metadata": {
            "needs_background": "light"
          }
        }
      ]
    },
    {
      "cell_type": "markdown",
      "source": [
        "**Making yearly data and plotting it to check year patterns using BOX PLOT"
      ],
      "metadata": {
        "id": "3SaQi12gGuI4"
      }
    },
    {
      "cell_type": "code",
      "source": [
        "yearly_sales = pd.pivot_table(df, values='Tractor-Sales', columns='Months', index='Year')\n",
        "yearly_sales"
      ],
      "metadata": {
        "colab": {
          "base_uri": "https://localhost:8080/",
          "height": 457
        },
        "id": "krp18FQSGrdD",
        "outputId": "2b6c306e-4348-4af6-d4f5-07c73eb0f7bb"
      },
      "execution_count": 21,
      "outputs": [
        {
          "output_type": "execute_result",
          "data": {
            "text/plain": [
              "Months  Apr  Aug  Dec  Feb  Jan  Jul  Jun  Mar  May  Nov  Oct  Sep\n",
              "Year                                                              \n",
              "2003    199  207  165  157  141  207  189  185  203  138  150  171\n",
              "2004    208  238  196  168  145  238  209  197  210  152  168  199\n",
              "2005    251  279  232  200  183  279  249  249  289  194  204  232\n",
              "2006    279  339  272  239  215  322  305  270  307  229  241  263\n",
              "2007    362  381  281  261  247  370  340  330  385  239  266  299\n",
              "2008    350  410  321  250  257  423  370  329  393  270  289  326\n",
              "2009    414  486  389  310  305  510  441  374  454  315  345  393\n",
              "2010    482  567  428  368  358  578  524  444  534  360  386  447\n",
              "2011    536  654  470  400  397  651  591  498  596  406  437  509\n",
              "2012    536  707  472  423  428  687  609  507  610  412  452  509\n",
              "2013    610  783  567  455  454  767  661  568  706  481  513  583\n",
              "2014    710  848  605  520  525  871  749  587  793  519  581  640"
            ],
            "text/html": [
              "\n",
              "  <div id=\"df-5762cc1c-55ca-4442-bd60-95df73a491e1\">\n",
              "    <div class=\"colab-df-container\">\n",
              "      <div>\n",
              "<style scoped>\n",
              "    .dataframe tbody tr th:only-of-type {\n",
              "        vertical-align: middle;\n",
              "    }\n",
              "\n",
              "    .dataframe tbody tr th {\n",
              "        vertical-align: top;\n",
              "    }\n",
              "\n",
              "    .dataframe thead th {\n",
              "        text-align: right;\n",
              "    }\n",
              "</style>\n",
              "<table border=\"1\" class=\"dataframe\">\n",
              "  <thead>\n",
              "    <tr style=\"text-align: right;\">\n",
              "      <th>Months</th>\n",
              "      <th>Apr</th>\n",
              "      <th>Aug</th>\n",
              "      <th>Dec</th>\n",
              "      <th>Feb</th>\n",
              "      <th>Jan</th>\n",
              "      <th>Jul</th>\n",
              "      <th>Jun</th>\n",
              "      <th>Mar</th>\n",
              "      <th>May</th>\n",
              "      <th>Nov</th>\n",
              "      <th>Oct</th>\n",
              "      <th>Sep</th>\n",
              "    </tr>\n",
              "    <tr>\n",
              "      <th>Year</th>\n",
              "      <th></th>\n",
              "      <th></th>\n",
              "      <th></th>\n",
              "      <th></th>\n",
              "      <th></th>\n",
              "      <th></th>\n",
              "      <th></th>\n",
              "      <th></th>\n",
              "      <th></th>\n",
              "      <th></th>\n",
              "      <th></th>\n",
              "      <th></th>\n",
              "    </tr>\n",
              "  </thead>\n",
              "  <tbody>\n",
              "    <tr>\n",
              "      <th>2003</th>\n",
              "      <td>199</td>\n",
              "      <td>207</td>\n",
              "      <td>165</td>\n",
              "      <td>157</td>\n",
              "      <td>141</td>\n",
              "      <td>207</td>\n",
              "      <td>189</td>\n",
              "      <td>185</td>\n",
              "      <td>203</td>\n",
              "      <td>138</td>\n",
              "      <td>150</td>\n",
              "      <td>171</td>\n",
              "    </tr>\n",
              "    <tr>\n",
              "      <th>2004</th>\n",
              "      <td>208</td>\n",
              "      <td>238</td>\n",
              "      <td>196</td>\n",
              "      <td>168</td>\n",
              "      <td>145</td>\n",
              "      <td>238</td>\n",
              "      <td>209</td>\n",
              "      <td>197</td>\n",
              "      <td>210</td>\n",
              "      <td>152</td>\n",
              "      <td>168</td>\n",
              "      <td>199</td>\n",
              "    </tr>\n",
              "    <tr>\n",
              "      <th>2005</th>\n",
              "      <td>251</td>\n",
              "      <td>279</td>\n",
              "      <td>232</td>\n",
              "      <td>200</td>\n",
              "      <td>183</td>\n",
              "      <td>279</td>\n",
              "      <td>249</td>\n",
              "      <td>249</td>\n",
              "      <td>289</td>\n",
              "      <td>194</td>\n",
              "      <td>204</td>\n",
              "      <td>232</td>\n",
              "    </tr>\n",
              "    <tr>\n",
              "      <th>2006</th>\n",
              "      <td>279</td>\n",
              "      <td>339</td>\n",
              "      <td>272</td>\n",
              "      <td>239</td>\n",
              "      <td>215</td>\n",
              "      <td>322</td>\n",
              "      <td>305</td>\n",
              "      <td>270</td>\n",
              "      <td>307</td>\n",
              "      <td>229</td>\n",
              "      <td>241</td>\n",
              "      <td>263</td>\n",
              "    </tr>\n",
              "    <tr>\n",
              "      <th>2007</th>\n",
              "      <td>362</td>\n",
              "      <td>381</td>\n",
              "      <td>281</td>\n",
              "      <td>261</td>\n",
              "      <td>247</td>\n",
              "      <td>370</td>\n",
              "      <td>340</td>\n",
              "      <td>330</td>\n",
              "      <td>385</td>\n",
              "      <td>239</td>\n",
              "      <td>266</td>\n",
              "      <td>299</td>\n",
              "    </tr>\n",
              "    <tr>\n",
              "      <th>2008</th>\n",
              "      <td>350</td>\n",
              "      <td>410</td>\n",
              "      <td>321</td>\n",
              "      <td>250</td>\n",
              "      <td>257</td>\n",
              "      <td>423</td>\n",
              "      <td>370</td>\n",
              "      <td>329</td>\n",
              "      <td>393</td>\n",
              "      <td>270</td>\n",
              "      <td>289</td>\n",
              "      <td>326</td>\n",
              "    </tr>\n",
              "    <tr>\n",
              "      <th>2009</th>\n",
              "      <td>414</td>\n",
              "      <td>486</td>\n",
              "      <td>389</td>\n",
              "      <td>310</td>\n",
              "      <td>305</td>\n",
              "      <td>510</td>\n",
              "      <td>441</td>\n",
              "      <td>374</td>\n",
              "      <td>454</td>\n",
              "      <td>315</td>\n",
              "      <td>345</td>\n",
              "      <td>393</td>\n",
              "    </tr>\n",
              "    <tr>\n",
              "      <th>2010</th>\n",
              "      <td>482</td>\n",
              "      <td>567</td>\n",
              "      <td>428</td>\n",
              "      <td>368</td>\n",
              "      <td>358</td>\n",
              "      <td>578</td>\n",
              "      <td>524</td>\n",
              "      <td>444</td>\n",
              "      <td>534</td>\n",
              "      <td>360</td>\n",
              "      <td>386</td>\n",
              "      <td>447</td>\n",
              "    </tr>\n",
              "    <tr>\n",
              "      <th>2011</th>\n",
              "      <td>536</td>\n",
              "      <td>654</td>\n",
              "      <td>470</td>\n",
              "      <td>400</td>\n",
              "      <td>397</td>\n",
              "      <td>651</td>\n",
              "      <td>591</td>\n",
              "      <td>498</td>\n",
              "      <td>596</td>\n",
              "      <td>406</td>\n",
              "      <td>437</td>\n",
              "      <td>509</td>\n",
              "    </tr>\n",
              "    <tr>\n",
              "      <th>2012</th>\n",
              "      <td>536</td>\n",
              "      <td>707</td>\n",
              "      <td>472</td>\n",
              "      <td>423</td>\n",
              "      <td>428</td>\n",
              "      <td>687</td>\n",
              "      <td>609</td>\n",
              "      <td>507</td>\n",
              "      <td>610</td>\n",
              "      <td>412</td>\n",
              "      <td>452</td>\n",
              "      <td>509</td>\n",
              "    </tr>\n",
              "    <tr>\n",
              "      <th>2013</th>\n",
              "      <td>610</td>\n",
              "      <td>783</td>\n",
              "      <td>567</td>\n",
              "      <td>455</td>\n",
              "      <td>454</td>\n",
              "      <td>767</td>\n",
              "      <td>661</td>\n",
              "      <td>568</td>\n",
              "      <td>706</td>\n",
              "      <td>481</td>\n",
              "      <td>513</td>\n",
              "      <td>583</td>\n",
              "    </tr>\n",
              "    <tr>\n",
              "      <th>2014</th>\n",
              "      <td>710</td>\n",
              "      <td>848</td>\n",
              "      <td>605</td>\n",
              "      <td>520</td>\n",
              "      <td>525</td>\n",
              "      <td>871</td>\n",
              "      <td>749</td>\n",
              "      <td>587</td>\n",
              "      <td>793</td>\n",
              "      <td>519</td>\n",
              "      <td>581</td>\n",
              "      <td>640</td>\n",
              "    </tr>\n",
              "  </tbody>\n",
              "</table>\n",
              "</div>\n",
              "      <button class=\"colab-df-convert\" onclick=\"convertToInteractive('df-5762cc1c-55ca-4442-bd60-95df73a491e1')\"\n",
              "              title=\"Convert this dataframe to an interactive table.\"\n",
              "              style=\"display:none;\">\n",
              "        \n",
              "  <svg xmlns=\"http://www.w3.org/2000/svg\" height=\"24px\"viewBox=\"0 0 24 24\"\n",
              "       width=\"24px\">\n",
              "    <path d=\"M0 0h24v24H0V0z\" fill=\"none\"/>\n",
              "    <path d=\"M18.56 5.44l.94 2.06.94-2.06 2.06-.94-2.06-.94-.94-2.06-.94 2.06-2.06.94zm-11 1L8.5 8.5l.94-2.06 2.06-.94-2.06-.94L8.5 2.5l-.94 2.06-2.06.94zm10 10l.94 2.06.94-2.06 2.06-.94-2.06-.94-.94-2.06-.94 2.06-2.06.94z\"/><path d=\"M17.41 7.96l-1.37-1.37c-.4-.4-.92-.59-1.43-.59-.52 0-1.04.2-1.43.59L10.3 9.45l-7.72 7.72c-.78.78-.78 2.05 0 2.83L4 21.41c.39.39.9.59 1.41.59.51 0 1.02-.2 1.41-.59l7.78-7.78 2.81-2.81c.8-.78.8-2.07 0-2.86zM5.41 20L4 18.59l7.72-7.72 1.47 1.35L5.41 20z\"/>\n",
              "  </svg>\n",
              "      </button>\n",
              "      \n",
              "  <style>\n",
              "    .colab-df-container {\n",
              "      display:flex;\n",
              "      flex-wrap:wrap;\n",
              "      gap: 12px;\n",
              "    }\n",
              "\n",
              "    .colab-df-convert {\n",
              "      background-color: #E8F0FE;\n",
              "      border: none;\n",
              "      border-radius: 50%;\n",
              "      cursor: pointer;\n",
              "      display: none;\n",
              "      fill: #1967D2;\n",
              "      height: 32px;\n",
              "      padding: 0 0 0 0;\n",
              "      width: 32px;\n",
              "    }\n",
              "\n",
              "    .colab-df-convert:hover {\n",
              "      background-color: #E2EBFA;\n",
              "      box-shadow: 0px 1px 2px rgba(60, 64, 67, 0.3), 0px 1px 3px 1px rgba(60, 64, 67, 0.15);\n",
              "      fill: #174EA6;\n",
              "    }\n",
              "\n",
              "    [theme=dark] .colab-df-convert {\n",
              "      background-color: #3B4455;\n",
              "      fill: #D2E3FC;\n",
              "    }\n",
              "\n",
              "    [theme=dark] .colab-df-convert:hover {\n",
              "      background-color: #434B5C;\n",
              "      box-shadow: 0px 1px 3px 1px rgba(0, 0, 0, 0.15);\n",
              "      filter: drop-shadow(0px 1px 2px rgba(0, 0, 0, 0.3));\n",
              "      fill: #FFFFFF;\n",
              "    }\n",
              "  </style>\n",
              "\n",
              "      <script>\n",
              "        const buttonEl =\n",
              "          document.querySelector('#df-5762cc1c-55ca-4442-bd60-95df73a491e1 button.colab-df-convert');\n",
              "        buttonEl.style.display =\n",
              "          google.colab.kernel.accessAllowed ? 'block' : 'none';\n",
              "\n",
              "        async function convertToInteractive(key) {\n",
              "          const element = document.querySelector('#df-5762cc1c-55ca-4442-bd60-95df73a491e1');\n",
              "          const dataTable =\n",
              "            await google.colab.kernel.invokeFunction('convertToInteractive',\n",
              "                                                     [key], {});\n",
              "          if (!dataTable) return;\n",
              "\n",
              "          const docLinkHtml = 'Like what you see? Visit the ' +\n",
              "            '<a target=\"_blank\" href=https://colab.research.google.com/notebooks/data_table.ipynb>data table notebook</a>'\n",
              "            + ' to learn more about interactive tables.';\n",
              "          element.innerHTML = '';\n",
              "          dataTable['output_type'] = 'display_data';\n",
              "          await google.colab.output.renderOutput(dataTable, element);\n",
              "          const docLink = document.createElement('div');\n",
              "          docLink.innerHTML = docLinkHtml;\n",
              "          element.appendChild(docLink);\n",
              "        }\n",
              "      </script>\n",
              "    </div>\n",
              "  </div>\n",
              "  "
            ]
          },
          "metadata": {},
          "execution_count": 21
        }
      ]
    },
    {
      "cell_type": "code",
      "source": [
        "yearly_sales.boxplot()"
      ],
      "metadata": {
        "colab": {
          "base_uri": "https://localhost:8080/",
          "height": 284
        },
        "id": "AaU-2zHiG5zO",
        "outputId": "59dc0e49-cf93-4dc6-d7b9-caf5913beb59"
      },
      "execution_count": 22,
      "outputs": [
        {
          "output_type": "execute_result",
          "data": {
            "text/plain": [
              "<matplotlib.axes._subplots.AxesSubplot at 0x7fdab4a82e50>"
            ]
          },
          "metadata": {},
          "execution_count": 22
        },
        {
          "output_type": "display_data",
          "data": {
            "text/plain": [
              "<Figure size 432x288 with 1 Axes>"
            ],
            "image/png": "[encoded data removed]"
          },
          "metadata": {
            "needs_background": "light"
          }
        }
      ]
    },
    {
      "cell_type": "markdown",
      "source": [
        "***Inferences:***\n",
        "+ The tractor sales have been increasing without fall every year.\n",
        "+ July and August are the peark months for tractor sales and the variance and the mean value in July and August are also much higher than any of the other months.\n",
        "+ We can see a seasonal cycle of 12 months where the mean value of each month starts with a increasing trend in the beginning of the year and drops down towards the end of the year.\n",
        "+ We can see a seasonal effect with a cylce of 12 months."
      ],
      "metadata": {
        "id": "CtzCBNrcHA4j"
      }
    },
    {
      "cell_type": "markdown",
      "source": [
        "**Decomposing the Time Series**"
      ],
      "metadata": {
        "id": "IWj7JCCkHg7w"
      }
    },
    {
      "cell_type": "code",
      "source": [
        "decomp = sm.tsa.seasonal_decompose(df_ts, model='multiplicative')\n",
        "fig = decomp.plot()"
      ],
      "metadata": {
        "colab": {
          "base_uri": "https://localhost:8080/",
          "height": 297
        },
        "id": "YGr_8V8zHeo8",
        "outputId": "47fde1ae-0c91-4013-c0ca-115fc4e65091"
      },
      "execution_count": 23,
      "outputs": [
        {
          "output_type": "display_data",
          "data": {
            "text/plain": [
              "<Figure size 432x288 with 4 Axes>"
            ],
            "image/png": "[encoded data removed]"
          },
          "metadata": {
            "needs_background": "light"
          }
        }
      ]
    },
    {
      "cell_type": "markdown",
      "source": [
        "**P,D,Q paramters**"
      ],
      "metadata": {
        "id": "pN9uB3X-HqLi"
      }
    },
    {
      "cell_type": "code",
      "source": [
        "d=q=range(0,2) #d=no. of non-seasonal difference needed for stationarity, q=no. of larg/forecast error\n",
        "p = range(0,4) #no. of autoregressive term"
      ],
      "metadata": {
        "id": "-A0tWEk4Hpge"
      },
      "execution_count": 24,
      "outputs": []
    },
    {
      "cell_type": "code",
      "source": [
        "pdq = list(itertools.product(p,d,q))\n",
        "pdq"
      ],
      "metadata": {
        "colab": {
          "base_uri": "https://localhost:8080/"
        },
        "id": "N5vWtbxRIAV4",
        "outputId": "cd6db916-798c-4455-e653-5bf20d02878f"
      },
      "execution_count": 25,
      "outputs": [
        {
          "output_type": "execute_result",
          "data": {
            "text/plain": [
              "[(0, 0, 0),\n",
              " (0, 0, 1),\n",
              " (0, 1, 0),\n",
              " (0, 1, 1),\n",
              " (1, 0, 0),\n",
              " (1, 0, 1),\n",
              " (1, 1, 0),\n",
              " (1, 1, 1),\n",
              " (2, 0, 0),\n",
              " (2, 0, 1),\n",
              " (2, 1, 0),\n",
              " (2, 1, 1),\n",
              " (3, 0, 0),\n",
              " (3, 0, 1),\n",
              " (3, 1, 0),\n",
              " (3, 1, 1)]"
            ]
          },
          "metadata": {},
          "execution_count": 25
        }
      ]
    },
    {
      "cell_type": "code",
      "source": [
        "seasonal_pdq = [(x[0], x[1], x[2], 12) for x in pdq]\n",
        "seasonal_pdq"
      ],
      "metadata": {
        "colab": {
          "base_uri": "https://localhost:8080/"
        },
        "id": "ATf_OzIrIDAT",
        "outputId": "409201d5-b90c-41a5-e3d6-1890979d1c40"
      },
      "execution_count": 26,
      "outputs": [
        {
          "output_type": "execute_result",
          "data": {
            "text/plain": [
              "[(0, 0, 0, 12),\n",
              " (0, 0, 1, 12),\n",
              " (0, 1, 0, 12),\n",
              " (0, 1, 1, 12),\n",
              " (1, 0, 0, 12),\n",
              " (1, 0, 1, 12),\n",
              " (1, 1, 0, 12),\n",
              " (1, 1, 1, 12),\n",
              " (2, 0, 0, 12),\n",
              " (2, 0, 1, 12),\n",
              " (2, 1, 0, 12),\n",
              " (2, 1, 1, 12),\n",
              " (3, 0, 0, 12),\n",
              " (3, 0, 1, 12),\n",
              " (3, 1, 0, 12),\n",
              " (3, 1, 1, 12)]"
            ]
          },
          "metadata": {},
          "execution_count": 26
        }
      ]
    },
    {
      "cell_type": "code",
      "source": [
        "print('ARIMAX: {} X {}'.format(pdq[1], seasonal_pdq[1]))"
      ],
      "metadata": {
        "colab": {
          "base_uri": "https://localhost:8080/"
        },
        "id": "CyfSSRU0MGrQ",
        "outputId": "39c6f0d8-c388-42ad-fc37-e204c49a0bed"
      },
      "execution_count": 27,
      "outputs": [
        {
          "output_type": "stream",
          "name": "stdout",
          "text": [
            "ARIMAX: (0, 0, 1) X (0, 0, 1, 12)\n"
          ]
        }
      ]
    },
    {
      "cell_type": "markdown",
      "source": [
        "# Building a SARIMAX model and finding the minimum value for AIC(Akaike Information Criterion)"
      ],
      "metadata": {
        "id": "gHi_kpAYMYr3"
      }
    },
    {
      "cell_type": "markdown",
      "source": [
        "AIC estimated the quality of each modelm relative to each of the other models. Thus, AIC provides a means of model selection."
      ],
      "metadata": {
        "id": "HTSyWJaUMfhi"
      }
    },
    {
      "cell_type": "markdown",
      "source": [
        "ORDER=> The (p,d,q) order of the model for the number of AR parameters, differences, and MA parameters. d must be an integer indicating the integration order of the process, while p and q may either be an integers indicatiung the AR and MA orders.\n",
        "\n",
        "Seasanal_Order -> The (P,D,Q,s) order of the seasonal component of the modelf or the AR paramters, differences, MA parameters, and the periodicity. d must be an integer indicating the integration order of the process, while p and q may either be an integers indicating the AR and MA order."
      ],
      "metadata": {
        "id": "pB5lYVS2Mnkp"
      }
    },
    {
      "cell_type": "code",
      "source": [
        "warnings.filterwarnings('ignore')\n",
        "AIC = []\n",
        "SARIMAX_model = []\n",
        "\n",
        "for param in pdq:\n",
        "  for param_seasonal in seasonal_pdq:\n",
        "    try:\n",
        "      mod = sm.tsa.statespace.SARIMAX(df_ts, order=param, seasonal_order = param_seasonal)\n",
        "      results = mod.fit()\n",
        "      print('SARIMAX{}x{} = AIC:{}'.format(param, param_seasonal, results.aic),end='\\r')\n",
        "      AIC.append(results.aic)\n",
        "      SARIMAX_model.append([param, param_seasonal])\n",
        "    except:\n",
        "      continue"
      ],
      "metadata": {
        "colab": {
          "base_uri": "https://localhost:8080/"
        },
        "id": "4v0KqPlkMfBt",
        "outputId": "8d9ebd74-3bcf-4a12-c919-e5897c5364d0"
      },
      "execution_count": 28,
      "outputs": [
        {
          "output_type": "stream",
          "name": "stdout",
          "text": [
            ""
          ]
        }
      ]
    },
    {
      "cell_type": "code",
      "source": [
        "# #Smallest AIC\n",
        "print('The smallest AIC {} for model SARIMAX {} x {}'.format(min(AIC), SARIMAX_model[AIC.index(min(AIC))][0], SARIMAX_model[AIC.index(min(AIC))][1]))"
      ],
      "metadata": {
        "colab": {
          "base_uri": "https://localhost:8080/"
        },
        "id": "E4HG_NhSNn54",
        "outputId": "1c46dbe8-8bd7-488a-f209-c37e991a91dd"
      },
      "execution_count": 29,
      "outputs": [
        {
          "output_type": "stream",
          "name": "stdout",
          "text": [
            "The smallest AIC 1111.4860860090173 for model SARIMAX (2, 1, 1) x (2, 1, 1, 12)\n"
          ]
        }
      ]
    },
    {
      "cell_type": "code",
      "source": [
        "SARIMAX_model[AIC.index(min(AIC))][0]"
      ],
      "metadata": {
        "colab": {
          "base_uri": "https://localhost:8080/"
        },
        "id": "ulOUrnbIOQaD",
        "outputId": "9bd59857-045a-4d7d-b4fc-4941133935b3"
      },
      "execution_count": 30,
      "outputs": [
        {
          "output_type": "execute_result",
          "data": {
            "text/plain": [
              "(2, 1, 1)"
            ]
          },
          "metadata": {},
          "execution_count": 30
        }
      ]
    },
    {
      "cell_type": "code",
      "source": [
        "min(AIC)"
      ],
      "metadata": {
        "colab": {
          "base_uri": "https://localhost:8080/"
        },
        "id": "PNLFKzTPOYZy",
        "outputId": "30fb2947-3f53-4c39-db55-2be91a9833ad"
      },
      "execution_count": 31,
      "outputs": [
        {
          "output_type": "execute_result",
          "data": {
            "text/plain": [
              "1111.4860860090173"
            ]
          },
          "metadata": {},
          "execution_count": 31
        }
      ]
    },
    {
      "cell_type": "code",
      "source": [
        "AIC.index(min(AIC))"
      ],
      "metadata": {
        "colab": {
          "base_uri": "https://localhost:8080/"
        },
        "id": "cweUXU-bOfUj",
        "outputId": "1d46093c-475f-4d6c-c791-763894510674"
      },
      "execution_count": 32,
      "outputs": [
        {
          "output_type": "execute_result",
          "data": {
            "text/plain": [
              "181"
            ]
          },
          "metadata": {},
          "execution_count": 32
        }
      ]
    },
    {
      "cell_type": "code",
      "source": [
        "SARIMAX_model[239]"
      ],
      "metadata": {
        "colab": {
          "base_uri": "https://localhost:8080/"
        },
        "id": "7CCQMEKYOgdL",
        "outputId": "edc868c4-707a-4b72-c81a-fac8d24b40b0"
      },
      "execution_count": 33,
      "outputs": [
        {
          "output_type": "execute_result",
          "data": {
            "text/plain": [
              "[(3, 1, 1), (2, 1, 0, 12)]"
            ]
          },
          "metadata": {},
          "execution_count": 33
        }
      ]
    },
    {
      "cell_type": "code",
      "source": [
        "mod = sm.tsa.statespace.SARIMAX(df_ts, order=SARIMAX_model[AIC.index(min(AIC))][0], seasonal_order=SARIMAX_model[AIC.index(min(AIC))][1],enforce_stationarity=False, enforce_invertibility=False)"
      ],
      "metadata": {
        "id": "5f9M9ol7OmwT"
      },
      "execution_count": 34,
      "outputs": []
    },
    {
      "cell_type": "code",
      "source": [
        "results = mod.fit()"
      ],
      "metadata": {
        "id": "rj_p5hEPO2-9"
      },
      "execution_count": 35,
      "outputs": []
    },
    {
      "cell_type": "markdown",
      "source": [
        "**Diganostic plot**"
      ],
      "metadata": {
        "id": "EegS8zYGO4_w"
      }
    },
    {
      "cell_type": "code",
      "source": [
        "results.plot_diagnostics(figsize=(20,15))\n",
        "plt.show()"
      ],
      "metadata": {
        "colab": {
          "base_uri": "https://localhost:8080/",
          "height": 893
        },
        "id": "03t-Bqj2O4RL",
        "outputId": "4e586dbc-e247-42c0-dc2c-dc437a1b2fb1"
      },
      "execution_count": 36,
      "outputs": [
        {
          "output_type": "display_data",
          "data": {
            "text/plain": [
              "<Figure size 1440x1080 with 4 Axes>"
            ],
            "image/png": "[encoded data removed]"
          },
          "metadata": {
            "needs_background": "light"
          }
        }
      ]
    },
    {
      "cell_type": "markdown",
      "source": [
        "**Predictions**"
      ],
      "metadata": {
        "id": "bGzUoUSbPFHB"
      }
    },
    {
      "cell_type": "code",
      "source": [
        "#in this case the model is used to predict data that the model was built on.\n",
        "#1-step ahead forecasting implies that each forecasted point is used to predict the following one.\n",
        "pred0 = results.get_prediction(start='2003-01-01', dynamic=False)\n",
        "pred0_ci = pred0.conf_int()"
      ],
      "metadata": {
        "id": "jeKKyHvFPBkV"
      },
      "execution_count": 37,
      "outputs": []
    },
    {
      "cell_type": "code",
      "source": [
        "#In sample prediction with dynamic forecasting of the last year\n",
        "#Again, the model is used to predict data that the model was built on\n",
        "pred1 = results.get_prediction(start='2003-01-01', dynamic=True)\n",
        "pred1_ci = pred1.conf_int() "
      ],
      "metadata": {
        "id": "c9AN_6muPeEA"
      },
      "execution_count": 38,
      "outputs": []
    },
    {
      "cell_type": "code",
      "source": [
        "#'True' forecasting of out of sample data\n",
        "#in this case the model is asked to predict data it has not seen before.\n",
        "pred2 = results.get_forecast('2016-01-01')\n",
        "pred2_ci = pred2.conf_int()"
      ],
      "metadata": {
        "id": "yjevPAlwPpF3"
      },
      "execution_count": 39,
      "outputs": []
    },
    {
      "cell_type": "code",
      "source": [
        "#plot the predicted values\n",
        "ax = df_ts.plot(figsize=(20,16))\n",
        "pred0.predicted_mean.plot(ax=ax, label='1-step-ahead-forecast')\n",
        "pred1.predicted_mean.plot(ax=ax, label='Dynamic Forecast')\n",
        "pred2.predicted_mean.plot(ax=ax, label='Dynamic Forecast for 2016')\n",
        "ax.fill_between(pred2_ci.index, pred2_ci.iloc[:,0], pred2_ci.iloc[:,1], color='k', alpha=0.1)\n",
        "\n",
        "plt.ylabel('Monthly Tractor sales')\n",
        "plt.xlabel('Date')\n",
        "plt.legend()\n",
        "plt.show()"
      ],
      "metadata": {
        "colab": {
          "base_uri": "https://localhost:8080/",
          "height": 932
        },
        "id": "1kRiqEWLP9jq",
        "outputId": "ecbf2562-6139-4317-d9e1-529d2c0bbd34"
      },
      "execution_count": 47,
      "outputs": [
        {
          "output_type": "display_data",
          "data": {
            "text/plain": [
              "<Figure size 1440x1152 with 1 Axes>"
            ],
            "image/png": "[encoded data removed]"
          },
          "metadata": {
            "needs_background": "light"
          }
        }
      ]
    },
    {
      "cell_type": "code",
      "source": [
        "pred1"
      ],
      "metadata": {
        "colab": {
          "base_uri": "https://localhost:8080/"
        },
        "id": "yeRxU6jHQZoW",
        "outputId": "e0821777-e47c-4b2a-cc4c-51acf2fbd4ef"
      },
      "execution_count": 48,
      "outputs": [
        {
          "output_type": "execute_result",
          "data": {
            "text/plain": [
              "<statsmodels.tsa.statespace.mlemodel.PredictionResultsWrapper at 0x7fdaafd24e10>"
            ]
          },
          "metadata": {},
          "execution_count": 48
        }
      ]
    },
    {
      "cell_type": "code",
      "source": [
        "pred2_ci.head()"
      ],
      "metadata": {
        "colab": {
          "base_uri": "https://localhost:8080/",
          "height": 206
        },
        "id": "ZiATW8UmQvHl",
        "outputId": "a7746a7c-73e5-454d-ca18-0e2d66357a6d"
      },
      "execution_count": 42,
      "outputs": [
        {
          "output_type": "execute_result",
          "data": {
            "text/plain": [
              "            lower Tractor-Sales  upper Tractor-Sales\n",
              "2015-01-01           539.679835           602.816354\n",
              "2015-02-01           530.905379           600.920450\n",
              "2015-03-01           622.574252           700.663881\n",
              "2015-04-01           719.945936           804.028706\n",
              "2015-05-01           818.969294           908.711216"
            ],
            "text/html": [
              "\n",
              "  <div id=\"df-513c9958-f7b3-4962-a5f4-ebf8a2f92f6c\">\n",
              "    <div class=\"colab-df-container\">\n",
              "      <div>\n",
              "<style scoped>\n",
              "    .dataframe tbody tr th:only-of-type {\n",
              "        vertical-align: middle;\n",
              "    }\n",
              "\n",
              "    .dataframe tbody tr th {\n",
              "        vertical-align: top;\n",
              "    }\n",
              "\n",
              "    .dataframe thead th {\n",
              "        text-align: right;\n",
              "    }\n",
              "</style>\n",
              "<table border=\"1\" class=\"dataframe\">\n",
              "  <thead>\n",
              "    <tr style=\"text-align: right;\">\n",
              "      <th></th>\n",
              "      <th>lower Tractor-Sales</th>\n",
              "      <th>upper Tractor-Sales</th>\n",
              "    </tr>\n",
              "  </thead>\n",
              "  <tbody>\n",
              "    <tr>\n",
              "      <th>2015-01-01</th>\n",
              "      <td>539.679835</td>\n",
              "      <td>602.816354</td>\n",
              "    </tr>\n",
              "    <tr>\n",
              "      <th>2015-02-01</th>\n",
              "      <td>530.905379</td>\n",
              "      <td>600.920450</td>\n",
              "    </tr>\n",
              "    <tr>\n",
              "      <th>2015-03-01</th>\n",
              "      <td>622.574252</td>\n",
              "      <td>700.663881</td>\n",
              "    </tr>\n",
              "    <tr>\n",
              "      <th>2015-04-01</th>\n",
              "      <td>719.945936</td>\n",
              "      <td>804.028706</td>\n",
              "    </tr>\n",
              "    <tr>\n",
              "      <th>2015-05-01</th>\n",
              "      <td>818.969294</td>\n",
              "      <td>908.711216</td>\n",
              "    </tr>\n",
              "  </tbody>\n",
              "</table>\n",
              "</div>\n",
              "      <button class=\"colab-df-convert\" onclick=\"convertToInteractive('df-513c9958-f7b3-4962-a5f4-ebf8a2f92f6c')\"\n",
              "              title=\"Convert this dataframe to an interactive table.\"\n",
              "              style=\"display:none;\">\n",
              "        \n",
              "  <svg xmlns=\"http://www.w3.org/2000/svg\" height=\"24px\"viewBox=\"0 0 24 24\"\n",
              "       width=\"24px\">\n",
              "    <path d=\"M0 0h24v24H0V0z\" fill=\"none\"/>\n",
              "    <path d=\"M18.56 5.44l.94 2.06.94-2.06 2.06-.94-2.06-.94-.94-2.06-.94 2.06-2.06.94zm-11 1L8.5 8.5l.94-2.06 2.06-.94-2.06-.94L8.5 2.5l-.94 2.06-2.06.94zm10 10l.94 2.06.94-2.06 2.06-.94-2.06-.94-.94-2.06-.94 2.06-2.06.94z\"/><path d=\"M17.41 7.96l-1.37-1.37c-.4-.4-.92-.59-1.43-.59-.52 0-1.04.2-1.43.59L10.3 9.45l-7.72 7.72c-.78.78-.78 2.05 0 2.83L4 21.41c.39.39.9.59 1.41.59.51 0 1.02-.2 1.41-.59l7.78-7.78 2.81-2.81c.8-.78.8-2.07 0-2.86zM5.41 20L4 18.59l7.72-7.72 1.47 1.35L5.41 20z\"/>\n",
              "  </svg>\n",
              "      </button>\n",
              "      \n",
              "  <style>\n",
              "    .colab-df-container {\n",
              "      display:flex;\n",
              "      flex-wrap:wrap;\n",
              "      gap: 12px;\n",
              "    }\n",
              "\n",
              "    .colab-df-convert {\n",
              "      background-color: #E8F0FE;\n",
              "      border: none;\n",
              "      border-radius: 50%;\n",
              "      cursor: pointer;\n",
              "      display: none;\n",
              "      fill: #1967D2;\n",
              "      height: 32px;\n",
              "      padding: 0 0 0 0;\n",
              "      width: 32px;\n",
              "    }\n",
              "\n",
              "    .colab-df-convert:hover {\n",
              "      background-color: #E2EBFA;\n",
              "      box-shadow: 0px 1px 2px rgba(60, 64, 67, 0.3), 0px 1px 3px 1px rgba(60, 64, 67, 0.15);\n",
              "      fill: #174EA6;\n",
              "    }\n",
              "\n",
              "    [theme=dark] .colab-df-convert {\n",
              "      background-color: #3B4455;\n",
              "      fill: #D2E3FC;\n",
              "    }\n",
              "\n",
              "    [theme=dark] .colab-df-convert:hover {\n",
              "      background-color: #434B5C;\n",
              "      box-shadow: 0px 1px 3px 1px rgba(0, 0, 0, 0.15);\n",
              "      filter: drop-shadow(0px 1px 2px rgba(0, 0, 0, 0.3));\n",
              "      fill: #FFFFFF;\n",
              "    }\n",
              "  </style>\n",
              "\n",
              "      <script>\n",
              "        const buttonEl =\n",
              "          document.querySelector('#df-513c9958-f7b3-4962-a5f4-ebf8a2f92f6c button.colab-df-convert');\n",
              "        buttonEl.style.display =\n",
              "          google.colab.kernel.accessAllowed ? 'block' : 'none';\n",
              "\n",
              "        async function convertToInteractive(key) {\n",
              "          const element = document.querySelector('#df-513c9958-f7b3-4962-a5f4-ebf8a2f92f6c');\n",
              "          const dataTable =\n",
              "            await google.colab.kernel.invokeFunction('convertToInteractive',\n",
              "                                                     [key], {});\n",
              "          if (!dataTable) return;\n",
              "\n",
              "          const docLinkHtml = 'Like what you see? Visit the ' +\n",
              "            '<a target=\"_blank\" href=https://colab.research.google.com/notebooks/data_table.ipynb>data table notebook</a>'\n",
              "            + ' to learn more about interactive tables.';\n",
              "          element.innerHTML = '';\n",
              "          dataTable['output_type'] = 'display_data';\n",
              "          await google.colab.output.renderOutput(dataTable, element);\n",
              "          const docLink = document.createElement('div');\n",
              "          docLink.innerHTML = docLinkHtml;\n",
              "          element.appendChild(docLink);\n",
              "        }\n",
              "      </script>\n",
              "    </div>\n",
              "  </div>\n",
              "  "
            ]
          },
          "metadata": {},
          "execution_count": 42
        }
      ]
    },
    {
      "cell_type": "code",
      "source": [
        "pred2_ci.iloc[:,0].head()"
      ],
      "metadata": {
        "colab": {
          "base_uri": "https://localhost:8080/"
        },
        "id": "JTO2RW29QwTF",
        "outputId": "25adf24d-9969-40c7-b12c-3bdec878fdce"
      },
      "execution_count": 43,
      "outputs": [
        {
          "output_type": "execute_result",
          "data": {
            "text/plain": [
              "2015-01-01    539.679835\n",
              "2015-02-01    530.905379\n",
              "2015-03-01    622.574252\n",
              "2015-04-01    719.945936\n",
              "2015-05-01    818.969294\n",
              "Freq: MS, Name: lower Tractor-Sales, dtype: float64"
            ]
          },
          "metadata": {},
          "execution_count": 43
        }
      ]
    },
    {
      "cell_type": "code",
      "source": [
        "pred2_ci.iloc[:,1].head()"
      ],
      "metadata": {
        "colab": {
          "base_uri": "https://localhost:8080/"
        },
        "id": "tMx0vVwBQyT8",
        "outputId": "e1adf040-39a6-44cd-8ca0-ab123c988857"
      },
      "execution_count": 44,
      "outputs": [
        {
          "output_type": "execute_result",
          "data": {
            "text/plain": [
              "2015-01-01    602.816354\n",
              "2015-02-01    600.920450\n",
              "2015-03-01    700.663881\n",
              "2015-04-01    804.028706\n",
              "2015-05-01    908.711216\n",
              "Freq: MS, Name: upper Tractor-Sales, dtype: float64"
            ]
          },
          "metadata": {},
          "execution_count": 44
        }
      ]
    },
    {
      "cell_type": "code",
      "source": [
        "pred2_ci.index"
      ],
      "metadata": {
        "colab": {
          "base_uri": "https://localhost:8080/"
        },
        "id": "3KYnD9lEQ0Kk",
        "outputId": "8ad0a315-4b8f-4e3c-e3be-ce4281c0ecba"
      },
      "execution_count": 45,
      "outputs": [
        {
          "output_type": "execute_result",
          "data": {
            "text/plain": [
              "DatetimeIndex(['2015-01-01', '2015-02-01', '2015-03-01', '2015-04-01',\n",
              "               '2015-05-01', '2015-06-01', '2015-07-01', '2015-08-01',\n",
              "               '2015-09-01', '2015-10-01', '2015-11-01', '2015-12-01',\n",
              "               '2016-01-01'],\n",
              "              dtype='datetime64[ns]', freq='MS')"
            ]
          },
          "metadata": {},
          "execution_count": 45
        }
      ]
    },
    {
      "cell_type": "code",
      "source": [
        ""
      ],
      "metadata": {
        "id": "musC1hm2Q1oN"
      },
      "execution_count": null,
      "outputs": []
    }
  ]
}