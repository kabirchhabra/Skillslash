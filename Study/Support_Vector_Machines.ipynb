{
  "nbformat": 4,
  "nbformat_minor": 0,
  "metadata": {
    "colab": {
      "name": "Support_Vector_Machines",
      "provenance": [],
      "authorship_tag": "ABX9TyMoZIiHO0JrBlnQxiSpl5tq",
      "include_colab_link": true
    },
    "kernelspec": {
      "name": "python3",
      "display_name": "Python 3"
    },
    "language_info": {
      "name": "python"
    }
  },
  "cells": [
    {
      "cell_type": "markdown",
      "metadata": {
        "id": "view-in-github",
        "colab_type": "text"
      },
      "source": [
        "<a href=\"https://colab.research.google.com/github/kabirchhabra/Skillslash/blob/main/Support_Vector_Machines.ipynb\" target=\"_parent\"><img src=\"https://colab.research.google.com/assets/colab-badge.svg\" alt=\"Open In Colab\"/></a>"
      ]
    },
    {
      "cell_type": "markdown",
      "source": [
        "#SVM"
      ],
      "metadata": {
        "id": "1cfQz9JsUruT"
      }
    },
    {
      "cell_type": "markdown",
      "source": [
        "Supervised classification algorithm"
      ],
      "metadata": {
        "id": "5kRgaxNvRpm-"
      }
    },
    {
      "cell_type": "markdown",
      "source": [
        "**Background:**\n",
        "+ To Understand svm, we must understand hyperplanes.\n",
        "+ Formally,  a hyperplane is an n-1 subspace in an n-dimesnional space.\n",
        "+ If we wanted to divide a two dimensional space, we'd use a one-dimesnional hyperplane (i.e a line)."
      ],
      "metadata": {
        "id": "VRrRX04JUwIT"
      }
    },
    {
      "cell_type": "markdown",
      "source": [
        "**Maximize Margin:**\n",
        "+ A hyperplane is simply a generalization of that concept into n dimesnions.\n",
        "+ Support vector machines classify data by finding the hyperplane that maximizes the margin between the classes in the training data.\n",
        "+ In a two-dimensional example with two classes, we can think of a hyperplane as the widest straight 'band' (i.e line with margins) that separates the two classes."
      ],
      "metadata": {
        "id": "h7z_-BmLObsF"
      }
    },
    {
      "cell_type": "markdown",
      "source": [
        "# Iris dataset (Linear SVC)"
      ],
      "metadata": {
        "id": "zxREJOQQRvMz"
      }
    },
    {
      "cell_type": "code",
      "source": [
        "import pandas as pd\n",
        "from sklearn.svm import LinearSVC\n",
        "from sklearn.preprocessing import StandardScaler\n",
        "from sklearn.model_selection import train_test_split\n",
        "import seaborn as sns\n",
        "import matplotlib.pyplot as plt"
      ],
      "metadata": {
        "id": "6U8s5RTaRwVu"
      },
      "execution_count": 1,
      "outputs": []
    },
    {
      "cell_type": "code",
      "source": [
        "iris = sns.load_dataset('iris')\n",
        "iris.head()"
      ],
      "metadata": {
        "colab": {
          "base_uri": "https://localhost:8080/",
          "height": 206
        },
        "id": "odu3DXKRSI-p",
        "outputId": "cd6219c8-7cae-464a-f529-2c9fe86b31f5"
      },
      "execution_count": 7,
      "outputs": [
        {
          "output_type": "execute_result",
          "data": {
            "text/plain": [
              "   sepal_length  sepal_width  petal_length  petal_width species\n",
              "0           5.1          3.5           1.4          0.2  setosa\n",
              "1           4.9          3.0           1.4          0.2  setosa\n",
              "2           4.7          3.2           1.3          0.2  setosa\n",
              "3           4.6          3.1           1.5          0.2  setosa\n",
              "4           5.0          3.6           1.4          0.2  setosa"
            ],
            "text/html": [
              "\n",
              "  <div id=\"df-689a06cb-919b-4b65-8ec3-db0ba8718c89\">\n",
              "    <div class=\"colab-df-container\">\n",
              "      <div>\n",
              "<style scoped>\n",
              "    .dataframe tbody tr th:only-of-type {\n",
              "        vertical-align: middle;\n",
              "    }\n",
              "\n",
              "    .dataframe tbody tr th {\n",
              "        vertical-align: top;\n",
              "    }\n",
              "\n",
              "    .dataframe thead th {\n",
              "        text-align: right;\n",
              "    }\n",
              "</style>\n",
              "<table border=\"1\" class=\"dataframe\">\n",
              "  <thead>\n",
              "    <tr style=\"text-align: right;\">\n",
              "      <th></th>\n",
              "      <th>sepal_length</th>\n",
              "      <th>sepal_width</th>\n",
              "      <th>petal_length</th>\n",
              "      <th>petal_width</th>\n",
              "      <th>species</th>\n",
              "    </tr>\n",
              "  </thead>\n",
              "  <tbody>\n",
              "    <tr>\n",
              "      <th>0</th>\n",
              "      <td>5.1</td>\n",
              "      <td>3.5</td>\n",
              "      <td>1.4</td>\n",
              "      <td>0.2</td>\n",
              "      <td>setosa</td>\n",
              "    </tr>\n",
              "    <tr>\n",
              "      <th>1</th>\n",
              "      <td>4.9</td>\n",
              "      <td>3.0</td>\n",
              "      <td>1.4</td>\n",
              "      <td>0.2</td>\n",
              "      <td>setosa</td>\n",
              "    </tr>\n",
              "    <tr>\n",
              "      <th>2</th>\n",
              "      <td>4.7</td>\n",
              "      <td>3.2</td>\n",
              "      <td>1.3</td>\n",
              "      <td>0.2</td>\n",
              "      <td>setosa</td>\n",
              "    </tr>\n",
              "    <tr>\n",
              "      <th>3</th>\n",
              "      <td>4.6</td>\n",
              "      <td>3.1</td>\n",
              "      <td>1.5</td>\n",
              "      <td>0.2</td>\n",
              "      <td>setosa</td>\n",
              "    </tr>\n",
              "    <tr>\n",
              "      <th>4</th>\n",
              "      <td>5.0</td>\n",
              "      <td>3.6</td>\n",
              "      <td>1.4</td>\n",
              "      <td>0.2</td>\n",
              "      <td>setosa</td>\n",
              "    </tr>\n",
              "  </tbody>\n",
              "</table>\n",
              "</div>\n",
              "      <button class=\"colab-df-convert\" onclick=\"convertToInteractive('df-689a06cb-919b-4b65-8ec3-db0ba8718c89')\"\n",
              "              title=\"Convert this dataframe to an interactive table.\"\n",
              "              style=\"display:none;\">\n",
              "        \n",
              "  <svg xmlns=\"http://www.w3.org/2000/svg\" height=\"24px\"viewBox=\"0 0 24 24\"\n",
              "       width=\"24px\">\n",
              "    <path d=\"M0 0h24v24H0V0z\" fill=\"none\"/>\n",
              "    <path d=\"M18.56 5.44l.94 2.06.94-2.06 2.06-.94-2.06-.94-.94-2.06-.94 2.06-2.06.94zm-11 1L8.5 8.5l.94-2.06 2.06-.94-2.06-.94L8.5 2.5l-.94 2.06-2.06.94zm10 10l.94 2.06.94-2.06 2.06-.94-2.06-.94-.94-2.06-.94 2.06-2.06.94z\"/><path d=\"M17.41 7.96l-1.37-1.37c-.4-.4-.92-.59-1.43-.59-.52 0-1.04.2-1.43.59L10.3 9.45l-7.72 7.72c-.78.78-.78 2.05 0 2.83L4 21.41c.39.39.9.59 1.41.59.51 0 1.02-.2 1.41-.59l7.78-7.78 2.81-2.81c.8-.78.8-2.07 0-2.86zM5.41 20L4 18.59l7.72-7.72 1.47 1.35L5.41 20z\"/>\n",
              "  </svg>\n",
              "      </button>\n",
              "      \n",
              "  <style>\n",
              "    .colab-df-container {\n",
              "      display:flex;\n",
              "      flex-wrap:wrap;\n",
              "      gap: 12px;\n",
              "    }\n",
              "\n",
              "    .colab-df-convert {\n",
              "      background-color: #E8F0FE;\n",
              "      border: none;\n",
              "      border-radius: 50%;\n",
              "      cursor: pointer;\n",
              "      display: none;\n",
              "      fill: #1967D2;\n",
              "      height: 32px;\n",
              "      padding: 0 0 0 0;\n",
              "      width: 32px;\n",
              "    }\n",
              "\n",
              "    .colab-df-convert:hover {\n",
              "      background-color: #E2EBFA;\n",
              "      box-shadow: 0px 1px 2px rgba(60, 64, 67, 0.3), 0px 1px 3px 1px rgba(60, 64, 67, 0.15);\n",
              "      fill: #174EA6;\n",
              "    }\n",
              "\n",
              "    [theme=dark] .colab-df-convert {\n",
              "      background-color: #3B4455;\n",
              "      fill: #D2E3FC;\n",
              "    }\n",
              "\n",
              "    [theme=dark] .colab-df-convert:hover {\n",
              "      background-color: #434B5C;\n",
              "      box-shadow: 0px 1px 3px 1px rgba(0, 0, 0, 0.15);\n",
              "      filter: drop-shadow(0px 1px 2px rgba(0, 0, 0, 0.3));\n",
              "      fill: #FFFFFF;\n",
              "    }\n",
              "  </style>\n",
              "\n",
              "      <script>\n",
              "        const buttonEl =\n",
              "          document.querySelector('#df-689a06cb-919b-4b65-8ec3-db0ba8718c89 button.colab-df-convert');\n",
              "        buttonEl.style.display =\n",
              "          google.colab.kernel.accessAllowed ? 'block' : 'none';\n",
              "\n",
              "        async function convertToInteractive(key) {\n",
              "          const element = document.querySelector('#df-689a06cb-919b-4b65-8ec3-db0ba8718c89');\n",
              "          const dataTable =\n",
              "            await google.colab.kernel.invokeFunction('convertToInteractive',\n",
              "                                                     [key], {});\n",
              "          if (!dataTable) return;\n",
              "\n",
              "          const docLinkHtml = 'Like what you see? Visit the ' +\n",
              "            '<a target=\"_blank\" href=https://colab.research.google.com/notebooks/data_table.ipynb>data table notebook</a>'\n",
              "            + ' to learn more about interactive tables.';\n",
              "          element.innerHTML = '';\n",
              "          dataTable['output_type'] = 'display_data';\n",
              "          await google.colab.output.renderOutput(dataTable, element);\n",
              "          const docLink = document.createElement('div');\n",
              "          docLink.innerHTML = docLinkHtml;\n",
              "          element.appendChild(docLink);\n",
              "        }\n",
              "      </script>\n",
              "    </div>\n",
              "  </div>\n",
              "  "
            ]
          },
          "metadata": {},
          "execution_count": 7
        }
      ]
    },
    {
      "cell_type": "code",
      "source": [
        "iris['species'].value_counts()"
      ],
      "metadata": {
        "colab": {
          "base_uri": "https://localhost:8080/"
        },
        "id": "T3wS0WigSRBn",
        "outputId": "1a36206b-aade-49ea-e2da-dfc1024dc577"
      },
      "execution_count": 8,
      "outputs": [
        {
          "output_type": "execute_result",
          "data": {
            "text/plain": [
              "setosa        50\n",
              "versicolor    50\n",
              "virginica     50\n",
              "Name: species, dtype: int64"
            ]
          },
          "metadata": {},
          "execution_count": 8
        }
      ]
    },
    {
      "cell_type": "code",
      "source": [
        "iris.columns"
      ],
      "metadata": {
        "colab": {
          "base_uri": "https://localhost:8080/"
        },
        "id": "sJ50QC_cSp6W",
        "outputId": "e5e5fcd3-4238-4760-e1a0-78860d4c3149"
      },
      "execution_count": 9,
      "outputs": [
        {
          "output_type": "execute_result",
          "data": {
            "text/plain": [
              "Index(['sepal_length', 'sepal_width', 'petal_length', 'petal_width',\n",
              "       'species'],\n",
              "      dtype='object')"
            ]
          },
          "metadata": {},
          "execution_count": 9
        }
      ]
    },
    {
      "cell_type": "code",
      "source": [
        "X_features = iris.loc[:, iris.columns!='species']\n",
        "X_features = X_features.columns\n",
        "X_features"
      ],
      "metadata": {
        "colab": {
          "base_uri": "https://localhost:8080/"
        },
        "id": "MIJZSdSkSq41",
        "outputId": "1fb6a6f4-7550-4d7e-a808-3ba2f1cafd1a"
      },
      "execution_count": 16,
      "outputs": [
        {
          "output_type": "execute_result",
          "data": {
            "text/plain": [
              "Index(['sepal_length', 'sepal_width', 'petal_length', 'petal_width'], dtype='object')"
            ]
          },
          "metadata": {},
          "execution_count": 16
        }
      ]
    },
    {
      "cell_type": "code",
      "source": [
        "X = iris[X_features]\n",
        "y = iris['species']"
      ],
      "metadata": {
        "id": "UeGpSA7pS1FH"
      },
      "execution_count": 17,
      "outputs": []
    },
    {
      "cell_type": "code",
      "source": [
        "X_train, X_test, y_train, y_test = train_test_split(X,y,test_size=0.3, random_state=42)"
      ],
      "metadata": {
        "id": "pNctux5fTdNF"
      },
      "execution_count": 28,
      "outputs": []
    },
    {
      "cell_type": "code",
      "source": [
        "scaler = StandardScaler()\n",
        "X_train = scaler.fit_transform(X_train)\n",
        "X_test = scaler.transform(X_test)"
      ],
      "metadata": {
        "id": "WGb2XCvHTkc1"
      },
      "execution_count": 29,
      "outputs": []
    },
    {
      "cell_type": "code",
      "source": [
        "svc = LinearSVC()"
      ],
      "metadata": {
        "id": "voL67K5xTwz1"
      },
      "execution_count": 30,
      "outputs": []
    },
    {
      "cell_type": "code",
      "source": [
        "model = svc.fit(X_train, y_train)"
      ],
      "metadata": {
        "id": "64QmpBleT0As"
      },
      "execution_count": 31,
      "outputs": []
    },
    {
      "cell_type": "code",
      "source": [
        "pred_y = model.predict(X_test)"
      ],
      "metadata": {
        "id": "jVqJuK6nT2uc"
      },
      "execution_count": 32,
      "outputs": []
    },
    {
      "cell_type": "markdown",
      "source": [
        "**Performance Metrics**"
      ],
      "metadata": {
        "id": "MaPQAMBlUk8u"
      }
    },
    {
      "cell_type": "code",
      "source": [
        "from sklearn import metrics"
      ],
      "metadata": {
        "id": "R5H3eDMNT4cS"
      },
      "execution_count": 33,
      "outputs": []
    },
    {
      "cell_type": "code",
      "source": [
        "print(metrics.confusion_matrix(y_test, pred_y))"
      ],
      "metadata": {
        "colab": {
          "base_uri": "https://localhost:8080/"
        },
        "id": "jalgcjbwUojs",
        "outputId": "ff0520cd-49a9-4ebb-e8d1-20e67a0d2ec2"
      },
      "execution_count": 34,
      "outputs": [
        {
          "output_type": "stream",
          "name": "stdout",
          "text": [
            "[[19  0  0]\n",
            " [ 0 11  2]\n",
            " [ 0  0 13]]\n"
          ]
        }
      ]
    },
    {
      "cell_type": "code",
      "source": [
        "print(metrics.classification_report(y_test, pred_y))"
      ],
      "metadata": {
        "colab": {
          "base_uri": "https://localhost:8080/"
        },
        "id": "u5OpIJ-5UuXk",
        "outputId": "5fead2e4-21a1-4c46-a8e6-308fd1425ce1"
      },
      "execution_count": 35,
      "outputs": [
        {
          "output_type": "stream",
          "name": "stdout",
          "text": [
            "              precision    recall  f1-score   support\n",
            "\n",
            "      setosa       1.00      1.00      1.00        19\n",
            "  versicolor       1.00      0.85      0.92        13\n",
            "   virginica       0.87      1.00      0.93        13\n",
            "\n",
            "    accuracy                           0.96        45\n",
            "   macro avg       0.96      0.95      0.95        45\n",
            "weighted avg       0.96      0.96      0.96        45\n",
            "\n"
          ]
        }
      ]
    },
    {
      "cell_type": "markdown",
      "source": [
        "# Support vectors"
      ],
      "metadata": {
        "id": "-N2ZnRVNbsQo"
      }
    },
    {
      "cell_type": "markdown",
      "source": [
        "![Screenshot 2022-03-16 120423.png](data:image/png;base64,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)"
      ],
      "metadata": {
        "id": "eCtID21Wb5hR"
      }
    },
    {
      "cell_type": "markdown",
      "source": [
        "+ Support vectors machines get their name from the fact that the hyperplane is being determined by a relatively small number of observations, called the support vectors.\n",
        "+ Intuitively, think of the hyperplane as being 'carried' by these support vectors.\n",
        "+ These support vectors are therefore very important to our model.\n",
        "+ For eg, if we remove an observation that is not a support vectore from the data, the model does not change;\n",
        "+ However, if we remove a support vector, the hyperplane will not have the maximum margin.\n",
        "+ After we have trained an SVC, scikit learn offers us a number of options for identify-ing the support vector."
      ],
      "metadata": {
        "id": "QWNjA8HLcMPH"
      }
    },
    {
      "cell_type": "markdown",
      "source": [
        "**RBF parameters:**\n",
        "+ Radial Basis Function kernel creates a decision boundary that is able to do a much better job of separating classes than the linear kernel.\n",
        "+ RBF computes decision boundaries in terms of similarity measures in a high-dimensional feature space.\n",
        "+ Gamma parameter of RBF controls the influence of a single training point.\n",
        "+ Very large gamma values tend to overfit, very small gamma values tend to underfit. "
      ],
      "metadata": {
        "id": "xa5UnRkFdAz3"
      }
    },
    {
      "cell_type": "markdown",
      "source": [
        "**Predicted Probabilites:**\n",
        "+ SVC's use of a hyperplane to create decision regions does not naturally output a probability estimate that an observation is a member of a certain class.\n",
        "+ A separate cross-validated logistic regression is trained to map the SVC outputs into probabilities.\n",
        "+ The predicted probabilities must be generated when the model is being trained. We do this by setting SVC's probability to True."
      ],
      "metadata": {
        "id": "6d093iHBeq1n"
      }
    },
    {
      "cell_type": "code",
      "source": [
        ""
      ],
      "metadata": {
        "id": "qgo3Bw0gbtv0"
      },
      "execution_count": null,
      "outputs": []
    },
    {
      "cell_type": "markdown",
      "source": [
        "#Bank Model"
      ],
      "metadata": {
        "id": "19GkJJl7fX4G"
      }
    },
    {
      "cell_type": "code",
      "source": [
        "import pandas as pd\n",
        "from sklearn.svm import SVC\n",
        "from sklearn.preprocessing import StandardScaler\n",
        "from sklearn.model_selection import train_test_split\n",
        "import matplotlib.pyplot as plt"
      ],
      "metadata": {
        "id": "yJKkTv2CfZAR"
      },
      "execution_count": 39,
      "outputs": []
    },
    {
      "cell_type": "code",
      "source": [
        "bank_df = pd.read_csv('bank.csv')\n",
        "bank_df.head()"
      ],
      "metadata": {
        "colab": {
          "base_uri": "https://localhost:8080/",
          "height": 288
        },
        "id": "_2iakBMFfxGY",
        "outputId": "4795c6bb-4f3e-4332-8f68-06ba81955550"
      },
      "execution_count": 40,
      "outputs": [
        {
          "output_type": "execute_result",
          "data": {
            "text/plain": [
              "   age          job  marital  education default  balance housing-loan  \\\n",
              "0   30   unemployed  married    primary      no     1787           no   \n",
              "1   33     services  married  secondary      no     4789          yes   \n",
              "2   35   management   single   tertiary      no     1350          yes   \n",
              "3   30   management  married   tertiary      no     1476          yes   \n",
              "4   59  blue-collar  married  secondary      no        0          yes   \n",
              "\n",
              "  personal-loan  current-campaign  previous-campaign subscribed  \n",
              "0            no                 1                  0         no  \n",
              "1           yes                 1                  4         no  \n",
              "2            no                 1                  1         no  \n",
              "3           yes                 4                  0         no  \n",
              "4            no                 1                  0         no  "
            ],
            "text/html": [
              "\n",
              "  <div id=\"df-5f691689-1bcc-42db-a7e2-c6eac4a56c82\">\n",
              "    <div class=\"colab-df-container\">\n",
              "      <div>\n",
              "<style scoped>\n",
              "    .dataframe tbody tr th:only-of-type {\n",
              "        vertical-align: middle;\n",
              "    }\n",
              "\n",
              "    .dataframe tbody tr th {\n",
              "        vertical-align: top;\n",
              "    }\n",
              "\n",
              "    .dataframe thead th {\n",
              "        text-align: right;\n",
              "    }\n",
              "</style>\n",
              "<table border=\"1\" class=\"dataframe\">\n",
              "  <thead>\n",
              "    <tr style=\"text-align: right;\">\n",
              "      <th></th>\n",
              "      <th>age</th>\n",
              "      <th>job</th>\n",
              "      <th>marital</th>\n",
              "      <th>education</th>\n",
              "      <th>default</th>\n",
              "      <th>balance</th>\n",
              "      <th>housing-loan</th>\n",
              "      <th>personal-loan</th>\n",
              "      <th>current-campaign</th>\n",
              "      <th>previous-campaign</th>\n",
              "      <th>subscribed</th>\n",
              "    </tr>\n",
              "  </thead>\n",
              "  <tbody>\n",
              "    <tr>\n",
              "      <th>0</th>\n",
              "      <td>30</td>\n",
              "      <td>unemployed</td>\n",
              "      <td>married</td>\n",
              "      <td>primary</td>\n",
              "      <td>no</td>\n",
              "      <td>1787</td>\n",
              "      <td>no</td>\n",
              "      <td>no</td>\n",
              "      <td>1</td>\n",
              "      <td>0</td>\n",
              "      <td>no</td>\n",
              "    </tr>\n",
              "    <tr>\n",
              "      <th>1</th>\n",
              "      <td>33</td>\n",
              "      <td>services</td>\n",
              "      <td>married</td>\n",
              "      <td>secondary</td>\n",
              "      <td>no</td>\n",
              "      <td>4789</td>\n",
              "      <td>yes</td>\n",
              "      <td>yes</td>\n",
              "      <td>1</td>\n",
              "      <td>4</td>\n",
              "      <td>no</td>\n",
              "    </tr>\n",
              "    <tr>\n",
              "      <th>2</th>\n",
              "      <td>35</td>\n",
              "      <td>management</td>\n",
              "      <td>single</td>\n",
              "      <td>tertiary</td>\n",
              "      <td>no</td>\n",
              "      <td>1350</td>\n",
              "      <td>yes</td>\n",
              "      <td>no</td>\n",
              "      <td>1</td>\n",
              "      <td>1</td>\n",
              "      <td>no</td>\n",
              "    </tr>\n",
              "    <tr>\n",
              "      <th>3</th>\n",
              "      <td>30</td>\n",
              "      <td>management</td>\n",
              "      <td>married</td>\n",
              "      <td>tertiary</td>\n",
              "      <td>no</td>\n",
              "      <td>1476</td>\n",
              "      <td>yes</td>\n",
              "      <td>yes</td>\n",
              "      <td>4</td>\n",
              "      <td>0</td>\n",
              "      <td>no</td>\n",
              "    </tr>\n",
              "    <tr>\n",
              "      <th>4</th>\n",
              "      <td>59</td>\n",
              "      <td>blue-collar</td>\n",
              "      <td>married</td>\n",
              "      <td>secondary</td>\n",
              "      <td>no</td>\n",
              "      <td>0</td>\n",
              "      <td>yes</td>\n",
              "      <td>no</td>\n",
              "      <td>1</td>\n",
              "      <td>0</td>\n",
              "      <td>no</td>\n",
              "    </tr>\n",
              "  </tbody>\n",
              "</table>\n",
              "</div>\n",
              "      <button class=\"colab-df-convert\" onclick=\"convertToInteractive('df-5f691689-1bcc-42db-a7e2-c6eac4a56c82')\"\n",
              "              title=\"Convert this dataframe to an interactive table.\"\n",
              "              style=\"display:none;\">\n",
              "        \n",
              "  <svg xmlns=\"http://www.w3.org/2000/svg\" height=\"24px\"viewBox=\"0 0 24 24\"\n",
              "       width=\"24px\">\n",
              "    <path d=\"M0 0h24v24H0V0z\" fill=\"none\"/>\n",
              "    <path d=\"M18.56 5.44l.94 2.06.94-2.06 2.06-.94-2.06-.94-.94-2.06-.94 2.06-2.06.94zm-11 1L8.5 8.5l.94-2.06 2.06-.94-2.06-.94L8.5 2.5l-.94 2.06-2.06.94zm10 10l.94 2.06.94-2.06 2.06-.94-2.06-.94-.94-2.06-.94 2.06-2.06.94z\"/><path d=\"M17.41 7.96l-1.37-1.37c-.4-.4-.92-.59-1.43-.59-.52 0-1.04.2-1.43.59L10.3 9.45l-7.72 7.72c-.78.78-.78 2.05 0 2.83L4 21.41c.39.39.9.59 1.41.59.51 0 1.02-.2 1.41-.59l7.78-7.78 2.81-2.81c.8-.78.8-2.07 0-2.86zM5.41 20L4 18.59l7.72-7.72 1.47 1.35L5.41 20z\"/>\n",
              "  </svg>\n",
              "      </button>\n",
              "      \n",
              "  <style>\n",
              "    .colab-df-container {\n",
              "      display:flex;\n",
              "      flex-wrap:wrap;\n",
              "      gap: 12px;\n",
              "    }\n",
              "\n",
              "    .colab-df-convert {\n",
              "      background-color: #E8F0FE;\n",
              "      border: none;\n",
              "      border-radius: 50%;\n",
              "      cursor: pointer;\n",
              "      display: none;\n",
              "      fill: #1967D2;\n",
              "      height: 32px;\n",
              "      padding: 0 0 0 0;\n",
              "      width: 32px;\n",
              "    }\n",
              "\n",
              "    .colab-df-convert:hover {\n",
              "      background-color: #E2EBFA;\n",
              "      box-shadow: 0px 1px 2px rgba(60, 64, 67, 0.3), 0px 1px 3px 1px rgba(60, 64, 67, 0.15);\n",
              "      fill: #174EA6;\n",
              "    }\n",
              "\n",
              "    [theme=dark] .colab-df-convert {\n",
              "      background-color: #3B4455;\n",
              "      fill: #D2E3FC;\n",
              "    }\n",
              "\n",
              "    [theme=dark] .colab-df-convert:hover {\n",
              "      background-color: #434B5C;\n",
              "      box-shadow: 0px 1px 3px 1px rgba(0, 0, 0, 0.15);\n",
              "      filter: drop-shadow(0px 1px 2px rgba(0, 0, 0, 0.3));\n",
              "      fill: #FFFFFF;\n",
              "    }\n",
              "  </style>\n",
              "\n",
              "      <script>\n",
              "        const buttonEl =\n",
              "          document.querySelector('#df-5f691689-1bcc-42db-a7e2-c6eac4a56c82 button.colab-df-convert');\n",
              "        buttonEl.style.display =\n",
              "          google.colab.kernel.accessAllowed ? 'block' : 'none';\n",
              "\n",
              "        async function convertToInteractive(key) {\n",
              "          const element = document.querySelector('#df-5f691689-1bcc-42db-a7e2-c6eac4a56c82');\n",
              "          const dataTable =\n",
              "            await google.colab.kernel.invokeFunction('convertToInteractive',\n",
              "                                                     [key], {});\n",
              "          if (!dataTable) return;\n",
              "\n",
              "          const docLinkHtml = 'Like what you see? Visit the ' +\n",
              "            '<a target=\"_blank\" href=https://colab.research.google.com/notebooks/data_table.ipynb>data table notebook</a>'\n",
              "            + ' to learn more about interactive tables.';\n",
              "          element.innerHTML = '';\n",
              "          dataTable['output_type'] = 'display_data';\n",
              "          await google.colab.output.renderOutput(dataTable, element);\n",
              "          const docLink = document.createElement('div');\n",
              "          docLink.innerHTML = docLinkHtml;\n",
              "          element.appendChild(docLink);\n",
              "        }\n",
              "      </script>\n",
              "    </div>\n",
              "  </div>\n",
              "  "
            ]
          },
          "metadata": {},
          "execution_count": 40
        }
      ]
    },
    {
      "cell_type": "code",
      "source": [
        "from sklearn.utils import resample"
      ],
      "metadata": {
        "id": "mPNzwdw4fz4I"
      },
      "execution_count": 41,
      "outputs": []
    },
    {
      "cell_type": "code",
      "source": [
        "bank_subscribed_no = bank_df[bank_df['subscribed']=='no']\n",
        "bank_subscribed_yes = bank_df[bank_df['subscribed']=='yes']"
      ],
      "metadata": {
        "id": "9JLGqC8Of9s4"
      },
      "execution_count": 42,
      "outputs": []
    },
    {
      "cell_type": "code",
      "source": [
        "df_minority_upsampled = resample(bank_subscribed_yes, replace=True, n_samples=2000, random_state=42)"
      ],
      "metadata": {
        "id": "0Mmr3NOUgGru"
      },
      "execution_count": 43,
      "outputs": []
    },
    {
      "cell_type": "code",
      "source": [
        "new_bank_df = pd.concat([bank_subscribed_no, df_minority_upsampled])"
      ],
      "metadata": {
        "id": "hyNLpTJNgNDt"
      },
      "execution_count": 44,
      "outputs": []
    },
    {
      "cell_type": "code",
      "source": [
        "X_features = list(new_bank_df.columns)\n",
        "X_features.remove('subscribed')\n",
        "X_features"
      ],
      "metadata": {
        "colab": {
          "base_uri": "https://localhost:8080/"
        },
        "id": "Lqnb2T8agTx9",
        "outputId": "0e1e5500-d27f-440b-a6aa-923b92080679"
      },
      "execution_count": 45,
      "outputs": [
        {
          "output_type": "execute_result",
          "data": {
            "text/plain": [
              "['age',\n",
              " 'job',\n",
              " 'marital',\n",
              " 'education',\n",
              " 'default',\n",
              " 'balance',\n",
              " 'housing-loan',\n",
              " 'personal-loan',\n",
              " 'current-campaign',\n",
              " 'previous-campaign']"
            ]
          },
          "metadata": {},
          "execution_count": 45
        }
      ]
    },
    {
      "cell_type": "code",
      "source": [
        "encoded_bank_df = pd.get_dummies(new_bank_df[X_features], drop_first=True)"
      ],
      "metadata": {
        "id": "bf2_JD-3gZ0Y"
      },
      "execution_count": 46,
      "outputs": []
    },
    {
      "cell_type": "code",
      "source": [
        "X=encoded_bank_df"
      ],
      "metadata": {
        "id": "RzmL7QrighyY"
      },
      "execution_count": 47,
      "outputs": []
    },
    {
      "cell_type": "code",
      "source": [
        "Y = new_bank_df['subscribed'].map(lambda x:int(x=='yes'))"
      ],
      "metadata": {
        "id": "deeaNw7mgi0Y"
      },
      "execution_count": 48,
      "outputs": []
    },
    {
      "cell_type": "code",
      "source": [
        "train_X, test_X, train_y, test_y = train_test_split(X,Y,test_size=0.3,random_state=42)"
      ],
      "metadata": {
        "id": "XZfug_ubgmi4"
      },
      "execution_count": 49,
      "outputs": []
    },
    {
      "cell_type": "code",
      "source": [
        "model = SVC(kernel='rbf', random_state=101, gamma=0.001, C=0.1, probability=True)"
      ],
      "metadata": {
        "id": "K0yozml3gtKY"
      },
      "execution_count": 51,
      "outputs": []
    },
    {
      "cell_type": "code",
      "source": [
        "model.fit(train_X,train_y)"
      ],
      "metadata": {
        "colab": {
          "base_uri": "https://localhost:8080/"
        },
        "id": "q7RoMjmJg3zP",
        "outputId": "ad4e6d6b-7419-40b1-c42a-6ab656e9af44"
      },
      "execution_count": 52,
      "outputs": [
        {
          "output_type": "execute_result",
          "data": {
            "text/plain": [
              "SVC(C=0.1, gamma=0.001, probability=True, random_state=101)"
            ]
          },
          "metadata": {},
          "execution_count": 52
        }
      ]
    },
    {
      "cell_type": "code",
      "source": [
        "pred_y = model.predict(test_X)"
      ],
      "metadata": {
        "id": "4CRYQ9Hzg8ug"
      },
      "execution_count": 53,
      "outputs": []
    },
    {
      "cell_type": "markdown",
      "source": [
        "**Predicitons and Performance Metrics**"
      ],
      "metadata": {
        "id": "wQ9pbRzohBOI"
      }
    },
    {
      "cell_type": "code",
      "source": [
        "from sklearn import metrics"
      ],
      "metadata": {
        "id": "kaToQQJng_vg"
      },
      "execution_count": 54,
      "outputs": []
    },
    {
      "cell_type": "code",
      "source": [
        "print(metrics.confusion_matrix(test_y, pred_y))"
      ],
      "metadata": {
        "colab": {
          "base_uri": "https://localhost:8080/"
        },
        "id": "YaiYguhQhEt3",
        "outputId": "b528da1f-f212-48a6-9899-9f60c950b0c2"
      },
      "execution_count": 55,
      "outputs": [
        {
          "output_type": "stream",
          "name": "stdout",
          "text": [
            "[[1220    5]\n",
            " [ 558   17]]\n"
          ]
        }
      ]
    },
    {
      "cell_type": "code",
      "source": [
        "print(metrics.classification_report(test_y,pred_y))"
      ],
      "metadata": {
        "colab": {
          "base_uri": "https://localhost:8080/"
        },
        "id": "IbMs1lcshHln",
        "outputId": "d6dcc465-e319-4570-d94a-442ad33d2aef"
      },
      "execution_count": 56,
      "outputs": [
        {
          "output_type": "stream",
          "name": "stdout",
          "text": [
            "              precision    recall  f1-score   support\n",
            "\n",
            "           0       0.69      1.00      0.81      1225\n",
            "           1       0.77      0.03      0.06       575\n",
            "\n",
            "    accuracy                           0.69      1800\n",
            "   macro avg       0.73      0.51      0.43      1800\n",
            "weighted avg       0.71      0.69      0.57      1800\n",
            "\n"
          ]
        }
      ]
    },
    {
      "cell_type": "code",
      "source": [
        "metrics.roc_auc_score(test_y, model.predict_proba(test_X)[:,1])"
      ],
      "metadata": {
        "colab": {
          "base_uri": "https://localhost:8080/"
        },
        "id": "C6Sb2r26hLLH",
        "outputId": "be7a707a-d0f7-4799-b914-c9be44d927f5"
      },
      "execution_count": 57,
      "outputs": [
        {
          "output_type": "execute_result",
          "data": {
            "text/plain": [
              "0.7146981366459627"
            ]
          },
          "metadata": {},
          "execution_count": 57
        }
      ]
    },
    {
      "cell_type": "markdown",
      "source": [
        "**Grid Search CV**"
      ],
      "metadata": {
        "id": "V0-Ntx-khep7"
      }
    },
    {
      "cell_type": "code",
      "source": [
        "from sklearn.model_selection import GridSearchCV"
      ],
      "metadata": {
        "id": "__2yqGephYQX"
      },
      "execution_count": 58,
      "outputs": []
    },
    {
      "cell_type": "code",
      "source": [
        "params = {'gamma':[0.001, 0.01, 0.1, 1, 1, 1.5, 2.0], 'C':[0.01, 0.1, 1, 2,3]}\n",
        "modelCV = GridSearchCV(estimator = SVC(), param_grid=params, cv=5, scoring='roc_auc')\n",
        "modelCV.fit(train_X, train_y)"
      ],
      "metadata": {
        "colab": {
          "base_uri": "https://localhost:8080/"
        },
        "id": "JsZuymQ-hinm",
        "outputId": "7ddd00db-6470-444b-ef7c-7b0b6e77a067"
      },
      "execution_count": 59,
      "outputs": [
        {
          "output_type": "execute_result",
          "data": {
            "text/plain": [
              "GridSearchCV(cv=5, estimator=SVC(),\n",
              "             param_grid={'C': [0.01, 0.1, 1, 2, 3],\n",
              "                         'gamma': [0.001, 0.01, 0.1, 1, 1, 1.5, 2.0]},\n",
              "             scoring='roc_auc')"
            ]
          },
          "metadata": {},
          "execution_count": 59
        }
      ]
    },
    {
      "cell_type": "code",
      "source": [
        "modelCV.best_params_"
      ],
      "metadata": {
        "colab": {
          "base_uri": "https://localhost:8080/"
        },
        "id": "bUxT8l1bh2DW",
        "outputId": "03b5dce0-8223-42db-ee2f-25608220824f"
      },
      "execution_count": 60,
      "outputs": [
        {
          "output_type": "execute_result",
          "data": {
            "text/plain": [
              "{'C': 0.1, 'gamma': 2.0}"
            ]
          },
          "metadata": {},
          "execution_count": 60
        }
      ]
    },
    {
      "cell_type": "code",
      "source": [
        "modelCV.best_score_"
      ],
      "metadata": {
        "colab": {
          "base_uri": "https://localhost:8080/"
        },
        "id": "zBZDMdtKh9pF",
        "outputId": "6584ee05-3cfa-472a-cfa8-6cc94a2e20d6"
      },
      "execution_count": 61,
      "outputs": [
        {
          "output_type": "execute_result",
          "data": {
            "text/plain": [
              "0.9458922079974712"
            ]
          },
          "metadata": {},
          "execution_count": 61
        }
      ]
    },
    {
      "cell_type": "markdown",
      "source": [
        "**Model with best params**"
      ],
      "metadata": {
        "id": "ytkmaXLKh_R6"
      }
    },
    {
      "cell_type": "code",
      "source": [
        "model = SVC(kernel='rbf', random_state=101, gamma=2, C=0.1, probability=True)\n",
        "model.fit(train_X, train_y)"
      ],
      "metadata": {
        "colab": {
          "base_uri": "https://localhost:8080/"
        },
        "id": "-7KNA6Z0iBL3",
        "outputId": "ec80c97d-48ef-4df9-8dac-3facb10d27cf"
      },
      "execution_count": 62,
      "outputs": [
        {
          "output_type": "execute_result",
          "data": {
            "text/plain": [
              "SVC(C=0.1, gamma=2, probability=True, random_state=101)"
            ]
          },
          "metadata": {},
          "execution_count": 62
        }
      ]
    },
    {
      "cell_type": "code",
      "source": [
        "pred_y = model.predict(test_X)"
      ],
      "metadata": {
        "id": "uA79-H6siT-g"
      },
      "execution_count": 63,
      "outputs": []
    },
    {
      "cell_type": "code",
      "source": [
        "metrics.roc_auc_score(test_y, model.predict_proba(test_X)[:,1])"
      ],
      "metadata": {
        "colab": {
          "base_uri": "https://localhost:8080/"
        },
        "id": "8afEMnxUiW-i",
        "outputId": "89b5b135-2cd7-44ca-e031-766d22096b94"
      },
      "execution_count": 64,
      "outputs": [
        {
          "output_type": "execute_result",
          "data": {
            "text/plain": [
              "0.9763251109139306"
            ]
          },
          "metadata": {},
          "execution_count": 64
        }
      ]
    },
    {
      "cell_type": "markdown",
      "source": [
        "**Identify Support vectors**"
      ],
      "metadata": {
        "id": "8PXdqxr_igfs"
      }
    },
    {
      "cell_type": "code",
      "source": [
        "model.support_vectors_"
      ],
      "metadata": {
        "colab": {
          "base_uri": "https://localhost:8080/"
        },
        "id": "oSjJJ2iOijAH",
        "outputId": "beac67c1-1612-412c-89c4-400b290f0a41"
      },
      "execution_count": 65,
      "outputs": [
        {
          "output_type": "execute_result",
          "data": {
            "text/plain": [
              "array([[2.500e+01, 7.200e+01, 2.000e+00, ..., 0.000e+00, 1.000e+00,\n",
              "        0.000e+00],\n",
              "       [3.900e+01, 0.000e+00, 4.000e+00, ..., 0.000e+00, 1.000e+00,\n",
              "        0.000e+00],\n",
              "       [4.800e+01, 3.064e+03, 2.000e+00, ..., 0.000e+00, 1.000e+00,\n",
              "        0.000e+00],\n",
              "       ...,\n",
              "       [5.900e+01, 2.013e+03, 4.000e+00, ..., 0.000e+00, 0.000e+00,\n",
              "        0.000e+00],\n",
              "       [3.300e+01, 3.935e+03, 1.000e+00, ..., 0.000e+00, 1.000e+00,\n",
              "        0.000e+00],\n",
              "       [6.300e+01, 1.490e+03, 1.000e+00, ..., 0.000e+00, 0.000e+00,\n",
              "        0.000e+00]])"
            ]
          },
          "metadata": {},
          "execution_count": 65
        }
      ]
    },
    {
      "cell_type": "code",
      "source": [
        "model.support_"
      ],
      "metadata": {
        "colab": {
          "base_uri": "https://localhost:8080/"
        },
        "id": "IT-RC2WfirLQ",
        "outputId": "74f530fd-dc42-47d2-9c06-c153121dc668"
      },
      "execution_count": 66,
      "outputs": [
        {
          "output_type": "execute_result",
          "data": {
            "text/plain": [
              "array([   1,    2,    3, ..., 4196, 4197, 4198], dtype=int32)"
            ]
          },
          "metadata": {},
          "execution_count": 66
        }
      ]
    },
    {
      "cell_type": "code",
      "source": [
        "model.n_support_"
      ],
      "metadata": {
        "colab": {
          "base_uri": "https://localhost:8080/"
        },
        "id": "7j-_N4raiySd",
        "outputId": "7877d282-b1c4-473c-f690-1c01bd93c4d5"
      },
      "execution_count": 67,
      "outputs": [
        {
          "output_type": "execute_result",
          "data": {
            "text/plain": [
              "array([2773, 1425], dtype=int32)"
            ]
          },
          "metadata": {},
          "execution_count": 67
        }
      ]
    }
  ]
}
