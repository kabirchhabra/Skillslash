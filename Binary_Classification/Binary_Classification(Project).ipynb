{
  "nbformat": 4,
  "nbformat_minor": 0,
  "metadata": {
    "colab": {
      "name": "Binary_Classification(Project).ipynb",
      "provenance": [],
      "collapsed_sections": [],
      "authorship_tag": "ABX9TyNVUgZ105vwkPbj0G43t8qZ",
      "include_colab_link": true
    },
    "kernelspec": {
      "name": "python3",
      "display_name": "Python 3"
    },
    "language_info": {
      "name": "python"
    }
  },
  "cells": [
    {
      "cell_type": "markdown",
      "metadata": {
        "id": "view-in-github",
        "colab_type": "text"
      },
      "source": [
        "<a href=\"https://colab.research.google.com/github/kabirchhabra/Skillslash/blob/main/Binary_Classification/Binary_Classification(Project).ipynb\" target=\"_parent\"><img src=\"https://colab.research.google.com/assets/colab-badge.svg\" alt=\"Open In Colab\"/></a>"
      ]
    },
    {
      "cell_type": "code",
      "execution_count": 1,
      "metadata": {
        "id": "YyQxlaGYdnVu"
      },
      "outputs": [],
      "source": [
        "import pandas as pd\n",
        "import numpy as np\n",
        "import matplotlib.pyplot as plt\n",
        "import seaborn as sns\n",
        "sns.set_style('darkgrid')"
      ]
    },
    {
      "cell_type": "code",
      "source": [
        "df = pd.read_csv('https://raw.githubusercontent.com/SumanthMeenan/project_session2/master/Enrollment_Data.csv')\n",
        "df.head()"
      ],
      "metadata": {
        "colab": {
          "base_uri": "https://localhost:8080/",
          "height": 300
        },
        "id": "xyi-DZ8DecOQ",
        "outputId": "67b97c22-7278-44e8-921c-46197eadb766"
      },
      "execution_count": 2,
      "outputs": [
        {
          "output_type": "execute_result",
          "data": {
            "text/plain": [
              "   avg_income  CAMPUS_VISIT CAMPUS_VISIT_2 CONTACT_CODE1  Contact_Date  \\\n",
              "0         NaN             0              0           EML             1   \n",
              "1         NaN             0              0           SAT            12   \n",
              "2         NaN             0              0           C01            16   \n",
              "3         NaN             0              0           EML            11   \n",
              "4         NaN             0              0           TFL            28   \n",
              "\n",
              "  Contact_Month  Contact_Year  distance  Target_Enroll ETHNICITY  ...  \\\n",
              "0           Sep          2012       NaN              0       NaN  ...   \n",
              "1           Feb          2014       NaN              0         N  ...   \n",
              "2           Jan          2015       NaN              0         C  ...   \n",
              "3           Mar          2015       NaN              0       NaN  ...   \n",
              "4           Mar          2015       NaN              0         B  ...   \n",
              "\n",
              "   premiere  REFERRAL_CNTCTS  satscore SELF_INIT_CNTCTS  sex  \\\n",
              "0         0                0       NaN                1  1.0   \n",
              "1         0                0       NaN                1  1.0   \n",
              "2         0                0       NaN                0  1.0   \n",
              "3         0                0       NaN                1  0.0   \n",
              "4         0                0    1090.0                2  1.0   \n",
              "\n",
              "   SOLICITED_CNTCTS  telecq TERRITORY TOTAL_CONTACTS  TRAVEL_INIT_CNTCTS  \n",
              "0                 0     NaN         N              1                   0  \n",
              "1                 0     NaN         N              1                   0  \n",
              "2                 1     NaN         N              1                   0  \n",
              "3                 0     NaN         N              1                   0  \n",
              "4                 0     NaN         N              2                   0  \n",
              "\n",
              "[5 rows x 30 columns]"
            ],
            "text/html": [
              "\n",
              "  <div id=\"df-7ebe1196-1028-4311-809b-f25862411c66\">\n",
              "    <div class=\"colab-df-container\">\n",
              "      <div>\n",
              "<style scoped>\n",
              "    .dataframe tbody tr th:only-of-type {\n",
              "        vertical-align: middle;\n",
              "    }\n",
              "\n",
              "    .dataframe tbody tr th {\n",
              "        vertical-align: top;\n",
              "    }\n",
              "\n",
              "    .dataframe thead th {\n",
              "        text-align: right;\n",
              "    }\n",
              "</style>\n",
              "<table border=\"1\" class=\"dataframe\">\n",
              "  <thead>\n",
              "    <tr style=\"text-align: right;\">\n",
              "      <th></th>\n",
              "      <th>avg_income</th>\n",
              "      <th>CAMPUS_VISIT</th>\n",
              "      <th>CAMPUS_VISIT_2</th>\n",
              "      <th>CONTACT_CODE1</th>\n",
              "      <th>Contact_Date</th>\n",
              "      <th>Contact_Month</th>\n",
              "      <th>Contact_Year</th>\n",
              "      <th>distance</th>\n",
              "      <th>Target_Enroll</th>\n",
              "      <th>ETHNICITY</th>\n",
              "      <th>...</th>\n",
              "      <th>premiere</th>\n",
              "      <th>REFERRAL_CNTCTS</th>\n",
              "      <th>satscore</th>\n",
              "      <th>SELF_INIT_CNTCTS</th>\n",
              "      <th>sex</th>\n",
              "      <th>SOLICITED_CNTCTS</th>\n",
              "      <th>telecq</th>\n",
              "      <th>TERRITORY</th>\n",
              "      <th>TOTAL_CONTACTS</th>\n",
              "      <th>TRAVEL_INIT_CNTCTS</th>\n",
              "    </tr>\n",
              "  </thead>\n",
              "  <tbody>\n",
              "    <tr>\n",
              "      <th>0</th>\n",
              "      <td>NaN</td>\n",
              "      <td>0</td>\n",
              "      <td>0</td>\n",
              "      <td>EML</td>\n",
              "      <td>1</td>\n",
              "      <td>Sep</td>\n",
              "      <td>2012</td>\n",
              "      <td>NaN</td>\n",
              "      <td>0</td>\n",
              "      <td>NaN</td>\n",
              "      <td>...</td>\n",
              "      <td>0</td>\n",
              "      <td>0</td>\n",
              "      <td>NaN</td>\n",
              "      <td>1</td>\n",
              "      <td>1.0</td>\n",
              "      <td>0</td>\n",
              "      <td>NaN</td>\n",
              "      <td>N</td>\n",
              "      <td>1</td>\n",
              "      <td>0</td>\n",
              "    </tr>\n",
              "    <tr>\n",
              "      <th>1</th>\n",
              "      <td>NaN</td>\n",
              "      <td>0</td>\n",
              "      <td>0</td>\n",
              "      <td>SAT</td>\n",
              "      <td>12</td>\n",
              "      <td>Feb</td>\n",
              "      <td>2014</td>\n",
              "      <td>NaN</td>\n",
              "      <td>0</td>\n",
              "      <td>N</td>\n",
              "      <td>...</td>\n",
              "      <td>0</td>\n",
              "      <td>0</td>\n",
              "      <td>NaN</td>\n",
              "      <td>1</td>\n",
              "      <td>1.0</td>\n",
              "      <td>0</td>\n",
              "      <td>NaN</td>\n",
              "      <td>N</td>\n",
              "      <td>1</td>\n",
              "      <td>0</td>\n",
              "    </tr>\n",
              "    <tr>\n",
              "      <th>2</th>\n",
              "      <td>NaN</td>\n",
              "      <td>0</td>\n",
              "      <td>0</td>\n",
              "      <td>C01</td>\n",
              "      <td>16</td>\n",
              "      <td>Jan</td>\n",
              "      <td>2015</td>\n",
              "      <td>NaN</td>\n",
              "      <td>0</td>\n",
              "      <td>C</td>\n",
              "      <td>...</td>\n",
              "      <td>0</td>\n",
              "      <td>0</td>\n",
              "      <td>NaN</td>\n",
              "      <td>0</td>\n",
              "      <td>1.0</td>\n",
              "      <td>1</td>\n",
              "      <td>NaN</td>\n",
              "      <td>N</td>\n",
              "      <td>1</td>\n",
              "      <td>0</td>\n",
              "    </tr>\n",
              "    <tr>\n",
              "      <th>3</th>\n",
              "      <td>NaN</td>\n",
              "      <td>0</td>\n",
              "      <td>0</td>\n",
              "      <td>EML</td>\n",
              "      <td>11</td>\n",
              "      <td>Mar</td>\n",
              "      <td>2015</td>\n",
              "      <td>NaN</td>\n",
              "      <td>0</td>\n",
              "      <td>NaN</td>\n",
              "      <td>...</td>\n",
              "      <td>0</td>\n",
              "      <td>0</td>\n",
              "      <td>NaN</td>\n",
              "      <td>1</td>\n",
              "      <td>0.0</td>\n",
              "      <td>0</td>\n",
              "      <td>NaN</td>\n",
              "      <td>N</td>\n",
              "      <td>1</td>\n",
              "      <td>0</td>\n",
              "    </tr>\n",
              "    <tr>\n",
              "      <th>4</th>\n",
              "      <td>NaN</td>\n",
              "      <td>0</td>\n",
              "      <td>0</td>\n",
              "      <td>TFL</td>\n",
              "      <td>28</td>\n",
              "      <td>Mar</td>\n",
              "      <td>2015</td>\n",
              "      <td>NaN</td>\n",
              "      <td>0</td>\n",
              "      <td>B</td>\n",
              "      <td>...</td>\n",
              "      <td>0</td>\n",
              "      <td>0</td>\n",
              "      <td>1090.0</td>\n",
              "      <td>2</td>\n",
              "      <td>1.0</td>\n",
              "      <td>0</td>\n",
              "      <td>NaN</td>\n",
              "      <td>N</td>\n",
              "      <td>2</td>\n",
              "      <td>0</td>\n",
              "    </tr>\n",
              "  </tbody>\n",
              "</table>\n",
              "<p>5 rows × 30 columns</p>\n",
              "</div>\n",
              "      <button class=\"colab-df-convert\" onclick=\"convertToInteractive('df-7ebe1196-1028-4311-809b-f25862411c66')\"\n",
              "              title=\"Convert this dataframe to an interactive table.\"\n",
              "              style=\"display:none;\">\n",
              "        \n",
              "  <svg xmlns=\"http://www.w3.org/2000/svg\" height=\"24px\"viewBox=\"0 0 24 24\"\n",
              "       width=\"24px\">\n",
              "    <path d=\"M0 0h24v24H0V0z\" fill=\"none\"/>\n",
              "    <path d=\"M18.56 5.44l.94 2.06.94-2.06 2.06-.94-2.06-.94-.94-2.06-.94 2.06-2.06.94zm-11 1L8.5 8.5l.94-2.06 2.06-.94-2.06-.94L8.5 2.5l-.94 2.06-2.06.94zm10 10l.94 2.06.94-2.06 2.06-.94-2.06-.94-.94-2.06-.94 2.06-2.06.94z\"/><path d=\"M17.41 7.96l-1.37-1.37c-.4-.4-.92-.59-1.43-.59-.52 0-1.04.2-1.43.59L10.3 9.45l-7.72 7.72c-.78.78-.78 2.05 0 2.83L4 21.41c.39.39.9.59 1.41.59.51 0 1.02-.2 1.41-.59l7.78-7.78 2.81-2.81c.8-.78.8-2.07 0-2.86zM5.41 20L4 18.59l7.72-7.72 1.47 1.35L5.41 20z\"/>\n",
              "  </svg>\n",
              "      </button>\n",
              "      \n",
              "  <style>\n",
              "    .colab-df-container {\n",
              "      display:flex;\n",
              "      flex-wrap:wrap;\n",
              "      gap: 12px;\n",
              "    }\n",
              "\n",
              "    .colab-df-convert {\n",
              "      background-color: #E8F0FE;\n",
              "      border: none;\n",
              "      border-radius: 50%;\n",
              "      cursor: pointer;\n",
              "      display: none;\n",
              "      fill: #1967D2;\n",
              "      height: 32px;\n",
              "      padding: 0 0 0 0;\n",
              "      width: 32px;\n",
              "    }\n",
              "\n",
              "    .colab-df-convert:hover {\n",
              "      background-color: #E2EBFA;\n",
              "      box-shadow: 0px 1px 2px rgba(60, 64, 67, 0.3), 0px 1px 3px 1px rgba(60, 64, 67, 0.15);\n",
              "      fill: #174EA6;\n",
              "    }\n",
              "\n",
              "    [theme=dark] .colab-df-convert {\n",
              "      background-color: #3B4455;\n",
              "      fill: #D2E3FC;\n",
              "    }\n",
              "\n",
              "    [theme=dark] .colab-df-convert:hover {\n",
              "      background-color: #434B5C;\n",
              "      box-shadow: 0px 1px 3px 1px rgba(0, 0, 0, 0.15);\n",
              "      filter: drop-shadow(0px 1px 2px rgba(0, 0, 0, 0.3));\n",
              "      fill: #FFFFFF;\n",
              "    }\n",
              "  </style>\n",
              "\n",
              "      <script>\n",
              "        const buttonEl =\n",
              "          document.querySelector('#df-7ebe1196-1028-4311-809b-f25862411c66 button.colab-df-convert');\n",
              "        buttonEl.style.display =\n",
              "          google.colab.kernel.accessAllowed ? 'block' : 'none';\n",
              "\n",
              "        async function convertToInteractive(key) {\n",
              "          const element = document.querySelector('#df-7ebe1196-1028-4311-809b-f25862411c66');\n",
              "          const dataTable =\n",
              "            await google.colab.kernel.invokeFunction('convertToInteractive',\n",
              "                                                     [key], {});\n",
              "          if (!dataTable) return;\n",
              "\n",
              "          const docLinkHtml = 'Like what you see? Visit the ' +\n",
              "            '<a target=\"_blank\" href=https://colab.research.google.com/notebooks/data_table.ipynb>data table notebook</a>'\n",
              "            + ' to learn more about interactive tables.';\n",
              "          element.innerHTML = '';\n",
              "          dataTable['output_type'] = 'display_data';\n",
              "          await google.colab.output.renderOutput(dataTable, element);\n",
              "          const docLink = document.createElement('div');\n",
              "          docLink.innerHTML = docLinkHtml;\n",
              "          element.appendChild(docLink);\n",
              "        }\n",
              "      </script>\n",
              "    </div>\n",
              "  </div>\n",
              "  "
            ]
          },
          "metadata": {},
          "execution_count": 2
        }
      ]
    },
    {
      "cell_type": "code",
      "source": [
        "pd.set_option('display.max_columns', None)"
      ],
      "metadata": {
        "id": "o3LDWlbReelA"
      },
      "execution_count": 3,
      "outputs": []
    },
    {
      "cell_type": "code",
      "source": [
        "df.head()"
      ],
      "metadata": {
        "colab": {
          "base_uri": "https://localhost:8080/",
          "height": 270
        },
        "id": "O3CggPdffMKX",
        "outputId": "e979dc82-ce18-40a2-f773-67beb937f081"
      },
      "execution_count": 4,
      "outputs": [
        {
          "output_type": "execute_result",
          "data": {
            "text/plain": [
              "   avg_income  CAMPUS_VISIT CAMPUS_VISIT_2 CONTACT_CODE1  Contact_Date  \\\n",
              "0         NaN             0              0           EML             1   \n",
              "1         NaN             0              0           SAT            12   \n",
              "2         NaN             0              0           C01            16   \n",
              "3         NaN             0              0           EML            11   \n",
              "4         NaN             0              0           TFL            28   \n",
              "\n",
              "  Contact_Month  Contact_Year  distance  Target_Enroll ETHNICITY    hscrat  \\\n",
              "0           Sep          2012       NaN              0       NaN  0.037652   \n",
              "1           Feb          2014       NaN              0         N  0.037652   \n",
              "2           Jan          2015       NaN              0         C  0.037652   \n",
              "3           Mar          2015       NaN              0       NaN  0.037652   \n",
              "4           Mar          2015       NaN              0         B  0.037652   \n",
              "\n",
              "    ID  init_span Instate   int1rat  int2rat  interest IRSCHOOL LEVEL_YEAR  \\\n",
              "0   32         48       N  0.017183  0.02038         0      NaN       FR04   \n",
              "1   51         31       N  0.017183  0.02038         0      NaN       FR04   \n",
              "2  120         20       N  0.017183  0.02038         0      NaN       FR04   \n",
              "3  151         18       N  0.017183  0.02038         0      NaN       FR04   \n",
              "4  160         18       N  0.017183  0.02038         0      NaN       FR04   \n",
              "\n",
              "   mailq  premiere  REFERRAL_CNTCTS  satscore  SELF_INIT_CNTCTS  sex  \\\n",
              "0      5         0                0       NaN                 1  1.0   \n",
              "1      5         0                0       NaN                 1  1.0   \n",
              "2      5         0                0       NaN                 0  1.0   \n",
              "3      5         0                0       NaN                 1  0.0   \n",
              "4      5         0                0    1090.0                 2  1.0   \n",
              "\n",
              "   SOLICITED_CNTCTS  telecq TERRITORY  TOTAL_CONTACTS  TRAVEL_INIT_CNTCTS  \n",
              "0                 0     NaN         N               1                   0  \n",
              "1                 0     NaN         N               1                   0  \n",
              "2                 1     NaN         N               1                   0  \n",
              "3                 0     NaN         N               1                   0  \n",
              "4                 0     NaN         N               2                   0  "
            ],
            "text/html": [
              "\n",
              "  <div id=\"df-db49fa5c-23ac-460f-8122-47581786cc0d\">\n",
              "    <div class=\"colab-df-container\">\n",
              "      <div>\n",
              "<style scoped>\n",
              "    .dataframe tbody tr th:only-of-type {\n",
              "        vertical-align: middle;\n",
              "    }\n",
              "\n",
              "    .dataframe tbody tr th {\n",
              "        vertical-align: top;\n",
              "    }\n",
              "\n",
              "    .dataframe thead th {\n",
              "        text-align: right;\n",
              "    }\n",
              "</style>\n",
              "<table border=\"1\" class=\"dataframe\">\n",
              "  <thead>\n",
              "    <tr style=\"text-align: right;\">\n",
              "      <th></th>\n",
              "      <th>avg_income</th>\n",
              "      <th>CAMPUS_VISIT</th>\n",
              "      <th>CAMPUS_VISIT_2</th>\n",
              "      <th>CONTACT_CODE1</th>\n",
              "      <th>Contact_Date</th>\n",
              "      <th>Contact_Month</th>\n",
              "      <th>Contact_Year</th>\n",
              "      <th>distance</th>\n",
              "      <th>Target_Enroll</th>\n",
              "      <th>ETHNICITY</th>\n",
              "      <th>hscrat</th>\n",
              "      <th>ID</th>\n",
              "      <th>init_span</th>\n",
              "      <th>Instate</th>\n",
              "      <th>int1rat</th>\n",
              "      <th>int2rat</th>\n",
              "      <th>interest</th>\n",
              "      <th>IRSCHOOL</th>\n",
              "      <th>LEVEL_YEAR</th>\n",
              "      <th>mailq</th>\n",
              "      <th>premiere</th>\n",
              "      <th>REFERRAL_CNTCTS</th>\n",
              "      <th>satscore</th>\n",
              "      <th>SELF_INIT_CNTCTS</th>\n",
              "      <th>sex</th>\n",
              "      <th>SOLICITED_CNTCTS</th>\n",
              "      <th>telecq</th>\n",
              "      <th>TERRITORY</th>\n",
              "      <th>TOTAL_CONTACTS</th>\n",
              "      <th>TRAVEL_INIT_CNTCTS</th>\n",
              "    </tr>\n",
              "  </thead>\n",
              "  <tbody>\n",
              "    <tr>\n",
              "      <th>0</th>\n",
              "      <td>NaN</td>\n",
              "      <td>0</td>\n",
              "      <td>0</td>\n",
              "      <td>EML</td>\n",
              "      <td>1</td>\n",
              "      <td>Sep</td>\n",
              "      <td>2012</td>\n",
              "      <td>NaN</td>\n",
              "      <td>0</td>\n",
              "      <td>NaN</td>\n",
              "      <td>0.037652</td>\n",
              "      <td>32</td>\n",
              "      <td>48</td>\n",
              "      <td>N</td>\n",
              "      <td>0.017183</td>\n",
              "      <td>0.02038</td>\n",
              "      <td>0</td>\n",
              "      <td>NaN</td>\n",
              "      <td>FR04</td>\n",
              "      <td>5</td>\n",
              "      <td>0</td>\n",
              "      <td>0</td>\n",
              "      <td>NaN</td>\n",
              "      <td>1</td>\n",
              "      <td>1.0</td>\n",
              "      <td>0</td>\n",
              "      <td>NaN</td>\n",
              "      <td>N</td>\n",
              "      <td>1</td>\n",
              "      <td>0</td>\n",
              "    </tr>\n",
              "    <tr>\n",
              "      <th>1</th>\n",
              "      <td>NaN</td>\n",
              "      <td>0</td>\n",
              "      <td>0</td>\n",
              "      <td>SAT</td>\n",
              "      <td>12</td>\n",
              "      <td>Feb</td>\n",
              "      <td>2014</td>\n",
              "      <td>NaN</td>\n",
              "      <td>0</td>\n",
              "      <td>N</td>\n",
              "      <td>0.037652</td>\n",
              "      <td>51</td>\n",
              "      <td>31</td>\n",
              "      <td>N</td>\n",
              "      <td>0.017183</td>\n",
              "      <td>0.02038</td>\n",
              "      <td>0</td>\n",
              "      <td>NaN</td>\n",
              "      <td>FR04</td>\n",
              "      <td>5</td>\n",
              "      <td>0</td>\n",
              "      <td>0</td>\n",
              "      <td>NaN</td>\n",
              "      <td>1</td>\n",
              "      <td>1.0</td>\n",
              "      <td>0</td>\n",
              "      <td>NaN</td>\n",
              "      <td>N</td>\n",
              "      <td>1</td>\n",
              "      <td>0</td>\n",
              "    </tr>\n",
              "    <tr>\n",
              "      <th>2</th>\n",
              "      <td>NaN</td>\n",
              "      <td>0</td>\n",
              "      <td>0</td>\n",
              "      <td>C01</td>\n",
              "      <td>16</td>\n",
              "      <td>Jan</td>\n",
              "      <td>2015</td>\n",
              "      <td>NaN</td>\n",
              "      <td>0</td>\n",
              "      <td>C</td>\n",
              "      <td>0.037652</td>\n",
              "      <td>120</td>\n",
              "      <td>20</td>\n",
              "      <td>N</td>\n",
              "      <td>0.017183</td>\n",
              "      <td>0.02038</td>\n",
              "      <td>0</td>\n",
              "      <td>NaN</td>\n",
              "      <td>FR04</td>\n",
              "      <td>5</td>\n",
              "      <td>0</td>\n",
              "      <td>0</td>\n",
              "      <td>NaN</td>\n",
              "      <td>0</td>\n",
              "      <td>1.0</td>\n",
              "      <td>1</td>\n",
              "      <td>NaN</td>\n",
              "      <td>N</td>\n",
              "      <td>1</td>\n",
              "      <td>0</td>\n",
              "    </tr>\n",
              "    <tr>\n",
              "      <th>3</th>\n",
              "      <td>NaN</td>\n",
              "      <td>0</td>\n",
              "      <td>0</td>\n",
              "      <td>EML</td>\n",
              "      <td>11</td>\n",
              "      <td>Mar</td>\n",
              "      <td>2015</td>\n",
              "      <td>NaN</td>\n",
              "      <td>0</td>\n",
              "      <td>NaN</td>\n",
              "      <td>0.037652</td>\n",
              "      <td>151</td>\n",
              "      <td>18</td>\n",
              "      <td>N</td>\n",
              "      <td>0.017183</td>\n",
              "      <td>0.02038</td>\n",
              "      <td>0</td>\n",
              "      <td>NaN</td>\n",
              "      <td>FR04</td>\n",
              "      <td>5</td>\n",
              "      <td>0</td>\n",
              "      <td>0</td>\n",
              "      <td>NaN</td>\n",
              "      <td>1</td>\n",
              "      <td>0.0</td>\n",
              "      <td>0</td>\n",
              "      <td>NaN</td>\n",
              "      <td>N</td>\n",
              "      <td>1</td>\n",
              "      <td>0</td>\n",
              "    </tr>\n",
              "    <tr>\n",
              "      <th>4</th>\n",
              "      <td>NaN</td>\n",
              "      <td>0</td>\n",
              "      <td>0</td>\n",
              "      <td>TFL</td>\n",
              "      <td>28</td>\n",
              "      <td>Mar</td>\n",
              "      <td>2015</td>\n",
              "      <td>NaN</td>\n",
              "      <td>0</td>\n",
              "      <td>B</td>\n",
              "      <td>0.037652</td>\n",
              "      <td>160</td>\n",
              "      <td>18</td>\n",
              "      <td>N</td>\n",
              "      <td>0.017183</td>\n",
              "      <td>0.02038</td>\n",
              "      <td>0</td>\n",
              "      <td>NaN</td>\n",
              "      <td>FR04</td>\n",
              "      <td>5</td>\n",
              "      <td>0</td>\n",
              "      <td>0</td>\n",
              "      <td>1090.0</td>\n",
              "      <td>2</td>\n",
              "      <td>1.0</td>\n",
              "      <td>0</td>\n",
              "      <td>NaN</td>\n",
              "      <td>N</td>\n",
              "      <td>2</td>\n",
              "      <td>0</td>\n",
              "    </tr>\n",
              "  </tbody>\n",
              "</table>\n",
              "</div>\n",
              "      <button class=\"colab-df-convert\" onclick=\"convertToInteractive('df-db49fa5c-23ac-460f-8122-47581786cc0d')\"\n",
              "              title=\"Convert this dataframe to an interactive table.\"\n",
              "              style=\"display:none;\">\n",
              "        \n",
              "  <svg xmlns=\"http://www.w3.org/2000/svg\" height=\"24px\"viewBox=\"0 0 24 24\"\n",
              "       width=\"24px\">\n",
              "    <path d=\"M0 0h24v24H0V0z\" fill=\"none\"/>\n",
              "    <path d=\"M18.56 5.44l.94 2.06.94-2.06 2.06-.94-2.06-.94-.94-2.06-.94 2.06-2.06.94zm-11 1L8.5 8.5l.94-2.06 2.06-.94-2.06-.94L8.5 2.5l-.94 2.06-2.06.94zm10 10l.94 2.06.94-2.06 2.06-.94-2.06-.94-.94-2.06-.94 2.06-2.06.94z\"/><path d=\"M17.41 7.96l-1.37-1.37c-.4-.4-.92-.59-1.43-.59-.52 0-1.04.2-1.43.59L10.3 9.45l-7.72 7.72c-.78.78-.78 2.05 0 2.83L4 21.41c.39.39.9.59 1.41.59.51 0 1.02-.2 1.41-.59l7.78-7.78 2.81-2.81c.8-.78.8-2.07 0-2.86zM5.41 20L4 18.59l7.72-7.72 1.47 1.35L5.41 20z\"/>\n",
              "  </svg>\n",
              "      </button>\n",
              "      \n",
              "  <style>\n",
              "    .colab-df-container {\n",
              "      display:flex;\n",
              "      flex-wrap:wrap;\n",
              "      gap: 12px;\n",
              "    }\n",
              "\n",
              "    .colab-df-convert {\n",
              "      background-color: #E8F0FE;\n",
              "      border: none;\n",
              "      border-radius: 50%;\n",
              "      cursor: pointer;\n",
              "      display: none;\n",
              "      fill: #1967D2;\n",
              "      height: 32px;\n",
              "      padding: 0 0 0 0;\n",
              "      width: 32px;\n",
              "    }\n",
              "\n",
              "    .colab-df-convert:hover {\n",
              "      background-color: #E2EBFA;\n",
              "      box-shadow: 0px 1px 2px rgba(60, 64, 67, 0.3), 0px 1px 3px 1px rgba(60, 64, 67, 0.15);\n",
              "      fill: #174EA6;\n",
              "    }\n",
              "\n",
              "    [theme=dark] .colab-df-convert {\n",
              "      background-color: #3B4455;\n",
              "      fill: #D2E3FC;\n",
              "    }\n",
              "\n",
              "    [theme=dark] .colab-df-convert:hover {\n",
              "      background-color: #434B5C;\n",
              "      box-shadow: 0px 1px 3px 1px rgba(0, 0, 0, 0.15);\n",
              "      filter: drop-shadow(0px 1px 2px rgba(0, 0, 0, 0.3));\n",
              "      fill: #FFFFFF;\n",
              "    }\n",
              "  </style>\n",
              "\n",
              "      <script>\n",
              "        const buttonEl =\n",
              "          document.querySelector('#df-db49fa5c-23ac-460f-8122-47581786cc0d button.colab-df-convert');\n",
              "        buttonEl.style.display =\n",
              "          google.colab.kernel.accessAllowed ? 'block' : 'none';\n",
              "\n",
              "        async function convertToInteractive(key) {\n",
              "          const element = document.querySelector('#df-db49fa5c-23ac-460f-8122-47581786cc0d');\n",
              "          const dataTable =\n",
              "            await google.colab.kernel.invokeFunction('convertToInteractive',\n",
              "                                                     [key], {});\n",
              "          if (!dataTable) return;\n",
              "\n",
              "          const docLinkHtml = 'Like what you see? Visit the ' +\n",
              "            '<a target=\"_blank\" href=https://colab.research.google.com/notebooks/data_table.ipynb>data table notebook</a>'\n",
              "            + ' to learn more about interactive tables.';\n",
              "          element.innerHTML = '';\n",
              "          dataTable['output_type'] = 'display_data';\n",
              "          await google.colab.output.renderOutput(dataTable, element);\n",
              "          const docLink = document.createElement('div');\n",
              "          docLink.innerHTML = docLinkHtml;\n",
              "          element.appendChild(docLink);\n",
              "        }\n",
              "      </script>\n",
              "    </div>\n",
              "  </div>\n",
              "  "
            ]
          },
          "metadata": {},
          "execution_count": 4
        }
      ]
    },
    {
      "cell_type": "code",
      "source": [
        "df.columns"
      ],
      "metadata": {
        "colab": {
          "base_uri": "https://localhost:8080/"
        },
        "id": "GE4CDvC2fMrG",
        "outputId": "2b3522fc-36b1-4c38-b8b7-a83a0b3edbab"
      },
      "execution_count": 5,
      "outputs": [
        {
          "output_type": "execute_result",
          "data": {
            "text/plain": [
              "Index(['avg_income', 'CAMPUS_VISIT', 'CAMPUS_VISIT_2', 'CONTACT_CODE1',\n",
              "       'Contact_Date', 'Contact_Month', 'Contact_Year', 'distance',\n",
              "       'Target_Enroll', 'ETHNICITY', 'hscrat', 'ID', 'init_span', 'Instate',\n",
              "       'int1rat', 'int2rat', 'interest', 'IRSCHOOL', 'LEVEL_YEAR', 'mailq',\n",
              "       'premiere', 'REFERRAL_CNTCTS', 'satscore', 'SELF_INIT_CNTCTS', 'sex',\n",
              "       'SOLICITED_CNTCTS', 'telecq', 'TERRITORY', 'TOTAL_CONTACTS',\n",
              "       'TRAVEL_INIT_CNTCTS'],\n",
              "      dtype='object')"
            ]
          },
          "metadata": {},
          "execution_count": 5
        }
      ]
    },
    {
      "cell_type": "code",
      "source": [
        "df.info()"
      ],
      "metadata": {
        "colab": {
          "base_uri": "https://localhost:8080/"
        },
        "id": "kkU3S9JvffeF",
        "outputId": "4c9e0e72-252c-4db3-a61f-733b120938d0"
      },
      "execution_count": 6,
      "outputs": [
        {
          "output_type": "stream",
          "name": "stdout",
          "text": [
            "<class 'pandas.core.frame.DataFrame'>\n",
            "RangeIndex: 5160 entries, 0 to 5159\n",
            "Data columns (total 30 columns):\n",
            " #   Column              Non-Null Count  Dtype  \n",
            "---  ------              --------------  -----  \n",
            " 0   avg_income          4397 non-null   float64\n",
            " 1   CAMPUS_VISIT        5160 non-null   int64  \n",
            " 2   CAMPUS_VISIT_2      5160 non-null   object \n",
            " 3   CONTACT_CODE1       5155 non-null   object \n",
            " 4   Contact_Date        5160 non-null   int64  \n",
            " 5   Contact_Month       5160 non-null   object \n",
            " 6   Contact_Year        5160 non-null   int64  \n",
            " 7   distance            4489 non-null   float64\n",
            " 8   Target_Enroll       5160 non-null   int64  \n",
            " 9   ETHNICITY           4562 non-null   object \n",
            " 10  hscrat              5160 non-null   float64\n",
            " 11  ID                  5160 non-null   int64  \n",
            " 12  init_span           5160 non-null   int64  \n",
            " 13  Instate             5160 non-null   object \n",
            " 14  int1rat             5160 non-null   float64\n",
            " 15  int2rat             5160 non-null   float64\n",
            " 16  interest            5160 non-null   int64  \n",
            " 17  IRSCHOOL            4735 non-null   object \n",
            " 18  LEVEL_YEAR          5160 non-null   object \n",
            " 19  mailq               5160 non-null   int64  \n",
            " 20  premiere            5160 non-null   int64  \n",
            " 21  REFERRAL_CNTCTS     5160 non-null   int64  \n",
            " 22  satscore            3273 non-null   float64\n",
            " 23  SELF_INIT_CNTCTS    5160 non-null   int64  \n",
            " 24  sex                 5033 non-null   float64\n",
            " 25  SOLICITED_CNTCTS    5160 non-null   int64  \n",
            " 26  telecq              2105 non-null   float64\n",
            " 27  TERRITORY           5160 non-null   object \n",
            " 28  TOTAL_CONTACTS      5160 non-null   int64  \n",
            " 29  TRAVEL_INIT_CNTCTS  5160 non-null   int64  \n",
            "dtypes: float64(8), int64(14), object(8)\n",
            "memory usage: 1.2+ MB\n"
          ]
        }
      ]
    },
    {
      "cell_type": "code",
      "source": [
        "df.describe()"
      ],
      "metadata": {
        "colab": {
          "base_uri": "https://localhost:8080/",
          "height": 364
        },
        "id": "ioqPpbB9gFh2",
        "outputId": "81da0d29-4a94-46ef-ac8b-529268e40d10"
      },
      "execution_count": 7,
      "outputs": [
        {
          "output_type": "execute_result",
          "data": {
            "text/plain": [
              "          avg_income  CAMPUS_VISIT  Contact_Date  Contact_Year     distance  \\\n",
              "count    4397.000000   5160.000000   5160.000000   5160.000000  4489.000000   \n",
              "mean    53494.747100      0.150194     15.707558   2014.610659   318.016140   \n",
              "std     23083.609393      0.374771      8.799722      0.723275   370.781848   \n",
              "min      9783.000000      0.000000      1.000000   2010.000000     0.790555   \n",
              "25%     35568.000000      0.000000      7.000000   2014.000000   102.461358   \n",
              "50%     48627.000000      0.000000     16.000000   2015.000000   160.271705   \n",
              "75%     68458.000000      0.000000     23.000000   2015.000000   372.547430   \n",
              "max    200001.000000      2.000000     31.000000   2016.000000  3882.192379   \n",
              "\n",
              "       Target_Enroll       hscrat            ID    init_span      int1rat  \\\n",
              "count    5160.000000  5160.000000   5160.000000  5160.000000  5160.000000   \n",
              "mean        0.500000     0.088590  44615.840891    19.215891     0.045520   \n",
              "std         0.500048     0.145744  22348.233655     9.177806     0.035887   \n",
              "min         0.000000     0.000000     32.000000  -216.000000     0.000000   \n",
              "25%         0.000000     0.023529  28248.750000    12.000000     0.020906   \n",
              "50%         0.500000     0.052632  45814.000000    18.000000     0.049270   \n",
              "75%         1.000000     0.095238  62830.250000    23.000000     0.049270   \n",
              "max         1.000000     1.000000  82327.000000    72.000000     1.000000   \n",
              "\n",
              "           int2rat     interest        mailq     premiere  REFERRAL_CNTCTS  \\\n",
              "count  5160.000000  5160.000000  5160.000000  5160.000000      5160.000000   \n",
              "mean      0.051802     0.172093     3.893798     0.212984         0.064147   \n",
              "std       0.039164     0.411876     1.600167     0.409456         0.288625   \n",
              "min       0.000000     0.000000     1.000000     0.000000         0.000000   \n",
              "25%       0.020380     0.000000     2.000000     0.000000         0.000000   \n",
              "50%       0.056670     0.000000     5.000000     0.000000         0.000000   \n",
              "75%       0.056670     0.000000     5.000000     0.000000         0.000000   \n",
              "max       1.000000     3.000000     5.000000     1.000000         5.000000   \n",
              "\n",
              "          satscore  SELF_INIT_CNTCTS          sex  SOLICITED_CNTCTS  \\\n",
              "count  3273.000000       5160.000000  5033.000000       5160.000000   \n",
              "mean   1149.364497          3.335659     0.617524          0.582946   \n",
              "std     151.491442          3.098895     0.486040          0.761358   \n",
              "min     440.000000          0.000000     0.000000          0.000000   \n",
              "25%    1050.000000          1.000000     0.000000          0.000000   \n",
              "50%    1150.000000          3.000000     1.000000          0.000000   \n",
              "75%    1250.000000          5.000000     1.000000          1.000000   \n",
              "max    1600.000000         21.000000     1.000000          9.000000   \n",
              "\n",
              "            telecq  TOTAL_CONTACTS  TRAVEL_INIT_CNTCTS  \n",
              "count  2105.000000     5160.000000         5160.000000  \n",
              "mean      2.141568        4.429651            0.446899  \n",
              "std       0.807467        3.480081            0.670228  \n",
              "min       1.000000        1.000000            0.000000  \n",
              "25%       2.000000        1.000000            0.000000  \n",
              "50%       2.000000        3.000000            0.000000  \n",
              "75%       2.000000        7.000000            1.000000  \n",
              "max       4.000000       28.000000            5.000000  "
            ],
            "text/html": [
              "\n",
              "  <div id=\"df-39f78404-4e63-45a7-b2ae-9b48a57d70c5\">\n",
              "    <div class=\"colab-df-container\">\n",
              "      <div>\n",
              "<style scoped>\n",
              "    .dataframe tbody tr th:only-of-type {\n",
              "        vertical-align: middle;\n",
              "    }\n",
              "\n",
              "    .dataframe tbody tr th {\n",
              "        vertical-align: top;\n",
              "    }\n",
              "\n",
              "    .dataframe thead th {\n",
              "        text-align: right;\n",
              "    }\n",
              "</style>\n",
              "<table border=\"1\" class=\"dataframe\">\n",
              "  <thead>\n",
              "    <tr style=\"text-align: right;\">\n",
              "      <th></th>\n",
              "      <th>avg_income</th>\n",
              "      <th>CAMPUS_VISIT</th>\n",
              "      <th>Contact_Date</th>\n",
              "      <th>Contact_Year</th>\n",
              "      <th>distance</th>\n",
              "      <th>Target_Enroll</th>\n",
              "      <th>hscrat</th>\n",
              "      <th>ID</th>\n",
              "      <th>init_span</th>\n",
              "      <th>int1rat</th>\n",
              "      <th>int2rat</th>\n",
              "      <th>interest</th>\n",
              "      <th>mailq</th>\n",
              "      <th>premiere</th>\n",
              "      <th>REFERRAL_CNTCTS</th>\n",
              "      <th>satscore</th>\n",
              "      <th>SELF_INIT_CNTCTS</th>\n",
              "      <th>sex</th>\n",
              "      <th>SOLICITED_CNTCTS</th>\n",
              "      <th>telecq</th>\n",
              "      <th>TOTAL_CONTACTS</th>\n",
              "      <th>TRAVEL_INIT_CNTCTS</th>\n",
              "    </tr>\n",
              "  </thead>\n",
              "  <tbody>\n",
              "    <tr>\n",
              "      <th>count</th>\n",
              "      <td>4397.000000</td>\n",
              "      <td>5160.000000</td>\n",
              "      <td>5160.000000</td>\n",
              "      <td>5160.000000</td>\n",
              "      <td>4489.000000</td>\n",
              "      <td>5160.000000</td>\n",
              "      <td>5160.000000</td>\n",
              "      <td>5160.000000</td>\n",
              "      <td>5160.000000</td>\n",
              "      <td>5160.000000</td>\n",
              "      <td>5160.000000</td>\n",
              "      <td>5160.000000</td>\n",
              "      <td>5160.000000</td>\n",
              "      <td>5160.000000</td>\n",
              "      <td>5160.000000</td>\n",
              "      <td>3273.000000</td>\n",
              "      <td>5160.000000</td>\n",
              "      <td>5033.000000</td>\n",
              "      <td>5160.000000</td>\n",
              "      <td>2105.000000</td>\n",
              "      <td>5160.000000</td>\n",
              "      <td>5160.000000</td>\n",
              "    </tr>\n",
              "    <tr>\n",
              "      <th>mean</th>\n",
              "      <td>53494.747100</td>\n",
              "      <td>0.150194</td>\n",
              "      <td>15.707558</td>\n",
              "      <td>2014.610659</td>\n",
              "      <td>318.016140</td>\n",
              "      <td>0.500000</td>\n",
              "      <td>0.088590</td>\n",
              "      <td>44615.840891</td>\n",
              "      <td>19.215891</td>\n",
              "      <td>0.045520</td>\n",
              "      <td>0.051802</td>\n",
              "      <td>0.172093</td>\n",
              "      <td>3.893798</td>\n",
              "      <td>0.212984</td>\n",
              "      <td>0.064147</td>\n",
              "      <td>1149.364497</td>\n",
              "      <td>3.335659</td>\n",
              "      <td>0.617524</td>\n",
              "      <td>0.582946</td>\n",
              "      <td>2.141568</td>\n",
              "      <td>4.429651</td>\n",
              "      <td>0.446899</td>\n",
              "    </tr>\n",
              "    <tr>\n",
              "      <th>std</th>\n",
              "      <td>23083.609393</td>\n",
              "      <td>0.374771</td>\n",
              "      <td>8.799722</td>\n",
              "      <td>0.723275</td>\n",
              "      <td>370.781848</td>\n",
              "      <td>0.500048</td>\n",
              "      <td>0.145744</td>\n",
              "      <td>22348.233655</td>\n",
              "      <td>9.177806</td>\n",
              "      <td>0.035887</td>\n",
              "      <td>0.039164</td>\n",
              "      <td>0.411876</td>\n",
              "      <td>1.600167</td>\n",
              "      <td>0.409456</td>\n",
              "      <td>0.288625</td>\n",
              "      <td>151.491442</td>\n",
              "      <td>3.098895</td>\n",
              "      <td>0.486040</td>\n",
              "      <td>0.761358</td>\n",
              "      <td>0.807467</td>\n",
              "      <td>3.480081</td>\n",
              "      <td>0.670228</td>\n",
              "    </tr>\n",
              "    <tr>\n",
              "      <th>min</th>\n",
              "      <td>9783.000000</td>\n",
              "      <td>0.000000</td>\n",
              "      <td>1.000000</td>\n",
              "      <td>2010.000000</td>\n",
              "      <td>0.790555</td>\n",
              "      <td>0.000000</td>\n",
              "      <td>0.000000</td>\n",
              "      <td>32.000000</td>\n",
              "      <td>-216.000000</td>\n",
              "      <td>0.000000</td>\n",
              "      <td>0.000000</td>\n",
              "      <td>0.000000</td>\n",
              "      <td>1.000000</td>\n",
              "      <td>0.000000</td>\n",
              "      <td>0.000000</td>\n",
              "      <td>440.000000</td>\n",
              "      <td>0.000000</td>\n",
              "      <td>0.000000</td>\n",
              "      <td>0.000000</td>\n",
              "      <td>1.000000</td>\n",
              "      <td>1.000000</td>\n",
              "      <td>0.000000</td>\n",
              "    </tr>\n",
              "    <tr>\n",
              "      <th>25%</th>\n",
              "      <td>35568.000000</td>\n",
              "      <td>0.000000</td>\n",
              "      <td>7.000000</td>\n",
              "      <td>2014.000000</td>\n",
              "      <td>102.461358</td>\n",
              "      <td>0.000000</td>\n",
              "      <td>0.023529</td>\n",
              "      <td>28248.750000</td>\n",
              "      <td>12.000000</td>\n",
              "      <td>0.020906</td>\n",
              "      <td>0.020380</td>\n",
              "      <td>0.000000</td>\n",
              "      <td>2.000000</td>\n",
              "      <td>0.000000</td>\n",
              "      <td>0.000000</td>\n",
              "      <td>1050.000000</td>\n",
              "      <td>1.000000</td>\n",
              "      <td>0.000000</td>\n",
              "      <td>0.000000</td>\n",
              "      <td>2.000000</td>\n",
              "      <td>1.000000</td>\n",
              "      <td>0.000000</td>\n",
              "    </tr>\n",
              "    <tr>\n",
              "      <th>50%</th>\n",
              "      <td>48627.000000</td>\n",
              "      <td>0.000000</td>\n",
              "      <td>16.000000</td>\n",
              "      <td>2015.000000</td>\n",
              "      <td>160.271705</td>\n",
              "      <td>0.500000</td>\n",
              "      <td>0.052632</td>\n",
              "      <td>45814.000000</td>\n",
              "      <td>18.000000</td>\n",
              "      <td>0.049270</td>\n",
              "      <td>0.056670</td>\n",
              "      <td>0.000000</td>\n",
              "      <td>5.000000</td>\n",
              "      <td>0.000000</td>\n",
              "      <td>0.000000</td>\n",
              "      <td>1150.000000</td>\n",
              "      <td>3.000000</td>\n",
              "      <td>1.000000</td>\n",
              "      <td>0.000000</td>\n",
              "      <td>2.000000</td>\n",
              "      <td>3.000000</td>\n",
              "      <td>0.000000</td>\n",
              "    </tr>\n",
              "    <tr>\n",
              "      <th>75%</th>\n",
              "      <td>68458.000000</td>\n",
              "      <td>0.000000</td>\n",
              "      <td>23.000000</td>\n",
              "      <td>2015.000000</td>\n",
              "      <td>372.547430</td>\n",
              "      <td>1.000000</td>\n",
              "      <td>0.095238</td>\n",
              "      <td>62830.250000</td>\n",
              "      <td>23.000000</td>\n",
              "      <td>0.049270</td>\n",
              "      <td>0.056670</td>\n",
              "      <td>0.000000</td>\n",
              "      <td>5.000000</td>\n",
              "      <td>0.000000</td>\n",
              "      <td>0.000000</td>\n",
              "      <td>1250.000000</td>\n",
              "      <td>5.000000</td>\n",
              "      <td>1.000000</td>\n",
              "      <td>1.000000</td>\n",
              "      <td>2.000000</td>\n",
              "      <td>7.000000</td>\n",
              "      <td>1.000000</td>\n",
              "    </tr>\n",
              "    <tr>\n",
              "      <th>max</th>\n",
              "      <td>200001.000000</td>\n",
              "      <td>2.000000</td>\n",
              "      <td>31.000000</td>\n",
              "      <td>2016.000000</td>\n",
              "      <td>3882.192379</td>\n",
              "      <td>1.000000</td>\n",
              "      <td>1.000000</td>\n",
              "      <td>82327.000000</td>\n",
              "      <td>72.000000</td>\n",
              "      <td>1.000000</td>\n",
              "      <td>1.000000</td>\n",
              "      <td>3.000000</td>\n",
              "      <td>5.000000</td>\n",
              "      <td>1.000000</td>\n",
              "      <td>5.000000</td>\n",
              "      <td>1600.000000</td>\n",
              "      <td>21.000000</td>\n",
              "      <td>1.000000</td>\n",
              "      <td>9.000000</td>\n",
              "      <td>4.000000</td>\n",
              "      <td>28.000000</td>\n",
              "      <td>5.000000</td>\n",
              "    </tr>\n",
              "  </tbody>\n",
              "</table>\n",
              "</div>\n",
              "      <button class=\"colab-df-convert\" onclick=\"convertToInteractive('df-39f78404-4e63-45a7-b2ae-9b48a57d70c5')\"\n",
              "              title=\"Convert this dataframe to an interactive table.\"\n",
              "              style=\"display:none;\">\n",
              "        \n",
              "  <svg xmlns=\"http://www.w3.org/2000/svg\" height=\"24px\"viewBox=\"0 0 24 24\"\n",
              "       width=\"24px\">\n",
              "    <path d=\"M0 0h24v24H0V0z\" fill=\"none\"/>\n",
              "    <path d=\"M18.56 5.44l.94 2.06.94-2.06 2.06-.94-2.06-.94-.94-2.06-.94 2.06-2.06.94zm-11 1L8.5 8.5l.94-2.06 2.06-.94-2.06-.94L8.5 2.5l-.94 2.06-2.06.94zm10 10l.94 2.06.94-2.06 2.06-.94-2.06-.94-.94-2.06-.94 2.06-2.06.94z\"/><path d=\"M17.41 7.96l-1.37-1.37c-.4-.4-.92-.59-1.43-.59-.52 0-1.04.2-1.43.59L10.3 9.45l-7.72 7.72c-.78.78-.78 2.05 0 2.83L4 21.41c.39.39.9.59 1.41.59.51 0 1.02-.2 1.41-.59l7.78-7.78 2.81-2.81c.8-.78.8-2.07 0-2.86zM5.41 20L4 18.59l7.72-7.72 1.47 1.35L5.41 20z\"/>\n",
              "  </svg>\n",
              "      </button>\n",
              "      \n",
              "  <style>\n",
              "    .colab-df-container {\n",
              "      display:flex;\n",
              "      flex-wrap:wrap;\n",
              "      gap: 12px;\n",
              "    }\n",
              "\n",
              "    .colab-df-convert {\n",
              "      background-color: #E8F0FE;\n",
              "      border: none;\n",
              "      border-radius: 50%;\n",
              "      cursor: pointer;\n",
              "      display: none;\n",
              "      fill: #1967D2;\n",
              "      height: 32px;\n",
              "      padding: 0 0 0 0;\n",
              "      width: 32px;\n",
              "    }\n",
              "\n",
              "    .colab-df-convert:hover {\n",
              "      background-color: #E2EBFA;\n",
              "      box-shadow: 0px 1px 2px rgba(60, 64, 67, 0.3), 0px 1px 3px 1px rgba(60, 64, 67, 0.15);\n",
              "      fill: #174EA6;\n",
              "    }\n",
              "\n",
              "    [theme=dark] .colab-df-convert {\n",
              "      background-color: #3B4455;\n",
              "      fill: #D2E3FC;\n",
              "    }\n",
              "\n",
              "    [theme=dark] .colab-df-convert:hover {\n",
              "      background-color: #434B5C;\n",
              "      box-shadow: 0px 1px 3px 1px rgba(0, 0, 0, 0.15);\n",
              "      filter: drop-shadow(0px 1px 2px rgba(0, 0, 0, 0.3));\n",
              "      fill: #FFFFFF;\n",
              "    }\n",
              "  </style>\n",
              "\n",
              "      <script>\n",
              "        const buttonEl =\n",
              "          document.querySelector('#df-39f78404-4e63-45a7-b2ae-9b48a57d70c5 button.colab-df-convert');\n",
              "        buttonEl.style.display =\n",
              "          google.colab.kernel.accessAllowed ? 'block' : 'none';\n",
              "\n",
              "        async function convertToInteractive(key) {\n",
              "          const element = document.querySelector('#df-39f78404-4e63-45a7-b2ae-9b48a57d70c5');\n",
              "          const dataTable =\n",
              "            await google.colab.kernel.invokeFunction('convertToInteractive',\n",
              "                                                     [key], {});\n",
              "          if (!dataTable) return;\n",
              "\n",
              "          const docLinkHtml = 'Like what you see? Visit the ' +\n",
              "            '<a target=\"_blank\" href=https://colab.research.google.com/notebooks/data_table.ipynb>data table notebook</a>'\n",
              "            + ' to learn more about interactive tables.';\n",
              "          element.innerHTML = '';\n",
              "          dataTable['output_type'] = 'display_data';\n",
              "          await google.colab.output.renderOutput(dataTable, element);\n",
              "          const docLink = document.createElement('div');\n",
              "          docLink.innerHTML = docLinkHtml;\n",
              "          element.appendChild(docLink);\n",
              "        }\n",
              "      </script>\n",
              "    </div>\n",
              "  </div>\n",
              "  "
            ]
          },
          "metadata": {},
          "execution_count": 7
        }
      ]
    },
    {
      "cell_type": "markdown",
      "source": [
        "**DATA CLEANING**"
      ],
      "metadata": {
        "id": "X-2Yil6MNaRO"
      }
    },
    {
      "cell_type": "code",
      "source": [
        "df.columns"
      ],
      "metadata": {
        "id": "n49iMbfqgOl1",
        "colab": {
          "base_uri": "https://localhost:8080/"
        },
        "outputId": "1a84e203-85cc-40be-d6af-c70068b56970"
      },
      "execution_count": 8,
      "outputs": [
        {
          "output_type": "execute_result",
          "data": {
            "text/plain": [
              "Index(['avg_income', 'CAMPUS_VISIT', 'CAMPUS_VISIT_2', 'CONTACT_CODE1',\n",
              "       'Contact_Date', 'Contact_Month', 'Contact_Year', 'distance',\n",
              "       'Target_Enroll', 'ETHNICITY', 'hscrat', 'ID', 'init_span', 'Instate',\n",
              "       'int1rat', 'int2rat', 'interest', 'IRSCHOOL', 'LEVEL_YEAR', 'mailq',\n",
              "       'premiere', 'REFERRAL_CNTCTS', 'satscore', 'SELF_INIT_CNTCTS', 'sex',\n",
              "       'SOLICITED_CNTCTS', 'telecq', 'TERRITORY', 'TOTAL_CONTACTS',\n",
              "       'TRAVEL_INIT_CNTCTS'],\n",
              "      dtype='object')"
            ]
          },
          "metadata": {},
          "execution_count": 8
        }
      ]
    },
    {
      "cell_type": "code",
      "source": [
        "df['CAMPUS_VISIT'].value_counts(normalize=True)*100   #To display in percent values"
      ],
      "metadata": {
        "colab": {
          "base_uri": "https://localhost:8080/"
        },
        "id": "92ouxBVpNsIf",
        "outputId": "f19d4d04-46b8-445e-fe93-f350c1f73cde"
      },
      "execution_count": 9,
      "outputs": [
        {
          "output_type": "execute_result",
          "data": {
            "text/plain": [
              "0    85.620155\n",
              "1    13.740310\n",
              "2     0.639535\n",
              "Name: CAMPUS_VISIT, dtype: float64"
            ]
          },
          "metadata": {},
          "execution_count": 9
        }
      ]
    },
    {
      "cell_type": "code",
      "source": [
        "df['LEVEL_YEAR'].value_counts()  #can be removed"
      ],
      "metadata": {
        "colab": {
          "base_uri": "https://localhost:8080/"
        },
        "id": "HuRdyN-2PZxQ",
        "outputId": "5d9066cd-e58d-4bbc-df3b-294c1f8554ff"
      },
      "execution_count": 10,
      "outputs": [
        {
          "output_type": "execute_result",
          "data": {
            "text/plain": [
              "FR04    5160\n",
              "Name: LEVEL_YEAR, dtype: int64"
            ]
          },
          "metadata": {},
          "execution_count": 10
        }
      ]
    },
    {
      "cell_type": "markdown",
      "source": [
        "> We can remove this column as it won't be having any impact on the output as for all values this is same"
      ],
      "metadata": {
        "id": "11gwReAgPoWb"
      }
    },
    {
      "cell_type": "code",
      "source": [
        "df['ID'].value_counts() #also can be removed"
      ],
      "metadata": {
        "colab": {
          "base_uri": "https://localhost:8080/"
        },
        "id": "Xa_X2FBAPnrn",
        "outputId": "bc40e322-0b56-4f7e-c045-1177b2e055b2"
      },
      "execution_count": 11,
      "outputs": [
        {
          "output_type": "execute_result",
          "data": {
            "text/plain": [
              "32       1\n",
              "58175    1\n",
              "57858    1\n",
              "57854    1\n",
              "57836    1\n",
              "        ..\n",
              "34381    1\n",
              "34372    1\n",
              "34368    1\n",
              "34363    1\n",
              "82327    1\n",
              "Name: ID, Length: 5160, dtype: int64"
            ]
          },
          "metadata": {},
          "execution_count": 11
        }
      ]
    },
    {
      "cell_type": "code",
      "source": [
        "df['Instate'].value_counts()"
      ],
      "metadata": {
        "colab": {
          "base_uri": "https://localhost:8080/"
        },
        "id": "kA047h7KP7xE",
        "outputId": "ebd3dd7a-81ad-443d-c7d1-a04eddec7479"
      },
      "execution_count": 12,
      "outputs": [
        {
          "output_type": "execute_result",
          "data": {
            "text/plain": [
              "Y    3701\n",
              "N    1459\n",
              "Name: Instate, dtype: int64"
            ]
          },
          "metadata": {},
          "execution_count": 12
        }
      ]
    },
    {
      "cell_type": "code",
      "source": [
        "df['Contact_Month'].value_counts()"
      ],
      "metadata": {
        "colab": {
          "base_uri": "https://localhost:8080/"
        },
        "id": "dZxfWoMWP_uK",
        "outputId": "4512a52e-e8b8-43cc-a774-dfba3d5ef7a5"
      },
      "execution_count": 13,
      "outputs": [
        {
          "output_type": "execute_result",
          "data": {
            "text/plain": [
              "Feb    785\n",
              "Oct    687\n",
              "Mar    602\n",
              "Nov    512\n",
              "Dec    491\n",
              "Jul    394\n",
              "Jan    392\n",
              "Apr    388\n",
              "Sep    359\n",
              "May    215\n",
              "Jun    192\n",
              "Aug    143\n",
              "Name: Contact_Month, dtype: int64"
            ]
          },
          "metadata": {},
          "execution_count": 13
        }
      ]
    },
    {
      "cell_type": "code",
      "source": [
        "df['TERRITORY'].value_counts()"
      ],
      "metadata": {
        "colab": {
          "base_uri": "https://localhost:8080/"
        },
        "id": "DLHVTXw1QDIG",
        "outputId": "54ba9178-5957-4c6a-f0ff-785166931828"
      },
      "execution_count": 14,
      "outputs": [
        {
          "output_type": "execute_result",
          "data": {
            "text/plain": [
              "5    661\n",
              "2    649\n",
              "3    644\n",
              "7    628\n",
              "4    608\n",
              "6    608\n",
              "1    597\n",
              "8    529\n",
              "A    134\n",
              "N    101\n",
              "0      1\n",
              "Name: TERRITORY, dtype: int64"
            ]
          },
          "metadata": {},
          "execution_count": 14
        }
      ]
    },
    {
      "cell_type": "markdown",
      "source": [
        "> 0 has only 1 entry, can be substituted or 0 entry can be removed"
      ],
      "metadata": {
        "id": "0a5wZ5XCQTL4"
      }
    },
    {
      "cell_type": "code",
      "source": [
        "df['IRSCHOOL'].value_counts(normalize=True)"
      ],
      "metadata": {
        "colab": {
          "base_uri": "https://localhost:8080/"
        },
        "id": "GJTp5Z-5QORS",
        "outputId": "ee4b986e-1edd-4ecb-cf58-821bf69bdf3c"
      },
      "execution_count": 15,
      "outputs": [
        {
          "output_type": "execute_result",
          "data": {
            "text/plain": [
              "447290    0.009081\n",
              "445573    0.006969\n",
              "440324    0.006969\n",
              "443509    0.006969\n",
              "441471    0.006758\n",
              "            ...   \n",
              "371109    0.000211\n",
              "370112    0.000211\n",
              "372069    0.000211\n",
              "372070    0.000211\n",
              "442235    0.000211\n",
              "Name: IRSCHOOL, Length: 1767, dtype: float64"
            ]
          },
          "metadata": {},
          "execution_count": 15
        }
      ]
    },
    {
      "cell_type": "markdown",
      "source": [
        "> Too many unique values, so it is not important as it won't have impact on the output."
      ],
      "metadata": {
        "id": "jmTQoWCzReVj"
      }
    },
    {
      "cell_type": "code",
      "source": [
        "df1 = df.drop(['IRSCHOOL', 'TERRITORY', 'Contact_Date', 'CAMPUS_VISIT_2', 'LEVEL_YEAR', 'ID'], axis=1)"
      ],
      "metadata": {
        "id": "70nvYelPRal6"
      },
      "execution_count": 16,
      "outputs": []
    },
    {
      "cell_type": "code",
      "source": [
        "df1.shape"
      ],
      "metadata": {
        "colab": {
          "base_uri": "https://localhost:8080/"
        },
        "id": "edaoIAbjR2L_",
        "outputId": "d4216c20-c4cd-4c29-9e73-3c1c2c400d61"
      },
      "execution_count": 17,
      "outputs": [
        {
          "output_type": "execute_result",
          "data": {
            "text/plain": [
              "(5160, 24)"
            ]
          },
          "metadata": {},
          "execution_count": 17
        }
      ]
    },
    {
      "cell_type": "code",
      "source": [
        "for col in df1.columns:\n",
        "  if df1[col].dtypes == int or df1[col].dtypes == float:\n",
        "    #can be replaced by mean or mode\n",
        "    df2 = df1[col]\n",
        "    df2 = df2.dropna()\n",
        "\n",
        "    if(abs(np.mean(df2)-np.median(df2))) <= np.std(df2):\n",
        "      df1[col].fillna(np.mean(df2), inplace=True) #if data fulfills normal distribution or there are no outliers, then we can replace by mean value otherwise median\n",
        "    else:\n",
        "      df1[col].fillna(np.median(df2), inplace=True)"
      ],
      "metadata": {
        "id": "kXjNua-hR3JO"
      },
      "execution_count": 18,
      "outputs": []
    },
    {
      "cell_type": "code",
      "source": [
        "for col in df1.columns:\n",
        "  if df1[col].dtypes == str or df1[col].dtypes==object:\n",
        "    df3 = df1[col]\n",
        "    df3.dropna()\n",
        "\n",
        "    uniq_val = list(df3.unique())\n",
        "    if len(uniq_val) <= 10:\n",
        "      total_count = 0\n",
        "      val = str\n",
        "      for v in uniq_val:\n",
        "        if v!= 'nan':\n",
        "          count=df3.loc[df3==v]\n",
        "          count = int(count.shape[0])\n",
        "\n",
        "          if count >= total_count:\n",
        "            total_count = count\n",
        "            val = v\n",
        "      df1[col].fillna(val, inplace=True)\n",
        "    else:\n",
        "      df1 = df1.drop(col, axis=1)\n",
        "      print(\"Dropped: \", col)"
      ],
      "metadata": {
        "colab": {
          "base_uri": "https://localhost:8080/"
        },
        "id": "p_j7cwslVCbx",
        "outputId": "991e0e3f-16fa-46f6-feb3-204e3a35abb1"
      },
      "execution_count": 19,
      "outputs": [
        {
          "output_type": "stream",
          "name": "stdout",
          "text": [
            "Dropped:  CONTACT_CODE1\n",
            "Dropped:  Contact_Month\n"
          ]
        }
      ]
    },
    {
      "cell_type": "code",
      "source": [
        "df1.shape"
      ],
      "metadata": {
        "colab": {
          "base_uri": "https://localhost:8080/"
        },
        "id": "8mJUiQlEWULz",
        "outputId": "28d6cbc1-37c5-40d1-a899-966e6d7bd68f"
      },
      "execution_count": 20,
      "outputs": [
        {
          "output_type": "execute_result",
          "data": {
            "text/plain": [
              "(5160, 22)"
            ]
          },
          "metadata": {},
          "execution_count": 20
        }
      ]
    },
    {
      "cell_type": "code",
      "source": [
        "df4 = df1\n",
        "shape = df1.shape\n",
        "for c in df4.columns:\n",
        "  if df4[c].dtypes == object or df4[c].dtypes == str:\n",
        "    l = list(df4[c].unique())\n",
        "\n",
        "    for v in l:\n",
        "      df1[str(c)+str(v)] = None\n",
        "      for i in range(shape[0]):\n",
        "        if df1[c][i] == v:\n",
        "          df1[str(c)+str(v)][i] = 1\n",
        "        else:\n",
        "          df1[str(c)+str(v)][i] = 0\n",
        "    df1 = df1.drop(c,axis=1)"
      ],
      "metadata": {
        "colab": {
          "base_uri": "https://localhost:8080/"
        },
        "id": "DOu6uC_CWsxT",
        "outputId": "65f81139-1ec9-4da8-9372-7f19aeb96b40"
      },
      "execution_count": 21,
      "outputs": [
        {
          "output_type": "stream",
          "name": "stderr",
          "text": [
            "/usr/local/lib/python3.7/dist-packages/ipykernel_launcher.py:11: SettingWithCopyWarning: \n",
            "A value is trying to be set on a copy of a slice from a DataFrame\n",
            "\n",
            "See the caveats in the documentation: https://pandas.pydata.org/pandas-docs/stable/user_guide/indexing.html#returning-a-view-versus-a-copy\n",
            "  # This is added back by InteractiveShellApp.init_path()\n",
            "/usr/local/lib/python3.7/dist-packages/ipykernel_launcher.py:13: SettingWithCopyWarning: \n",
            "A value is trying to be set on a copy of a slice from a DataFrame\n",
            "\n",
            "See the caveats in the documentation: https://pandas.pydata.org/pandas-docs/stable/user_guide/indexing.html#returning-a-view-versus-a-copy\n",
            "  del sys.path[0]\n"
          ]
        }
      ]
    },
    {
      "cell_type": "code",
      "source": [
        "# Normalisation\n",
        "for col in df1.columns:\n",
        "  if col!='Target_Enroll' and (df1[col].dtypes==int or df1[col].dtypes==float) :\n",
        "    mean = np.mean(df1[col])\n",
        "    max_val = np.max(df1[col])\n",
        "    min_val = np.min(df1[col])\n",
        "\n",
        "    df1[col] = pd.DataFrame(map(lambda x: abs(x-mean)/(max_val-min_val), df1[col]))"
      ],
      "metadata": {
        "id": "2G_kjmwyX-Zi"
      },
      "execution_count": 22,
      "outputs": []
    },
    {
      "cell_type": "code",
      "source": [
        "df1.head()"
      ],
      "metadata": {
        "colab": {
          "base_uri": "https://localhost:8080/",
          "height": 357
        },
        "id": "WyppIJc5YjAp",
        "outputId": "36996cec-1754-48f1-fd82-8dc424f5b4bc"
      },
      "execution_count": 23,
      "outputs": [
        {
          "output_type": "execute_result",
          "data": {
            "text/plain": [
              "     avg_income  CAMPUS_VISIT  Contact_Year      distance  Target_Enroll  \\\n",
              "0  1.147519e-15      0.075097      0.435110  1.361992e-15              0   \n",
              "1  1.147519e-15      0.075097      0.101776  1.361992e-15              0   \n",
              "2  1.147519e-15      0.075097      0.064890  1.361992e-15              0   \n",
              "3  1.147519e-15      0.075097      0.064890  1.361992e-15              0   \n",
              "4  1.147519e-15      0.075097      0.064890  1.361992e-15              0   \n",
              "\n",
              "     hscrat  init_span   int1rat   int2rat  interest    mailq  premiere  \\\n",
              "0  0.050938   0.099945  0.028338  0.031422  0.057364  0.27655  0.212984   \n",
              "1  0.050938   0.040917  0.028338  0.031422  0.057364  0.27655  0.212984   \n",
              "2  0.050938   0.002723  0.028338  0.031422  0.057364  0.27655  0.212984   \n",
              "3  0.050938   0.004222  0.028338  0.031422  0.057364  0.27655  0.212984   \n",
              "4  0.050938   0.004222  0.028338  0.031422  0.057364  0.27655  0.212984   \n",
              "\n",
              "   REFERRAL_CNTCTS      satscore  SELF_INIT_CNTCTS       sex  \\\n",
              "0         0.012829  1.372083e-14          0.111222  0.382476   \n",
              "1         0.012829  1.372083e-14          0.111222  0.382476   \n",
              "2         0.012829  1.372083e-14          0.158841  0.382476   \n",
              "3         0.012829  1.372083e-14          0.111222  0.617524   \n",
              "4         0.012829  5.117629e-02          0.063603  0.382476   \n",
              "\n",
              "   SOLICITED_CNTCTS        telecq  TOTAL_CONTACTS  TRAVEL_INIT_CNTCTS  \\\n",
              "0          0.064772  2.753353e-14        0.127024             0.08938   \n",
              "1          0.064772  2.753353e-14        0.127024             0.08938   \n",
              "2          0.046339  2.753353e-14        0.127024             0.08938   \n",
              "3          0.064772  2.753353e-14        0.127024             0.08938   \n",
              "4          0.064772  2.753353e-14        0.089987             0.08938   \n",
              "\n",
              "  ETHNICITYC ETHNICITYN ETHNICITYB ETHNICITYH ETHNICITYA ETHNICITYO  \\\n",
              "0          1          0          0          0          0          0   \n",
              "1          0          1          0          0          0          0   \n",
              "2          1          0          0          0          0          0   \n",
              "3          1          0          0          0          0          0   \n",
              "4          0          0          1          0          0          0   \n",
              "\n",
              "  ETHNICITYI InstateN InstateY  \n",
              "0          0        1        0  \n",
              "1          0        1        0  \n",
              "2          0        1        0  \n",
              "3          0        1        0  \n",
              "4          0        1        0  "
            ],
            "text/html": [
              "\n",
              "  <div id=\"df-08ff1baa-c473-445e-8b73-46cbbf8e689c\">\n",
              "    <div class=\"colab-df-container\">\n",
              "      <div>\n",
              "<style scoped>\n",
              "    .dataframe tbody tr th:only-of-type {\n",
              "        vertical-align: middle;\n",
              "    }\n",
              "\n",
              "    .dataframe tbody tr th {\n",
              "        vertical-align: top;\n",
              "    }\n",
              "\n",
              "    .dataframe thead th {\n",
              "        text-align: right;\n",
              "    }\n",
              "</style>\n",
              "<table border=\"1\" class=\"dataframe\">\n",
              "  <thead>\n",
              "    <tr style=\"text-align: right;\">\n",
              "      <th></th>\n",
              "      <th>avg_income</th>\n",
              "      <th>CAMPUS_VISIT</th>\n",
              "      <th>Contact_Year</th>\n",
              "      <th>distance</th>\n",
              "      <th>Target_Enroll</th>\n",
              "      <th>hscrat</th>\n",
              "      <th>init_span</th>\n",
              "      <th>int1rat</th>\n",
              "      <th>int2rat</th>\n",
              "      <th>interest</th>\n",
              "      <th>mailq</th>\n",
              "      <th>premiere</th>\n",
              "      <th>REFERRAL_CNTCTS</th>\n",
              "      <th>satscore</th>\n",
              "      <th>SELF_INIT_CNTCTS</th>\n",
              "      <th>sex</th>\n",
              "      <th>SOLICITED_CNTCTS</th>\n",
              "      <th>telecq</th>\n",
              "      <th>TOTAL_CONTACTS</th>\n",
              "      <th>TRAVEL_INIT_CNTCTS</th>\n",
              "      <th>ETHNICITYC</th>\n",
              "      <th>ETHNICITYN</th>\n",
              "      <th>ETHNICITYB</th>\n",
              "      <th>ETHNICITYH</th>\n",
              "      <th>ETHNICITYA</th>\n",
              "      <th>ETHNICITYO</th>\n",
              "      <th>ETHNICITYI</th>\n",
              "      <th>InstateN</th>\n",
              "      <th>InstateY</th>\n",
              "    </tr>\n",
              "  </thead>\n",
              "  <tbody>\n",
              "    <tr>\n",
              "      <th>0</th>\n",
              "      <td>1.147519e-15</td>\n",
              "      <td>0.075097</td>\n",
              "      <td>0.435110</td>\n",
              "      <td>1.361992e-15</td>\n",
              "      <td>0</td>\n",
              "      <td>0.050938</td>\n",
              "      <td>0.099945</td>\n",
              "      <td>0.028338</td>\n",
              "      <td>0.031422</td>\n",
              "      <td>0.057364</td>\n",
              "      <td>0.27655</td>\n",
              "      <td>0.212984</td>\n",
              "      <td>0.012829</td>\n",
              "      <td>1.372083e-14</td>\n",
              "      <td>0.111222</td>\n",
              "      <td>0.382476</td>\n",
              "      <td>0.064772</td>\n",
              "      <td>2.753353e-14</td>\n",
              "      <td>0.127024</td>\n",
              "      <td>0.08938</td>\n",
              "      <td>1</td>\n",
              "      <td>0</td>\n",
              "      <td>0</td>\n",
              "      <td>0</td>\n",
              "      <td>0</td>\n",
              "      <td>0</td>\n",
              "      <td>0</td>\n",
              "      <td>1</td>\n",
              "      <td>0</td>\n",
              "    </tr>\n",
              "    <tr>\n",
              "      <th>1</th>\n",
              "      <td>1.147519e-15</td>\n",
              "      <td>0.075097</td>\n",
              "      <td>0.101776</td>\n",
              "      <td>1.361992e-15</td>\n",
              "      <td>0</td>\n",
              "      <td>0.050938</td>\n",
              "      <td>0.040917</td>\n",
              "      <td>0.028338</td>\n",
              "      <td>0.031422</td>\n",
              "      <td>0.057364</td>\n",
              "      <td>0.27655</td>\n",
              "      <td>0.212984</td>\n",
              "      <td>0.012829</td>\n",
              "      <td>1.372083e-14</td>\n",
              "      <td>0.111222</td>\n",
              "      <td>0.382476</td>\n",
              "      <td>0.064772</td>\n",
              "      <td>2.753353e-14</td>\n",
              "      <td>0.127024</td>\n",
              "      <td>0.08938</td>\n",
              "      <td>0</td>\n",
              "      <td>1</td>\n",
              "      <td>0</td>\n",
              "      <td>0</td>\n",
              "      <td>0</td>\n",
              "      <td>0</td>\n",
              "      <td>0</td>\n",
              "      <td>1</td>\n",
              "      <td>0</td>\n",
              "    </tr>\n",
              "    <tr>\n",
              "      <th>2</th>\n",
              "      <td>1.147519e-15</td>\n",
              "      <td>0.075097</td>\n",
              "      <td>0.064890</td>\n",
              "      <td>1.361992e-15</td>\n",
              "      <td>0</td>\n",
              "      <td>0.050938</td>\n",
              "      <td>0.002723</td>\n",
              "      <td>0.028338</td>\n",
              "      <td>0.031422</td>\n",
              "      <td>0.057364</td>\n",
              "      <td>0.27655</td>\n",
              "      <td>0.212984</td>\n",
              "      <td>0.012829</td>\n",
              "      <td>1.372083e-14</td>\n",
              "      <td>0.158841</td>\n",
              "      <td>0.382476</td>\n",
              "      <td>0.046339</td>\n",
              "      <td>2.753353e-14</td>\n",
              "      <td>0.127024</td>\n",
              "      <td>0.08938</td>\n",
              "      <td>1</td>\n",
              "      <td>0</td>\n",
              "      <td>0</td>\n",
              "      <td>0</td>\n",
              "      <td>0</td>\n",
              "      <td>0</td>\n",
              "      <td>0</td>\n",
              "      <td>1</td>\n",
              "      <td>0</td>\n",
              "    </tr>\n",
              "    <tr>\n",
              "      <th>3</th>\n",
              "      <td>1.147519e-15</td>\n",
              "      <td>0.075097</td>\n",
              "      <td>0.064890</td>\n",
              "      <td>1.361992e-15</td>\n",
              "      <td>0</td>\n",
              "      <td>0.050938</td>\n",
              "      <td>0.004222</td>\n",
              "      <td>0.028338</td>\n",
              "      <td>0.031422</td>\n",
              "      <td>0.057364</td>\n",
              "      <td>0.27655</td>\n",
              "      <td>0.212984</td>\n",
              "      <td>0.012829</td>\n",
              "      <td>1.372083e-14</td>\n",
              "      <td>0.111222</td>\n",
              "      <td>0.617524</td>\n",
              "      <td>0.064772</td>\n",
              "      <td>2.753353e-14</td>\n",
              "      <td>0.127024</td>\n",
              "      <td>0.08938</td>\n",
              "      <td>1</td>\n",
              "      <td>0</td>\n",
              "      <td>0</td>\n",
              "      <td>0</td>\n",
              "      <td>0</td>\n",
              "      <td>0</td>\n",
              "      <td>0</td>\n",
              "      <td>1</td>\n",
              "      <td>0</td>\n",
              "    </tr>\n",
              "    <tr>\n",
              "      <th>4</th>\n",
              "      <td>1.147519e-15</td>\n",
              "      <td>0.075097</td>\n",
              "      <td>0.064890</td>\n",
              "      <td>1.361992e-15</td>\n",
              "      <td>0</td>\n",
              "      <td>0.050938</td>\n",
              "      <td>0.004222</td>\n",
              "      <td>0.028338</td>\n",
              "      <td>0.031422</td>\n",
              "      <td>0.057364</td>\n",
              "      <td>0.27655</td>\n",
              "      <td>0.212984</td>\n",
              "      <td>0.012829</td>\n",
              "      <td>5.117629e-02</td>\n",
              "      <td>0.063603</td>\n",
              "      <td>0.382476</td>\n",
              "      <td>0.064772</td>\n",
              "      <td>2.753353e-14</td>\n",
              "      <td>0.089987</td>\n",
              "      <td>0.08938</td>\n",
              "      <td>0</td>\n",
              "      <td>0</td>\n",
              "      <td>1</td>\n",
              "      <td>0</td>\n",
              "      <td>0</td>\n",
              "      <td>0</td>\n",
              "      <td>0</td>\n",
              "      <td>1</td>\n",
              "      <td>0</td>\n",
              "    </tr>\n",
              "  </tbody>\n",
              "</table>\n",
              "</div>\n",
              "      <button class=\"colab-df-convert\" onclick=\"convertToInteractive('df-08ff1baa-c473-445e-8b73-46cbbf8e689c')\"\n",
              "              title=\"Convert this dataframe to an interactive table.\"\n",
              "              style=\"display:none;\">\n",
              "        \n",
              "  <svg xmlns=\"http://www.w3.org/2000/svg\" height=\"24px\"viewBox=\"0 0 24 24\"\n",
              "       width=\"24px\">\n",
              "    <path d=\"M0 0h24v24H0V0z\" fill=\"none\"/>\n",
              "    <path d=\"M18.56 5.44l.94 2.06.94-2.06 2.06-.94-2.06-.94-.94-2.06-.94 2.06-2.06.94zm-11 1L8.5 8.5l.94-2.06 2.06-.94-2.06-.94L8.5 2.5l-.94 2.06-2.06.94zm10 10l.94 2.06.94-2.06 2.06-.94-2.06-.94-.94-2.06-.94 2.06-2.06.94z\"/><path d=\"M17.41 7.96l-1.37-1.37c-.4-.4-.92-.59-1.43-.59-.52 0-1.04.2-1.43.59L10.3 9.45l-7.72 7.72c-.78.78-.78 2.05 0 2.83L4 21.41c.39.39.9.59 1.41.59.51 0 1.02-.2 1.41-.59l7.78-7.78 2.81-2.81c.8-.78.8-2.07 0-2.86zM5.41 20L4 18.59l7.72-7.72 1.47 1.35L5.41 20z\"/>\n",
              "  </svg>\n",
              "      </button>\n",
              "      \n",
              "  <style>\n",
              "    .colab-df-container {\n",
              "      display:flex;\n",
              "      flex-wrap:wrap;\n",
              "      gap: 12px;\n",
              "    }\n",
              "\n",
              "    .colab-df-convert {\n",
              "      background-color: #E8F0FE;\n",
              "      border: none;\n",
              "      border-radius: 50%;\n",
              "      cursor: pointer;\n",
              "      display: none;\n",
              "      fill: #1967D2;\n",
              "      height: 32px;\n",
              "      padding: 0 0 0 0;\n",
              "      width: 32px;\n",
              "    }\n",
              "\n",
              "    .colab-df-convert:hover {\n",
              "      background-color: #E2EBFA;\n",
              "      box-shadow: 0px 1px 2px rgba(60, 64, 67, 0.3), 0px 1px 3px 1px rgba(60, 64, 67, 0.15);\n",
              "      fill: #174EA6;\n",
              "    }\n",
              "\n",
              "    [theme=dark] .colab-df-convert {\n",
              "      background-color: #3B4455;\n",
              "      fill: #D2E3FC;\n",
              "    }\n",
              "\n",
              "    [theme=dark] .colab-df-convert:hover {\n",
              "      background-color: #434B5C;\n",
              "      box-shadow: 0px 1px 3px 1px rgba(0, 0, 0, 0.15);\n",
              "      filter: drop-shadow(0px 1px 2px rgba(0, 0, 0, 0.3));\n",
              "      fill: #FFFFFF;\n",
              "    }\n",
              "  </style>\n",
              "\n",
              "      <script>\n",
              "        const buttonEl =\n",
              "          document.querySelector('#df-08ff1baa-c473-445e-8b73-46cbbf8e689c button.colab-df-convert');\n",
              "        buttonEl.style.display =\n",
              "          google.colab.kernel.accessAllowed ? 'block' : 'none';\n",
              "\n",
              "        async function convertToInteractive(key) {\n",
              "          const element = document.querySelector('#df-08ff1baa-c473-445e-8b73-46cbbf8e689c');\n",
              "          const dataTable =\n",
              "            await google.colab.kernel.invokeFunction('convertToInteractive',\n",
              "                                                     [key], {});\n",
              "          if (!dataTable) return;\n",
              "\n",
              "          const docLinkHtml = 'Like what you see? Visit the ' +\n",
              "            '<a target=\"_blank\" href=https://colab.research.google.com/notebooks/data_table.ipynb>data table notebook</a>'\n",
              "            + ' to learn more about interactive tables.';\n",
              "          element.innerHTML = '';\n",
              "          dataTable['output_type'] = 'display_data';\n",
              "          await google.colab.output.renderOutput(dataTable, element);\n",
              "          const docLink = document.createElement('div');\n",
              "          docLink.innerHTML = docLinkHtml;\n",
              "          element.appendChild(docLink);\n",
              "        }\n",
              "      </script>\n",
              "    </div>\n",
              "  </div>\n",
              "  "
            ]
          },
          "metadata": {},
          "execution_count": 23
        }
      ]
    },
    {
      "cell_type": "code",
      "source": [
        "df1.dropna(inplace=True)"
      ],
      "metadata": {
        "id": "3OCcwcD6PvQ3"
      },
      "execution_count": 24,
      "outputs": []
    },
    {
      "cell_type": "code",
      "source": [
        "df1.shape"
      ],
      "metadata": {
        "colab": {
          "base_uri": "https://localhost:8080/"
        },
        "id": "-omsw54ZPzLe",
        "outputId": "07d22762-cd28-4ae5-c48b-9786e944ecdd"
      },
      "execution_count": 25,
      "outputs": [
        {
          "output_type": "execute_result",
          "data": {
            "text/plain": [
              "(5160, 29)"
            ]
          },
          "metadata": {},
          "execution_count": 25
        }
      ]
    },
    {
      "cell_type": "code",
      "source": [
        "# df4 = df1\n",
        "# shape = df1.shape\n",
        "\n",
        "# for col in df4.columns:\n",
        "#   if df4[col].dtypes==object or df4[col].dtypes==str:\n",
        "#     list1 = list(df4[col].unique())\n",
        "#     for val in list1:\n",
        "#       df1[str(col) + str(val)] = None\n",
        "\n",
        "#       for i in range(df1.shape[0]):\n",
        "#         if df1[col][i] == val:\n",
        "#           df1[str(col) + str(val)][i] = 1\n",
        "#         else:\n",
        "#           df1[str(col) + str(val)][i] = 0\n",
        "#     df1 = df1.drop(col, axis=1)"
      ],
      "metadata": {
        "id": "qEH7P2wIZBgV"
      },
      "execution_count": 26,
      "outputs": []
    },
    {
      "cell_type": "code",
      "source": [
        "df1.drop(['ETHNICITYH', 'InstateY'], inplace=True, axis=1)  #In one hot encoding last column is not required as if all other columns are 0, that automatically means the last column is 1."
      ],
      "metadata": {
        "id": "msePG4cmP6Ug"
      },
      "execution_count": null,
      "outputs": []
    },
    {
      "cell_type": "code",
      "source": [
        "new_df = df1"
      ],
      "metadata": {
        "id": "V3-_oxoNQIv5"
      },
      "execution_count": 33,
      "outputs": []
    },
    {
      "cell_type": "markdown",
      "source": [
        "**Train-Test Split**"
      ],
      "metadata": {
        "id": "s-xgBBFEQb40"
      }
    },
    {
      "cell_type": "code",
      "source": [
        "Y = new_df['Target_Enroll']\n",
        "X = new_df.drop('Target_Enroll', axis=1)"
      ],
      "metadata": {
        "id": "UYUr84hCQeFe"
      },
      "execution_count": 35,
      "outputs": []
    },
    {
      "cell_type": "code",
      "source": [
        "from sklearn.model_selection import train_test_split"
      ],
      "metadata": {
        "id": "llrmBR3xQ_UX"
      },
      "execution_count": 36,
      "outputs": []
    },
    {
      "cell_type": "code",
      "source": [
        "x_train, x_test, y_train, y_test = train_test_split(X, Y, test_size=0.3, random_state=20)"
      ],
      "metadata": {
        "id": "3JHa9V_NREJ2"
      },
      "execution_count": 37,
      "outputs": []
    },
    {
      "cell_type": "code",
      "source": [
        "from sklearn.linear_model import LogisticRegression\n",
        "from sklearn.model_selection import cross_val_predict\n",
        "from sklearn.metrics import confusion_matrix, f1_score\n",
        "import numpy as np\n",
        "import matplotlib.pyplot as plt\n",
        "import seaborn as sns"
      ],
      "metadata": {
        "id": "eqnxqq6oRQb_"
      },
      "execution_count": 38,
      "outputs": []
    },
    {
      "cell_type": "code",
      "source": [
        "penalty = ['l1', 'l2']\n",
        "C = [0.0001, 0.001, 0.01, 0.1, 1, 10, 100]\n",
        "solver = ['newton-cg', 'lbfgs', 'liblinear', 'sag', 'saga']"
      ],
      "metadata": {
        "id": "9DtlK2v9RpI2"
      },
      "execution_count": 44,
      "outputs": []
    },
    {
      "cell_type": "code",
      "source": [
        "hyper_params = []\n",
        "f1_Scores = []\n",
        "lgr_best_score = 0\n",
        "lgr_best_solver = str\n",
        "lgr_best_c = 0\n",
        "lgr_best_penalty = str\n",
        "kFolds = 5"
      ],
      "metadata": {
        "id": "X7zG7j2oVq-f"
      },
      "execution_count": 45,
      "outputs": []
    },
    {
      "cell_type": "code",
      "source": [
        "for s in range(len(solver)):\n",
        "    for p in range(len(penalty)):\n",
        "        for c in range(len(C)):\n",
        "            \n",
        "            if solver[s] == 'newton-cg' or 'lbfgs':\n",
        "                \n",
        "                if penalty[p] != 'l1':\n",
        "                    \n",
        "                    lgr = LogisticRegression(penalty = penalty[p] , C = C[c],  solver = solver[s], max_iter = 100)\n",
        "                    y_pred = cross_val_predict(lgr, x_train, y_train, cv = kFolds)\n",
        "                    F1_score = f1_score(y_train, y_pred)\n",
        "                    c_matrix = confusion_matrix(y_train, y_pred)\n",
        "                    hyper_params.append([solver[s],penalty[p] , C[c]]) \n",
        "                    f1_Scores.append(F1_score)\n",
        "                    \n",
        "                    if F1_score >= lgr_best_score:\n",
        "                        lgr_best_score = F1_score\n",
        "                        lgr_best_solver = solver[s]\n",
        "                        lgr_best_c = C[c]\n",
        "                        lgr_best_penalty = penalty[p] \n",
        "                        \n",
        "            else:\n",
        "                \n",
        "\n",
        "                lgr = LogisticRegression(penalty = penalty[p] , C = C[c],  solver = solver[s], max_iter = 100)\n",
        "                y_pred = cross_val_predict(lgr, x_train, y_train, cv = kFolds)\n",
        "                F1_score = f1_score(y_train, y_pred)\n",
        "                c_matrix = confusion_matrix(y_train, y_pred)\n",
        "                hyper_params.append([solver[s],penalty[p] , C[c]]) \n",
        "                f1_Scores.append(F1_score)\n",
        "                    \n",
        "                if F1_score >= lgr_best_score:\n",
        "                    lgr_best_score = F1_score\n",
        "                    lgr_best_solver = solver[s]\n",
        "                    lgr_best_c = C[c]\n",
        "                    lgr_best_penalty = penalty[p] "
      ],
      "metadata": {
        "colab": {
          "base_uri": "https://localhost:8080/"
        },
        "id": "RylaHv7hWgc3",
        "outputId": "7128f721-a7ba-4e58-df6c-5f3ce3a81797"
      },
      "execution_count": 46,
      "outputs": [
        {
          "output_type": "stream",
          "name": "stderr",
          "text": [
            "/usr/local/lib/python3.7/dist-packages/sklearn/linear_model/_logistic.py:818: ConvergenceWarning: lbfgs failed to converge (status=1):\n",
            "STOP: TOTAL NO. of ITERATIONS REACHED LIMIT.\n",
            "\n",
            "Increase the number of iterations (max_iter) or scale the data as shown in:\n",
            "    https://scikit-learn.org/stable/modules/preprocessing.html\n",
            "Please also refer to the documentation for alternative solver options:\n",
            "    https://scikit-learn.org/stable/modules/linear_model.html#logistic-regression\n",
            "  extra_warning_msg=_LOGISTIC_SOLVER_CONVERGENCE_MSG,\n",
            "/usr/local/lib/python3.7/dist-packages/sklearn/linear_model/_logistic.py:818: ConvergenceWarning: lbfgs failed to converge (status=1):\n",
            "STOP: TOTAL NO. of ITERATIONS REACHED LIMIT.\n",
            "\n",
            "Increase the number of iterations (max_iter) or scale the data as shown in:\n",
            "    https://scikit-learn.org/stable/modules/preprocessing.html\n",
            "Please also refer to the documentation for alternative solver options:\n",
            "    https://scikit-learn.org/stable/modules/linear_model.html#logistic-regression\n",
            "  extra_warning_msg=_LOGISTIC_SOLVER_CONVERGENCE_MSG,\n",
            "/usr/local/lib/python3.7/dist-packages/sklearn/linear_model/_logistic.py:818: ConvergenceWarning: lbfgs failed to converge (status=1):\n",
            "STOP: TOTAL NO. of ITERATIONS REACHED LIMIT.\n",
            "\n",
            "Increase the number of iterations (max_iter) or scale the data as shown in:\n",
            "    https://scikit-learn.org/stable/modules/preprocessing.html\n",
            "Please also refer to the documentation for alternative solver options:\n",
            "    https://scikit-learn.org/stable/modules/linear_model.html#logistic-regression\n",
            "  extra_warning_msg=_LOGISTIC_SOLVER_CONVERGENCE_MSG,\n",
            "/usr/local/lib/python3.7/dist-packages/sklearn/linear_model/_logistic.py:818: ConvergenceWarning: lbfgs failed to converge (status=1):\n",
            "STOP: TOTAL NO. of ITERATIONS REACHED LIMIT.\n",
            "\n",
            "Increase the number of iterations (max_iter) or scale the data as shown in:\n",
            "    https://scikit-learn.org/stable/modules/preprocessing.html\n",
            "Please also refer to the documentation for alternative solver options:\n",
            "    https://scikit-learn.org/stable/modules/linear_model.html#logistic-regression\n",
            "  extra_warning_msg=_LOGISTIC_SOLVER_CONVERGENCE_MSG,\n",
            "/usr/local/lib/python3.7/dist-packages/sklearn/linear_model/_logistic.py:818: ConvergenceWarning: lbfgs failed to converge (status=1):\n",
            "STOP: TOTAL NO. of ITERATIONS REACHED LIMIT.\n",
            "\n",
            "Increase the number of iterations (max_iter) or scale the data as shown in:\n",
            "    https://scikit-learn.org/stable/modules/preprocessing.html\n",
            "Please also refer to the documentation for alternative solver options:\n",
            "    https://scikit-learn.org/stable/modules/linear_model.html#logistic-regression\n",
            "  extra_warning_msg=_LOGISTIC_SOLVER_CONVERGENCE_MSG,\n",
            "/usr/local/lib/python3.7/dist-packages/sklearn/linear_model/_logistic.py:818: ConvergenceWarning: lbfgs failed to converge (status=1):\n",
            "STOP: TOTAL NO. of ITERATIONS REACHED LIMIT.\n",
            "\n",
            "Increase the number of iterations (max_iter) or scale the data as shown in:\n",
            "    https://scikit-learn.org/stable/modules/preprocessing.html\n",
            "Please also refer to the documentation for alternative solver options:\n",
            "    https://scikit-learn.org/stable/modules/linear_model.html#logistic-regression\n",
            "  extra_warning_msg=_LOGISTIC_SOLVER_CONVERGENCE_MSG,\n",
            "/usr/local/lib/python3.7/dist-packages/sklearn/linear_model/_logistic.py:818: ConvergenceWarning: lbfgs failed to converge (status=1):\n",
            "STOP: TOTAL NO. of ITERATIONS REACHED LIMIT.\n",
            "\n",
            "Increase the number of iterations (max_iter) or scale the data as shown in:\n",
            "    https://scikit-learn.org/stable/modules/preprocessing.html\n",
            "Please also refer to the documentation for alternative solver options:\n",
            "    https://scikit-learn.org/stable/modules/linear_model.html#logistic-regression\n",
            "  extra_warning_msg=_LOGISTIC_SOLVER_CONVERGENCE_MSG,\n",
            "/usr/local/lib/python3.7/dist-packages/sklearn/linear_model/_logistic.py:818: ConvergenceWarning: lbfgs failed to converge (status=1):\n",
            "STOP: TOTAL NO. of ITERATIONS REACHED LIMIT.\n",
            "\n",
            "Increase the number of iterations (max_iter) or scale the data as shown in:\n",
            "    https://scikit-learn.org/stable/modules/preprocessing.html\n",
            "Please also refer to the documentation for alternative solver options:\n",
            "    https://scikit-learn.org/stable/modules/linear_model.html#logistic-regression\n",
            "  extra_warning_msg=_LOGISTIC_SOLVER_CONVERGENCE_MSG,\n",
            "/usr/local/lib/python3.7/dist-packages/sklearn/linear_model/_logistic.py:818: ConvergenceWarning: lbfgs failed to converge (status=1):\n",
            "STOP: TOTAL NO. of ITERATIONS REACHED LIMIT.\n",
            "\n",
            "Increase the number of iterations (max_iter) or scale the data as shown in:\n",
            "    https://scikit-learn.org/stable/modules/preprocessing.html\n",
            "Please also refer to the documentation for alternative solver options:\n",
            "    https://scikit-learn.org/stable/modules/linear_model.html#logistic-regression\n",
            "  extra_warning_msg=_LOGISTIC_SOLVER_CONVERGENCE_MSG,\n",
            "/usr/local/lib/python3.7/dist-packages/sklearn/linear_model/_logistic.py:818: ConvergenceWarning: lbfgs failed to converge (status=1):\n",
            "STOP: TOTAL NO. of ITERATIONS REACHED LIMIT.\n",
            "\n",
            "Increase the number of iterations (max_iter) or scale the data as shown in:\n",
            "    https://scikit-learn.org/stable/modules/preprocessing.html\n",
            "Please also refer to the documentation for alternative solver options:\n",
            "    https://scikit-learn.org/stable/modules/linear_model.html#logistic-regression\n",
            "  extra_warning_msg=_LOGISTIC_SOLVER_CONVERGENCE_MSG,\n",
            "/usr/local/lib/python3.7/dist-packages/sklearn/linear_model/_sag.py:354: ConvergenceWarning: The max_iter was reached which means the coef_ did not converge\n",
            "  ConvergenceWarning,\n",
            "/usr/local/lib/python3.7/dist-packages/sklearn/linear_model/_sag.py:354: ConvergenceWarning: The max_iter was reached which means the coef_ did not converge\n",
            "  ConvergenceWarning,\n",
            "/usr/local/lib/python3.7/dist-packages/sklearn/linear_model/_sag.py:354: ConvergenceWarning: The max_iter was reached which means the coef_ did not converge\n",
            "  ConvergenceWarning,\n",
            "/usr/local/lib/python3.7/dist-packages/sklearn/linear_model/_sag.py:354: ConvergenceWarning: The max_iter was reached which means the coef_ did not converge\n",
            "  ConvergenceWarning,\n",
            "/usr/local/lib/python3.7/dist-packages/sklearn/linear_model/_sag.py:354: ConvergenceWarning: The max_iter was reached which means the coef_ did not converge\n",
            "  ConvergenceWarning,\n",
            "/usr/local/lib/python3.7/dist-packages/sklearn/linear_model/_sag.py:354: ConvergenceWarning: The max_iter was reached which means the coef_ did not converge\n",
            "  ConvergenceWarning,\n",
            "/usr/local/lib/python3.7/dist-packages/sklearn/linear_model/_sag.py:354: ConvergenceWarning: The max_iter was reached which means the coef_ did not converge\n",
            "  ConvergenceWarning,\n",
            "/usr/local/lib/python3.7/dist-packages/sklearn/linear_model/_sag.py:354: ConvergenceWarning: The max_iter was reached which means the coef_ did not converge\n",
            "  ConvergenceWarning,\n",
            "/usr/local/lib/python3.7/dist-packages/sklearn/linear_model/_sag.py:354: ConvergenceWarning: The max_iter was reached which means the coef_ did not converge\n",
            "  ConvergenceWarning,\n",
            "/usr/local/lib/python3.7/dist-packages/sklearn/linear_model/_sag.py:354: ConvergenceWarning: The max_iter was reached which means the coef_ did not converge\n",
            "  ConvergenceWarning,\n",
            "/usr/local/lib/python3.7/dist-packages/sklearn/linear_model/_sag.py:354: ConvergenceWarning: The max_iter was reached which means the coef_ did not converge\n",
            "  ConvergenceWarning,\n",
            "/usr/local/lib/python3.7/dist-packages/sklearn/linear_model/_sag.py:354: ConvergenceWarning: The max_iter was reached which means the coef_ did not converge\n",
            "  ConvergenceWarning,\n",
            "/usr/local/lib/python3.7/dist-packages/sklearn/linear_model/_sag.py:354: ConvergenceWarning: The max_iter was reached which means the coef_ did not converge\n",
            "  ConvergenceWarning,\n"
          ]
        }
      ]
    },
    {
      "cell_type": "code",
      "source": [
        "hyper_params"
      ],
      "metadata": {
        "colab": {
          "base_uri": "https://localhost:8080/"
        },
        "id": "-4PQLh9ib4yf",
        "outputId": "13dc0383-cb95-42c8-e363-64f2827a4ecd"
      },
      "execution_count": 47,
      "outputs": [
        {
          "output_type": "execute_result",
          "data": {
            "text/plain": [
              "[['newton-cg', 'l2', 0.0001],\n",
              " ['newton-cg', 'l2', 0.001],\n",
              " ['newton-cg', 'l2', 0.01],\n",
              " ['newton-cg', 'l2', 0.1],\n",
              " ['newton-cg', 'l2', 1],\n",
              " ['newton-cg', 'l2', 10],\n",
              " ['newton-cg', 'l2', 100],\n",
              " ['lbfgs', 'l2', 0.0001],\n",
              " ['lbfgs', 'l2', 0.001],\n",
              " ['lbfgs', 'l2', 0.01],\n",
              " ['lbfgs', 'l2', 0.1],\n",
              " ['lbfgs', 'l2', 1],\n",
              " ['lbfgs', 'l2', 10],\n",
              " ['lbfgs', 'l2', 100],\n",
              " ['liblinear', 'l2', 0.0001],\n",
              " ['liblinear', 'l2', 0.001],\n",
              " ['liblinear', 'l2', 0.01],\n",
              " ['liblinear', 'l2', 0.1],\n",
              " ['liblinear', 'l2', 1],\n",
              " ['liblinear', 'l2', 10],\n",
              " ['liblinear', 'l2', 100],\n",
              " ['sag', 'l2', 0.0001],\n",
              " ['sag', 'l2', 0.001],\n",
              " ['sag', 'l2', 0.01],\n",
              " ['sag', 'l2', 0.1],\n",
              " ['sag', 'l2', 1],\n",
              " ['sag', 'l2', 10],\n",
              " ['sag', 'l2', 100],\n",
              " ['saga', 'l2', 0.0001],\n",
              " ['saga', 'l2', 0.001],\n",
              " ['saga', 'l2', 0.01],\n",
              " ['saga', 'l2', 0.1],\n",
              " ['saga', 'l2', 1],\n",
              " ['saga', 'l2', 10],\n",
              " ['saga', 'l2', 100]]"
            ]
          },
          "metadata": {},
          "execution_count": 47
        }
      ]
    },
    {
      "cell_type": "code",
      "source": [
        "f1_Scores "
      ],
      "metadata": {
        "colab": {
          "base_uri": "https://localhost:8080/"
        },
        "id": "EB91JZesd6XY",
        "outputId": "1e8a9074-40d1-47f6-d7a8-2ec772d7d527"
      },
      "execution_count": 48,
      "outputs": [
        {
          "output_type": "execute_result",
          "data": {
            "text/plain": [
              "[0.685306811784575,\n",
              " 0.7245720040281974,\n",
              " 0.730532786885246,\n",
              " 0.809285924184543,\n",
              " 0.8265364732912119,\n",
              " 0.8312056737588652,\n",
              " 0.8342276193165773,\n",
              " 0.685306811784575,\n",
              " 0.7245720040281974,\n",
              " 0.730532786885246,\n",
              " 0.809285924184543,\n",
              " 0.8265364732912119,\n",
              " 0.8312056737588652,\n",
              " 0.8338983050847457,\n",
              " 0.7173473513950667,\n",
              " 0.7452851624630765,\n",
              " 0.7260340632603406,\n",
              " 0.8099941894247531,\n",
              " 0.8277046365197481,\n",
              " 0.8308740068104428,\n",
              " 0.8338983050847457,\n",
              " 0.685306811784575,\n",
              " 0.7240684793554885,\n",
              " 0.730532786885246,\n",
              " 0.809285924184543,\n",
              " 0.8265364732912119,\n",
              " 0.8312056737588652,\n",
              " 0.8338983050847457,\n",
              " 0.685306811784575,\n",
              " 0.7245720040281974,\n",
              " 0.730532786885246,\n",
              " 0.809285924184543,\n",
              " 0.8265364732912119,\n",
              " 0.8312056737588652,\n",
              " 0.8335688047471036]"
            ]
          },
          "metadata": {},
          "execution_count": 48
        }
      ]
    },
    {
      "cell_type": "code",
      "source": [
        "m = [23.34, 23.12, 23.04, 23.31, 23.23, 23.76,23.99,  23.9]\n",
        "max(m)"
      ],
      "metadata": {
        "colab": {
          "base_uri": "https://localhost:8080/"
        },
        "id": "BSVLbvQkd8Jg",
        "outputId": "82519308-472b-4bf4-dcaa-8d8448585301"
      },
      "execution_count": 49,
      "outputs": [
        {
          "output_type": "execute_result",
          "data": {
            "text/plain": [
              "23.99"
            ]
          },
          "metadata": {},
          "execution_count": 49
        }
      ]
    },
    {
      "cell_type": "code",
      "source": [
        "m.index(max(m))"
      ],
      "metadata": {
        "colab": {
          "base_uri": "https://localhost:8080/"
        },
        "id": "8sg_jTIXd-Ko",
        "outputId": "e30b5b8f-658d-4a9a-9a53-b242174695de"
      },
      "execution_count": 50,
      "outputs": [
        {
          "output_type": "execute_result",
          "data": {
            "text/plain": [
              "6"
            ]
          },
          "metadata": {},
          "execution_count": 50
        }
      ]
    },
    {
      "cell_type": "code",
      "source": [
        "f1_Scores.index(max(f1_Scores))"
      ],
      "metadata": {
        "colab": {
          "base_uri": "https://localhost:8080/"
        },
        "id": "Se_u8koNd_cw",
        "outputId": "36e6756e-4c4b-4cc7-f1c4-55134c69a04a"
      },
      "execution_count": 51,
      "outputs": [
        {
          "output_type": "execute_result",
          "data": {
            "text/plain": [
              "6"
            ]
          },
          "metadata": {},
          "execution_count": 51
        }
      ]
    },
    {
      "cell_type": "code",
      "source": [
        "hyper_params[3]"
      ],
      "metadata": {
        "colab": {
          "base_uri": "https://localhost:8080/"
        },
        "id": "c6RsHqsqeAhY",
        "outputId": "319605ed-c487-4000-99a5-25927feb3c42"
      },
      "execution_count": 52,
      "outputs": [
        {
          "output_type": "execute_result",
          "data": {
            "text/plain": [
              "['newton-cg', 'l2', 0.1]"
            ]
          },
          "metadata": {},
          "execution_count": 52
        }
      ]
    },
    {
      "cell_type": "code",
      "source": [
        "lgr_best_score"
      ],
      "metadata": {
        "colab": {
          "base_uri": "https://localhost:8080/"
        },
        "id": "5ZqcFOEAeB34",
        "outputId": "a0ca5242-f86e-4570-981b-f7956d650c99"
      },
      "execution_count": 53,
      "outputs": [
        {
          "output_type": "execute_result",
          "data": {
            "text/plain": [
              "0.8342276193165773"
            ]
          },
          "metadata": {},
          "execution_count": 53
        }
      ]
    },
    {
      "cell_type": "code",
      "source": [
        "lgr_best_solver"
      ],
      "metadata": {
        "colab": {
          "base_uri": "https://localhost:8080/",
          "height": 35
        },
        "id": "ixSrLwrkeDHw",
        "outputId": "78e52c65-6b37-4eb5-a7e7-298a9b6b8e65"
      },
      "execution_count": 54,
      "outputs": [
        {
          "output_type": "execute_result",
          "data": {
            "text/plain": [
              "'newton-cg'"
            ],
            "application/vnd.google.colaboratory.intrinsic+json": {
              "type": "string"
            }
          },
          "metadata": {},
          "execution_count": 54
        }
      ]
    },
    {
      "cell_type": "code",
      "source": [
        "lgr_best_c"
      ],
      "metadata": {
        "colab": {
          "base_uri": "https://localhost:8080/"
        },
        "id": "NcwhPX15eEIZ",
        "outputId": "95b16800-17ec-40d2-c696-de6fe5518216"
      },
      "execution_count": 55,
      "outputs": [
        {
          "output_type": "execute_result",
          "data": {
            "text/plain": [
              "100"
            ]
          },
          "metadata": {},
          "execution_count": 55
        }
      ]
    },
    {
      "cell_type": "code",
      "source": [
        "lgr_best_penalty"
      ],
      "metadata": {
        "colab": {
          "base_uri": "https://localhost:8080/",
          "height": 35
        },
        "id": "bBCsYbpGeGkA",
        "outputId": "b57e2dc1-0a82-42a1-8579-acd42cbde092"
      },
      "execution_count": 56,
      "outputs": [
        {
          "output_type": "execute_result",
          "data": {
            "text/plain": [
              "'l2'"
            ],
            "application/vnd.google.colaboratory.intrinsic+json": {
              "type": "string"
            }
          },
          "metadata": {},
          "execution_count": 56
        }
      ]
    },
    {
      "cell_type": "code",
      "source": [
        "best_lgr = LogisticRegression(penalty = lgr_best_penalty, C = lgr_best_c, solver = lgr_best_solver, max_iter=5000)\n",
        "best_lgr.fit(x_train, y_train)"
      ],
      "metadata": {
        "colab": {
          "base_uri": "https://localhost:8080/"
        },
        "id": "LZC2J0f3eILo",
        "outputId": "ef182707-89f5-4cbe-e015-f0970f21046e"
      },
      "execution_count": 57,
      "outputs": [
        {
          "output_type": "execute_result",
          "data": {
            "text/plain": [
              "LogisticRegression(C=100, max_iter=5000, solver='newton-cg')"
            ]
          },
          "metadata": {},
          "execution_count": 57
        }
      ]
    },
    {
      "cell_type": "code",
      "source": [
        "y_train_predictions = best_lgr.predict(x_train)"
      ],
      "metadata": {
        "id": "zSv9lryEeJnY"
      },
      "execution_count": 58,
      "outputs": []
    },
    {
      "cell_type": "code",
      "source": [
        "score = f1_score(y_train, y_train_predictions)\n",
        "score"
      ],
      "metadata": {
        "colab": {
          "base_uri": "https://localhost:8080/"
        },
        "id": "QdI_AgBreKio",
        "outputId": "5b6cd553-7272-4c41-ffdb-8bf978098121"
      },
      "execution_count": 59,
      "outputs": [
        {
          "output_type": "execute_result",
          "data": {
            "text/plain": [
              "0.8380898558914947"
            ]
          },
          "metadata": {},
          "execution_count": 59
        }
      ]
    },
    {
      "cell_type": "code",
      "source": [
        "plt.subplot(2,1,1)\n",
        "plt.scatter(x_train['avg_income'], y_train, color = 'g', s=10)\n",
        "plt.ylabel('Y: Average Income')\n",
        "\n",
        "plt.subplot(2,1,2)\n",
        "plt.scatter(x_train['avg_income'], y_train_predictions, color = 'b', s=10)\n",
        "plt.ylabel('Y: Predictions')"
      ],
      "metadata": {
        "colab": {
          "base_uri": "https://localhost:8080/",
          "height": 282
        },
        "id": "mYlPNyB-eMFI",
        "outputId": "fab6699d-17e7-4880-fb23-49e0615daeda"
      },
      "execution_count": 60,
      "outputs": [
        {
          "output_type": "execute_result",
          "data": {
            "text/plain": [
              "Text(0, 0.5, 'Y: Predictions')"
            ]
          },
          "metadata": {},
          "execution_count": 60
        },
        {
          "output_type": "display_data",
          "data": {
            "text/plain": [
              "<Figure size 432x288 with 2 Axes>"
            ],
            "image/png": "[encoded data removed]"
          },
          "metadata": {
            "needs_background": "light"
          }
        }
      ]
    },
    {
      "cell_type": "code",
      "source": [
        ""
      ],
      "metadata": {
        "id": "4QWN5XwoeNS4"
      },
      "execution_count": null,
      "outputs": []
    }
  ]
}